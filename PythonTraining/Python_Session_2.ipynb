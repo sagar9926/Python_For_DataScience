{
  "nbformat": 4,
  "nbformat_minor": 0,
  "metadata": {
    "colab": {
      "name": "Python Session 2.ipynb",
      "provenance": [],
      "authorship_tag": "ABX9TyML0z4Sptn9w4S9nIQO9UGa",
      "include_colab_link": true
    },
    "kernelspec": {
      "name": "python3",
      "display_name": "Python 3"
    },
    "language_info": {
      "name": "python"
    }
  },
  "cells": [
    {
      "cell_type": "markdown",
      "metadata": {
        "id": "view-in-github",
        "colab_type": "text"
      },
      "source": [
        "<a href=\"https://colab.research.google.com/github/sagar9926/Python_For_DataScience/blob/master/PythonTraining/Python_Session_2.ipynb\" target=\"_parent\"><img src=\"https://colab.research.google.com/assets/colab-badge.svg\" alt=\"Open In Colab\"/></a>"
      ]
    },
    {
      "cell_type": "markdown",
      "metadata": {
        "id": "P5mAcUggQDLh"
      },
      "source": [
        "# Table of Content:\n",
        "\n",
        "* Pandas\n",
        "    + Importing Data\n",
        "    + Creating Test Object\n",
        "    + Viewing Data\n",
        "    + Selection\n",
        "    + Data Cleaning\n",
        "    + Filter, Sort & Group by\n",
        "    + Iteration\n",
        "    + Join, Merging\n",
        "    + Statistics\n",
        "    + Visualization\n",
        "    + Exporting Data"
      ]
    },
    {
      "cell_type": "markdown",
      "metadata": {
        "id": "15cT1z8EQSli"
      },
      "source": [
        "# Pandas\n",
        "\n",
        "Pandas is an open source data analysis library for providing easy-to-use data structures and data analysis tools.\n",
        "\n",
        "__DataFrame__ is a mXn vector where\n",
        "* m is the number of rows\n",
        "* n is the number of columns\n",
        "\n",
        "__Series__ is a mX1 vector. Hence, each column in DataFrame is known as a pandas series.\n",
        "\n",
        "__NOTE__ \n",
        "* df - A pandas DataFrame object\n",
        "* s - A pandas Series object\n",
        "\n",
        "## 1. Importing Data"
      ]
    },
    {
      "cell_type": "code",
      "metadata": {
        "id": "TnXpFc2KP-5X"
      },
      "source": [
        "import pandas as pd\n",
        "import numpy as np"
      ],
      "execution_count": 1,
      "outputs": []
    },
    {
      "cell_type": "code",
      "metadata": {
        "colab": {
          "base_uri": "https://localhost:8080/"
        },
        "id": "DpaDIQnjQDnM",
        "outputId": "4a30df0a-d593-4ea2-e14d-e5b78110af20"
      },
      "source": [
        "!git clone https://github.com/venky14/Machine-Learning-with-Iris-Dataset.git"
      ],
      "execution_count": 2,
      "outputs": [
        {
          "output_type": "stream",
          "name": "stdout",
          "text": [
            "Cloning into 'Machine-Learning-with-Iris-Dataset'...\n",
            "remote: Enumerating objects: 43, done.\u001b[K\n",
            "remote: Counting objects: 100% (17/17), done.\u001b[K\n",
            "remote: Compressing objects: 100% (17/17), done.\u001b[K\n",
            "remote: Total 43 (delta 8), reused 0 (delta 0), pack-reused 26\u001b[K\n",
            "Unpacking objects: 100% (43/43), done.\n"
          ]
        }
      ]
    },
    {
      "cell_type": "code",
      "metadata": {
        "colab": {
          "base_uri": "https://localhost:8080/",
          "height": 202
        },
        "id": "PUYU-06IRCVW",
        "outputId": "a9461f0b-9d20-4737-c4b0-9e761a783482"
      },
      "source": [
        "df = pd.read_csv('/content/Machine-Learning-with-Iris-Dataset/Iris.csv') #read from csv\n",
        "df.head()"
      ],
      "execution_count": 3,
      "outputs": [
        {
          "output_type": "execute_result",
          "data": {
            "text/html": [
              "<div>\n",
              "<style scoped>\n",
              "    .dataframe tbody tr th:only-of-type {\n",
              "        vertical-align: middle;\n",
              "    }\n",
              "\n",
              "    .dataframe tbody tr th {\n",
              "        vertical-align: top;\n",
              "    }\n",
              "\n",
              "    .dataframe thead th {\n",
              "        text-align: right;\n",
              "    }\n",
              "</style>\n",
              "<table border=\"1\" class=\"dataframe\">\n",
              "  <thead>\n",
              "    <tr style=\"text-align: right;\">\n",
              "      <th></th>\n",
              "      <th>Id</th>\n",
              "      <th>SepalLengthCm</th>\n",
              "      <th>SepalWidthCm</th>\n",
              "      <th>PetalLengthCm</th>\n",
              "      <th>PetalWidthCm</th>\n",
              "      <th>Species</th>\n",
              "    </tr>\n",
              "  </thead>\n",
              "  <tbody>\n",
              "    <tr>\n",
              "      <th>0</th>\n",
              "      <td>1</td>\n",
              "      <td>5.1</td>\n",
              "      <td>3.5</td>\n",
              "      <td>1.4</td>\n",
              "      <td>0.2</td>\n",
              "      <td>Iris-setosa</td>\n",
              "    </tr>\n",
              "    <tr>\n",
              "      <th>1</th>\n",
              "      <td>2</td>\n",
              "      <td>4.9</td>\n",
              "      <td>3.0</td>\n",
              "      <td>1.4</td>\n",
              "      <td>0.2</td>\n",
              "      <td>Iris-setosa</td>\n",
              "    </tr>\n",
              "    <tr>\n",
              "      <th>2</th>\n",
              "      <td>3</td>\n",
              "      <td>4.7</td>\n",
              "      <td>3.2</td>\n",
              "      <td>1.3</td>\n",
              "      <td>0.2</td>\n",
              "      <td>Iris-setosa</td>\n",
              "    </tr>\n",
              "    <tr>\n",
              "      <th>3</th>\n",
              "      <td>4</td>\n",
              "      <td>4.6</td>\n",
              "      <td>3.1</td>\n",
              "      <td>1.5</td>\n",
              "      <td>0.2</td>\n",
              "      <td>Iris-setosa</td>\n",
              "    </tr>\n",
              "    <tr>\n",
              "      <th>4</th>\n",
              "      <td>5</td>\n",
              "      <td>5.0</td>\n",
              "      <td>3.6</td>\n",
              "      <td>1.4</td>\n",
              "      <td>0.2</td>\n",
              "      <td>Iris-setosa</td>\n",
              "    </tr>\n",
              "  </tbody>\n",
              "</table>\n",
              "</div>"
            ],
            "text/plain": [
              "   Id  SepalLengthCm  SepalWidthCm  PetalLengthCm  PetalWidthCm      Species\n",
              "0   1            5.1           3.5            1.4           0.2  Iris-setosa\n",
              "1   2            4.9           3.0            1.4           0.2  Iris-setosa\n",
              "2   3            4.7           3.2            1.3           0.2  Iris-setosa\n",
              "3   4            4.6           3.1            1.5           0.2  Iris-setosa\n",
              "4   5            5.0           3.6            1.4           0.2  Iris-setosa"
            ]
          },
          "metadata": {},
          "execution_count": 3
        }
      ]
    },
    {
      "cell_type": "code",
      "metadata": {
        "id": "1oM5twwbZvFB"
      },
      "source": [
        "#pd.read_csv('/content/sample.txt',sep = ' ')"
      ],
      "execution_count": null,
      "outputs": []
    },
    {
      "cell_type": "markdown",
      "metadata": {
        "id": "SHRYnsghRtmr"
      },
      "source": [
        "Other ways of importing data depending on the file type.\n",
        "\n",
        "* __pd.read_table(filename)__ - From a delimited text file (like TSV)\n",
        "* __pd.read_excel(filename)__ - From an Excel file \n",
        "* __pd.read_sql(query, connection_object)__ - Reads from a SQL table/database\n",
        "* __pd.read_json(json_string)__ - Reads from a JSON file and extracts tables to a list of dataframes\n",
        "\n",
        "## 2. Create Test Objects\n",
        "* __pd.DataFrame(dict)__ - From a dict, keys for columns names, values for data as lists\n",
        "* __pd.DataFrame(np.random.rand(20,5))__ - 5 columns and 20 rows of random floats\n",
        "* __pd.Series(my_list)__ - Creates a series from an iterable my_list"
      ]
    },
    {
      "cell_type": "code",
      "metadata": {
        "colab": {
          "base_uri": "https://localhost:8080/",
          "height": 189
        },
        "id": "3UtpdZ3MYV8c",
        "outputId": "7913544d-0427-48e8-9048-56c6acf64206"
      },
      "source": [
        "d = {'Sagar' : [1,2,3,4],\"Priya\" : [10,20,30,40],\"Batul\" :[100,200,300,400]}\n",
        "print(d)\n",
        "pd.DataFrame(d)"
      ],
      "execution_count": null,
      "outputs": [
        {
          "output_type": "stream",
          "name": "stdout",
          "text": [
            "{'Sagar': [1, 2, 3, 4], 'Priya': [10, 20, 30, 40], 'Batul': [100, 200, 300, 400]}\n"
          ]
        },
        {
          "output_type": "execute_result",
          "data": {
            "text/html": [
              "<div>\n",
              "<style scoped>\n",
              "    .dataframe tbody tr th:only-of-type {\n",
              "        vertical-align: middle;\n",
              "    }\n",
              "\n",
              "    .dataframe tbody tr th {\n",
              "        vertical-align: top;\n",
              "    }\n",
              "\n",
              "    .dataframe thead th {\n",
              "        text-align: right;\n",
              "    }\n",
              "</style>\n",
              "<table border=\"1\" class=\"dataframe\">\n",
              "  <thead>\n",
              "    <tr style=\"text-align: right;\">\n",
              "      <th></th>\n",
              "      <th>Sagar</th>\n",
              "      <th>Priya</th>\n",
              "      <th>Batul</th>\n",
              "    </tr>\n",
              "  </thead>\n",
              "  <tbody>\n",
              "    <tr>\n",
              "      <th>0</th>\n",
              "      <td>1</td>\n",
              "      <td>10</td>\n",
              "      <td>100</td>\n",
              "    </tr>\n",
              "    <tr>\n",
              "      <th>1</th>\n",
              "      <td>2</td>\n",
              "      <td>20</td>\n",
              "      <td>200</td>\n",
              "    </tr>\n",
              "    <tr>\n",
              "      <th>2</th>\n",
              "      <td>3</td>\n",
              "      <td>30</td>\n",
              "      <td>300</td>\n",
              "    </tr>\n",
              "    <tr>\n",
              "      <th>3</th>\n",
              "      <td>4</td>\n",
              "      <td>40</td>\n",
              "      <td>400</td>\n",
              "    </tr>\n",
              "  </tbody>\n",
              "</table>\n",
              "</div>"
            ],
            "text/plain": [
              "   Sagar  Priya  Batul\n",
              "0      1     10    100\n",
              "1      2     20    200\n",
              "2      3     30    300\n",
              "3      4     40    400"
            ]
          },
          "metadata": {},
          "execution_count": 6
        }
      ]
    },
    {
      "cell_type": "code",
      "metadata": {
        "colab": {
          "base_uri": "https://localhost:8080/",
          "height": 110
        },
        "id": "bOBAOZgyRa63",
        "outputId": "bcd0cb37-4db1-4cf4-bd84-1cca1f43543a"
      },
      "source": [
        "df_dict = pd.DataFrame(columns=['City','State'], data = [['Kolkata','West Bengal'], ['Bangalore','Karnataka']])\n",
        "df_dict"
      ],
      "execution_count": null,
      "outputs": [
        {
          "output_type": "execute_result",
          "data": {
            "text/html": [
              "<div>\n",
              "<style scoped>\n",
              "    .dataframe tbody tr th:only-of-type {\n",
              "        vertical-align: middle;\n",
              "    }\n",
              "\n",
              "    .dataframe tbody tr th {\n",
              "        vertical-align: top;\n",
              "    }\n",
              "\n",
              "    .dataframe thead th {\n",
              "        text-align: right;\n",
              "    }\n",
              "</style>\n",
              "<table border=\"1\" class=\"dataframe\">\n",
              "  <thead>\n",
              "    <tr style=\"text-align: right;\">\n",
              "      <th></th>\n",
              "      <th>City</th>\n",
              "      <th>State</th>\n",
              "    </tr>\n",
              "  </thead>\n",
              "  <tbody>\n",
              "    <tr>\n",
              "      <th>0</th>\n",
              "      <td>Kolkata</td>\n",
              "      <td>West Bengal</td>\n",
              "    </tr>\n",
              "    <tr>\n",
              "      <th>1</th>\n",
              "      <td>Bangalore</td>\n",
              "      <td>Karnataka</td>\n",
              "    </tr>\n",
              "  </tbody>\n",
              "</table>\n",
              "</div>"
            ],
            "text/plain": [
              "        City        State\n",
              "0    Kolkata  West Bengal\n",
              "1  Bangalore    Karnataka"
            ]
          },
          "metadata": {},
          "execution_count": 7
        }
      ]
    },
    {
      "cell_type": "markdown",
      "metadata": {
        "id": "SeK2pG74Rzfv"
      },
      "source": [
        "## 3. Viewing Data\n",
        "\n",
        "* __df.head(n)__ - First n rows of the DataFrame [__replace head with tail__, you know what you will get]\n",
        "* __df.shape__ - Number of rows and columns \n",
        "* __df.info()__ - Index, Datatype and Memory \n",
        "* __df.describe()__ - Summary statistics for numerical columns\n",
        "* __df.apply(pd.Series.value_counts)__ - Unique values and counts for all columns\n",
        "\n",
        "__s.value_counts(dropna=False)__ - Views unique values and counts"
      ]
    },
    {
      "cell_type": "code",
      "metadata": {
        "colab": {
          "base_uri": "https://localhost:8080/"
        },
        "id": "HHWGXRSFRzvH",
        "outputId": "c452cf9b-c18b-416d-f9c0-928ba3270746"
      },
      "source": [
        "print(\"df shape\\n\")\n",
        "print(df.shape)\n",
        "print(\"\\n================\")\n",
        "print(\"df info\\n\")\n",
        "df.info()"
      ],
      "execution_count": null,
      "outputs": [
        {
          "output_type": "stream",
          "name": "stdout",
          "text": [
            "df shape\n",
            "\n",
            "(150, 6)\n",
            "\n",
            "================\n",
            "df info\n",
            "\n",
            "<class 'pandas.core.frame.DataFrame'>\n",
            "RangeIndex: 150 entries, 0 to 149\n",
            "Data columns (total 6 columns):\n",
            " #   Column         Non-Null Count  Dtype  \n",
            "---  ------         --------------  -----  \n",
            " 0   Id             150 non-null    int64  \n",
            " 1   SepalLengthCm  150 non-null    float64\n",
            " 2   SepalWidthCm   150 non-null    float64\n",
            " 3   PetalLengthCm  150 non-null    float64\n",
            " 4   PetalWidthCm   150 non-null    float64\n",
            " 5   Species        150 non-null    object \n",
            "dtypes: float64(4), int64(1), object(1)\n",
            "memory usage: 7.2+ KB\n"
          ]
        }
      ]
    },
    {
      "cell_type": "code",
      "metadata": {
        "colab": {
          "base_uri": "https://localhost:8080/",
          "height": 294
        },
        "id": "pmFQxSgGaTla",
        "outputId": "837ad06f-5910-4770-a181-f949d589fb83"
      },
      "source": [
        "df.describe()"
      ],
      "execution_count": null,
      "outputs": [
        {
          "output_type": "execute_result",
          "data": {
            "text/html": [
              "<div>\n",
              "<style scoped>\n",
              "    .dataframe tbody tr th:only-of-type {\n",
              "        vertical-align: middle;\n",
              "    }\n",
              "\n",
              "    .dataframe tbody tr th {\n",
              "        vertical-align: top;\n",
              "    }\n",
              "\n",
              "    .dataframe thead th {\n",
              "        text-align: right;\n",
              "    }\n",
              "</style>\n",
              "<table border=\"1\" class=\"dataframe\">\n",
              "  <thead>\n",
              "    <tr style=\"text-align: right;\">\n",
              "      <th></th>\n",
              "      <th>Id</th>\n",
              "      <th>SepalLengthCm</th>\n",
              "      <th>SepalWidthCm</th>\n",
              "      <th>PetalLengthCm</th>\n",
              "      <th>PetalWidthCm</th>\n",
              "    </tr>\n",
              "  </thead>\n",
              "  <tbody>\n",
              "    <tr>\n",
              "      <th>count</th>\n",
              "      <td>150.000000</td>\n",
              "      <td>150.000000</td>\n",
              "      <td>150.000000</td>\n",
              "      <td>150.000000</td>\n",
              "      <td>150.000000</td>\n",
              "    </tr>\n",
              "    <tr>\n",
              "      <th>mean</th>\n",
              "      <td>75.500000</td>\n",
              "      <td>5.843333</td>\n",
              "      <td>3.054000</td>\n",
              "      <td>3.758667</td>\n",
              "      <td>1.198667</td>\n",
              "    </tr>\n",
              "    <tr>\n",
              "      <th>std</th>\n",
              "      <td>43.445368</td>\n",
              "      <td>0.828066</td>\n",
              "      <td>0.433594</td>\n",
              "      <td>1.764420</td>\n",
              "      <td>0.763161</td>\n",
              "    </tr>\n",
              "    <tr>\n",
              "      <th>min</th>\n",
              "      <td>1.000000</td>\n",
              "      <td>4.300000</td>\n",
              "      <td>2.000000</td>\n",
              "      <td>1.000000</td>\n",
              "      <td>0.100000</td>\n",
              "    </tr>\n",
              "    <tr>\n",
              "      <th>25%</th>\n",
              "      <td>38.250000</td>\n",
              "      <td>5.100000</td>\n",
              "      <td>2.800000</td>\n",
              "      <td>1.600000</td>\n",
              "      <td>0.300000</td>\n",
              "    </tr>\n",
              "    <tr>\n",
              "      <th>50%</th>\n",
              "      <td>75.500000</td>\n",
              "      <td>5.800000</td>\n",
              "      <td>3.000000</td>\n",
              "      <td>4.350000</td>\n",
              "      <td>1.300000</td>\n",
              "    </tr>\n",
              "    <tr>\n",
              "      <th>75%</th>\n",
              "      <td>112.750000</td>\n",
              "      <td>6.400000</td>\n",
              "      <td>3.300000</td>\n",
              "      <td>5.100000</td>\n",
              "      <td>1.800000</td>\n",
              "    </tr>\n",
              "    <tr>\n",
              "      <th>max</th>\n",
              "      <td>150.000000</td>\n",
              "      <td>7.900000</td>\n",
              "      <td>4.400000</td>\n",
              "      <td>6.900000</td>\n",
              "      <td>2.500000</td>\n",
              "    </tr>\n",
              "  </tbody>\n",
              "</table>\n",
              "</div>"
            ],
            "text/plain": [
              "               Id  SepalLengthCm  SepalWidthCm  PetalLengthCm  PetalWidthCm\n",
              "count  150.000000     150.000000    150.000000     150.000000    150.000000\n",
              "mean    75.500000       5.843333      3.054000       3.758667      1.198667\n",
              "std     43.445368       0.828066      0.433594       1.764420      0.763161\n",
              "min      1.000000       4.300000      2.000000       1.000000      0.100000\n",
              "25%     38.250000       5.100000      2.800000       1.600000      0.300000\n",
              "50%     75.500000       5.800000      3.000000       4.350000      1.300000\n",
              "75%    112.750000       6.400000      3.300000       5.100000      1.800000\n",
              "max    150.000000       7.900000      4.400000       6.900000      2.500000"
            ]
          },
          "metadata": {},
          "execution_count": 9
        }
      ]
    },
    {
      "cell_type": "markdown",
      "metadata": {
        "id": "Paw1i_9EX9sP"
      },
      "source": [
        "## 4. Selection\n",
        "\n",
        "* __df[col]__ or __df.col__- Returns column with label col as Series\n",
        "* __df[[col1, col2]]__ - Returns Columns as a new DataFrame\n",
        "* __s.iloc[0]__ - Selection by position/Integer-based indexing\n",
        "* __s.loc[0]__ - Selection by index/label-based indexing\n",
        "* __df.loc[:, :]__ and __df.iloc[:, :]__ - First argument represents the number of rows and the second for columns\n",
        "\n",
        "```\n",
        "# Single selections using iloc and DataFrame\n",
        "# Rows:\n",
        "df.iloc[0] # first row of data frame\n",
        "df.iloc[1] # second row of data frame\n",
        "df.iloc[-1] # last row of data frame\n",
        "# Columns:\n",
        "df.iloc[:,0] # first column of data frame\n",
        "df.iloc[:,1] # second column of data frame\n",
        "df.iloc[:,-1] # last column of data frame\n",
        "```"
      ]
    },
    {
      "cell_type": "code",
      "metadata": {
        "colab": {
          "base_uri": "https://localhost:8080/"
        },
        "id": "Q7xt7LNOX-WR",
        "outputId": "b5df6e84-12ad-47ee-b6f4-693f7d7dad9e"
      },
      "source": [
        "# rows 0 to 4; selective columns using iloc\n",
        "df.columns"
      ],
      "execution_count": null,
      "outputs": [
        {
          "output_type": "execute_result",
          "data": {
            "text/plain": [
              "Index(['Id', 'SepalLengthCm', 'SepalWidthCm', 'PetalLengthCm', 'PetalWidthCm',\n",
              "       'Species'],\n",
              "      dtype='object')"
            ]
          },
          "metadata": {},
          "execution_count": 10
        }
      ]
    },
    {
      "cell_type": "code",
      "metadata": {
        "colab": {
          "base_uri": "https://localhost:8080/"
        },
        "id": "DAnt_K7iahp3",
        "outputId": "56dcac0d-450a-44b2-9405-00b328731cc7"
      },
      "source": [
        "df['SepalLengthCm']"
      ],
      "execution_count": null,
      "outputs": [
        {
          "output_type": "execute_result",
          "data": {
            "text/plain": [
              "0      5.1\n",
              "1      4.9\n",
              "2      4.7\n",
              "3      4.6\n",
              "4      5.0\n",
              "      ... \n",
              "145    6.7\n",
              "146    6.3\n",
              "147    6.5\n",
              "148    6.2\n",
              "149    5.9\n",
              "Name: SepalLengthCm, Length: 150, dtype: float64"
            ]
          },
          "metadata": {},
          "execution_count": 11
        }
      ]
    },
    {
      "cell_type": "code",
      "metadata": {
        "colab": {
          "base_uri": "https://localhost:8080/",
          "height": 415
        },
        "id": "1kbnr_iRazqA",
        "outputId": "4ff8716b-aec7-4842-bbc8-0a58ee17c831"
      },
      "source": [
        "df[['Id','SepalLengthCm']]"
      ],
      "execution_count": null,
      "outputs": [
        {
          "output_type": "execute_result",
          "data": {
            "text/html": [
              "<div>\n",
              "<style scoped>\n",
              "    .dataframe tbody tr th:only-of-type {\n",
              "        vertical-align: middle;\n",
              "    }\n",
              "\n",
              "    .dataframe tbody tr th {\n",
              "        vertical-align: top;\n",
              "    }\n",
              "\n",
              "    .dataframe thead th {\n",
              "        text-align: right;\n",
              "    }\n",
              "</style>\n",
              "<table border=\"1\" class=\"dataframe\">\n",
              "  <thead>\n",
              "    <tr style=\"text-align: right;\">\n",
              "      <th></th>\n",
              "      <th>Id</th>\n",
              "      <th>SepalLengthCm</th>\n",
              "    </tr>\n",
              "  </thead>\n",
              "  <tbody>\n",
              "    <tr>\n",
              "      <th>0</th>\n",
              "      <td>1</td>\n",
              "      <td>5.1</td>\n",
              "    </tr>\n",
              "    <tr>\n",
              "      <th>1</th>\n",
              "      <td>2</td>\n",
              "      <td>4.9</td>\n",
              "    </tr>\n",
              "    <tr>\n",
              "      <th>2</th>\n",
              "      <td>3</td>\n",
              "      <td>4.7</td>\n",
              "    </tr>\n",
              "    <tr>\n",
              "      <th>3</th>\n",
              "      <td>4</td>\n",
              "      <td>4.6</td>\n",
              "    </tr>\n",
              "    <tr>\n",
              "      <th>4</th>\n",
              "      <td>5</td>\n",
              "      <td>5.0</td>\n",
              "    </tr>\n",
              "    <tr>\n",
              "      <th>...</th>\n",
              "      <td>...</td>\n",
              "      <td>...</td>\n",
              "    </tr>\n",
              "    <tr>\n",
              "      <th>145</th>\n",
              "      <td>146</td>\n",
              "      <td>6.7</td>\n",
              "    </tr>\n",
              "    <tr>\n",
              "      <th>146</th>\n",
              "      <td>147</td>\n",
              "      <td>6.3</td>\n",
              "    </tr>\n",
              "    <tr>\n",
              "      <th>147</th>\n",
              "      <td>148</td>\n",
              "      <td>6.5</td>\n",
              "    </tr>\n",
              "    <tr>\n",
              "      <th>148</th>\n",
              "      <td>149</td>\n",
              "      <td>6.2</td>\n",
              "    </tr>\n",
              "    <tr>\n",
              "      <th>149</th>\n",
              "      <td>150</td>\n",
              "      <td>5.9</td>\n",
              "    </tr>\n",
              "  </tbody>\n",
              "</table>\n",
              "<p>150 rows × 2 columns</p>\n",
              "</div>"
            ],
            "text/plain": [
              "      Id  SepalLengthCm\n",
              "0      1            5.1\n",
              "1      2            4.9\n",
              "2      3            4.7\n",
              "3      4            4.6\n",
              "4      5            5.0\n",
              "..   ...            ...\n",
              "145  146            6.7\n",
              "146  147            6.3\n",
              "147  148            6.5\n",
              "148  149            6.2\n",
              "149  150            5.9\n",
              "\n",
              "[150 rows x 2 columns]"
            ]
          },
          "metadata": {},
          "execution_count": 12
        }
      ]
    },
    {
      "cell_type": "code",
      "metadata": {
        "colab": {
          "base_uri": "https://localhost:8080/",
          "height": 202
        },
        "id": "6Zlyqs2sa7F0",
        "outputId": "69d2abee-9a93-4f60-bab7-0e17caae9a48"
      },
      "source": [
        "df.iloc[:5 ,:2]"
      ],
      "execution_count": null,
      "outputs": [
        {
          "output_type": "execute_result",
          "data": {
            "text/html": [
              "<div>\n",
              "<style scoped>\n",
              "    .dataframe tbody tr th:only-of-type {\n",
              "        vertical-align: middle;\n",
              "    }\n",
              "\n",
              "    .dataframe tbody tr th {\n",
              "        vertical-align: top;\n",
              "    }\n",
              "\n",
              "    .dataframe thead th {\n",
              "        text-align: right;\n",
              "    }\n",
              "</style>\n",
              "<table border=\"1\" class=\"dataframe\">\n",
              "  <thead>\n",
              "    <tr style=\"text-align: right;\">\n",
              "      <th></th>\n",
              "      <th>Id</th>\n",
              "      <th>SepalLengthCm</th>\n",
              "    </tr>\n",
              "  </thead>\n",
              "  <tbody>\n",
              "    <tr>\n",
              "      <th>0</th>\n",
              "      <td>1</td>\n",
              "      <td>5.1</td>\n",
              "    </tr>\n",
              "    <tr>\n",
              "      <th>1</th>\n",
              "      <td>2</td>\n",
              "      <td>4.9</td>\n",
              "    </tr>\n",
              "    <tr>\n",
              "      <th>2</th>\n",
              "      <td>3</td>\n",
              "      <td>4.7</td>\n",
              "    </tr>\n",
              "    <tr>\n",
              "      <th>3</th>\n",
              "      <td>4</td>\n",
              "      <td>4.6</td>\n",
              "    </tr>\n",
              "    <tr>\n",
              "      <th>4</th>\n",
              "      <td>5</td>\n",
              "      <td>5.0</td>\n",
              "    </tr>\n",
              "  </tbody>\n",
              "</table>\n",
              "</div>"
            ],
            "text/plain": [
              "   Id  SepalLengthCm\n",
              "0   1            5.1\n",
              "1   2            4.9\n",
              "2   3            4.7\n",
              "3   4            4.6\n",
              "4   5            5.0"
            ]
          },
          "metadata": {},
          "execution_count": 13
        }
      ]
    },
    {
      "cell_type": "code",
      "metadata": {
        "colab": {
          "base_uri": "https://localhost:8080/"
        },
        "id": "KezvjguxbVQ7",
        "outputId": "424e4e0d-5d1c-47e7-b7e4-1ec9ae09576f"
      },
      "source": [
        "df.iloc[:,1] # first column of data frame"
      ],
      "execution_count": null,
      "outputs": [
        {
          "output_type": "execute_result",
          "data": {
            "text/plain": [
              "0      5.1\n",
              "1      4.9\n",
              "2      4.7\n",
              "3      4.6\n",
              "4      5.0\n",
              "      ... \n",
              "145    6.7\n",
              "146    6.3\n",
              "147    6.5\n",
              "148    6.2\n",
              "149    5.9\n",
              "Name: SepalLengthCm, Length: 150, dtype: float64"
            ]
          },
          "metadata": {},
          "execution_count": 14
        }
      ]
    },
    {
      "cell_type": "code",
      "metadata": {
        "colab": {
          "base_uri": "https://localhost:8080/",
          "height": 202
        },
        "id": "VRq3lQP4biBx",
        "outputId": "c914ef51-899f-444b-9be6-c2a47f0127a4"
      },
      "source": [
        "# rows 0 to 4; all columns\n",
        "df.loc[0:4,:] # : for columns is optional here since we are asking for all columns"
      ],
      "execution_count": null,
      "outputs": [
        {
          "output_type": "execute_result",
          "data": {
            "text/html": [
              "<div>\n",
              "<style scoped>\n",
              "    .dataframe tbody tr th:only-of-type {\n",
              "        vertical-align: middle;\n",
              "    }\n",
              "\n",
              "    .dataframe tbody tr th {\n",
              "        vertical-align: top;\n",
              "    }\n",
              "\n",
              "    .dataframe thead th {\n",
              "        text-align: right;\n",
              "    }\n",
              "</style>\n",
              "<table border=\"1\" class=\"dataframe\">\n",
              "  <thead>\n",
              "    <tr style=\"text-align: right;\">\n",
              "      <th></th>\n",
              "      <th>Id</th>\n",
              "      <th>SepalLengthCm</th>\n",
              "      <th>SepalWidthCm</th>\n",
              "      <th>PetalLengthCm</th>\n",
              "      <th>PetalWidthCm</th>\n",
              "      <th>Species</th>\n",
              "    </tr>\n",
              "  </thead>\n",
              "  <tbody>\n",
              "    <tr>\n",
              "      <th>0</th>\n",
              "      <td>1</td>\n",
              "      <td>5.1</td>\n",
              "      <td>3.5</td>\n",
              "      <td>1.4</td>\n",
              "      <td>0.2</td>\n",
              "      <td>Iris-setosa</td>\n",
              "    </tr>\n",
              "    <tr>\n",
              "      <th>1</th>\n",
              "      <td>2</td>\n",
              "      <td>4.9</td>\n",
              "      <td>3.0</td>\n",
              "      <td>1.4</td>\n",
              "      <td>0.2</td>\n",
              "      <td>Iris-setosa</td>\n",
              "    </tr>\n",
              "    <tr>\n",
              "      <th>2</th>\n",
              "      <td>3</td>\n",
              "      <td>4.7</td>\n",
              "      <td>3.2</td>\n",
              "      <td>1.3</td>\n",
              "      <td>0.2</td>\n",
              "      <td>Iris-setosa</td>\n",
              "    </tr>\n",
              "    <tr>\n",
              "      <th>3</th>\n",
              "      <td>4</td>\n",
              "      <td>4.6</td>\n",
              "      <td>3.1</td>\n",
              "      <td>1.5</td>\n",
              "      <td>0.2</td>\n",
              "      <td>Iris-setosa</td>\n",
              "    </tr>\n",
              "    <tr>\n",
              "      <th>4</th>\n",
              "      <td>5</td>\n",
              "      <td>5.0</td>\n",
              "      <td>3.6</td>\n",
              "      <td>1.4</td>\n",
              "      <td>0.2</td>\n",
              "      <td>Iris-setosa</td>\n",
              "    </tr>\n",
              "  </tbody>\n",
              "</table>\n",
              "</div>"
            ],
            "text/plain": [
              "   Id  SepalLengthCm  SepalWidthCm  PetalLengthCm  PetalWidthCm      Species\n",
              "0   1            5.1           3.5            1.4           0.2  Iris-setosa\n",
              "1   2            4.9           3.0            1.4           0.2  Iris-setosa\n",
              "2   3            4.7           3.2            1.3           0.2  Iris-setosa\n",
              "3   4            4.6           3.1            1.5           0.2  Iris-setosa\n",
              "4   5            5.0           3.6            1.4           0.2  Iris-setosa"
            ]
          },
          "metadata": {},
          "execution_count": 15
        }
      ]
    },
    {
      "cell_type": "code",
      "metadata": {
        "colab": {
          "base_uri": "https://localhost:8080/",
          "height": 171
        },
        "id": "FPvdYfWbcCnI",
        "outputId": "7cfb8d79-d4d7-4af3-a4c3-da03f5448dbd"
      },
      "source": [
        "df.iloc[0:4,:]"
      ],
      "execution_count": null,
      "outputs": [
        {
          "output_type": "execute_result",
          "data": {
            "text/html": [
              "<div>\n",
              "<style scoped>\n",
              "    .dataframe tbody tr th:only-of-type {\n",
              "        vertical-align: middle;\n",
              "    }\n",
              "\n",
              "    .dataframe tbody tr th {\n",
              "        vertical-align: top;\n",
              "    }\n",
              "\n",
              "    .dataframe thead th {\n",
              "        text-align: right;\n",
              "    }\n",
              "</style>\n",
              "<table border=\"1\" class=\"dataframe\">\n",
              "  <thead>\n",
              "    <tr style=\"text-align: right;\">\n",
              "      <th></th>\n",
              "      <th>Id</th>\n",
              "      <th>SepalLengthCm</th>\n",
              "      <th>SepalWidthCm</th>\n",
              "      <th>PetalLengthCm</th>\n",
              "      <th>PetalWidthCm</th>\n",
              "      <th>Species</th>\n",
              "    </tr>\n",
              "  </thead>\n",
              "  <tbody>\n",
              "    <tr>\n",
              "      <th>0</th>\n",
              "      <td>1</td>\n",
              "      <td>5.1</td>\n",
              "      <td>3.5</td>\n",
              "      <td>1.4</td>\n",
              "      <td>0.2</td>\n",
              "      <td>Iris-setosa</td>\n",
              "    </tr>\n",
              "    <tr>\n",
              "      <th>1</th>\n",
              "      <td>2</td>\n",
              "      <td>4.9</td>\n",
              "      <td>3.0</td>\n",
              "      <td>1.4</td>\n",
              "      <td>0.2</td>\n",
              "      <td>Iris-setosa</td>\n",
              "    </tr>\n",
              "    <tr>\n",
              "      <th>2</th>\n",
              "      <td>3</td>\n",
              "      <td>4.7</td>\n",
              "      <td>3.2</td>\n",
              "      <td>1.3</td>\n",
              "      <td>0.2</td>\n",
              "      <td>Iris-setosa</td>\n",
              "    </tr>\n",
              "    <tr>\n",
              "      <th>3</th>\n",
              "      <td>4</td>\n",
              "      <td>4.6</td>\n",
              "      <td>3.1</td>\n",
              "      <td>1.5</td>\n",
              "      <td>0.2</td>\n",
              "      <td>Iris-setosa</td>\n",
              "    </tr>\n",
              "  </tbody>\n",
              "</table>\n",
              "</div>"
            ],
            "text/plain": [
              "   Id  SepalLengthCm  SepalWidthCm  PetalLengthCm  PetalWidthCm      Species\n",
              "0   1            5.1           3.5            1.4           0.2  Iris-setosa\n",
              "1   2            4.9           3.0            1.4           0.2  Iris-setosa\n",
              "2   3            4.7           3.2            1.3           0.2  Iris-setosa\n",
              "3   4            4.6           3.1            1.5           0.2  Iris-setosa"
            ]
          },
          "metadata": {},
          "execution_count": 16
        }
      ]
    },
    {
      "cell_type": "code",
      "metadata": {
        "colab": {
          "base_uri": "https://localhost:8080/",
          "height": 202
        },
        "id": "_3GYAE_vbqIn",
        "outputId": "62b321aa-99c4-456c-f92f-5115c3b70df0"
      },
      "source": [
        "# rows 0 to 4; selective columns\n",
        "df.loc[0:4,['Id','SepalWidthCm']]"
      ],
      "execution_count": null,
      "outputs": [
        {
          "output_type": "execute_result",
          "data": {
            "text/html": [
              "<div>\n",
              "<style scoped>\n",
              "    .dataframe tbody tr th:only-of-type {\n",
              "        vertical-align: middle;\n",
              "    }\n",
              "\n",
              "    .dataframe tbody tr th {\n",
              "        vertical-align: top;\n",
              "    }\n",
              "\n",
              "    .dataframe thead th {\n",
              "        text-align: right;\n",
              "    }\n",
              "</style>\n",
              "<table border=\"1\" class=\"dataframe\">\n",
              "  <thead>\n",
              "    <tr style=\"text-align: right;\">\n",
              "      <th></th>\n",
              "      <th>Id</th>\n",
              "      <th>SepalWidthCm</th>\n",
              "    </tr>\n",
              "  </thead>\n",
              "  <tbody>\n",
              "    <tr>\n",
              "      <th>0</th>\n",
              "      <td>1</td>\n",
              "      <td>3.5</td>\n",
              "    </tr>\n",
              "    <tr>\n",
              "      <th>1</th>\n",
              "      <td>2</td>\n",
              "      <td>3.0</td>\n",
              "    </tr>\n",
              "    <tr>\n",
              "      <th>2</th>\n",
              "      <td>3</td>\n",
              "      <td>3.2</td>\n",
              "    </tr>\n",
              "    <tr>\n",
              "      <th>3</th>\n",
              "      <td>4</td>\n",
              "      <td>3.1</td>\n",
              "    </tr>\n",
              "    <tr>\n",
              "      <th>4</th>\n",
              "      <td>5</td>\n",
              "      <td>3.6</td>\n",
              "    </tr>\n",
              "  </tbody>\n",
              "</table>\n",
              "</div>"
            ],
            "text/plain": [
              "   Id  SepalWidthCm\n",
              "0   1           3.5\n",
              "1   2           3.0\n",
              "2   3           3.2\n",
              "3   4           3.1\n",
              "4   5           3.6"
            ]
          },
          "metadata": {},
          "execution_count": 17
        }
      ]
    },
    {
      "cell_type": "code",
      "metadata": {
        "colab": {
          "base_uri": "https://localhost:8080/",
          "height": 311
        },
        "id": "9O06g9mvbwGs",
        "outputId": "58effcae-194d-46a0-988b-94b3dd7f0b85"
      },
      "source": [
        "df.iloc[0:4,['Id','SepalWidthCm']]"
      ],
      "execution_count": null,
      "outputs": [
        {
          "output_type": "error",
          "ename": "IndexError",
          "evalue": "ignored",
          "traceback": [
            "\u001b[0;31m---------------------------------------------------------------------------\u001b[0m",
            "\u001b[0;31mIndexError\u001b[0m                                Traceback (most recent call last)",
            "\u001b[0;32m<ipython-input-18-850234e2d871>\u001b[0m in \u001b[0;36m<module>\u001b[0;34m()\u001b[0m\n\u001b[0;32m----> 1\u001b[0;31m \u001b[0mdf\u001b[0m\u001b[0;34m.\u001b[0m\u001b[0miloc\u001b[0m\u001b[0;34m[\u001b[0m\u001b[0;36m0\u001b[0m\u001b[0;34m:\u001b[0m\u001b[0;36m4\u001b[0m\u001b[0;34m,\u001b[0m\u001b[0;34m[\u001b[0m\u001b[0;34m'Id'\u001b[0m\u001b[0;34m,\u001b[0m\u001b[0;34m'SepalWidthCm'\u001b[0m\u001b[0;34m]\u001b[0m\u001b[0;34m]\u001b[0m\u001b[0;34m\u001b[0m\u001b[0;34m\u001b[0m\u001b[0m\n\u001b[0m",
            "\u001b[0;32m/usr/local/lib/python3.7/dist-packages/pandas/core/indexing.py\u001b[0m in \u001b[0;36m__getitem__\u001b[0;34m(self, key)\u001b[0m\n\u001b[1;32m    871\u001b[0m                     \u001b[0;31m# AttributeError for IntervalTree get_value\u001b[0m\u001b[0;34m\u001b[0m\u001b[0;34m\u001b[0m\u001b[0;34m\u001b[0m\u001b[0m\n\u001b[1;32m    872\u001b[0m                     \u001b[0;32mpass\u001b[0m\u001b[0;34m\u001b[0m\u001b[0;34m\u001b[0m\u001b[0m\n\u001b[0;32m--> 873\u001b[0;31m             \u001b[0;32mreturn\u001b[0m \u001b[0mself\u001b[0m\u001b[0;34m.\u001b[0m\u001b[0m_getitem_tuple\u001b[0m\u001b[0;34m(\u001b[0m\u001b[0mkey\u001b[0m\u001b[0;34m)\u001b[0m\u001b[0;34m\u001b[0m\u001b[0;34m\u001b[0m\u001b[0m\n\u001b[0m\u001b[1;32m    874\u001b[0m         \u001b[0;32melse\u001b[0m\u001b[0;34m:\u001b[0m\u001b[0;34m\u001b[0m\u001b[0;34m\u001b[0m\u001b[0m\n\u001b[1;32m    875\u001b[0m             \u001b[0;31m# we by definition only have the 0th axis\u001b[0m\u001b[0;34m\u001b[0m\u001b[0;34m\u001b[0m\u001b[0;34m\u001b[0m\u001b[0m\n",
            "\u001b[0;32m/usr/local/lib/python3.7/dist-packages/pandas/core/indexing.py\u001b[0m in \u001b[0;36m_getitem_tuple\u001b[0;34m(self, tup)\u001b[0m\n\u001b[1;32m   1441\u001b[0m     \u001b[0;32mdef\u001b[0m \u001b[0m_getitem_tuple\u001b[0m\u001b[0;34m(\u001b[0m\u001b[0mself\u001b[0m\u001b[0;34m,\u001b[0m \u001b[0mtup\u001b[0m\u001b[0;34m:\u001b[0m \u001b[0mTuple\u001b[0m\u001b[0;34m)\u001b[0m\u001b[0;34m:\u001b[0m\u001b[0;34m\u001b[0m\u001b[0;34m\u001b[0m\u001b[0m\n\u001b[1;32m   1442\u001b[0m \u001b[0;34m\u001b[0m\u001b[0m\n\u001b[0;32m-> 1443\u001b[0;31m         \u001b[0mself\u001b[0m\u001b[0;34m.\u001b[0m\u001b[0m_has_valid_tuple\u001b[0m\u001b[0;34m(\u001b[0m\u001b[0mtup\u001b[0m\u001b[0;34m)\u001b[0m\u001b[0;34m\u001b[0m\u001b[0;34m\u001b[0m\u001b[0m\n\u001b[0m\u001b[1;32m   1444\u001b[0m         \u001b[0;32mtry\u001b[0m\u001b[0;34m:\u001b[0m\u001b[0;34m\u001b[0m\u001b[0;34m\u001b[0m\u001b[0m\n\u001b[1;32m   1445\u001b[0m             \u001b[0;32mreturn\u001b[0m \u001b[0mself\u001b[0m\u001b[0;34m.\u001b[0m\u001b[0m_getitem_lowerdim\u001b[0m\u001b[0;34m(\u001b[0m\u001b[0mtup\u001b[0m\u001b[0;34m)\u001b[0m\u001b[0;34m\u001b[0m\u001b[0;34m\u001b[0m\u001b[0m\n",
            "\u001b[0;32m/usr/local/lib/python3.7/dist-packages/pandas/core/indexing.py\u001b[0m in \u001b[0;36m_has_valid_tuple\u001b[0;34m(self, key)\u001b[0m\n\u001b[1;32m    700\u001b[0m                 \u001b[0;32mraise\u001b[0m \u001b[0mIndexingError\u001b[0m\u001b[0;34m(\u001b[0m\u001b[0;34m\"Too many indexers\"\u001b[0m\u001b[0;34m)\u001b[0m\u001b[0;34m\u001b[0m\u001b[0;34m\u001b[0m\u001b[0m\n\u001b[1;32m    701\u001b[0m             \u001b[0;32mtry\u001b[0m\u001b[0;34m:\u001b[0m\u001b[0;34m\u001b[0m\u001b[0;34m\u001b[0m\u001b[0m\n\u001b[0;32m--> 702\u001b[0;31m                 \u001b[0mself\u001b[0m\u001b[0;34m.\u001b[0m\u001b[0m_validate_key\u001b[0m\u001b[0;34m(\u001b[0m\u001b[0mk\u001b[0m\u001b[0;34m,\u001b[0m \u001b[0mi\u001b[0m\u001b[0;34m)\u001b[0m\u001b[0;34m\u001b[0m\u001b[0;34m\u001b[0m\u001b[0m\n\u001b[0m\u001b[1;32m    703\u001b[0m             \u001b[0;32mexcept\u001b[0m \u001b[0mValueError\u001b[0m \u001b[0;32mas\u001b[0m \u001b[0merr\u001b[0m\u001b[0;34m:\u001b[0m\u001b[0;34m\u001b[0m\u001b[0;34m\u001b[0m\u001b[0m\n\u001b[1;32m    704\u001b[0m                 raise ValueError(\n",
            "\u001b[0;32m/usr/local/lib/python3.7/dist-packages/pandas/core/indexing.py\u001b[0m in \u001b[0;36m_validate_key\u001b[0;34m(self, key, axis)\u001b[0m\n\u001b[1;32m   1361\u001b[0m             \u001b[0;31m# check that the key has a numeric dtype\u001b[0m\u001b[0;34m\u001b[0m\u001b[0;34m\u001b[0m\u001b[0;34m\u001b[0m\u001b[0m\n\u001b[1;32m   1362\u001b[0m             \u001b[0;32mif\u001b[0m \u001b[0;32mnot\u001b[0m \u001b[0mis_numeric_dtype\u001b[0m\u001b[0;34m(\u001b[0m\u001b[0marr\u001b[0m\u001b[0;34m.\u001b[0m\u001b[0mdtype\u001b[0m\u001b[0;34m)\u001b[0m\u001b[0;34m:\u001b[0m\u001b[0;34m\u001b[0m\u001b[0;34m\u001b[0m\u001b[0m\n\u001b[0;32m-> 1363\u001b[0;31m                 \u001b[0;32mraise\u001b[0m \u001b[0mIndexError\u001b[0m\u001b[0;34m(\u001b[0m\u001b[0;34mf\".iloc requires numeric indexers, got {arr}\"\u001b[0m\u001b[0;34m)\u001b[0m\u001b[0;34m\u001b[0m\u001b[0;34m\u001b[0m\u001b[0m\n\u001b[0m\u001b[1;32m   1364\u001b[0m \u001b[0;34m\u001b[0m\u001b[0m\n\u001b[1;32m   1365\u001b[0m             \u001b[0;31m# check that the key does not exceed the maximum size of the index\u001b[0m\u001b[0;34m\u001b[0m\u001b[0;34m\u001b[0m\u001b[0;34m\u001b[0m\u001b[0m\n",
            "\u001b[0;31mIndexError\u001b[0m: .iloc requires numeric indexers, got ['Id' 'SepalWidthCm']"
          ]
        }
      ]
    },
    {
      "cell_type": "markdown",
      "metadata": {
        "id": "qhaECztRb3S4"
      },
      "source": [
        "__NOTE__: \n",
        "* In __loc__, we are mentioning the column names for selection, while in __iloc__ we are specifying the column number\n",
        "* In __loc__, rows are getting printed including the upper bound, while in __iloc__, it is excluding it\n",
        "\n",
        "Also __NOTE__ the following:\n",
        "1. For creating a new DataFrame using column names\n",
        "```\n",
        "df[[col1, col2]]\n",
        "```\n",
        "is same as\n",
        "```\n",
        "df.loc[:,[col1, col2]]\n",
        "```\n",
        "2. For printing the first 5 rows of the DataFrame\n",
        "```\n",
        "df[0:n]\n",
        "```\n",
        "is same as\n",
        "```\n",
        "df.iloc[0:n, :]\n",
        "```"
      ]
    },
    {
      "cell_type": "markdown",
      "metadata": {
        "id": "kEvwDGsjcQRR"
      },
      "source": [
        "## 5. Data Cleaning\n",
        "\n",
        "\n",
        "* __df.drop([col1, col2, col3], inplace = True, axis=1)__ - Remove set of column(s)\n",
        "* __df.columns = ['a','b','c']__ - Renames columns\n",
        "* __df.isnull()__ - Checks for null Values, Returns Boolean DataFrame\n",
        "* __df.isnull().any()__ - Returns boolean value for each column, gives True if any null value detected corresponding to that column\n",
        "* __df.dropna()__ - Drops all rows that contain null values\n",
        "* __df.dropna(axis=1)__ - Drops all columns that contain null values\n",
        "* __df.fillna(x)__ - Replaces all null values with x\n",
        "* __s.replace(1,'one')__ - Replaces all values equal to 1 with 'one'\n",
        "* __s.replace([1,3], ['one','three'])__ - Replaces all 1 with 'one' and 3 with 'three'\n",
        "* __df.rename(columns = lambda x: x + '_1')__ - Mass renaming of columns\n",
        "* __df.rename(columns = {'old_name': 'new_name'})__ - Selective renaming\n",
        "* __df.rename(index = lambda x: x + 1)__ - Mass renaming of index\n",
        "* __df[new_col] = df.col1 + ', ' + df.col2__ - Add two columns to create a new column in the same DataFrame\n",
        "* __df.drop_duplicates(keep='last',inplace=True)__ - Remove duplicate rows"
      ]
    },
    {
      "cell_type": "code",
      "metadata": {
        "id": "eM9DLyQubyWc"
      },
      "source": [
        "df_copy = df.copy() #call by value\n"
      ],
      "execution_count": null,
      "outputs": []
    },
    {
      "cell_type": "code",
      "metadata": {
        "id": "picLH782cjm0"
      },
      "source": [
        "print(hex(id(df)))\n",
        "print(hex(id(df_copy)))"
      ],
      "execution_count": null,
      "outputs": []
    },
    {
      "cell_type": "code",
      "metadata": {
        "colab": {
          "base_uri": "https://localhost:8080/",
          "height": 183
        },
        "id": "sAcyNYRCcjqd",
        "outputId": "c745fbd7-d581-4ca9-ad9c-85d03d1ebb5b"
      },
      "source": [
        "df_copy.drop(['SepalWidthCm'], inplace=True, axis = 1)\n",
        "df_copy.head()"
      ],
      "execution_count": null,
      "outputs": [
        {
          "output_type": "error",
          "ename": "NameError",
          "evalue": "ignored",
          "traceback": [
            "\u001b[0;31m---------------------------------------------------------------------------\u001b[0m",
            "\u001b[0;31mNameError\u001b[0m                                 Traceback (most recent call last)",
            "\u001b[0;32m<ipython-input-19-cf31e7a7c616>\u001b[0m in \u001b[0;36m<module>\u001b[0;34m()\u001b[0m\n\u001b[0;32m----> 1\u001b[0;31m \u001b[0mdf_copy\u001b[0m\u001b[0;34m.\u001b[0m\u001b[0mdrop\u001b[0m\u001b[0;34m(\u001b[0m\u001b[0;34m[\u001b[0m\u001b[0;34m'SepalWidthCm'\u001b[0m\u001b[0;34m]\u001b[0m\u001b[0;34m,\u001b[0m \u001b[0minplace\u001b[0m\u001b[0;34m=\u001b[0m\u001b[0;32mTrue\u001b[0m\u001b[0;34m,\u001b[0m \u001b[0maxis\u001b[0m \u001b[0;34m=\u001b[0m \u001b[0;36m1\u001b[0m\u001b[0;34m)\u001b[0m\u001b[0;34m\u001b[0m\u001b[0;34m\u001b[0m\u001b[0m\n\u001b[0m\u001b[1;32m      2\u001b[0m \u001b[0mdf_copy\u001b[0m\u001b[0;34m.\u001b[0m\u001b[0mhead\u001b[0m\u001b[0;34m(\u001b[0m\u001b[0;34m)\u001b[0m\u001b[0;34m\u001b[0m\u001b[0;34m\u001b[0m\u001b[0m\n",
            "\u001b[0;31mNameError\u001b[0m: name 'df_copy' is not defined"
          ]
        }
      ]
    },
    {
      "cell_type": "code",
      "metadata": {
        "id": "Zm04zh4Kc4V1"
      },
      "source": [
        "df.isnull().sum()"
      ],
      "execution_count": null,
      "outputs": []
    },
    {
      "cell_type": "code",
      "metadata": {
        "colab": {
          "base_uri": "https://localhost:8080/"
        },
        "id": "xtiBFvr7dG4p",
        "outputId": "d922efc6-9761-4494-be8a-3107e8a4d460"
      },
      "source": [
        "df_any_null = df.isnull().any()\n",
        "df_any_null"
      ],
      "execution_count": null,
      "outputs": [
        {
          "output_type": "execute_result",
          "data": {
            "text/plain": [
              "Id               False\n",
              "SepalLengthCm    False\n",
              "SepalWidthCm     False\n",
              "PetalLengthCm    False\n",
              "PetalWidthCm     False\n",
              "Species          False\n",
              "dtype: bool"
            ]
          },
          "metadata": {},
          "execution_count": 20
        }
      ]
    },
    {
      "cell_type": "code",
      "metadata": {
        "id": "HQZIk-xtdbwv"
      },
      "source": [
        "#help(df.dropna)"
      ],
      "execution_count": null,
      "outputs": []
    },
    {
      "cell_type": "code",
      "metadata": {
        "colab": {
          "base_uri": "https://localhost:8080/"
        },
        "id": "G5cQZg9sdRHJ",
        "outputId": "2f703819-419a-4858-cd24-bab014eec16f"
      },
      "source": [
        "df.dropna(axis=0, inplace=True)\n",
        "df_check_null = df.isnull().sum()\n",
        "print(df.shape)\n",
        "df_check_null"
      ],
      "execution_count": null,
      "outputs": [
        {
          "output_type": "stream",
          "name": "stdout",
          "text": [
            "(150, 6)\n"
          ]
        },
        {
          "output_type": "execute_result",
          "data": {
            "text/plain": [
              "Id               0\n",
              "SepalLengthCm    0\n",
              "SepalWidthCm     0\n",
              "PetalLengthCm    0\n",
              "PetalWidthCm     0\n",
              "Species          0\n",
              "dtype: int64"
            ]
          },
          "metadata": {},
          "execution_count": 22
        }
      ]
    },
    {
      "cell_type": "code",
      "metadata": {
        "colab": {
          "base_uri": "https://localhost:8080/"
        },
        "id": "OolmVGVEdp3o",
        "outputId": "1d20fed5-852b-4853-df8e-25ac608edd64"
      },
      "source": [
        "print(df.shape)"
      ],
      "execution_count": null,
      "outputs": [
        {
          "output_type": "stream",
          "name": "stdout",
          "text": [
            "(150, 6)\n"
          ]
        }
      ]
    },
    {
      "cell_type": "code",
      "metadata": {
        "colab": {
          "base_uri": "https://localhost:8080/",
          "height": 202
        },
        "id": "o2f60_-4dtBe",
        "outputId": "dd4bb6ec-6e5f-444a-c065-977cff08c74b"
      },
      "source": [
        "df_new_cols_name = df.rename(columns = lambda x: (x.lower()))\n",
        "df_new_cols_name.head()"
      ],
      "execution_count": null,
      "outputs": [
        {
          "output_type": "execute_result",
          "data": {
            "text/html": [
              "<div>\n",
              "<style scoped>\n",
              "    .dataframe tbody tr th:only-of-type {\n",
              "        vertical-align: middle;\n",
              "    }\n",
              "\n",
              "    .dataframe tbody tr th {\n",
              "        vertical-align: top;\n",
              "    }\n",
              "\n",
              "    .dataframe thead th {\n",
              "        text-align: right;\n",
              "    }\n",
              "</style>\n",
              "<table border=\"1\" class=\"dataframe\">\n",
              "  <thead>\n",
              "    <tr style=\"text-align: right;\">\n",
              "      <th></th>\n",
              "      <th>id</th>\n",
              "      <th>sepallengthcm</th>\n",
              "      <th>sepalwidthcm</th>\n",
              "      <th>petallengthcm</th>\n",
              "      <th>petalwidthcm</th>\n",
              "      <th>species</th>\n",
              "    </tr>\n",
              "  </thead>\n",
              "  <tbody>\n",
              "    <tr>\n",
              "      <th>0</th>\n",
              "      <td>1</td>\n",
              "      <td>5.1</td>\n",
              "      <td>3.5</td>\n",
              "      <td>1.4</td>\n",
              "      <td>0.2</td>\n",
              "      <td>Iris-setosa</td>\n",
              "    </tr>\n",
              "    <tr>\n",
              "      <th>1</th>\n",
              "      <td>2</td>\n",
              "      <td>4.9</td>\n",
              "      <td>3.0</td>\n",
              "      <td>1.4</td>\n",
              "      <td>0.2</td>\n",
              "      <td>Iris-setosa</td>\n",
              "    </tr>\n",
              "    <tr>\n",
              "      <th>2</th>\n",
              "      <td>3</td>\n",
              "      <td>4.7</td>\n",
              "      <td>3.2</td>\n",
              "      <td>1.3</td>\n",
              "      <td>0.2</td>\n",
              "      <td>Iris-setosa</td>\n",
              "    </tr>\n",
              "    <tr>\n",
              "      <th>3</th>\n",
              "      <td>4</td>\n",
              "      <td>4.6</td>\n",
              "      <td>3.1</td>\n",
              "      <td>1.5</td>\n",
              "      <td>0.2</td>\n",
              "      <td>Iris-setosa</td>\n",
              "    </tr>\n",
              "    <tr>\n",
              "      <th>4</th>\n",
              "      <td>5</td>\n",
              "      <td>5.0</td>\n",
              "      <td>3.6</td>\n",
              "      <td>1.4</td>\n",
              "      <td>0.2</td>\n",
              "      <td>Iris-setosa</td>\n",
              "    </tr>\n",
              "  </tbody>\n",
              "</table>\n",
              "</div>"
            ],
            "text/plain": [
              "   id  sepallengthcm  sepalwidthcm  petallengthcm  petalwidthcm      species\n",
              "0   1            5.1           3.5            1.4           0.2  Iris-setosa\n",
              "1   2            4.9           3.0            1.4           0.2  Iris-setosa\n",
              "2   3            4.7           3.2            1.3           0.2  Iris-setosa\n",
              "3   4            4.6           3.1            1.5           0.2  Iris-setosa\n",
              "4   5            5.0           3.6            1.4           0.2  Iris-setosa"
            ]
          },
          "metadata": {},
          "execution_count": 24
        }
      ]
    },
    {
      "cell_type": "code",
      "metadata": {
        "colab": {
          "base_uri": "https://localhost:8080/"
        },
        "id": "mEMjvsMDe5so",
        "outputId": "e2d0522d-fea0-4aa2-f718-7bd7032585a4"
      },
      "source": [
        "len(df)"
      ],
      "execution_count": null,
      "outputs": [
        {
          "output_type": "execute_result",
          "data": {
            "text/plain": [
              "150"
            ]
          },
          "metadata": {},
          "execution_count": 25
        }
      ]
    },
    {
      "cell_type": "code",
      "metadata": {
        "id": "uzsg2N3zeDt9",
        "colab": {
          "base_uri": "https://localhost:8080/",
          "height": 281
        },
        "outputId": "28615c95-b224-4fc6-d339-af5f7a35ec05"
      },
      "source": [
        "len_df_before = len(df_new_cols_name)\n",
        "print('Before removing duplicates, the length of dataframe: {}'.format(len_df_before))\n",
        "\n",
        "# keep : {‘first’, ‘last’, False}, default ‘first’\n",
        "# *first : Drop duplicates except for the first occurrence.\n",
        "# *last : Drop duplicates except for the last occurrence.\n",
        "# *False : Drop all duplicates.\n",
        "df_new_cols_name.drop_duplicates(keep='last',inplace=True)\n",
        "\n",
        "display(df_new_cols_name.head(10).style.highlight_null(null_color='blue'))\n",
        "\n",
        "len_df_after = len(df_new_cols_name)\n",
        "print('After removing duplicates, the length of dataframe: {}'.format(len_df_after))"
      ],
      "execution_count": null,
      "outputs": [
        {
          "output_type": "stream",
          "name": "stdout",
          "text": [
            "Before removing duplicates, the length of dataframe: 150\n"
          ]
        },
        {
          "output_type": "display_data",
          "data": {
            "text/html": [
              "<style  type=\"text/css\" >\n",
              "</style><table id=\"T_caa8cf50_1708_11ec_bd8f_0242ac1c0002\" ><thead>    <tr>        <th class=\"blank level0\" ></th>        <th class=\"col_heading level0 col0\" >id</th>        <th class=\"col_heading level0 col1\" >sepallengthcm</th>        <th class=\"col_heading level0 col2\" >sepalwidthcm</th>        <th class=\"col_heading level0 col3\" >petallengthcm</th>        <th class=\"col_heading level0 col4\" >petalwidthcm</th>        <th class=\"col_heading level0 col5\" >species</th>    </tr></thead><tbody>\n",
              "                <tr>\n",
              "                        <th id=\"T_caa8cf50_1708_11ec_bd8f_0242ac1c0002level0_row0\" class=\"row_heading level0 row0\" >0</th>\n",
              "                        <td id=\"T_caa8cf50_1708_11ec_bd8f_0242ac1c0002row0_col0\" class=\"data row0 col0\" >1</td>\n",
              "                        <td id=\"T_caa8cf50_1708_11ec_bd8f_0242ac1c0002row0_col1\" class=\"data row0 col1\" >5.100000</td>\n",
              "                        <td id=\"T_caa8cf50_1708_11ec_bd8f_0242ac1c0002row0_col2\" class=\"data row0 col2\" >3.500000</td>\n",
              "                        <td id=\"T_caa8cf50_1708_11ec_bd8f_0242ac1c0002row0_col3\" class=\"data row0 col3\" >1.400000</td>\n",
              "                        <td id=\"T_caa8cf50_1708_11ec_bd8f_0242ac1c0002row0_col4\" class=\"data row0 col4\" >0.200000</td>\n",
              "                        <td id=\"T_caa8cf50_1708_11ec_bd8f_0242ac1c0002row0_col5\" class=\"data row0 col5\" >Iris-setosa</td>\n",
              "            </tr>\n",
              "            <tr>\n",
              "                        <th id=\"T_caa8cf50_1708_11ec_bd8f_0242ac1c0002level0_row1\" class=\"row_heading level0 row1\" >1</th>\n",
              "                        <td id=\"T_caa8cf50_1708_11ec_bd8f_0242ac1c0002row1_col0\" class=\"data row1 col0\" >2</td>\n",
              "                        <td id=\"T_caa8cf50_1708_11ec_bd8f_0242ac1c0002row1_col1\" class=\"data row1 col1\" >4.900000</td>\n",
              "                        <td id=\"T_caa8cf50_1708_11ec_bd8f_0242ac1c0002row1_col2\" class=\"data row1 col2\" >3.000000</td>\n",
              "                        <td id=\"T_caa8cf50_1708_11ec_bd8f_0242ac1c0002row1_col3\" class=\"data row1 col3\" >1.400000</td>\n",
              "                        <td id=\"T_caa8cf50_1708_11ec_bd8f_0242ac1c0002row1_col4\" class=\"data row1 col4\" >0.200000</td>\n",
              "                        <td id=\"T_caa8cf50_1708_11ec_bd8f_0242ac1c0002row1_col5\" class=\"data row1 col5\" >Iris-setosa</td>\n",
              "            </tr>\n",
              "            <tr>\n",
              "                        <th id=\"T_caa8cf50_1708_11ec_bd8f_0242ac1c0002level0_row2\" class=\"row_heading level0 row2\" >2</th>\n",
              "                        <td id=\"T_caa8cf50_1708_11ec_bd8f_0242ac1c0002row2_col0\" class=\"data row2 col0\" >3</td>\n",
              "                        <td id=\"T_caa8cf50_1708_11ec_bd8f_0242ac1c0002row2_col1\" class=\"data row2 col1\" >4.700000</td>\n",
              "                        <td id=\"T_caa8cf50_1708_11ec_bd8f_0242ac1c0002row2_col2\" class=\"data row2 col2\" >3.200000</td>\n",
              "                        <td id=\"T_caa8cf50_1708_11ec_bd8f_0242ac1c0002row2_col3\" class=\"data row2 col3\" >1.300000</td>\n",
              "                        <td id=\"T_caa8cf50_1708_11ec_bd8f_0242ac1c0002row2_col4\" class=\"data row2 col4\" >0.200000</td>\n",
              "                        <td id=\"T_caa8cf50_1708_11ec_bd8f_0242ac1c0002row2_col5\" class=\"data row2 col5\" >Iris-setosa</td>\n",
              "            </tr>\n",
              "            <tr>\n",
              "                        <th id=\"T_caa8cf50_1708_11ec_bd8f_0242ac1c0002level0_row3\" class=\"row_heading level0 row3\" >3</th>\n",
              "                        <td id=\"T_caa8cf50_1708_11ec_bd8f_0242ac1c0002row3_col0\" class=\"data row3 col0\" >4</td>\n",
              "                        <td id=\"T_caa8cf50_1708_11ec_bd8f_0242ac1c0002row3_col1\" class=\"data row3 col1\" >4.600000</td>\n",
              "                        <td id=\"T_caa8cf50_1708_11ec_bd8f_0242ac1c0002row3_col2\" class=\"data row3 col2\" >3.100000</td>\n",
              "                        <td id=\"T_caa8cf50_1708_11ec_bd8f_0242ac1c0002row3_col3\" class=\"data row3 col3\" >1.500000</td>\n",
              "                        <td id=\"T_caa8cf50_1708_11ec_bd8f_0242ac1c0002row3_col4\" class=\"data row3 col4\" >0.200000</td>\n",
              "                        <td id=\"T_caa8cf50_1708_11ec_bd8f_0242ac1c0002row3_col5\" class=\"data row3 col5\" >Iris-setosa</td>\n",
              "            </tr>\n",
              "            <tr>\n",
              "                        <th id=\"T_caa8cf50_1708_11ec_bd8f_0242ac1c0002level0_row4\" class=\"row_heading level0 row4\" >4</th>\n",
              "                        <td id=\"T_caa8cf50_1708_11ec_bd8f_0242ac1c0002row4_col0\" class=\"data row4 col0\" >5</td>\n",
              "                        <td id=\"T_caa8cf50_1708_11ec_bd8f_0242ac1c0002row4_col1\" class=\"data row4 col1\" >5.000000</td>\n",
              "                        <td id=\"T_caa8cf50_1708_11ec_bd8f_0242ac1c0002row4_col2\" class=\"data row4 col2\" >3.600000</td>\n",
              "                        <td id=\"T_caa8cf50_1708_11ec_bd8f_0242ac1c0002row4_col3\" class=\"data row4 col3\" >1.400000</td>\n",
              "                        <td id=\"T_caa8cf50_1708_11ec_bd8f_0242ac1c0002row4_col4\" class=\"data row4 col4\" >0.200000</td>\n",
              "                        <td id=\"T_caa8cf50_1708_11ec_bd8f_0242ac1c0002row4_col5\" class=\"data row4 col5\" >Iris-setosa</td>\n",
              "            </tr>\n",
              "            <tr>\n",
              "                        <th id=\"T_caa8cf50_1708_11ec_bd8f_0242ac1c0002level0_row5\" class=\"row_heading level0 row5\" >5</th>\n",
              "                        <td id=\"T_caa8cf50_1708_11ec_bd8f_0242ac1c0002row5_col0\" class=\"data row5 col0\" >6</td>\n",
              "                        <td id=\"T_caa8cf50_1708_11ec_bd8f_0242ac1c0002row5_col1\" class=\"data row5 col1\" >5.400000</td>\n",
              "                        <td id=\"T_caa8cf50_1708_11ec_bd8f_0242ac1c0002row5_col2\" class=\"data row5 col2\" >3.900000</td>\n",
              "                        <td id=\"T_caa8cf50_1708_11ec_bd8f_0242ac1c0002row5_col3\" class=\"data row5 col3\" >1.700000</td>\n",
              "                        <td id=\"T_caa8cf50_1708_11ec_bd8f_0242ac1c0002row5_col4\" class=\"data row5 col4\" >0.400000</td>\n",
              "                        <td id=\"T_caa8cf50_1708_11ec_bd8f_0242ac1c0002row5_col5\" class=\"data row5 col5\" >Iris-setosa</td>\n",
              "            </tr>\n",
              "            <tr>\n",
              "                        <th id=\"T_caa8cf50_1708_11ec_bd8f_0242ac1c0002level0_row6\" class=\"row_heading level0 row6\" >6</th>\n",
              "                        <td id=\"T_caa8cf50_1708_11ec_bd8f_0242ac1c0002row6_col0\" class=\"data row6 col0\" >7</td>\n",
              "                        <td id=\"T_caa8cf50_1708_11ec_bd8f_0242ac1c0002row6_col1\" class=\"data row6 col1\" >4.600000</td>\n",
              "                        <td id=\"T_caa8cf50_1708_11ec_bd8f_0242ac1c0002row6_col2\" class=\"data row6 col2\" >3.400000</td>\n",
              "                        <td id=\"T_caa8cf50_1708_11ec_bd8f_0242ac1c0002row6_col3\" class=\"data row6 col3\" >1.400000</td>\n",
              "                        <td id=\"T_caa8cf50_1708_11ec_bd8f_0242ac1c0002row6_col4\" class=\"data row6 col4\" >0.300000</td>\n",
              "                        <td id=\"T_caa8cf50_1708_11ec_bd8f_0242ac1c0002row6_col5\" class=\"data row6 col5\" >Iris-setosa</td>\n",
              "            </tr>\n",
              "            <tr>\n",
              "                        <th id=\"T_caa8cf50_1708_11ec_bd8f_0242ac1c0002level0_row7\" class=\"row_heading level0 row7\" >7</th>\n",
              "                        <td id=\"T_caa8cf50_1708_11ec_bd8f_0242ac1c0002row7_col0\" class=\"data row7 col0\" >8</td>\n",
              "                        <td id=\"T_caa8cf50_1708_11ec_bd8f_0242ac1c0002row7_col1\" class=\"data row7 col1\" >5.000000</td>\n",
              "                        <td id=\"T_caa8cf50_1708_11ec_bd8f_0242ac1c0002row7_col2\" class=\"data row7 col2\" >3.400000</td>\n",
              "                        <td id=\"T_caa8cf50_1708_11ec_bd8f_0242ac1c0002row7_col3\" class=\"data row7 col3\" >1.500000</td>\n",
              "                        <td id=\"T_caa8cf50_1708_11ec_bd8f_0242ac1c0002row7_col4\" class=\"data row7 col4\" >0.200000</td>\n",
              "                        <td id=\"T_caa8cf50_1708_11ec_bd8f_0242ac1c0002row7_col5\" class=\"data row7 col5\" >Iris-setosa</td>\n",
              "            </tr>\n",
              "            <tr>\n",
              "                        <th id=\"T_caa8cf50_1708_11ec_bd8f_0242ac1c0002level0_row8\" class=\"row_heading level0 row8\" >8</th>\n",
              "                        <td id=\"T_caa8cf50_1708_11ec_bd8f_0242ac1c0002row8_col0\" class=\"data row8 col0\" >9</td>\n",
              "                        <td id=\"T_caa8cf50_1708_11ec_bd8f_0242ac1c0002row8_col1\" class=\"data row8 col1\" >4.400000</td>\n",
              "                        <td id=\"T_caa8cf50_1708_11ec_bd8f_0242ac1c0002row8_col2\" class=\"data row8 col2\" >2.900000</td>\n",
              "                        <td id=\"T_caa8cf50_1708_11ec_bd8f_0242ac1c0002row8_col3\" class=\"data row8 col3\" >1.400000</td>\n",
              "                        <td id=\"T_caa8cf50_1708_11ec_bd8f_0242ac1c0002row8_col4\" class=\"data row8 col4\" >0.200000</td>\n",
              "                        <td id=\"T_caa8cf50_1708_11ec_bd8f_0242ac1c0002row8_col5\" class=\"data row8 col5\" >Iris-setosa</td>\n",
              "            </tr>\n",
              "            <tr>\n",
              "                        <th id=\"T_caa8cf50_1708_11ec_bd8f_0242ac1c0002level0_row9\" class=\"row_heading level0 row9\" >9</th>\n",
              "                        <td id=\"T_caa8cf50_1708_11ec_bd8f_0242ac1c0002row9_col0\" class=\"data row9 col0\" >10</td>\n",
              "                        <td id=\"T_caa8cf50_1708_11ec_bd8f_0242ac1c0002row9_col1\" class=\"data row9 col1\" >4.900000</td>\n",
              "                        <td id=\"T_caa8cf50_1708_11ec_bd8f_0242ac1c0002row9_col2\" class=\"data row9 col2\" >3.100000</td>\n",
              "                        <td id=\"T_caa8cf50_1708_11ec_bd8f_0242ac1c0002row9_col3\" class=\"data row9 col3\" >1.500000</td>\n",
              "                        <td id=\"T_caa8cf50_1708_11ec_bd8f_0242ac1c0002row9_col4\" class=\"data row9 col4\" >0.100000</td>\n",
              "                        <td id=\"T_caa8cf50_1708_11ec_bd8f_0242ac1c0002row9_col5\" class=\"data row9 col5\" >Iris-setosa</td>\n",
              "            </tr>\n",
              "    </tbody></table>"
            ],
            "text/plain": [
              "<pandas.io.formats.style.Styler at 0x7f04a42e7b10>"
            ]
          },
          "metadata": {}
        },
        {
          "output_type": "stream",
          "name": "stdout",
          "text": [
            "After removing duplicates, the length of dataframe: 150\n"
          ]
        }
      ]
    },
    {
      "cell_type": "markdown",
      "metadata": {
        "id": "sZgFlk6Je-BB"
      },
      "source": [
        "## 6. Filter, Sort & Group By\n",
        "* __df[df[col] > 0.5]__ - Rows where the values in col > 0.5\n",
        "* __df[(df[col] > 0.5) & (df[col] < 0.7)]__ - Rows where 0.7 > col > 0.5\n",
        "* __df.sort_values(col1)__ - Sorts values by col1 in ascending order\n",
        "* __df.sort_values(col2,ascending=False)__ - Sorts values by col2 in descending order\n",
        "* __df.sort_values([col1,col2],ascending=[True,False])__ - Sorts values by col1 in ascending order then col2 in descending order\n",
        "\n",
        "* __df.groupby(col)__ - Returns a groupby object for values from one column\n",
        "* __df.groupby([col1,col2])__ - Returns a groupby object values from multiple columns\n",
        "* __df.groupby(col1)[col2].mean()__ - (Aggregation) Returns the mean of the values in col2, grouped by the values in col1 \n",
        "* __df.pivot_table(index=col1,values=[col2,col3],aggfunc=mean)__ - Creates a pivot table that groups by col1 and calculates the mean of col2 and col3\n",
        "* __df.apply(np.mean)__ - Applies a function across each column\n",
        "* __df.apply(np.max, axis=1)__ - Applies a function across each row\n",
        "* __df.applymap(lambda arg(s): expression)__ - Apply the expression on each value of the DataFrame\n",
        "* __df[col].map(lambda arg(s): expression)__ - Apply the expression on each value of the column col"
      ]
    },
    {
      "cell_type": "code",
      "metadata": {
        "id": "aI3M94SOfGSA"
      },
      "source": [
        "df = df_new_cols_name.copy()"
      ],
      "execution_count": null,
      "outputs": []
    },
    {
      "cell_type": "code",
      "metadata": {
        "id": "kqmANP_0bnuQ",
        "colab": {
          "base_uri": "https://localhost:8080/",
          "height": 202
        },
        "outputId": "9dd3638a-452b-42e8-c21a-da3950ef46e1"
      },
      "source": [
        "df.head()"
      ],
      "execution_count": null,
      "outputs": [
        {
          "output_type": "execute_result",
          "data": {
            "text/html": [
              "<div>\n",
              "<style scoped>\n",
              "    .dataframe tbody tr th:only-of-type {\n",
              "        vertical-align: middle;\n",
              "    }\n",
              "\n",
              "    .dataframe tbody tr th {\n",
              "        vertical-align: top;\n",
              "    }\n",
              "\n",
              "    .dataframe thead th {\n",
              "        text-align: right;\n",
              "    }\n",
              "</style>\n",
              "<table border=\"1\" class=\"dataframe\">\n",
              "  <thead>\n",
              "    <tr style=\"text-align: right;\">\n",
              "      <th></th>\n",
              "      <th>id</th>\n",
              "      <th>sepallengthcm</th>\n",
              "      <th>sepalwidthcm</th>\n",
              "      <th>petallengthcm</th>\n",
              "      <th>petalwidthcm</th>\n",
              "      <th>species</th>\n",
              "    </tr>\n",
              "  </thead>\n",
              "  <tbody>\n",
              "    <tr>\n",
              "      <th>0</th>\n",
              "      <td>1</td>\n",
              "      <td>5.1</td>\n",
              "      <td>3.5</td>\n",
              "      <td>1.4</td>\n",
              "      <td>0.2</td>\n",
              "      <td>Iris-setosa</td>\n",
              "    </tr>\n",
              "    <tr>\n",
              "      <th>1</th>\n",
              "      <td>2</td>\n",
              "      <td>4.9</td>\n",
              "      <td>3.0</td>\n",
              "      <td>1.4</td>\n",
              "      <td>0.2</td>\n",
              "      <td>Iris-setosa</td>\n",
              "    </tr>\n",
              "    <tr>\n",
              "      <th>2</th>\n",
              "      <td>3</td>\n",
              "      <td>4.7</td>\n",
              "      <td>3.2</td>\n",
              "      <td>1.3</td>\n",
              "      <td>0.2</td>\n",
              "      <td>Iris-setosa</td>\n",
              "    </tr>\n",
              "    <tr>\n",
              "      <th>3</th>\n",
              "      <td>4</td>\n",
              "      <td>4.6</td>\n",
              "      <td>3.1</td>\n",
              "      <td>1.5</td>\n",
              "      <td>0.2</td>\n",
              "      <td>Iris-setosa</td>\n",
              "    </tr>\n",
              "    <tr>\n",
              "      <th>4</th>\n",
              "      <td>5</td>\n",
              "      <td>5.0</td>\n",
              "      <td>3.6</td>\n",
              "      <td>1.4</td>\n",
              "      <td>0.2</td>\n",
              "      <td>Iris-setosa</td>\n",
              "    </tr>\n",
              "  </tbody>\n",
              "</table>\n",
              "</div>"
            ],
            "text/plain": [
              "   id  sepallengthcm  sepalwidthcm  petallengthcm  petalwidthcm      species\n",
              "0   1            5.1           3.5            1.4           0.2  Iris-setosa\n",
              "1   2            4.9           3.0            1.4           0.2  Iris-setosa\n",
              "2   3            4.7           3.2            1.3           0.2  Iris-setosa\n",
              "3   4            4.6           3.1            1.5           0.2  Iris-setosa\n",
              "4   5            5.0           3.6            1.4           0.2  Iris-setosa"
            ]
          },
          "metadata": {},
          "execution_count": 28
        }
      ]
    },
    {
      "cell_type": "code",
      "metadata": {
        "id": "2NoLf8V2bpUQ",
        "colab": {
          "base_uri": "https://localhost:8080/",
          "height": 219
        },
        "outputId": "e85e2ad9-caf7-4532-80eb-a3b0516d1ddc"
      },
      "source": [
        "df_high_rating = df[(df['sepallengthcm'] > 5) & (df['sepalwidthcm'] < 3)]\n",
        "print(df_high_rating.shape)\n",
        "df_high_rating.head()"
      ],
      "execution_count": null,
      "outputs": [
        {
          "output_type": "stream",
          "name": "stdout",
          "text": [
            "(51, 6)\n"
          ]
        },
        {
          "output_type": "execute_result",
          "data": {
            "text/html": [
              "<div>\n",
              "<style scoped>\n",
              "    .dataframe tbody tr th:only-of-type {\n",
              "        vertical-align: middle;\n",
              "    }\n",
              "\n",
              "    .dataframe tbody tr th {\n",
              "        vertical-align: top;\n",
              "    }\n",
              "\n",
              "    .dataframe thead th {\n",
              "        text-align: right;\n",
              "    }\n",
              "</style>\n",
              "<table border=\"1\" class=\"dataframe\">\n",
              "  <thead>\n",
              "    <tr style=\"text-align: right;\">\n",
              "      <th></th>\n",
              "      <th>id</th>\n",
              "      <th>sepallengthcm</th>\n",
              "      <th>sepalwidthcm</th>\n",
              "      <th>petallengthcm</th>\n",
              "      <th>petalwidthcm</th>\n",
              "      <th>species</th>\n",
              "    </tr>\n",
              "  </thead>\n",
              "  <tbody>\n",
              "    <tr>\n",
              "      <th>53</th>\n",
              "      <td>54</td>\n",
              "      <td>5.5</td>\n",
              "      <td>2.3</td>\n",
              "      <td>4.0</td>\n",
              "      <td>1.3</td>\n",
              "      <td>Iris-versicolor</td>\n",
              "    </tr>\n",
              "    <tr>\n",
              "      <th>54</th>\n",
              "      <td>55</td>\n",
              "      <td>6.5</td>\n",
              "      <td>2.8</td>\n",
              "      <td>4.6</td>\n",
              "      <td>1.5</td>\n",
              "      <td>Iris-versicolor</td>\n",
              "    </tr>\n",
              "    <tr>\n",
              "      <th>55</th>\n",
              "      <td>56</td>\n",
              "      <td>5.7</td>\n",
              "      <td>2.8</td>\n",
              "      <td>4.5</td>\n",
              "      <td>1.3</td>\n",
              "      <td>Iris-versicolor</td>\n",
              "    </tr>\n",
              "    <tr>\n",
              "      <th>58</th>\n",
              "      <td>59</td>\n",
              "      <td>6.6</td>\n",
              "      <td>2.9</td>\n",
              "      <td>4.6</td>\n",
              "      <td>1.3</td>\n",
              "      <td>Iris-versicolor</td>\n",
              "    </tr>\n",
              "    <tr>\n",
              "      <th>59</th>\n",
              "      <td>60</td>\n",
              "      <td>5.2</td>\n",
              "      <td>2.7</td>\n",
              "      <td>3.9</td>\n",
              "      <td>1.4</td>\n",
              "      <td>Iris-versicolor</td>\n",
              "    </tr>\n",
              "  </tbody>\n",
              "</table>\n",
              "</div>"
            ],
            "text/plain": [
              "    id  sepallengthcm  ...  petalwidthcm          species\n",
              "53  54            5.5  ...           1.3  Iris-versicolor\n",
              "54  55            6.5  ...           1.5  Iris-versicolor\n",
              "55  56            5.7  ...           1.3  Iris-versicolor\n",
              "58  59            6.6  ...           1.3  Iris-versicolor\n",
              "59  60            5.2  ...           1.4  Iris-versicolor\n",
              "\n",
              "[5 rows x 6 columns]"
            ]
          },
          "metadata": {},
          "execution_count": 33
        }
      ]
    },
    {
      "cell_type": "code",
      "metadata": {
        "id": "QiPSIHkpcKWu",
        "colab": {
          "base_uri": "https://localhost:8080/",
          "height": 141
        },
        "outputId": "bee423e2-4def-4ff0-904d-785390d2351e"
      },
      "source": [
        "df.groupby(['species']).agg({'sepallengthcm' : 'mean'}).reset_index()"
      ],
      "execution_count": null,
      "outputs": [
        {
          "output_type": "execute_result",
          "data": {
            "text/html": [
              "<div>\n",
              "<style scoped>\n",
              "    .dataframe tbody tr th:only-of-type {\n",
              "        vertical-align: middle;\n",
              "    }\n",
              "\n",
              "    .dataframe tbody tr th {\n",
              "        vertical-align: top;\n",
              "    }\n",
              "\n",
              "    .dataframe thead th {\n",
              "        text-align: right;\n",
              "    }\n",
              "</style>\n",
              "<table border=\"1\" class=\"dataframe\">\n",
              "  <thead>\n",
              "    <tr style=\"text-align: right;\">\n",
              "      <th></th>\n",
              "      <th>species</th>\n",
              "      <th>sepallengthcm</th>\n",
              "    </tr>\n",
              "  </thead>\n",
              "  <tbody>\n",
              "    <tr>\n",
              "      <th>0</th>\n",
              "      <td>Iris-setosa</td>\n",
              "      <td>5.006</td>\n",
              "    </tr>\n",
              "    <tr>\n",
              "      <th>1</th>\n",
              "      <td>Iris-versicolor</td>\n",
              "      <td>5.936</td>\n",
              "    </tr>\n",
              "    <tr>\n",
              "      <th>2</th>\n",
              "      <td>Iris-virginica</td>\n",
              "      <td>6.588</td>\n",
              "    </tr>\n",
              "  </tbody>\n",
              "</table>\n",
              "</div>"
            ],
            "text/plain": [
              "           species  sepallengthcm\n",
              "0      Iris-setosa          5.006\n",
              "1  Iris-versicolor          5.936\n",
              "2   Iris-virginica          6.588"
            ]
          },
          "metadata": {},
          "execution_count": 39
        }
      ]
    },
    {
      "cell_type": "code",
      "metadata": {
        "id": "0RcETfr_crie",
        "colab": {
          "base_uri": "https://localhost:8080/",
          "height": 141
        },
        "outputId": "6ca4d153-8fbd-4a9e-9ed7-d208883b7aa3"
      },
      "source": [
        "df.groupby(['species']).agg({'sepallengthcm' : 'mean','petallengthcm' : 'max'}).reset_index()"
      ],
      "execution_count": null,
      "outputs": [
        {
          "output_type": "execute_result",
          "data": {
            "text/html": [
              "<div>\n",
              "<style scoped>\n",
              "    .dataframe tbody tr th:only-of-type {\n",
              "        vertical-align: middle;\n",
              "    }\n",
              "\n",
              "    .dataframe tbody tr th {\n",
              "        vertical-align: top;\n",
              "    }\n",
              "\n",
              "    .dataframe thead th {\n",
              "        text-align: right;\n",
              "    }\n",
              "</style>\n",
              "<table border=\"1\" class=\"dataframe\">\n",
              "  <thead>\n",
              "    <tr style=\"text-align: right;\">\n",
              "      <th></th>\n",
              "      <th>species</th>\n",
              "      <th>sepallengthcm</th>\n",
              "      <th>petallengthcm</th>\n",
              "    </tr>\n",
              "  </thead>\n",
              "  <tbody>\n",
              "    <tr>\n",
              "      <th>0</th>\n",
              "      <td>Iris-setosa</td>\n",
              "      <td>5.006</td>\n",
              "      <td>1.9</td>\n",
              "    </tr>\n",
              "    <tr>\n",
              "      <th>1</th>\n",
              "      <td>Iris-versicolor</td>\n",
              "      <td>5.936</td>\n",
              "      <td>5.1</td>\n",
              "    </tr>\n",
              "    <tr>\n",
              "      <th>2</th>\n",
              "      <td>Iris-virginica</td>\n",
              "      <td>6.588</td>\n",
              "      <td>6.9</td>\n",
              "    </tr>\n",
              "  </tbody>\n",
              "</table>\n",
              "</div>"
            ],
            "text/plain": [
              "           species  sepallengthcm  petallengthcm\n",
              "0      Iris-setosa          5.006            1.9\n",
              "1  Iris-versicolor          5.936            5.1\n",
              "2   Iris-virginica          6.588            6.9"
            ]
          },
          "metadata": {},
          "execution_count": 40
        }
      ]
    },
    {
      "cell_type": "code",
      "metadata": {
        "id": "KJzqlEjJc7Mz",
        "colab": {
          "base_uri": "https://localhost:8080/"
        },
        "outputId": "07ab715e-8b31-41f4-9611-69fc20904469"
      },
      "source": [
        "print(df.groupby('species').size())"
      ],
      "execution_count": null,
      "outputs": [
        {
          "output_type": "stream",
          "name": "stdout",
          "text": [
            "species\n",
            "Iris-setosa        50\n",
            "Iris-versicolor    50\n",
            "Iris-virginica     50\n",
            "dtype: int64\n"
          ]
        }
      ]
    },
    {
      "cell_type": "code",
      "metadata": {
        "id": "gcQ6wgoodL6U",
        "colab": {
          "base_uri": "https://localhost:8080/"
        },
        "outputId": "c8f3d4b7-0bc0-4e5d-f600-5ac5ff068b92"
      },
      "source": [
        "# iterating through groupby\n",
        "\n",
        "grouped = df.groupby('species')\n",
        "\n",
        "print(grouped)"
      ],
      "execution_count": null,
      "outputs": [
        {
          "output_type": "stream",
          "name": "stdout",
          "text": [
            "<pandas.core.groupby.generic.DataFrameGroupBy object at 0x7f04a3b77a50>\n"
          ]
        }
      ]
    },
    {
      "cell_type": "code",
      "metadata": {
        "id": "CdRtsi5_dYjm",
        "colab": {
          "base_uri": "https://localhost:8080/"
        },
        "outputId": "4de77ee3-1263-40a3-b02b-7daa9cb58026"
      },
      "source": [
        "for name,group in grouped:\n",
        "  print(name)\n",
        "  print(\"##########################################\")\n",
        "  print(group)"
      ],
      "execution_count": null,
      "outputs": [
        {
          "output_type": "stream",
          "name": "stdout",
          "text": [
            "Iris-setosa\n",
            "##########################################\n",
            "    id  sepallengthcm  sepalwidthcm  petallengthcm  petalwidthcm      species\n",
            "0    1            5.1           3.5            1.4           0.2  Iris-setosa\n",
            "1    2            4.9           3.0            1.4           0.2  Iris-setosa\n",
            "2    3            4.7           3.2            1.3           0.2  Iris-setosa\n",
            "3    4            4.6           3.1            1.5           0.2  Iris-setosa\n",
            "4    5            5.0           3.6            1.4           0.2  Iris-setosa\n",
            "5    6            5.4           3.9            1.7           0.4  Iris-setosa\n",
            "6    7            4.6           3.4            1.4           0.3  Iris-setosa\n",
            "7    8            5.0           3.4            1.5           0.2  Iris-setosa\n",
            "8    9            4.4           2.9            1.4           0.2  Iris-setosa\n",
            "9   10            4.9           3.1            1.5           0.1  Iris-setosa\n",
            "10  11            5.4           3.7            1.5           0.2  Iris-setosa\n",
            "11  12            4.8           3.4            1.6           0.2  Iris-setosa\n",
            "12  13            4.8           3.0            1.4           0.1  Iris-setosa\n",
            "13  14            4.3           3.0            1.1           0.1  Iris-setosa\n",
            "14  15            5.8           4.0            1.2           0.2  Iris-setosa\n",
            "15  16            5.7           4.4            1.5           0.4  Iris-setosa\n",
            "16  17            5.4           3.9            1.3           0.4  Iris-setosa\n",
            "17  18            5.1           3.5            1.4           0.3  Iris-setosa\n",
            "18  19            5.7           3.8            1.7           0.3  Iris-setosa\n",
            "19  20            5.1           3.8            1.5           0.3  Iris-setosa\n",
            "20  21            5.4           3.4            1.7           0.2  Iris-setosa\n",
            "21  22            5.1           3.7            1.5           0.4  Iris-setosa\n",
            "22  23            4.6           3.6            1.0           0.2  Iris-setosa\n",
            "23  24            5.1           3.3            1.7           0.5  Iris-setosa\n",
            "24  25            4.8           3.4            1.9           0.2  Iris-setosa\n",
            "25  26            5.0           3.0            1.6           0.2  Iris-setosa\n",
            "26  27            5.0           3.4            1.6           0.4  Iris-setosa\n",
            "27  28            5.2           3.5            1.5           0.2  Iris-setosa\n",
            "28  29            5.2           3.4            1.4           0.2  Iris-setosa\n",
            "29  30            4.7           3.2            1.6           0.2  Iris-setosa\n",
            "30  31            4.8           3.1            1.6           0.2  Iris-setosa\n",
            "31  32            5.4           3.4            1.5           0.4  Iris-setosa\n",
            "32  33            5.2           4.1            1.5           0.1  Iris-setosa\n",
            "33  34            5.5           4.2            1.4           0.2  Iris-setosa\n",
            "34  35            4.9           3.1            1.5           0.1  Iris-setosa\n",
            "35  36            5.0           3.2            1.2           0.2  Iris-setosa\n",
            "36  37            5.5           3.5            1.3           0.2  Iris-setosa\n",
            "37  38            4.9           3.1            1.5           0.1  Iris-setosa\n",
            "38  39            4.4           3.0            1.3           0.2  Iris-setosa\n",
            "39  40            5.1           3.4            1.5           0.2  Iris-setosa\n",
            "40  41            5.0           3.5            1.3           0.3  Iris-setosa\n",
            "41  42            4.5           2.3            1.3           0.3  Iris-setosa\n",
            "42  43            4.4           3.2            1.3           0.2  Iris-setosa\n",
            "43  44            5.0           3.5            1.6           0.6  Iris-setosa\n",
            "44  45            5.1           3.8            1.9           0.4  Iris-setosa\n",
            "45  46            4.8           3.0            1.4           0.3  Iris-setosa\n",
            "46  47            5.1           3.8            1.6           0.2  Iris-setosa\n",
            "47  48            4.6           3.2            1.4           0.2  Iris-setosa\n",
            "48  49            5.3           3.7            1.5           0.2  Iris-setosa\n",
            "49  50            5.0           3.3            1.4           0.2  Iris-setosa\n",
            "Iris-versicolor\n",
            "##########################################\n",
            "     id  sepallengthcm  ...  petalwidthcm          species\n",
            "50   51            7.0  ...           1.4  Iris-versicolor\n",
            "51   52            6.4  ...           1.5  Iris-versicolor\n",
            "52   53            6.9  ...           1.5  Iris-versicolor\n",
            "53   54            5.5  ...           1.3  Iris-versicolor\n",
            "54   55            6.5  ...           1.5  Iris-versicolor\n",
            "55   56            5.7  ...           1.3  Iris-versicolor\n",
            "56   57            6.3  ...           1.6  Iris-versicolor\n",
            "57   58            4.9  ...           1.0  Iris-versicolor\n",
            "58   59            6.6  ...           1.3  Iris-versicolor\n",
            "59   60            5.2  ...           1.4  Iris-versicolor\n",
            "60   61            5.0  ...           1.0  Iris-versicolor\n",
            "61   62            5.9  ...           1.5  Iris-versicolor\n",
            "62   63            6.0  ...           1.0  Iris-versicolor\n",
            "63   64            6.1  ...           1.4  Iris-versicolor\n",
            "64   65            5.6  ...           1.3  Iris-versicolor\n",
            "65   66            6.7  ...           1.4  Iris-versicolor\n",
            "66   67            5.6  ...           1.5  Iris-versicolor\n",
            "67   68            5.8  ...           1.0  Iris-versicolor\n",
            "68   69            6.2  ...           1.5  Iris-versicolor\n",
            "69   70            5.6  ...           1.1  Iris-versicolor\n",
            "70   71            5.9  ...           1.8  Iris-versicolor\n",
            "71   72            6.1  ...           1.3  Iris-versicolor\n",
            "72   73            6.3  ...           1.5  Iris-versicolor\n",
            "73   74            6.1  ...           1.2  Iris-versicolor\n",
            "74   75            6.4  ...           1.3  Iris-versicolor\n",
            "75   76            6.6  ...           1.4  Iris-versicolor\n",
            "76   77            6.8  ...           1.4  Iris-versicolor\n",
            "77   78            6.7  ...           1.7  Iris-versicolor\n",
            "78   79            6.0  ...           1.5  Iris-versicolor\n",
            "79   80            5.7  ...           1.0  Iris-versicolor\n",
            "80   81            5.5  ...           1.1  Iris-versicolor\n",
            "81   82            5.5  ...           1.0  Iris-versicolor\n",
            "82   83            5.8  ...           1.2  Iris-versicolor\n",
            "83   84            6.0  ...           1.6  Iris-versicolor\n",
            "84   85            5.4  ...           1.5  Iris-versicolor\n",
            "85   86            6.0  ...           1.6  Iris-versicolor\n",
            "86   87            6.7  ...           1.5  Iris-versicolor\n",
            "87   88            6.3  ...           1.3  Iris-versicolor\n",
            "88   89            5.6  ...           1.3  Iris-versicolor\n",
            "89   90            5.5  ...           1.3  Iris-versicolor\n",
            "90   91            5.5  ...           1.2  Iris-versicolor\n",
            "91   92            6.1  ...           1.4  Iris-versicolor\n",
            "92   93            5.8  ...           1.2  Iris-versicolor\n",
            "93   94            5.0  ...           1.0  Iris-versicolor\n",
            "94   95            5.6  ...           1.3  Iris-versicolor\n",
            "95   96            5.7  ...           1.2  Iris-versicolor\n",
            "96   97            5.7  ...           1.3  Iris-versicolor\n",
            "97   98            6.2  ...           1.3  Iris-versicolor\n",
            "98   99            5.1  ...           1.1  Iris-versicolor\n",
            "99  100            5.7  ...           1.3  Iris-versicolor\n",
            "\n",
            "[50 rows x 6 columns]\n",
            "Iris-virginica\n",
            "##########################################\n",
            "      id  sepallengthcm  ...  petalwidthcm         species\n",
            "100  101            6.3  ...           2.5  Iris-virginica\n",
            "101  102            5.8  ...           1.9  Iris-virginica\n",
            "102  103            7.1  ...           2.1  Iris-virginica\n",
            "103  104            6.3  ...           1.8  Iris-virginica\n",
            "104  105            6.5  ...           2.2  Iris-virginica\n",
            "105  106            7.6  ...           2.1  Iris-virginica\n",
            "106  107            4.9  ...           1.7  Iris-virginica\n",
            "107  108            7.3  ...           1.8  Iris-virginica\n",
            "108  109            6.7  ...           1.8  Iris-virginica\n",
            "109  110            7.2  ...           2.5  Iris-virginica\n",
            "110  111            6.5  ...           2.0  Iris-virginica\n",
            "111  112            6.4  ...           1.9  Iris-virginica\n",
            "112  113            6.8  ...           2.1  Iris-virginica\n",
            "113  114            5.7  ...           2.0  Iris-virginica\n",
            "114  115            5.8  ...           2.4  Iris-virginica\n",
            "115  116            6.4  ...           2.3  Iris-virginica\n",
            "116  117            6.5  ...           1.8  Iris-virginica\n",
            "117  118            7.7  ...           2.2  Iris-virginica\n",
            "118  119            7.7  ...           2.3  Iris-virginica\n",
            "119  120            6.0  ...           1.5  Iris-virginica\n",
            "120  121            6.9  ...           2.3  Iris-virginica\n",
            "121  122            5.6  ...           2.0  Iris-virginica\n",
            "122  123            7.7  ...           2.0  Iris-virginica\n",
            "123  124            6.3  ...           1.8  Iris-virginica\n",
            "124  125            6.7  ...           2.1  Iris-virginica\n",
            "125  126            7.2  ...           1.8  Iris-virginica\n",
            "126  127            6.2  ...           1.8  Iris-virginica\n",
            "127  128            6.1  ...           1.8  Iris-virginica\n",
            "128  129            6.4  ...           2.1  Iris-virginica\n",
            "129  130            7.2  ...           1.6  Iris-virginica\n",
            "130  131            7.4  ...           1.9  Iris-virginica\n",
            "131  132            7.9  ...           2.0  Iris-virginica\n",
            "132  133            6.4  ...           2.2  Iris-virginica\n",
            "133  134            6.3  ...           1.5  Iris-virginica\n",
            "134  135            6.1  ...           1.4  Iris-virginica\n",
            "135  136            7.7  ...           2.3  Iris-virginica\n",
            "136  137            6.3  ...           2.4  Iris-virginica\n",
            "137  138            6.4  ...           1.8  Iris-virginica\n",
            "138  139            6.0  ...           1.8  Iris-virginica\n",
            "139  140            6.9  ...           2.1  Iris-virginica\n",
            "140  141            6.7  ...           2.4  Iris-virginica\n",
            "141  142            6.9  ...           2.3  Iris-virginica\n",
            "142  143            5.8  ...           1.9  Iris-virginica\n",
            "143  144            6.8  ...           2.3  Iris-virginica\n",
            "144  145            6.7  ...           2.5  Iris-virginica\n",
            "145  146            6.7  ...           2.3  Iris-virginica\n",
            "146  147            6.3  ...           1.9  Iris-virginica\n",
            "147  148            6.5  ...           2.0  Iris-virginica\n",
            "148  149            6.2  ...           2.3  Iris-virginica\n",
            "149  150            5.9  ...           1.8  Iris-virginica\n",
            "\n",
            "[50 rows x 6 columns]\n"
          ]
        }
      ]
    },
    {
      "cell_type": "markdown",
      "metadata": {
        "id": "WpBD5NOTeYJV"
      },
      "source": [
        "## 7. Iteration\n",
        "\n",
        "To iterate over the rows of the DataFrame, we can use the following functions:\n",
        "* __df.iteritems()__ − to iterate over the (key,value) pairs\n",
        "* __df.iterrows()__ − iterate over the rows as (index,series) pairs\n",
        "* __df.itertuples()__ − this method will return an iterator yielding a named tuple for each row in the DataFrame. The __first element__ of the tuple will be the __row’s corresponding index value__, while the remaining values are the row values."
      ]
    },
    {
      "cell_type": "code",
      "metadata": {
        "id": "cQaLSE30enz8",
        "colab": {
          "base_uri": "https://localhost:8080/"
        },
        "outputId": "f3de2786-e458-4c6b-a982-c24bba71a19f"
      },
      "source": [
        "np.random.randn(4,3)"
      ],
      "execution_count": null,
      "outputs": [
        {
          "output_type": "execute_result",
          "data": {
            "text/plain": [
              "array([[ 0.33321485,  0.51578838, -1.71170472],\n",
              "       [ 0.47667583,  0.71645138, -0.34035641],\n",
              "       [-0.02338164, -0.67021483,  2.3137528 ],\n",
              "       [ 0.2449245 ,  0.67458697,  0.91921747]])"
            ]
          },
          "metadata": {},
          "execution_count": 48
        }
      ]
    },
    {
      "cell_type": "code",
      "metadata": {
        "id": "7oX9c1LDejuM",
        "colab": {
          "base_uri": "https://localhost:8080/",
          "height": 171
        },
        "outputId": "025dc324-e9d4-423e-a109-31104c34d81f"
      },
      "source": [
        "iterated_df = pd.DataFrame(np.random.randn(4,3),columns=['col1','col2','col3'])\n",
        "iterated_df"
      ],
      "execution_count": null,
      "outputs": [
        {
          "output_type": "execute_result",
          "data": {
            "text/html": [
              "<div>\n",
              "<style scoped>\n",
              "    .dataframe tbody tr th:only-of-type {\n",
              "        vertical-align: middle;\n",
              "    }\n",
              "\n",
              "    .dataframe tbody tr th {\n",
              "        vertical-align: top;\n",
              "    }\n",
              "\n",
              "    .dataframe thead th {\n",
              "        text-align: right;\n",
              "    }\n",
              "</style>\n",
              "<table border=\"1\" class=\"dataframe\">\n",
              "  <thead>\n",
              "    <tr style=\"text-align: right;\">\n",
              "      <th></th>\n",
              "      <th>col1</th>\n",
              "      <th>col2</th>\n",
              "      <th>col3</th>\n",
              "    </tr>\n",
              "  </thead>\n",
              "  <tbody>\n",
              "    <tr>\n",
              "      <th>0</th>\n",
              "      <td>0.959740</td>\n",
              "      <td>-2.041273</td>\n",
              "      <td>-0.326061</td>\n",
              "    </tr>\n",
              "    <tr>\n",
              "      <th>1</th>\n",
              "      <td>-1.285774</td>\n",
              "      <td>-2.054856</td>\n",
              "      <td>-1.231579</td>\n",
              "    </tr>\n",
              "    <tr>\n",
              "      <th>2</th>\n",
              "      <td>-0.741568</td>\n",
              "      <td>1.987779</td>\n",
              "      <td>-0.277983</td>\n",
              "    </tr>\n",
              "    <tr>\n",
              "      <th>3</th>\n",
              "      <td>-1.427917</td>\n",
              "      <td>-0.671803</td>\n",
              "      <td>-1.005511</td>\n",
              "    </tr>\n",
              "  </tbody>\n",
              "</table>\n",
              "</div>"
            ],
            "text/plain": [
              "       col1      col2      col3\n",
              "0  0.959740 -2.041273 -0.326061\n",
              "1 -1.285774 -2.054856 -1.231579\n",
              "2 -0.741568  1.987779 -0.277983\n",
              "3 -1.427917 -0.671803 -1.005511"
            ]
          },
          "metadata": {},
          "execution_count": 47
        }
      ]
    },
    {
      "cell_type": "code",
      "metadata": {
        "id": "1D54ykihd0He",
        "colab": {
          "base_uri": "https://localhost:8080/"
        },
        "outputId": "47e81060-f292-47e1-acfb-2676f52f8835"
      },
      "source": [
        "for key,value in iterated_df.iteritems():\n",
        "    print(key)\n",
        "    print(value)"
      ],
      "execution_count": null,
      "outputs": [
        {
          "output_type": "stream",
          "name": "stdout",
          "text": [
            "col1\n",
            "0    0.959740\n",
            "1   -1.285774\n",
            "2   -0.741568\n",
            "3   -1.427917\n",
            "Name: col1, dtype: float64\n",
            "col2\n",
            "0   -2.041273\n",
            "1   -2.054856\n",
            "2    1.987779\n",
            "3   -0.671803\n",
            "Name: col2, dtype: float64\n",
            "col3\n",
            "0   -0.326061\n",
            "1   -1.231579\n",
            "2   -0.277983\n",
            "3   -1.005511\n",
            "Name: col3, dtype: float64\n"
          ]
        }
      ]
    },
    {
      "cell_type": "code",
      "metadata": {
        "id": "0nK0hi8UeBIP",
        "colab": {
          "base_uri": "https://localhost:8080/"
        },
        "outputId": "a73b78e2-8176-4130-a082-8610538bc6bd"
      },
      "source": [
        "for row in iterated_df.itertuples():\n",
        "    print(row)"
      ],
      "execution_count": null,
      "outputs": [
        {
          "output_type": "stream",
          "name": "stdout",
          "text": [
            "Pandas(Index=0, col1=0.9597397154485616, col2=-2.041272800768484, col3=-0.32606124708108075)\n",
            "Pandas(Index=1, col1=-1.28577443913439, col2=-2.0548564712574904, col3=-1.2315789012073888)\n",
            "Pandas(Index=2, col1=-0.7415683829736369, col2=1.987779240152938, col3=-0.27798254908566916)\n",
            "Pandas(Index=3, col1=-1.427916555527142, col2=-0.671803042239934, col3=-1.0055107111380621)\n"
          ]
        }
      ]
    },
    {
      "cell_type": "markdown",
      "metadata": {
        "id": "BDwZuRPigBUj"
      },
      "source": [
        "## 8. Operations with text data\n",
        "\n",
        "String operations can be performed on Series in the format __s.str.op__ where __op__ can be:\n",
        "1.\t__swapcase__ - Swaps the case lower/upper.\n",
        "2.\t__lower() / upper()__ - Converts strings in the Series/Index to lower / upper case.\n",
        "3.\t__len()__ - Computes String length.\n",
        "4.\t__strip()__\t- Helps strip whitespace(including newline) from each string in the Series/index from both the sides.\n",
        "5.\t__split(' ')__ - Splits each string with the given pattern.\n",
        "6.\t__cat(sep=' ')__ - Concatenates the series/index elements with given separator.\n",
        "7.\t__get_dummies()__ - Returns the DataFrame with One-Hot Encoded values.\n",
        "8.\t__contains(pattern)__ - Returns Boolean True for each element if the substring contains in the element, else False.\n",
        "9.\t__replace(a,b)__ - Replaces the value a with the value b.\n",
        "10.\t__repeat(value)__ - Repeats each element with specified number of times.\n",
        "11.\t__count(pattern)__ - Returns count of appearance of pattern in each element.\n",
        "12.\t__startswith(pattern) / endswith(pattern)__ - Returns true if the element in the Series/Index starts / ends with the pattern.\n",
        "13.\t__find(pattern)__ - Returns the first position of the first occurrence of the pattern. Returns -1 if not found.\n",
        "14.\t__findall(pattern)__ - Returns a list of all occurrence of the pattern.\n",
        "15.\t__islower() / isupper() / isnumeric()__ - Checks whether all characters in each string in the Series/Index in lower / upper case / numeric or not. Returns Boolean."
      ]
    },
    {
      "cell_type": "code",
      "metadata": {
        "id": "edET41Ozf6nM",
        "outputId": "e8a32474-4300-46a7-88cb-424fe9026388",
        "colab": {
          "base_uri": "https://localhost:8080/"
        }
      },
      "source": [
        "s = pd.Series(['Tom ', ' William Rick', 'John', 'Alber@t'])\n",
        "s"
      ],
      "execution_count": 4,
      "outputs": [
        {
          "output_type": "execute_result",
          "data": {
            "text/plain": [
              "0             Tom \n",
              "1     William Rick\n",
              "2             John\n",
              "3          Alber@t\n",
              "dtype: object"
            ]
          },
          "metadata": {},
          "execution_count": 4
        }
      ]
    },
    {
      "cell_type": "code",
      "metadata": {
        "id": "RvSJwlkkgXkx",
        "outputId": "9cb23b40-ea08-428f-e8d8-1e03c76c10f5",
        "colab": {
          "base_uri": "https://localhost:8080/"
        }
      },
      "source": [
        "print(s.str.contains(' '))"
      ],
      "execution_count": 5,
      "outputs": [
        {
          "output_type": "stream",
          "name": "stdout",
          "text": [
            "0     True\n",
            "1     True\n",
            "2    False\n",
            "3    False\n",
            "dtype: bool\n"
          ]
        }
      ]
    },
    {
      "cell_type": "markdown",
      "metadata": {
        "id": "Zt2Yysy0ggb2"
      },
      "source": [
        "## 9. Joining, Merging\n",
        "\n",
        "* __df1.append(df2)__ OR __pd.concat([df1, df2], axis=0)__ - Adds the rows in df1 to the end of df2 (columns should be identical)\n",
        "* __pd.concat([df1, df2], axis=1)__ - Adds the columns in df1 to the end of df2 (rows should be identical)\n",
        "* __pd.merge(left, right, how='inner', on=None, left_on=None, right_on=None, left_index=False, right_index=False, sort=True)__ - where\n",
        "    + left − A DataFrame object.\n",
        "    + right − Another DataFrame object.\n",
        "    + how − One of 'left', 'right', 'outer', 'inner'. Defaults to inner. Each method has been described below.\n",
        "    + on − Columns (names) to join on. __Must be found in both__ the left and right DataFrame objects.\n",
        "    + left_on − Columns from the left DataFrame to use as keys.\n",
        "    + right_on − Columns from the right DataFrame to use as keys.\n",
        "    + left_index − If True, use the index (row labels) from the left DataFrame as its join key(s). In case of a DataFrame with a MultiIndex (hierarchical), the number of levels must match the number of join keys from the right DataFrame.\n",
        "    + right_index − Same usage as left_index for the right DataFrame.\n",
        "    + sort − Sort the result DataFrame by the join keys in _lexicographical order_. Defaults to True, setting to False will improve the performance substantially in many cases.\n",
        "\n",
        "| Merge Method | SQL Equivalent\t| Description |\n",
        "|:-:|:-:|:-:|\n",
        "|left\t|LEFT OUTER JOIN\t|Use keys from left object\n",
        "|right\t|RIGHT OUTER JOIN\t|Use keys from right object\n",
        "|outer\t|FULL OUTER JOIN\t|Use union of keys\n",
        "|inner\t|INNER JOIN\t|Use intersection of keys"
      ]
    },
    {
      "cell_type": "code",
      "metadata": {
        "id": "maIhBM3FgZj9",
        "outputId": "829dc56b-49ca-4da1-f263-fe62b1dd0687",
        "colab": {
          "base_uri": "https://localhost:8080/",
          "height": 387
        }
      },
      "source": [
        "import pandas as pd\n",
        "left = pd.DataFrame({\n",
        "         'id':[1,2,3,4,5],\n",
        "         'Name': ['Alex', 'Amy', 'Allen', 'Alice', 'Ayan'],\n",
        "         'subject_id':['sub1','sub2','sub4','sub6','sub5']})\n",
        "\n",
        "right = pd.DataFrame(\n",
        "         {'id':[1,2,3,4,5],\n",
        "         'Name': ['Billy', 'Brian', 'Brock', 'Bryce', 'Betty'],\n",
        "         'subject_id':['sub2','sub4','sub3','sub6','sub5']})\n",
        "\n",
        "display(left)\n",
        "display(right)"
      ],
      "execution_count": 6,
      "outputs": [
        {
          "output_type": "display_data",
          "data": {
            "text/html": [
              "<div>\n",
              "<style scoped>\n",
              "    .dataframe tbody tr th:only-of-type {\n",
              "        vertical-align: middle;\n",
              "    }\n",
              "\n",
              "    .dataframe tbody tr th {\n",
              "        vertical-align: top;\n",
              "    }\n",
              "\n",
              "    .dataframe thead th {\n",
              "        text-align: right;\n",
              "    }\n",
              "</style>\n",
              "<table border=\"1\" class=\"dataframe\">\n",
              "  <thead>\n",
              "    <tr style=\"text-align: right;\">\n",
              "      <th></th>\n",
              "      <th>id</th>\n",
              "      <th>Name</th>\n",
              "      <th>subject_id</th>\n",
              "    </tr>\n",
              "  </thead>\n",
              "  <tbody>\n",
              "    <tr>\n",
              "      <th>0</th>\n",
              "      <td>1</td>\n",
              "      <td>Alex</td>\n",
              "      <td>sub1</td>\n",
              "    </tr>\n",
              "    <tr>\n",
              "      <th>1</th>\n",
              "      <td>2</td>\n",
              "      <td>Amy</td>\n",
              "      <td>sub2</td>\n",
              "    </tr>\n",
              "    <tr>\n",
              "      <th>2</th>\n",
              "      <td>3</td>\n",
              "      <td>Allen</td>\n",
              "      <td>sub4</td>\n",
              "    </tr>\n",
              "    <tr>\n",
              "      <th>3</th>\n",
              "      <td>4</td>\n",
              "      <td>Alice</td>\n",
              "      <td>sub6</td>\n",
              "    </tr>\n",
              "    <tr>\n",
              "      <th>4</th>\n",
              "      <td>5</td>\n",
              "      <td>Ayan</td>\n",
              "      <td>sub5</td>\n",
              "    </tr>\n",
              "  </tbody>\n",
              "</table>\n",
              "</div>"
            ],
            "text/plain": [
              "   id   Name subject_id\n",
              "0   1   Alex       sub1\n",
              "1   2    Amy       sub2\n",
              "2   3  Allen       sub4\n",
              "3   4  Alice       sub6\n",
              "4   5   Ayan       sub5"
            ]
          },
          "metadata": {}
        },
        {
          "output_type": "display_data",
          "data": {
            "text/html": [
              "<div>\n",
              "<style scoped>\n",
              "    .dataframe tbody tr th:only-of-type {\n",
              "        vertical-align: middle;\n",
              "    }\n",
              "\n",
              "    .dataframe tbody tr th {\n",
              "        vertical-align: top;\n",
              "    }\n",
              "\n",
              "    .dataframe thead th {\n",
              "        text-align: right;\n",
              "    }\n",
              "</style>\n",
              "<table border=\"1\" class=\"dataframe\">\n",
              "  <thead>\n",
              "    <tr style=\"text-align: right;\">\n",
              "      <th></th>\n",
              "      <th>id</th>\n",
              "      <th>Name</th>\n",
              "      <th>subject_id</th>\n",
              "    </tr>\n",
              "  </thead>\n",
              "  <tbody>\n",
              "    <tr>\n",
              "      <th>0</th>\n",
              "      <td>1</td>\n",
              "      <td>Billy</td>\n",
              "      <td>sub2</td>\n",
              "    </tr>\n",
              "    <tr>\n",
              "      <th>1</th>\n",
              "      <td>2</td>\n",
              "      <td>Brian</td>\n",
              "      <td>sub4</td>\n",
              "    </tr>\n",
              "    <tr>\n",
              "      <th>2</th>\n",
              "      <td>3</td>\n",
              "      <td>Brock</td>\n",
              "      <td>sub3</td>\n",
              "    </tr>\n",
              "    <tr>\n",
              "      <th>3</th>\n",
              "      <td>4</td>\n",
              "      <td>Bryce</td>\n",
              "      <td>sub6</td>\n",
              "    </tr>\n",
              "    <tr>\n",
              "      <th>4</th>\n",
              "      <td>5</td>\n",
              "      <td>Betty</td>\n",
              "      <td>sub5</td>\n",
              "    </tr>\n",
              "  </tbody>\n",
              "</table>\n",
              "</div>"
            ],
            "text/plain": [
              "   id   Name subject_id\n",
              "0   1  Billy       sub2\n",
              "1   2  Brian       sub4\n",
              "2   3  Brock       sub3\n",
              "3   4  Bryce       sub6\n",
              "4   5  Betty       sub5"
            ]
          },
          "metadata": {}
        }
      ]
    },
    {
      "cell_type": "code",
      "metadata": {
        "id": "gwl6qx8ags_F",
        "outputId": "7e40cc47-4d08-4f91-a59d-f6874c510f18",
        "colab": {
          "base_uri": "https://localhost:8080/",
          "height": 390
        }
      },
      "source": [
        "print(\"MERGE by ROWS\"+'\\n')\n",
        "pd.concat([left,right],ignore_index=True)"
      ],
      "execution_count": 8,
      "outputs": [
        {
          "output_type": "stream",
          "name": "stdout",
          "text": [
            "MERGE by ROWS\n",
            "\n"
          ]
        },
        {
          "output_type": "execute_result",
          "data": {
            "text/html": [
              "<div>\n",
              "<style scoped>\n",
              "    .dataframe tbody tr th:only-of-type {\n",
              "        vertical-align: middle;\n",
              "    }\n",
              "\n",
              "    .dataframe tbody tr th {\n",
              "        vertical-align: top;\n",
              "    }\n",
              "\n",
              "    .dataframe thead th {\n",
              "        text-align: right;\n",
              "    }\n",
              "</style>\n",
              "<table border=\"1\" class=\"dataframe\">\n",
              "  <thead>\n",
              "    <tr style=\"text-align: right;\">\n",
              "      <th></th>\n",
              "      <th>id</th>\n",
              "      <th>Name</th>\n",
              "      <th>subject_id</th>\n",
              "    </tr>\n",
              "  </thead>\n",
              "  <tbody>\n",
              "    <tr>\n",
              "      <th>0</th>\n",
              "      <td>1</td>\n",
              "      <td>Alex</td>\n",
              "      <td>sub1</td>\n",
              "    </tr>\n",
              "    <tr>\n",
              "      <th>1</th>\n",
              "      <td>2</td>\n",
              "      <td>Amy</td>\n",
              "      <td>sub2</td>\n",
              "    </tr>\n",
              "    <tr>\n",
              "      <th>2</th>\n",
              "      <td>3</td>\n",
              "      <td>Allen</td>\n",
              "      <td>sub4</td>\n",
              "    </tr>\n",
              "    <tr>\n",
              "      <th>3</th>\n",
              "      <td>4</td>\n",
              "      <td>Alice</td>\n",
              "      <td>sub6</td>\n",
              "    </tr>\n",
              "    <tr>\n",
              "      <th>4</th>\n",
              "      <td>5</td>\n",
              "      <td>Ayan</td>\n",
              "      <td>sub5</td>\n",
              "    </tr>\n",
              "    <tr>\n",
              "      <th>5</th>\n",
              "      <td>1</td>\n",
              "      <td>Billy</td>\n",
              "      <td>sub2</td>\n",
              "    </tr>\n",
              "    <tr>\n",
              "      <th>6</th>\n",
              "      <td>2</td>\n",
              "      <td>Brian</td>\n",
              "      <td>sub4</td>\n",
              "    </tr>\n",
              "    <tr>\n",
              "      <th>7</th>\n",
              "      <td>3</td>\n",
              "      <td>Brock</td>\n",
              "      <td>sub3</td>\n",
              "    </tr>\n",
              "    <tr>\n",
              "      <th>8</th>\n",
              "      <td>4</td>\n",
              "      <td>Bryce</td>\n",
              "      <td>sub6</td>\n",
              "    </tr>\n",
              "    <tr>\n",
              "      <th>9</th>\n",
              "      <td>5</td>\n",
              "      <td>Betty</td>\n",
              "      <td>sub5</td>\n",
              "    </tr>\n",
              "  </tbody>\n",
              "</table>\n",
              "</div>"
            ],
            "text/plain": [
              "   id   Name subject_id\n",
              "0   1   Alex       sub1\n",
              "1   2    Amy       sub2\n",
              "2   3  Allen       sub4\n",
              "3   4  Alice       sub6\n",
              "4   5   Ayan       sub5\n",
              "5   1  Billy       sub2\n",
              "6   2  Brian       sub4\n",
              "7   3  Brock       sub3\n",
              "8   4  Bryce       sub6\n",
              "9   5  Betty       sub5"
            ]
          },
          "metadata": {},
          "execution_count": 8
        }
      ]
    },
    {
      "cell_type": "code",
      "metadata": {
        "id": "csAqlA2zg-OR",
        "outputId": "a4661273-fe07-4d4e-81af-cb16161a57ce",
        "colab": {
          "base_uri": "https://localhost:8080/",
          "height": 355
        }
      },
      "source": [
        "left.append(right)\n"
      ],
      "execution_count": 10,
      "outputs": [
        {
          "output_type": "execute_result",
          "data": {
            "text/html": [
              "<div>\n",
              "<style scoped>\n",
              "    .dataframe tbody tr th:only-of-type {\n",
              "        vertical-align: middle;\n",
              "    }\n",
              "\n",
              "    .dataframe tbody tr th {\n",
              "        vertical-align: top;\n",
              "    }\n",
              "\n",
              "    .dataframe thead th {\n",
              "        text-align: right;\n",
              "    }\n",
              "</style>\n",
              "<table border=\"1\" class=\"dataframe\">\n",
              "  <thead>\n",
              "    <tr style=\"text-align: right;\">\n",
              "      <th></th>\n",
              "      <th>id</th>\n",
              "      <th>Name</th>\n",
              "      <th>subject_id</th>\n",
              "    </tr>\n",
              "  </thead>\n",
              "  <tbody>\n",
              "    <tr>\n",
              "      <th>0</th>\n",
              "      <td>1</td>\n",
              "      <td>Alex</td>\n",
              "      <td>sub1</td>\n",
              "    </tr>\n",
              "    <tr>\n",
              "      <th>1</th>\n",
              "      <td>2</td>\n",
              "      <td>Amy</td>\n",
              "      <td>sub2</td>\n",
              "    </tr>\n",
              "    <tr>\n",
              "      <th>2</th>\n",
              "      <td>3</td>\n",
              "      <td>Allen</td>\n",
              "      <td>sub4</td>\n",
              "    </tr>\n",
              "    <tr>\n",
              "      <th>3</th>\n",
              "      <td>4</td>\n",
              "      <td>Alice</td>\n",
              "      <td>sub6</td>\n",
              "    </tr>\n",
              "    <tr>\n",
              "      <th>4</th>\n",
              "      <td>5</td>\n",
              "      <td>Ayan</td>\n",
              "      <td>sub5</td>\n",
              "    </tr>\n",
              "    <tr>\n",
              "      <th>0</th>\n",
              "      <td>1</td>\n",
              "      <td>Billy</td>\n",
              "      <td>sub2</td>\n",
              "    </tr>\n",
              "    <tr>\n",
              "      <th>1</th>\n",
              "      <td>2</td>\n",
              "      <td>Brian</td>\n",
              "      <td>sub4</td>\n",
              "    </tr>\n",
              "    <tr>\n",
              "      <th>2</th>\n",
              "      <td>3</td>\n",
              "      <td>Brock</td>\n",
              "      <td>sub3</td>\n",
              "    </tr>\n",
              "    <tr>\n",
              "      <th>3</th>\n",
              "      <td>4</td>\n",
              "      <td>Bryce</td>\n",
              "      <td>sub6</td>\n",
              "    </tr>\n",
              "    <tr>\n",
              "      <th>4</th>\n",
              "      <td>5</td>\n",
              "      <td>Betty</td>\n",
              "      <td>sub5</td>\n",
              "    </tr>\n",
              "  </tbody>\n",
              "</table>\n",
              "</div>"
            ],
            "text/plain": [
              "   id   Name subject_id\n",
              "0   1   Alex       sub1\n",
              "1   2    Amy       sub2\n",
              "2   3  Allen       sub4\n",
              "3   4  Alice       sub6\n",
              "4   5   Ayan       sub5\n",
              "0   1  Billy       sub2\n",
              "1   2  Brian       sub4\n",
              "2   3  Brock       sub3\n",
              "3   4  Bryce       sub6\n",
              "4   5  Betty       sub5"
            ]
          },
          "metadata": {},
          "execution_count": 10
        }
      ]
    },
    {
      "cell_type": "code",
      "metadata": {
        "id": "1rvh93VbhGf-",
        "outputId": "b5b3b10a-38d3-490a-f4dd-7d7bee2b26fd",
        "colab": {
          "base_uri": "https://localhost:8080/",
          "height": 254
        }
      },
      "source": [
        "print('\\n'+\"MERGE by COLUMNS\"+'\\n')\n",
        "pd.concat([left,right],axis=1) # merging by columns"
      ],
      "execution_count": 13,
      "outputs": [
        {
          "output_type": "stream",
          "name": "stdout",
          "text": [
            "\n",
            "MERGE by COLUMNS\n",
            "\n"
          ]
        },
        {
          "output_type": "execute_result",
          "data": {
            "text/html": [
              "<div>\n",
              "<style scoped>\n",
              "    .dataframe tbody tr th:only-of-type {\n",
              "        vertical-align: middle;\n",
              "    }\n",
              "\n",
              "    .dataframe tbody tr th {\n",
              "        vertical-align: top;\n",
              "    }\n",
              "\n",
              "    .dataframe thead th {\n",
              "        text-align: right;\n",
              "    }\n",
              "</style>\n",
              "<table border=\"1\" class=\"dataframe\">\n",
              "  <thead>\n",
              "    <tr style=\"text-align: right;\">\n",
              "      <th></th>\n",
              "      <th>id</th>\n",
              "      <th>Name</th>\n",
              "      <th>subject_id</th>\n",
              "      <th>id</th>\n",
              "      <th>Name</th>\n",
              "      <th>subject_id</th>\n",
              "    </tr>\n",
              "  </thead>\n",
              "  <tbody>\n",
              "    <tr>\n",
              "      <th>0</th>\n",
              "      <td>1</td>\n",
              "      <td>Alex</td>\n",
              "      <td>sub1</td>\n",
              "      <td>1</td>\n",
              "      <td>Billy</td>\n",
              "      <td>sub2</td>\n",
              "    </tr>\n",
              "    <tr>\n",
              "      <th>1</th>\n",
              "      <td>2</td>\n",
              "      <td>Amy</td>\n",
              "      <td>sub2</td>\n",
              "      <td>2</td>\n",
              "      <td>Brian</td>\n",
              "      <td>sub4</td>\n",
              "    </tr>\n",
              "    <tr>\n",
              "      <th>2</th>\n",
              "      <td>3</td>\n",
              "      <td>Allen</td>\n",
              "      <td>sub4</td>\n",
              "      <td>3</td>\n",
              "      <td>Brock</td>\n",
              "      <td>sub3</td>\n",
              "    </tr>\n",
              "    <tr>\n",
              "      <th>3</th>\n",
              "      <td>4</td>\n",
              "      <td>Alice</td>\n",
              "      <td>sub6</td>\n",
              "      <td>4</td>\n",
              "      <td>Bryce</td>\n",
              "      <td>sub6</td>\n",
              "    </tr>\n",
              "    <tr>\n",
              "      <th>4</th>\n",
              "      <td>5</td>\n",
              "      <td>Ayan</td>\n",
              "      <td>sub5</td>\n",
              "      <td>5</td>\n",
              "      <td>Betty</td>\n",
              "      <td>sub5</td>\n",
              "    </tr>\n",
              "  </tbody>\n",
              "</table>\n",
              "</div>"
            ],
            "text/plain": [
              "   id   Name subject_id  id   Name subject_id\n",
              "0   1   Alex       sub1   1  Billy       sub2\n",
              "1   2    Amy       sub2   2  Brian       sub4\n",
              "2   3  Allen       sub4   3  Brock       sub3\n",
              "3   4  Alice       sub6   4  Bryce       sub6\n",
              "4   5   Ayan       sub5   5  Betty       sub5"
            ]
          },
          "metadata": {},
          "execution_count": 13
        }
      ]
    },
    {
      "cell_type": "code",
      "metadata": {
        "id": "oAL9c4VthRBL",
        "outputId": "4b524a0d-f5d9-46ff-9d83-26c95e7955be",
        "colab": {
          "base_uri": "https://localhost:8080/",
          "height": 202
        }
      },
      "source": [
        "# merge two dataframes on a key\n",
        "pd.merge(left,right,on='id')\n"
      ],
      "execution_count": 17,
      "outputs": [
        {
          "output_type": "execute_result",
          "data": {
            "text/html": [
              "<div>\n",
              "<style scoped>\n",
              "    .dataframe tbody tr th:only-of-type {\n",
              "        vertical-align: middle;\n",
              "    }\n",
              "\n",
              "    .dataframe tbody tr th {\n",
              "        vertical-align: top;\n",
              "    }\n",
              "\n",
              "    .dataframe thead th {\n",
              "        text-align: right;\n",
              "    }\n",
              "</style>\n",
              "<table border=\"1\" class=\"dataframe\">\n",
              "  <thead>\n",
              "    <tr style=\"text-align: right;\">\n",
              "      <th></th>\n",
              "      <th>id</th>\n",
              "      <th>Name_x</th>\n",
              "      <th>subject_id_x</th>\n",
              "      <th>Name_y</th>\n",
              "      <th>subject_id_y</th>\n",
              "    </tr>\n",
              "  </thead>\n",
              "  <tbody>\n",
              "    <tr>\n",
              "      <th>0</th>\n",
              "      <td>1</td>\n",
              "      <td>Alex</td>\n",
              "      <td>sub1</td>\n",
              "      <td>Billy</td>\n",
              "      <td>sub2</td>\n",
              "    </tr>\n",
              "    <tr>\n",
              "      <th>1</th>\n",
              "      <td>2</td>\n",
              "      <td>Amy</td>\n",
              "      <td>sub2</td>\n",
              "      <td>Brian</td>\n",
              "      <td>sub4</td>\n",
              "    </tr>\n",
              "    <tr>\n",
              "      <th>2</th>\n",
              "      <td>3</td>\n",
              "      <td>Allen</td>\n",
              "      <td>sub4</td>\n",
              "      <td>Brock</td>\n",
              "      <td>sub3</td>\n",
              "    </tr>\n",
              "    <tr>\n",
              "      <th>3</th>\n",
              "      <td>4</td>\n",
              "      <td>Alice</td>\n",
              "      <td>sub6</td>\n",
              "      <td>Bryce</td>\n",
              "      <td>sub6</td>\n",
              "    </tr>\n",
              "    <tr>\n",
              "      <th>4</th>\n",
              "      <td>5</td>\n",
              "      <td>Ayan</td>\n",
              "      <td>sub5</td>\n",
              "      <td>Betty</td>\n",
              "      <td>sub5</td>\n",
              "    </tr>\n",
              "  </tbody>\n",
              "</table>\n",
              "</div>"
            ],
            "text/plain": [
              "   id Name_x subject_id_x Name_y subject_id_y\n",
              "0   1   Alex         sub1  Billy         sub2\n",
              "1   2    Amy         sub2  Brian         sub4\n",
              "2   3  Allen         sub4  Brock         sub3\n",
              "3   4  Alice         sub6  Bryce         sub6\n",
              "4   5   Ayan         sub5  Betty         sub5"
            ]
          },
          "metadata": {},
          "execution_count": 17
        }
      ]
    },
    {
      "cell_type": "code",
      "metadata": {
        "id": "Mxd3lp3IheSK",
        "outputId": "b0803664-60d4-4078-c005-8cb3a14c1f00",
        "colab": {
          "base_uri": "https://localhost:8080/",
          "height": 110
        }
      },
      "source": [
        "# merge two dataframes on multiple keys\n",
        "pd.merge(left,right,on=['id','subject_id'])"
      ],
      "execution_count": 19,
      "outputs": [
        {
          "output_type": "execute_result",
          "data": {
            "text/html": [
              "<div>\n",
              "<style scoped>\n",
              "    .dataframe tbody tr th:only-of-type {\n",
              "        vertical-align: middle;\n",
              "    }\n",
              "\n",
              "    .dataframe tbody tr th {\n",
              "        vertical-align: top;\n",
              "    }\n",
              "\n",
              "    .dataframe thead th {\n",
              "        text-align: right;\n",
              "    }\n",
              "</style>\n",
              "<table border=\"1\" class=\"dataframe\">\n",
              "  <thead>\n",
              "    <tr style=\"text-align: right;\">\n",
              "      <th></th>\n",
              "      <th>id</th>\n",
              "      <th>Name_x</th>\n",
              "      <th>subject_id</th>\n",
              "      <th>Name_y</th>\n",
              "    </tr>\n",
              "  </thead>\n",
              "  <tbody>\n",
              "    <tr>\n",
              "      <th>0</th>\n",
              "      <td>4</td>\n",
              "      <td>Alice</td>\n",
              "      <td>sub6</td>\n",
              "      <td>Bryce</td>\n",
              "    </tr>\n",
              "    <tr>\n",
              "      <th>1</th>\n",
              "      <td>5</td>\n",
              "      <td>Ayan</td>\n",
              "      <td>sub5</td>\n",
              "      <td>Betty</td>\n",
              "    </tr>\n",
              "  </tbody>\n",
              "</table>\n",
              "</div>"
            ],
            "text/plain": [
              "   id Name_x subject_id Name_y\n",
              "0   4  Alice       sub6  Bryce\n",
              "1   5   Ayan       sub5  Betty"
            ]
          },
          "metadata": {},
          "execution_count": 19
        }
      ]
    },
    {
      "cell_type": "code",
      "metadata": {
        "id": "lSFBTrXjh56H",
        "outputId": "d010f755-224a-4e12-f242-364052e43a42",
        "colab": {
          "base_uri": "https://localhost:8080/",
          "height": 202
        }
      },
      "source": [
        "pd.merge(left, right, on='subject_id', how='right')"
      ],
      "execution_count": 20,
      "outputs": [
        {
          "output_type": "execute_result",
          "data": {
            "text/html": [
              "<div>\n",
              "<style scoped>\n",
              "    .dataframe tbody tr th:only-of-type {\n",
              "        vertical-align: middle;\n",
              "    }\n",
              "\n",
              "    .dataframe tbody tr th {\n",
              "        vertical-align: top;\n",
              "    }\n",
              "\n",
              "    .dataframe thead th {\n",
              "        text-align: right;\n",
              "    }\n",
              "</style>\n",
              "<table border=\"1\" class=\"dataframe\">\n",
              "  <thead>\n",
              "    <tr style=\"text-align: right;\">\n",
              "      <th></th>\n",
              "      <th>id_x</th>\n",
              "      <th>Name_x</th>\n",
              "      <th>subject_id</th>\n",
              "      <th>id_y</th>\n",
              "      <th>Name_y</th>\n",
              "    </tr>\n",
              "  </thead>\n",
              "  <tbody>\n",
              "    <tr>\n",
              "      <th>0</th>\n",
              "      <td>2.0</td>\n",
              "      <td>Amy</td>\n",
              "      <td>sub2</td>\n",
              "      <td>1</td>\n",
              "      <td>Billy</td>\n",
              "    </tr>\n",
              "    <tr>\n",
              "      <th>1</th>\n",
              "      <td>3.0</td>\n",
              "      <td>Allen</td>\n",
              "      <td>sub4</td>\n",
              "      <td>2</td>\n",
              "      <td>Brian</td>\n",
              "    </tr>\n",
              "    <tr>\n",
              "      <th>2</th>\n",
              "      <td>NaN</td>\n",
              "      <td>NaN</td>\n",
              "      <td>sub3</td>\n",
              "      <td>3</td>\n",
              "      <td>Brock</td>\n",
              "    </tr>\n",
              "    <tr>\n",
              "      <th>3</th>\n",
              "      <td>4.0</td>\n",
              "      <td>Alice</td>\n",
              "      <td>sub6</td>\n",
              "      <td>4</td>\n",
              "      <td>Bryce</td>\n",
              "    </tr>\n",
              "    <tr>\n",
              "      <th>4</th>\n",
              "      <td>5.0</td>\n",
              "      <td>Ayan</td>\n",
              "      <td>sub5</td>\n",
              "      <td>5</td>\n",
              "      <td>Betty</td>\n",
              "    </tr>\n",
              "  </tbody>\n",
              "</table>\n",
              "</div>"
            ],
            "text/plain": [
              "   id_x Name_x subject_id  id_y Name_y\n",
              "0   2.0    Amy       sub2     1  Billy\n",
              "1   3.0  Allen       sub4     2  Brian\n",
              "2   NaN    NaN       sub3     3  Brock\n",
              "3   4.0  Alice       sub6     4  Bryce\n",
              "4   5.0   Ayan       sub5     5  Betty"
            ]
          },
          "metadata": {},
          "execution_count": 20
        }
      ]
    },
    {
      "cell_type": "markdown",
      "metadata": {
        "id": "1L7fOo0liGBg"
      },
      "source": [
        "## 10. Statistics\n",
        "\n",
        "* __df.mean()__ - Returns the mean of all columns\n",
        "* __df.corr()__ - Returns the correlation between columns in a DataFrame\n",
        "* __df.count()__ - Returns the number of non-null values in each DataFrame column\n",
        "* __df.max()__ - Returns the highest value in each column\n",
        "* __df.min()__ - Returns the lowest value in each column\n",
        "* __df.median()__ - Returns the median of each column\n",
        "* __df.std()__ - Returns the standard deviation of each column"
      ]
    },
    {
      "cell_type": "code",
      "metadata": {
        "id": "weJSGjjaiCtE",
        "outputId": "d4243382-79ac-446e-e4c3-6023ca1e9a3e",
        "colab": {
          "base_uri": "https://localhost:8080/"
        }
      },
      "source": [
        "!git clone https://github.com/tirthajyoti/Machine-Learning-with-Python.git"
      ],
      "execution_count": 24,
      "outputs": [
        {
          "output_type": "stream",
          "name": "stdout",
          "text": [
            "Cloning into 'Machine-Learning-with-Python'...\n",
            "remote: Enumerating objects: 1830, done.\u001b[K\n",
            "remote: Counting objects: 100% (181/181), done.\u001b[K\n",
            "remote: Compressing objects: 100% (175/175), done.\u001b[K\n",
            "remote: Total 1830 (delta 90), reused 0 (delta 0), pack-reused 1649\u001b[K\n",
            "Receiving objects: 100% (1830/1830), 98.74 MiB | 27.43 MiB/s, done.\n",
            "Resolving deltas: 100% (962/962), done.\n",
            "Checking out files: 100% (179/179), done.\n"
          ]
        }
      ]
    },
    {
      "cell_type": "code",
      "metadata": {
        "id": "i-OdmhlJiU4Q"
      },
      "source": [
        "df_wine = pd.read_csv(\"/content/Machine-Learning-with-Python/Datasets/wine.data.csv\")"
      ],
      "execution_count": 25,
      "outputs": []
    },
    {
      "cell_type": "code",
      "metadata": {
        "id": "_xpALnTliVnQ",
        "outputId": "7924e833-ce2c-4ef2-cacb-cd8003b20fef",
        "colab": {
          "base_uri": "https://localhost:8080/"
        }
      },
      "source": [
        "df_wine.mean()"
      ],
      "execution_count": 34,
      "outputs": [
        {
          "output_type": "execute_result",
          "data": {
            "text/plain": [
              "Class                             1.938202\n",
              "Alcohol                          13.000618\n",
              "Malic acid                        2.336348\n",
              "Ash                               2.366517\n",
              "Alcalinity of ash                19.494944\n",
              "Magnesium                        99.741573\n",
              "Total phenols                     2.295112\n",
              "Flavanoids                        2.029270\n",
              "Nonflavanoid phenols              0.361854\n",
              "Proanthocyanins                   1.590899\n",
              "Color intensity                   5.058090\n",
              "Hue                               0.957449\n",
              "OD280/OD315 of diluted wines      2.611685\n",
              "Proline                         746.893258\n",
              "dtype: float64"
            ]
          },
          "metadata": {},
          "execution_count": 34
        }
      ]
    },
    {
      "cell_type": "code",
      "metadata": {
        "id": "E-YeuW3Vi3-t",
        "outputId": "73e8871c-ed1f-4be2-a0d2-023b8613dbf9",
        "colab": {
          "base_uri": "https://localhost:8080/",
          "height": 567
        }
      },
      "source": [
        "df_wine.corr()"
      ],
      "execution_count": 35,
      "outputs": [
        {
          "output_type": "execute_result",
          "data": {
            "text/html": [
              "<div>\n",
              "<style scoped>\n",
              "    .dataframe tbody tr th:only-of-type {\n",
              "        vertical-align: middle;\n",
              "    }\n",
              "\n",
              "    .dataframe tbody tr th {\n",
              "        vertical-align: top;\n",
              "    }\n",
              "\n",
              "    .dataframe thead th {\n",
              "        text-align: right;\n",
              "    }\n",
              "</style>\n",
              "<table border=\"1\" class=\"dataframe\">\n",
              "  <thead>\n",
              "    <tr style=\"text-align: right;\">\n",
              "      <th></th>\n",
              "      <th>Class</th>\n",
              "      <th>Alcohol</th>\n",
              "      <th>Malic acid</th>\n",
              "      <th>Ash</th>\n",
              "      <th>Alcalinity of ash</th>\n",
              "      <th>Magnesium</th>\n",
              "      <th>Total phenols</th>\n",
              "      <th>Flavanoids</th>\n",
              "      <th>Nonflavanoid phenols</th>\n",
              "      <th>Proanthocyanins</th>\n",
              "      <th>Color intensity</th>\n",
              "      <th>Hue</th>\n",
              "      <th>OD280/OD315 of diluted wines</th>\n",
              "      <th>Proline</th>\n",
              "    </tr>\n",
              "  </thead>\n",
              "  <tbody>\n",
              "    <tr>\n",
              "      <th>Class</th>\n",
              "      <td>1.000000</td>\n",
              "      <td>-0.328222</td>\n",
              "      <td>0.437776</td>\n",
              "      <td>-0.049643</td>\n",
              "      <td>0.517859</td>\n",
              "      <td>-0.209179</td>\n",
              "      <td>-0.719163</td>\n",
              "      <td>-0.847498</td>\n",
              "      <td>0.489109</td>\n",
              "      <td>-0.499130</td>\n",
              "      <td>0.265668</td>\n",
              "      <td>-0.617369</td>\n",
              "      <td>-0.788230</td>\n",
              "      <td>-0.633717</td>\n",
              "    </tr>\n",
              "    <tr>\n",
              "      <th>Alcohol</th>\n",
              "      <td>-0.328222</td>\n",
              "      <td>1.000000</td>\n",
              "      <td>0.094397</td>\n",
              "      <td>0.211545</td>\n",
              "      <td>-0.310235</td>\n",
              "      <td>0.270798</td>\n",
              "      <td>0.289101</td>\n",
              "      <td>0.236815</td>\n",
              "      <td>-0.155929</td>\n",
              "      <td>0.136698</td>\n",
              "      <td>0.546364</td>\n",
              "      <td>-0.071747</td>\n",
              "      <td>0.072343</td>\n",
              "      <td>0.643720</td>\n",
              "    </tr>\n",
              "    <tr>\n",
              "      <th>Malic acid</th>\n",
              "      <td>0.437776</td>\n",
              "      <td>0.094397</td>\n",
              "      <td>1.000000</td>\n",
              "      <td>0.164045</td>\n",
              "      <td>0.288500</td>\n",
              "      <td>-0.054575</td>\n",
              "      <td>-0.335167</td>\n",
              "      <td>-0.411007</td>\n",
              "      <td>0.292977</td>\n",
              "      <td>-0.220746</td>\n",
              "      <td>0.248985</td>\n",
              "      <td>-0.561296</td>\n",
              "      <td>-0.368710</td>\n",
              "      <td>-0.192011</td>\n",
              "    </tr>\n",
              "    <tr>\n",
              "      <th>Ash</th>\n",
              "      <td>-0.049643</td>\n",
              "      <td>0.211545</td>\n",
              "      <td>0.164045</td>\n",
              "      <td>1.000000</td>\n",
              "      <td>0.443367</td>\n",
              "      <td>0.286587</td>\n",
              "      <td>0.128980</td>\n",
              "      <td>0.115077</td>\n",
              "      <td>0.186230</td>\n",
              "      <td>0.009652</td>\n",
              "      <td>0.258887</td>\n",
              "      <td>-0.074667</td>\n",
              "      <td>0.003911</td>\n",
              "      <td>0.223626</td>\n",
              "    </tr>\n",
              "    <tr>\n",
              "      <th>Alcalinity of ash</th>\n",
              "      <td>0.517859</td>\n",
              "      <td>-0.310235</td>\n",
              "      <td>0.288500</td>\n",
              "      <td>0.443367</td>\n",
              "      <td>1.000000</td>\n",
              "      <td>-0.083333</td>\n",
              "      <td>-0.321113</td>\n",
              "      <td>-0.351370</td>\n",
              "      <td>0.361922</td>\n",
              "      <td>-0.197327</td>\n",
              "      <td>0.018732</td>\n",
              "      <td>-0.273955</td>\n",
              "      <td>-0.276769</td>\n",
              "      <td>-0.440597</td>\n",
              "    </tr>\n",
              "    <tr>\n",
              "      <th>Magnesium</th>\n",
              "      <td>-0.209179</td>\n",
              "      <td>0.270798</td>\n",
              "      <td>-0.054575</td>\n",
              "      <td>0.286587</td>\n",
              "      <td>-0.083333</td>\n",
              "      <td>1.000000</td>\n",
              "      <td>0.214401</td>\n",
              "      <td>0.195784</td>\n",
              "      <td>-0.256294</td>\n",
              "      <td>0.236441</td>\n",
              "      <td>0.199950</td>\n",
              "      <td>0.055398</td>\n",
              "      <td>0.066004</td>\n",
              "      <td>0.393351</td>\n",
              "    </tr>\n",
              "    <tr>\n",
              "      <th>Total phenols</th>\n",
              "      <td>-0.719163</td>\n",
              "      <td>0.289101</td>\n",
              "      <td>-0.335167</td>\n",
              "      <td>0.128980</td>\n",
              "      <td>-0.321113</td>\n",
              "      <td>0.214401</td>\n",
              "      <td>1.000000</td>\n",
              "      <td>0.864564</td>\n",
              "      <td>-0.449935</td>\n",
              "      <td>0.612413</td>\n",
              "      <td>-0.055136</td>\n",
              "      <td>0.433681</td>\n",
              "      <td>0.699949</td>\n",
              "      <td>0.498115</td>\n",
              "    </tr>\n",
              "    <tr>\n",
              "      <th>Flavanoids</th>\n",
              "      <td>-0.847498</td>\n",
              "      <td>0.236815</td>\n",
              "      <td>-0.411007</td>\n",
              "      <td>0.115077</td>\n",
              "      <td>-0.351370</td>\n",
              "      <td>0.195784</td>\n",
              "      <td>0.864564</td>\n",
              "      <td>1.000000</td>\n",
              "      <td>-0.537900</td>\n",
              "      <td>0.652692</td>\n",
              "      <td>-0.172379</td>\n",
              "      <td>0.543479</td>\n",
              "      <td>0.787194</td>\n",
              "      <td>0.494193</td>\n",
              "    </tr>\n",
              "    <tr>\n",
              "      <th>Nonflavanoid phenols</th>\n",
              "      <td>0.489109</td>\n",
              "      <td>-0.155929</td>\n",
              "      <td>0.292977</td>\n",
              "      <td>0.186230</td>\n",
              "      <td>0.361922</td>\n",
              "      <td>-0.256294</td>\n",
              "      <td>-0.449935</td>\n",
              "      <td>-0.537900</td>\n",
              "      <td>1.000000</td>\n",
              "      <td>-0.365845</td>\n",
              "      <td>0.139057</td>\n",
              "      <td>-0.262640</td>\n",
              "      <td>-0.503270</td>\n",
              "      <td>-0.311385</td>\n",
              "    </tr>\n",
              "    <tr>\n",
              "      <th>Proanthocyanins</th>\n",
              "      <td>-0.499130</td>\n",
              "      <td>0.136698</td>\n",
              "      <td>-0.220746</td>\n",
              "      <td>0.009652</td>\n",
              "      <td>-0.197327</td>\n",
              "      <td>0.236441</td>\n",
              "      <td>0.612413</td>\n",
              "      <td>0.652692</td>\n",
              "      <td>-0.365845</td>\n",
              "      <td>1.000000</td>\n",
              "      <td>-0.025250</td>\n",
              "      <td>0.295544</td>\n",
              "      <td>0.519067</td>\n",
              "      <td>0.330417</td>\n",
              "    </tr>\n",
              "    <tr>\n",
              "      <th>Color intensity</th>\n",
              "      <td>0.265668</td>\n",
              "      <td>0.546364</td>\n",
              "      <td>0.248985</td>\n",
              "      <td>0.258887</td>\n",
              "      <td>0.018732</td>\n",
              "      <td>0.199950</td>\n",
              "      <td>-0.055136</td>\n",
              "      <td>-0.172379</td>\n",
              "      <td>0.139057</td>\n",
              "      <td>-0.025250</td>\n",
              "      <td>1.000000</td>\n",
              "      <td>-0.521813</td>\n",
              "      <td>-0.428815</td>\n",
              "      <td>0.316100</td>\n",
              "    </tr>\n",
              "    <tr>\n",
              "      <th>Hue</th>\n",
              "      <td>-0.617369</td>\n",
              "      <td>-0.071747</td>\n",
              "      <td>-0.561296</td>\n",
              "      <td>-0.074667</td>\n",
              "      <td>-0.273955</td>\n",
              "      <td>0.055398</td>\n",
              "      <td>0.433681</td>\n",
              "      <td>0.543479</td>\n",
              "      <td>-0.262640</td>\n",
              "      <td>0.295544</td>\n",
              "      <td>-0.521813</td>\n",
              "      <td>1.000000</td>\n",
              "      <td>0.565468</td>\n",
              "      <td>0.236183</td>\n",
              "    </tr>\n",
              "    <tr>\n",
              "      <th>OD280/OD315 of diluted wines</th>\n",
              "      <td>-0.788230</td>\n",
              "      <td>0.072343</td>\n",
              "      <td>-0.368710</td>\n",
              "      <td>0.003911</td>\n",
              "      <td>-0.276769</td>\n",
              "      <td>0.066004</td>\n",
              "      <td>0.699949</td>\n",
              "      <td>0.787194</td>\n",
              "      <td>-0.503270</td>\n",
              "      <td>0.519067</td>\n",
              "      <td>-0.428815</td>\n",
              "      <td>0.565468</td>\n",
              "      <td>1.000000</td>\n",
              "      <td>0.312761</td>\n",
              "    </tr>\n",
              "    <tr>\n",
              "      <th>Proline</th>\n",
              "      <td>-0.633717</td>\n",
              "      <td>0.643720</td>\n",
              "      <td>-0.192011</td>\n",
              "      <td>0.223626</td>\n",
              "      <td>-0.440597</td>\n",
              "      <td>0.393351</td>\n",
              "      <td>0.498115</td>\n",
              "      <td>0.494193</td>\n",
              "      <td>-0.311385</td>\n",
              "      <td>0.330417</td>\n",
              "      <td>0.316100</td>\n",
              "      <td>0.236183</td>\n",
              "      <td>0.312761</td>\n",
              "      <td>1.000000</td>\n",
              "    </tr>\n",
              "  </tbody>\n",
              "</table>\n",
              "</div>"
            ],
            "text/plain": [
              "                                 Class  ...   Proline\n",
              "Class                         1.000000  ... -0.633717\n",
              "Alcohol                      -0.328222  ...  0.643720\n",
              "Malic acid                    0.437776  ... -0.192011\n",
              "Ash                          -0.049643  ...  0.223626\n",
              "Alcalinity of ash             0.517859  ... -0.440597\n",
              "Magnesium                    -0.209179  ...  0.393351\n",
              "Total phenols                -0.719163  ...  0.498115\n",
              "Flavanoids                   -0.847498  ...  0.494193\n",
              "Nonflavanoid phenols          0.489109  ... -0.311385\n",
              "Proanthocyanins              -0.499130  ...  0.330417\n",
              "Color intensity               0.265668  ...  0.316100\n",
              "Hue                          -0.617369  ...  0.236183\n",
              "OD280/OD315 of diluted wines -0.788230  ...  0.312761\n",
              "Proline                      -0.633717  ...  1.000000\n",
              "\n",
              "[14 rows x 14 columns]"
            ]
          },
          "metadata": {},
          "execution_count": 35
        }
      ]
    },
    {
      "cell_type": "code",
      "metadata": {
        "id": "K4fu2Wu0i-Y6"
      },
      "source": [
        ""
      ],
      "execution_count": null,
      "outputs": []
    }
  ]
}