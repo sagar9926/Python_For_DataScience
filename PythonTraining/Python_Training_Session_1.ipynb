{
  "nbformat": 4,
  "nbformat_minor": 0,
  "metadata": {
    "colab": {
      "name": "Python Training Session 1.ipynb",
      "provenance": [],
      "collapsed_sections": [
        "BKOFJFFDp-sQ"
      ],
      "authorship_tag": "ABX9TyMFs+1Db2n89ACYPiJqpcCj",
      "include_colab_link": true
    },
    "kernelspec": {
      "name": "python3",
      "display_name": "Python 3"
    },
    "language_info": {
      "name": "python"
    }
  },
  "cells": [
    {
      "cell_type": "markdown",
      "metadata": {
        "id": "view-in-github",
        "colab_type": "text"
      },
      "source": [
        "<a href=\"https://colab.research.google.com/github/sagar9926/Python_For_DataScience/blob/master/PythonTraining/Python_Training_Session_1.ipynb\" target=\"_parent\"><img src=\"https://colab.research.google.com/assets/colab-badge.svg\" alt=\"Open In Colab\"/></a>"
      ]
    },
    {
      "cell_type": "markdown",
      "metadata": {
        "id": "BKOFJFFDp-sQ"
      },
      "source": [
        "# Table of Content:\n",
        "* [Small test](#test)\n",
        "* [More Data Types](#more_types)\n",
        "* [Conditional statements, Loops](#loops)\n",
        "* [File I/O](#io)\n",
        "* [Exception Handling](#handling)\n",
        "* [Answers](#answer)"
      ]
    },
    {
      "cell_type": "code",
      "metadata": {
        "colab": {
          "base_uri": "https://localhost:8080/"
        },
        "id": "BURuSfBdp7kP",
        "outputId": "e420b32b-8e9d-478c-e4db-914701797386"
      },
      "source": [
        "# Small test\n",
        "\n",
        "def operation(x, y):\n",
        "    return x+y\n",
        "\n",
        "def another_operation(func, x, y):\n",
        "    return func(func(x,y), func(x,y))\n",
        "\n",
        "a = 5\n",
        "b = 25\n",
        "\n",
        "print(another_operation(operation, a, b))"
      ],
      "execution_count": null,
      "outputs": [
        {
          "output_type": "stream",
          "name": "stdout",
          "text": [
            "60\n"
          ]
        }
      ]
    },
    {
      "cell_type": "markdown",
      "metadata": {
        "id": "tHIgNcxdqPbU"
      },
      "source": [
        "# More Data Types <a name=\"more_types\"></a>\n",
        "\n",
        "__List of immutable objects:__\n",
        "* bool\n",
        "* int\n",
        "* float\n",
        "* str\n",
        "* tuple\n",
        "* frozenset\n",
        "\n",
        "__List of mutable objects:__\n",
        "* list\n",
        "* set\n",
        "* dict\n",
        "\n",
        "## List\n",
        "\n",
        "List is a type of __mutable__ object in Python used to store an __indexed__ list of item. It is created using __square brackets__ with commas separating the items. A certain item from the list can be accessed using it's index number.\n",
        "\n",
        "An empty list is created using an empty pair of square brackets.\n",
        "\n",
        "A list can contain items of a __single item type or multiple item type__. A list within a list is also possible which is used to represent 2D grids as Python, by default, lacks multi-dimensional array feature. But this can be achieved using __numpy__ which we will discuss in our Advanced Notebook.\n",
        "\n",
        "__NOTE: Strings can be indexed like a list__.\n"
      ]
    },
    {
      "cell_type": "code",
      "metadata": {
        "colab": {
          "base_uri": "https://localhost:8080/"
        },
        "id": "_LgXjfHYqFlZ",
        "outputId": "03dc6323-2e1e-4b1d-9242-ea4d1c860f0f"
      },
      "source": [
        "empty_list = []\n",
        "\n",
        "words = ['Python',3.6,['Up Next','Tuple']]\n",
        "\n",
        "print(words[0])\n",
        "print(words[2][1])\n",
        "\n",
        "print(words[1])\n",
        "words[1]=2.7\n",
        "print(words)\n",
        "\n",
        "## accessing items of string by index\n",
        "short_form = \"User Defined Function\"\n",
        "print(\"In our last class, we went through {}{}{}\".format(short_form[0], short_form[5], short_form[13]))"
      ],
      "execution_count": null,
      "outputs": [
        {
          "output_type": "stream",
          "name": "stdout",
          "text": [
            "Python\n",
            "Tuple\n",
            "3.6\n",
            "['Python', 2.7, ['Up Next', 'Tuple']]\n",
            "In our last class, we went through UDF\n"
          ]
        }
      ]
    },
    {
      "cell_type": "code",
      "metadata": {
        "colab": {
          "base_uri": "https://localhost:8080/"
        },
        "id": "0BlKeTSBgvmV",
        "outputId": "4d84026d-53f7-4efe-c53f-cfc88e398c98"
      },
      "source": [
        "## basic list operations\n",
        "num_list = [1,2,3]\n",
        "print(num_list + [4,5,6])\n",
        "print(num_list * 2)\n",
        "print(num_list + num_list)\n",
        "print(4 in num_list)\n",
        "print(9 not in num_list)\n",
        "print(not 1 in num_list)"
      ],
      "execution_count": null,
      "outputs": [
        {
          "output_type": "stream",
          "name": "stdout",
          "text": [
            "[1, 2, 3, 4, 5, 6]\n",
            "[1, 2, 3, 1, 2, 3]\n",
            "[1, 2, 3, 1, 2, 3]\n",
            "False\n",
            "True\n",
            "False\n"
          ]
        }
      ]
    },
    {
      "cell_type": "code",
      "metadata": {
        "colab": {
          "base_uri": "https://localhost:8080/"
        },
        "id": "r3cGTxq_jkpg",
        "outputId": "abf30481-9d2c-4524-987e-77f650809784"
      },
      "source": [
        "# list functions and methods\n",
        "num = [1,2,3]\n",
        "num.append(4) # [1,2,3,4]\n",
        "num.append([5,6]) # [1,2,3,4,[5,6]]\n",
        "print(num)\n",
        "print(len(num))\n",
        "\n",
        "num.extend([7,8,9]) # [1,2,3,4,[5,6],7,8,9]\n",
        "print(num)\n",
        "print(len(num))\n",
        "\n",
        "index = 2\n",
        "num.insert(index, 2.5)\n",
        "print(num)\n",
        "\n",
        "print(\"=\" * 50)\n",
        "\n",
        "print(num.index(3))\n",
        "print(num.index(2.0))\n",
        "\n",
        "num.remove([5,6])\n",
        "num.pop(0)\n",
        "print(num)\n",
        "\n",
        "\n",
        "print(max(num))\n",
        "print(num.count(5))\n",
        "\n",
        "num.reverse()\n",
        "print(num)"
      ],
      "execution_count": null,
      "outputs": [
        {
          "output_type": "stream",
          "name": "stdout",
          "text": [
            "[1, 2, 3, 4, [5, 6]]\n",
            "5\n",
            "[1, 2, 3, 4, [5, 6], 7, 8, 9]\n",
            "8\n",
            "[1, 2, 2.5, 3, 4, [5, 6], 7, 8, 9]\n",
            "==================================================\n",
            "3\n",
            "1\n",
            "[2, 2.5, 3, 4, 7, 8, 9]\n",
            "9\n",
            "0\n",
            "[9, 8, 7, 4, 3, 2.5, 2]\n"
          ]
        }
      ]
    },
    {
      "cell_type": "code",
      "metadata": {
        "colab": {
          "base_uri": "https://localhost:8080/"
        },
        "id": "36VbyiVGlFMS",
        "outputId": "84f97821-329d-4ead-bcbf-9371e293f5f9"
      },
      "source": [
        "num.reverse()\n",
        "print(num)"
      ],
      "execution_count": null,
      "outputs": [
        {
          "output_type": "stream",
          "name": "stdout",
          "text": [
            "[2, 2.5, 3, 4, 7, 8, 9]\n"
          ]
        }
      ]
    },
    {
      "cell_type": "code",
      "metadata": {
        "colab": {
          "base_uri": "https://localhost:8080/"
        },
        "id": "mHQv1nl1l4E2",
        "outputId": "1f1b1576-2c2c-4529-9408-201508644bc5"
      },
      "source": [
        "num[:]"
      ],
      "execution_count": null,
      "outputs": [
        {
          "output_type": "execute_result",
          "data": {
            "text/plain": [
              "[2, 2.5, 3, 4, 7, 8, 9]"
            ]
          },
          "metadata": {},
          "execution_count": 33
        }
      ]
    },
    {
      "cell_type": "code",
      "metadata": {
        "colab": {
          "base_uri": "https://localhost:8080/"
        },
        "id": "PHwax21YlJxM",
        "outputId": "792df1f6-0217-417f-c028-1aa69c09c9b2"
      },
      "source": [
        "num[0 : 3]"
      ],
      "execution_count": null,
      "outputs": [
        {
          "output_type": "execute_result",
          "data": {
            "text/plain": [
              "[2, 2.5, 3]"
            ]
          },
          "metadata": {},
          "execution_count": 27
        }
      ]
    },
    {
      "cell_type": "code",
      "metadata": {
        "colab": {
          "base_uri": "https://localhost:8080/"
        },
        "id": "5CrFDK26lVRO",
        "outputId": "9f4eac40-87a2-4f92-d5d4-5716bb2f8439"
      },
      "source": [
        "num[0 : 5 : 2]\n",
        "# num[start : end : jump ]\n",
        "#elements :  0 , 0 + 2 , 0 + 2 + 2 "
      ],
      "execution_count": null,
      "outputs": [
        {
          "output_type": "execute_result",
          "data": {
            "text/plain": [
              "[2, 3, 7]"
            ]
          },
          "metadata": {},
          "execution_count": 30
        }
      ]
    },
    {
      "cell_type": "code",
      "metadata": {
        "colab": {
          "base_uri": "https://localhost:8080/"
        },
        "id": "h4DDOFdElhC4",
        "outputId": "1b88006c-59a8-4c7e-f6c4-bfea5666692d"
      },
      "source": [
        "num[-1]"
      ],
      "execution_count": null,
      "outputs": [
        {
          "output_type": "execute_result",
          "data": {
            "text/plain": [
              "9"
            ]
          },
          "metadata": {},
          "execution_count": 31
        }
      ]
    },
    {
      "cell_type": "code",
      "metadata": {
        "colab": {
          "base_uri": "https://localhost:8080/"
        },
        "id": "eIT7AxMglmif",
        "outputId": "e375c0df-681a-4e91-efdc-a3b54d6699da"
      },
      "source": [
        "num[-2]"
      ],
      "execution_count": null,
      "outputs": [
        {
          "output_type": "execute_result",
          "data": {
            "text/plain": [
              "8"
            ]
          },
          "metadata": {},
          "execution_count": 32
        }
      ]
    },
    {
      "cell_type": "code",
      "metadata": {
        "colab": {
          "base_uri": "https://localhost:8080/"
        },
        "id": "1KZU2c0FmE81",
        "outputId": "e109febf-9707-49d6-939e-4c9e55a23f55"
      },
      "source": [
        "print(num)"
      ],
      "execution_count": null,
      "outputs": [
        {
          "output_type": "stream",
          "name": "stdout",
          "text": [
            "[2, 2.5, 3, 4, 7, 8, 9]\n"
          ]
        }
      ]
    },
    {
      "cell_type": "code",
      "metadata": {
        "colab": {
          "base_uri": "https://localhost:8080/"
        },
        "id": "-ysd4NvtlpXZ",
        "outputId": "3d93f0c1-d467-44af-f93d-41a567145f3d"
      },
      "source": [
        "# num[start : end : jump ]\n",
        "# Reversing a list\n",
        "num[ : : -1]\n",
        "\n",
        "# 0  - 1, 0 - 1 - 1\n"
      ],
      "execution_count": null,
      "outputs": [
        {
          "output_type": "execute_result",
          "data": {
            "text/plain": [
              "[9, 8, 7, 4, 3, 2.5, 2]"
            ]
          },
          "metadata": {},
          "execution_count": 36
        }
      ]
    },
    {
      "cell_type": "code",
      "metadata": {
        "colab": {
          "base_uri": "https://localhost:8080/"
        },
        "id": "-VzO53usmUA5",
        "outputId": "de106e3a-163d-43a4-c1ee-fb78066a381f"
      },
      "source": [
        "#Call By Reference\n",
        "\n",
        "list1 = [1,2,3]\n",
        "list2 = list1\n",
        "\n",
        "list2[0] = 100\n",
        "\n",
        "print(list1)\n",
        "print(list2)"
      ],
      "execution_count": null,
      "outputs": [
        {
          "output_type": "stream",
          "name": "stdout",
          "text": [
            "[100, 2, 3]\n",
            "[100, 2, 3]\n"
          ]
        }
      ]
    },
    {
      "cell_type": "code",
      "metadata": {
        "colab": {
          "base_uri": "https://localhost:8080/"
        },
        "id": "KOI3Wnbgmk_d",
        "outputId": "76e3659e-3625-4171-ab7c-b0c394e89401"
      },
      "source": [
        "# Why list is mutable\n",
        "\n",
        "list1 = [1,2,3]\n",
        "\n",
        "print(hex(id(list1)))\n",
        "\n",
        "list1[0] = 100\n",
        "\n",
        "print(hex(id(list1)))\n"
      ],
      "execution_count": null,
      "outputs": [
        {
          "output_type": "stream",
          "name": "stdout",
          "text": [
            "0x7fadb563e460\n",
            "0x7fadb563e460\n"
          ]
        }
      ]
    },
    {
      "cell_type": "markdown",
      "metadata": {
        "id": "FDk6bPMxqYoO"
      },
      "source": [
        "## Tuple\n",
        "\n",
        "Tuple is a __immutable__ Python object created using __Parentheses__ with commas separating the items which can be accessed using it's index number.\n",
        "\n",
        "It is just like list, except __you cannot modify or re-assign a value in the tuple. It will throw TypeError__.\n",
        "\n",
        "An empty tuple can also be created in the same way you create empty list.\n",
        "\n",
        "__NOTE: Tuples can also be created without using Parentheses, simply separated by commas.__\n",
        "\n",
        "### But when should we put parenthesis on tuples, and when we shouldn't?\n",
        "\n",
        "__Answer__: We use parentheses for __nested tuple__."
      ]
    },
    {
      "cell_type": "code",
      "metadata": {
        "colab": {
          "base_uri": "https://localhost:8080/"
        },
        "id": "KzRXHCy1nQfG",
        "outputId": "bdb9ad93-d198-4dfa-9daf-e0b0081a6639"
      },
      "source": [
        "x = (1,2,3)\n",
        "print(type(x))"
      ],
      "execution_count": null,
      "outputs": [
        {
          "output_type": "stream",
          "name": "stdout",
          "text": [
            "<class 'tuple'>\n"
          ]
        }
      ]
    },
    {
      "cell_type": "code",
      "metadata": {
        "colab": {
          "base_uri": "https://localhost:8080/"
        },
        "id": "DLup449snUbH",
        "outputId": "2fee22a5-5512-4b50-c965-de165f6edfcd"
      },
      "source": [
        "x = 1,\n",
        "print(type(x))"
      ],
      "execution_count": null,
      "outputs": [
        {
          "output_type": "stream",
          "name": "stdout",
          "text": [
            "<class 'tuple'>\n"
          ]
        }
      ]
    },
    {
      "cell_type": "code",
      "metadata": {
        "colab": {
          "base_uri": "https://localhost:8080/"
        },
        "id": "EJWna0tgnW6e",
        "outputId": "48fc1f12-c6ca-4896-863e-5a0c3638830b"
      },
      "source": [
        "x = 1,2,3\n",
        "print(type(x))"
      ],
      "execution_count": null,
      "outputs": [
        {
          "output_type": "stream",
          "name": "stdout",
          "text": [
            "<class 'tuple'>\n"
          ]
        }
      ]
    },
    {
      "cell_type": "code",
      "metadata": {
        "colab": {
          "base_uri": "https://localhost:8080/"
        },
        "id": "wWNsJu9tqVPW",
        "outputId": "c9949ed8-0e94-4901-8205-24066f080386"
      },
      "source": [
        "empty_tuple = ()\n",
        "\n",
        "my_tuple = (\"is\", \"my\", \"tuple\")\n",
        "print(my_tuple[2])\n",
        "my_tuple_l = list(my_tuple)\n",
        "print(type(my_tuple_l),my_tuple_l)"
      ],
      "execution_count": null,
      "outputs": [
        {
          "output_type": "stream",
          "name": "stdout",
          "text": [
            "tuple\n",
            "<class 'list'> ['is', 'my', 'tuple']\n"
          ]
        }
      ]
    },
    {
      "cell_type": "code",
      "metadata": {
        "colab": {
          "base_uri": "https://localhost:8080/",
          "height": 167
        },
        "id": "BFiqclbGnu_2",
        "outputId": "9330b4d1-3551-4df8-99b1-406dc23992d3"
      },
      "source": [
        "my_tuple[2] = \"TUPLE\""
      ],
      "execution_count": null,
      "outputs": [
        {
          "output_type": "error",
          "ename": "TypeError",
          "evalue": "ignored",
          "traceback": [
            "\u001b[0;31m---------------------------------------------------------------------------\u001b[0m",
            "\u001b[0;31mTypeError\u001b[0m                                 Traceback (most recent call last)",
            "\u001b[0;32m<ipython-input-48-ca4e45a87aff>\u001b[0m in \u001b[0;36m<module>\u001b[0;34m()\u001b[0m\n\u001b[0;32m----> 1\u001b[0;31m \u001b[0mmy_tuple\u001b[0m\u001b[0;34m[\u001b[0m\u001b[0;36m2\u001b[0m\u001b[0;34m]\u001b[0m \u001b[0;34m=\u001b[0m \u001b[0;34m\"TUPLE\"\u001b[0m\u001b[0;34m\u001b[0m\u001b[0;34m\u001b[0m\u001b[0m\n\u001b[0m",
            "\u001b[0;31mTypeError\u001b[0m: 'tuple' object does not support item assignment"
          ]
        }
      ]
    },
    {
      "cell_type": "code",
      "metadata": {
        "colab": {
          "base_uri": "https://localhost:8080/"
        },
        "id": "4gtQMD7Xn0SX",
        "outputId": "81fd8178-b624-4467-c9d1-06530dcd93d7"
      },
      "source": [
        "my_tuple_l[2] = \"TUPLE\"\n",
        "my_tuple_l"
      ],
      "execution_count": null,
      "outputs": [
        {
          "output_type": "execute_result",
          "data": {
            "text/plain": [
              "['is', 'my', 'TUPLE']"
            ]
          },
          "metadata": {},
          "execution_count": 50
        }
      ]
    },
    {
      "cell_type": "code",
      "metadata": {
        "colab": {
          "base_uri": "https://localhost:8080/"
        },
        "id": "MHQJo64Zn6Pi",
        "outputId": "03dcd565-7f35-4059-e1d2-00abb695c1c7"
      },
      "source": [
        "my_tuple = tuple(my_tuple_l)\n",
        "print(my_tuple)\n"
      ],
      "execution_count": null,
      "outputs": [
        {
          "output_type": "stream",
          "name": "stdout",
          "text": [
            "('is', 'my', 'TUPLE')\n"
          ]
        }
      ]
    },
    {
      "cell_type": "code",
      "metadata": {
        "colab": {
          "base_uri": "https://localhost:8080/"
        },
        "id": "6g6D02Lbneev",
        "outputId": "02c39efb-99b2-4bc2-f20f-59ed32bef67a"
      },
      "source": [
        "also_my_tuple = 'is', 'this', 'one'\n",
        "print(also_my_tuple[2])"
      ],
      "execution_count": null,
      "outputs": [
        {
          "output_type": "stream",
          "name": "stdout",
          "text": [
            "one\n"
          ]
        }
      ]
    },
    {
      "cell_type": "code",
      "metadata": {
        "colab": {
          "base_uri": "https://localhost:8080/"
        },
        "id": "3uo3zwdJn_qt",
        "outputId": "dde30337-b7fe-4098-ed42-b5d9a608ee48"
      },
      "source": [
        "special_case = (1,2,[3,4])\n",
        "print(type(special_case))\n",
        "print(hex(id(special_case)))\n",
        "\n",
        "special_case[2][0] = 10000\n",
        "\n",
        "print(type(special_case))\n",
        "print(hex(id(special_case)))\n",
        "print(special_case)"
      ],
      "execution_count": null,
      "outputs": [
        {
          "output_type": "stream",
          "name": "stdout",
          "text": [
            "<class 'tuple'>\n",
            "0x7fadb561f690\n",
            "<class 'tuple'>\n",
            "0x7fadb561f690\n",
            "(1, 2, [10000, 4])\n"
          ]
        }
      ]
    },
    {
      "cell_type": "code",
      "metadata": {
        "colab": {
          "base_uri": "https://localhost:8080/",
          "height": 167
        },
        "id": "DUsjjUf1oN9X",
        "outputId": "2cceaad6-874b-4b3e-9a0d-71cf1c8f0c25"
      },
      "source": [
        "special_case[0] = 10000"
      ],
      "execution_count": null,
      "outputs": [
        {
          "output_type": "error",
          "ename": "TypeError",
          "evalue": "ignored",
          "traceback": [
            "\u001b[0;31m---------------------------------------------------------------------------\u001b[0m",
            "\u001b[0;31mTypeError\u001b[0m                                 Traceback (most recent call last)",
            "\u001b[0;32m<ipython-input-58-4fd484763668>\u001b[0m in \u001b[0;36m<module>\u001b[0;34m()\u001b[0m\n\u001b[0;32m----> 1\u001b[0;31m \u001b[0mspecial_case\u001b[0m\u001b[0;34m[\u001b[0m\u001b[0;36m0\u001b[0m\u001b[0;34m]\u001b[0m \u001b[0;34m=\u001b[0m \u001b[0;36m10000\u001b[0m\u001b[0;34m\u001b[0m\u001b[0;34m\u001b[0m\u001b[0m\n\u001b[0m",
            "\u001b[0;31mTypeError\u001b[0m: 'tuple' object does not support item assignment"
          ]
        }
      ]
    },
    {
      "cell_type": "code",
      "metadata": {
        "colab": {
          "base_uri": "https://localhost:8080/"
        },
        "id": "L5fBNPwgomXk",
        "outputId": "75067147-c0cc-4c39-fbbc-cc1b491d18a6"
      },
      "source": [
        "special_case[0]"
      ],
      "execution_count": null,
      "outputs": [
        {
          "output_type": "execute_result",
          "data": {
            "text/plain": [
              "1"
            ]
          },
          "metadata": {},
          "execution_count": 59
        }
      ]
    },
    {
      "cell_type": "code",
      "metadata": {
        "colab": {
          "base_uri": "https://localhost:8080/"
        },
        "id": "bFHHO-RZoogw",
        "outputId": "ca335cb4-c813-46a0-91e6-7bf48888452c"
      },
      "source": [
        "special_case[1]"
      ],
      "execution_count": null,
      "outputs": [
        {
          "output_type": "execute_result",
          "data": {
            "text/plain": [
              "2"
            ]
          },
          "metadata": {},
          "execution_count": 60
        }
      ]
    },
    {
      "cell_type": "markdown",
      "metadata": {
        "id": "FScz0Uxvg1e0"
      },
      "source": [
        "## Dictionaries\n",
        "\n",
        "Dictionaries are data structures used __to map keys to values__. Just like list, they are __mutable__ and made using __curly brackets__. \n",
        "\n",
        "Dictionaries can be indexed in the same way as lists, __using square brackets containing keys__. Trying to index a key that isn't a part of the dictionary returns a __KeyError__.\n",
        "\n",
        "The useful dictionary method is __get__. It does same thing as indexing, but if the key is not found in the dictionary, it returns __None__ instead of throwing any error.\n",
        "\n",
        "__NOTE: Only immutable objects can be used as keys to dictionaries.__"
      ]
    },
    {
      "cell_type": "markdown",
      "metadata": {
        "id": "2_VAkodfouDr"
      },
      "source": [
        "# LSD Mutable"
      ]
    },
    {
      "cell_type": "code",
      "metadata": {
        "colab": {
          "base_uri": "https://localhost:8080/"
        },
        "id": "H0-6CfugqalQ",
        "outputId": "c2ea93b0-9806-47d1-e476-0b675062f960"
      },
      "source": [
        "empty_dict = {}\n",
        "\n",
        "my_dict = {\"Joker\":'Why so serious?', \"Bane\": [1,2,3], \"Scarecrow\": 0.05}\n",
        "print(my_dict[\"Joker\"])\n",
        "print(my_dict[\"Scarecrow\"])\n",
        "print(my_dict[\"Bane\"])"
      ],
      "execution_count": null,
      "outputs": [
        {
          "output_type": "stream",
          "name": "stdout",
          "text": [
            "Why so serious?\n",
            "0.05\n",
            "[1, 2, 3]\n"
          ]
        }
      ]
    },
    {
      "cell_type": "markdown",
      "metadata": {
        "id": "AFMYAm9BpILV"
      },
      "source": [
        "# Keys always have to be immutable"
      ]
    },
    {
      "cell_type": "code",
      "metadata": {
        "colab": {
          "base_uri": "https://localhost:8080/"
        },
        "id": "Dog_eyphpKjr",
        "outputId": "f37dd224-d151-43f8-8d78-c4a4760ab8e2"
      },
      "source": [
        "my_dict_again = {(1,2,3):[1,2,3], ('a','b','c'):['a','b','c']}\n",
        "print(my_dict_again[(1,2,3)])"
      ],
      "execution_count": null,
      "outputs": [
        {
          "output_type": "stream",
          "name": "stdout",
          "text": [
            "[1, 2, 3]\n"
          ]
        }
      ]
    },
    {
      "cell_type": "code",
      "metadata": {
        "colab": {
          "base_uri": "https://localhost:8080/",
          "height": 185
        },
        "id": "iVZggfTrpOiR",
        "outputId": "6fae5ce7-5265-4faf-af7c-3005c4aef0c5"
      },
      "source": [
        "my_dict_again = {[1,2,3]:(1,2,3), ('a','b','c'):['a','b','c']}\n",
        "print(my_dict_again[(1,2,3)])"
      ],
      "execution_count": null,
      "outputs": [
        {
          "output_type": "error",
          "ename": "TypeError",
          "evalue": "ignored",
          "traceback": [
            "\u001b[0;31m---------------------------------------------------------------------------\u001b[0m",
            "\u001b[0;31mTypeError\u001b[0m                                 Traceback (most recent call last)",
            "\u001b[0;32m<ipython-input-65-a1ef548ba250>\u001b[0m in \u001b[0;36m<module>\u001b[0;34m()\u001b[0m\n\u001b[0;32m----> 1\u001b[0;31m \u001b[0mmy_dict_again\u001b[0m \u001b[0;34m=\u001b[0m \u001b[0;34m{\u001b[0m\u001b[0;34m[\u001b[0m\u001b[0;36m1\u001b[0m\u001b[0;34m,\u001b[0m\u001b[0;36m2\u001b[0m\u001b[0;34m,\u001b[0m\u001b[0;36m3\u001b[0m\u001b[0;34m]\u001b[0m\u001b[0;34m:\u001b[0m\u001b[0;34m(\u001b[0m\u001b[0;36m1\u001b[0m\u001b[0;34m,\u001b[0m\u001b[0;36m2\u001b[0m\u001b[0;34m,\u001b[0m\u001b[0;36m3\u001b[0m\u001b[0;34m)\u001b[0m\u001b[0;34m,\u001b[0m \u001b[0;34m(\u001b[0m\u001b[0;34m'a'\u001b[0m\u001b[0;34m,\u001b[0m\u001b[0;34m'b'\u001b[0m\u001b[0;34m,\u001b[0m\u001b[0;34m'c'\u001b[0m\u001b[0;34m)\u001b[0m\u001b[0;34m:\u001b[0m\u001b[0;34m[\u001b[0m\u001b[0;34m'a'\u001b[0m\u001b[0;34m,\u001b[0m\u001b[0;34m'b'\u001b[0m\u001b[0;34m,\u001b[0m\u001b[0;34m'c'\u001b[0m\u001b[0;34m]\u001b[0m\u001b[0;34m}\u001b[0m\u001b[0;34m\u001b[0m\u001b[0;34m\u001b[0m\u001b[0m\n\u001b[0m\u001b[1;32m      2\u001b[0m \u001b[0mprint\u001b[0m\u001b[0;34m(\u001b[0m\u001b[0mmy_dict_again\u001b[0m\u001b[0;34m[\u001b[0m\u001b[0;34m(\u001b[0m\u001b[0;36m1\u001b[0m\u001b[0;34m,\u001b[0m\u001b[0;36m2\u001b[0m\u001b[0;34m,\u001b[0m\u001b[0;36m3\u001b[0m\u001b[0;34m)\u001b[0m\u001b[0;34m]\u001b[0m\u001b[0;34m)\u001b[0m\u001b[0;34m\u001b[0m\u001b[0;34m\u001b[0m\u001b[0m\n",
            "\u001b[0;31mTypeError\u001b[0m: unhashable type: 'list'"
          ]
        }
      ]
    },
    {
      "cell_type": "code",
      "metadata": {
        "colab": {
          "base_uri": "https://localhost:8080/"
        },
        "id": "9bLsBMy7orgU",
        "outputId": "90f39a37-06af-4ae4-8516-77e8efabaad1"
      },
      "source": [
        "\n",
        "my_dict_again['sagar'] = 'd'\n",
        "print(my_dict_again)"
      ],
      "execution_count": null,
      "outputs": [
        {
          "output_type": "stream",
          "name": "stdout",
          "text": [
            "{(1, 2, 3): [1, 2, 3], ('a', 'b', 'c'): ['a', 'b', 'c'], 'sagar': 'd'}\n"
          ]
        }
      ]
    },
    {
      "cell_type": "markdown",
      "metadata": {
        "id": "ssTAIumPpq6n"
      },
      "source": [
        "__Quick Question: How to check whether a variable is mutable or not?__ [Answer](#ans1)"
      ]
    },
    {
      "cell_type": "code",
      "metadata": {
        "colab": {
          "base_uri": "https://localhost:8080/",
          "height": 167
        },
        "id": "ORFzEfkxpeV8",
        "outputId": "9572877c-158b-46cf-d7ea-c9b26c5d2ab6"
      },
      "source": [
        "my_dict_error = {[1,2,3]:'a'}"
      ],
      "execution_count": null,
      "outputs": [
        {
          "output_type": "error",
          "ename": "TypeError",
          "evalue": "ignored",
          "traceback": [
            "\u001b[0;31m---------------------------------------------------------------------------\u001b[0m",
            "\u001b[0;31mTypeError\u001b[0m                                 Traceback (most recent call last)",
            "\u001b[0;32m<ipython-input-69-9117a26d6e1e>\u001b[0m in \u001b[0;36m<module>\u001b[0;34m()\u001b[0m\n\u001b[0;32m----> 1\u001b[0;31m \u001b[0mmy_dict_error\u001b[0m \u001b[0;34m=\u001b[0m \u001b[0;34m{\u001b[0m\u001b[0;34m[\u001b[0m\u001b[0;36m1\u001b[0m\u001b[0;34m,\u001b[0m\u001b[0;36m2\u001b[0m\u001b[0;34m,\u001b[0m\u001b[0;36m3\u001b[0m\u001b[0;34m]\u001b[0m\u001b[0;34m:\u001b[0m\u001b[0;34m'a'\u001b[0m\u001b[0;34m}\u001b[0m\u001b[0;34m\u001b[0m\u001b[0;34m\u001b[0m\u001b[0m\n\u001b[0m",
            "\u001b[0;31mTypeError\u001b[0m: unhashable type: 'list'"
          ]
        }
      ]
    },
    {
      "cell_type": "markdown",
      "metadata": {
        "id": "gGYy43d9p05B"
      },
      "source": [
        "### What does this error mean?\n",
        "An object is __hashable__ if it has a hash value which never changes during its lifetime (it needs hash() method). List is unhashable because it's content can change over its lifetime.\n",
        "\n",
        "__NOTE__: Don't know about Hash function? Think about it as the fingerprint of a file in an encrypted format. For details, search in Google."
      ]
    },
    {
      "cell_type": "code",
      "metadata": {
        "colab": {
          "base_uri": "https://localhost:8080/"
        },
        "id": "gLOPtVneqVK6",
        "outputId": "796dd7b9-c569-4110-a8bc-4294aa3fb461"
      },
      "source": [
        "# How about a dictionary within a dictionary?\n",
        "my_dict_yet_again = {0:\"infinity\", 1:{'a':[1,2]}, 'b':{2: (3,4)}}\n",
        "print(my_dict_yet_again)\n",
        "print(my_dict_yet_again[1])\n"
      ],
      "execution_count": null,
      "outputs": [
        {
          "output_type": "stream",
          "name": "stdout",
          "text": [
            "{0: 'infinity', 1: {'a': [1, 2]}, 'b': {2: (3, 4)}}\n",
            "{'a': [1, 2]}\n"
          ]
        }
      ]
    },
    {
      "cell_type": "code",
      "metadata": {
        "colab": {
          "base_uri": "https://localhost:8080/"
        },
        "id": "eif6khYQqVlC",
        "outputId": "ec84ab71-f582-435d-f864-39aa6c98d805"
      },
      "source": [
        "print(my_dict_yet_again.values())"
      ],
      "execution_count": null,
      "outputs": [
        {
          "output_type": "stream",
          "name": "stdout",
          "text": [
            "dict_values(['infinity', {'a': [1, 2]}, {2: (3, 4)}])\n"
          ]
        }
      ]
    },
    {
      "cell_type": "code",
      "metadata": {
        "colab": {
          "base_uri": "https://localhost:8080/"
        },
        "id": "LXeqgXpHqaTV",
        "outputId": "1266c630-9258-4eb0-c5b6-c37e3514193e"
      },
      "source": [
        "print(my_dict_yet_again.keys())"
      ],
      "execution_count": null,
      "outputs": [
        {
          "output_type": "stream",
          "name": "stdout",
          "text": [
            "dict_keys([0, 1, 'b'])\n"
          ]
        }
      ]
    },
    {
      "cell_type": "code",
      "metadata": {
        "colab": {
          "base_uri": "https://localhost:8080/"
        },
        "id": "JJA9lzhZpt9y",
        "outputId": "096da3dc-0ba9-40ce-bfe1-875f6d85d6c1"
      },
      "source": [
        "\n",
        "# Some dictionary functions\n",
        "print(1 in my_dict_yet_again) # check if a key is available in the dictionary\n",
        "print({'a':[1,2]} in my_dict_yet_again.values()) #check if the value is available in the dictionary\n",
        "\n",
        "my_dict_yet_again[True-1] = \"zero\"\n",
        "print(my_dict_yet_again)"
      ],
      "execution_count": null,
      "outputs": [
        {
          "output_type": "stream",
          "name": "stdout",
          "text": [
            "True\n",
            "True\n",
            "0\n",
            "{0: 'zero', 1: {'a': [1, 2]}, 'b': {2: (3, 4)}}\n"
          ]
        }
      ]
    },
    {
      "cell_type": "markdown",
      "metadata": {
        "id": "NJbfz9NDq4kk"
      },
      "source": [
        "### Create dictionary from two lists!\n",
        "\n",
        "We can use __zip__ to generate dictionaries where the keys and values can be obtained from lists at runtime."
      ]
    },
    {
      "cell_type": "code",
      "metadata": {
        "colab": {
          "base_uri": "https://localhost:8080/"
        },
        "id": "PIlz3k_AqE9l",
        "outputId": "557514aa-233a-404a-8ef0-74510c486b76"
      },
      "source": [
        "keys = ['a', 'b', 'c']\n",
        "values = [1, 2, 3]\n",
        "\n",
        "print(list(zip(keys,values)))\n",
        "\n",
        "print(dict(zip(keys,values)))"
      ],
      "execution_count": null,
      "outputs": [
        {
          "output_type": "stream",
          "name": "stdout",
          "text": [
            "[('a', 1), ('b', 2), ('c', 3)]\n",
            "{'a': 1, 'b': 2, 'c': 3}\n"
          ]
        }
      ]
    },
    {
      "cell_type": "code",
      "metadata": {
        "colab": {
          "base_uri": "https://localhost:8080/"
        },
        "id": "B4anL0tOq8Kt",
        "outputId": "9930aab8-d59a-40d9-a0db-7819844d3762"
      },
      "source": [
        "keys = ['a', 'b', 'a']\n",
        "values = [3, 2, 1]\n",
        "\n",
        "print(list(zip(keys,values)))\n",
        "\n",
        "print(dict(zip(keys,values)))"
      ],
      "execution_count": null,
      "outputs": [
        {
          "output_type": "stream",
          "name": "stdout",
          "text": [
            "[('a', 3), ('b', 2), ('a', 1)]\n",
            "{'a': 1, 'b': 2}\n"
          ]
        }
      ]
    },
    {
      "cell_type": "code",
      "metadata": {
        "colab": {
          "base_uri": "https://localhost:8080/"
        },
        "id": "8xQLTPWHrM_N",
        "outputId": "b59dc32e-8ad8-4791-8c96-62359163067c"
      },
      "source": [
        "my_dict_yet_again"
      ],
      "execution_count": null,
      "outputs": [
        {
          "output_type": "execute_result",
          "data": {
            "text/plain": [
              "{0: 'zero', 1: {'a': [1, 2]}, 'b': {2: (3, 4)}}"
            ]
          },
          "metadata": {},
          "execution_count": 77
        }
      ]
    },
    {
      "cell_type": "code",
      "metadata": {
        "colab": {
          "base_uri": "https://localhost:8080/"
        },
        "id": "VvS-7hVwq8i3",
        "outputId": "3d169a9e-8b51-4104-d839-8ec6a6ab3d65"
      },
      "source": [
        "my_dict_yet_again[True]=False\n",
        "print(my_dict_yet_again)"
      ],
      "execution_count": null,
      "outputs": [
        {
          "output_type": "stream",
          "name": "stdout",
          "text": [
            "{0: 'zero', 1: False, 'b': {2: (3, 4)}}\n"
          ]
        }
      ]
    },
    {
      "cell_type": "code",
      "metadata": {
        "colab": {
          "base_uri": "https://localhost:8080/"
        },
        "id": "VtkEHrcPrWe7",
        "outputId": "3db37c82-f6b3-4e09-86ba-caa40ee40a1d"
      },
      "source": [
        "help(my_dict_yet_again.get)"
      ],
      "execution_count": null,
      "outputs": [
        {
          "output_type": "stream",
          "name": "stdout",
          "text": [
            "Help on built-in function get:\n",
            "\n",
            "get(key, default=None, /) method of builtins.dict instance\n",
            "    Return the value for key if key is in the dictionary, else default.\n",
            "\n"
          ]
        }
      ]
    },
    {
      "cell_type": "code",
      "metadata": {
        "colab": {
          "base_uri": "https://localhost:8080/"
        },
        "id": "pJn9oNQXrQQ1",
        "outputId": "fb6ed588-b5c5-43b7-dc8a-1a62f1e0493f"
      },
      "source": [
        "print(my_dict_yet_again.get(1)) # get method\n",
        "print(my_dict_yet_again.get(2))\n",
        "print(my_dict_yet_again.get(\"True\",\"True string is not available as key\"))"
      ],
      "execution_count": null,
      "outputs": [
        {
          "output_type": "stream",
          "name": "stdout",
          "text": [
            "False\n",
            "None\n",
            "True string is not available as key\n"
          ]
        }
      ]
    },
    {
      "cell_type": "markdown",
      "metadata": {
        "id": "zZXObeK1jpHn"
      },
      "source": [
        "## Set and Frozenset\n",
        "\n",
        "Sets are Python object similar to lists or dictionaries. They are created using __curly braces__ or the __set function__. They are __unordered__, which means that they __can't be indexed__. They __cannot contain duplicate elements__. Due to the way they're stored, it's __faster to check whether an item is part of a set__, rather than part of a list.\n",
        "\n",
        "Instead of using __append__ to add an item to a set, we use __add__. The method __remove__ removes a specific element from a set but __pop__ removes an arbitrary element.\n",
        "\n",
        "The frozenset() is an inbuilt function in Python which takes an iterable object as input and makes them immutable."
      ]
    },
    {
      "cell_type": "code",
      "metadata": {
        "id": "LucPvGqVldHn"
      },
      "source": [
        "my_set = set((2.7,\"3.6\"))\n",
        "also_my_set = {2.7 , 3.6}\n",
        "my_frozenset = frozenset([\"Python\",\"2.7\"])\n"
      ],
      "execution_count": 9,
      "outputs": []
    },
    {
      "cell_type": "code",
      "metadata": {
        "id": "wAPNVtvTlgkW",
        "outputId": "4ffc8ef1-b5e2-4084-c987-b89ac24308a6",
        "colab": {
          "base_uri": "https://localhost:8080/"
        }
      },
      "source": [
        "my_set.add(6)\n",
        "print(my_set)\n",
        "print(my_frozenset)"
      ],
      "execution_count": 10,
      "outputs": [
        {
          "output_type": "stream",
          "name": "stdout",
          "text": [
            "{2.7, '3.6', 6}\n",
            "frozenset({'2.7', 'Python'})\n"
          ]
        }
      ]
    },
    {
      "cell_type": "code",
      "metadata": {
        "id": "byTCCLSCl0Z-",
        "outputId": "67457ec6-d40b-4ef1-e667-f4e9f29082dd",
        "colab": {
          "base_uri": "https://localhost:8080/",
          "height": 167
        }
      },
      "source": [
        "my_frozenset[0] = 100"
      ],
      "execution_count": 11,
      "outputs": [
        {
          "output_type": "error",
          "ename": "TypeError",
          "evalue": "ignored",
          "traceback": [
            "\u001b[0;31m---------------------------------------------------------------------------\u001b[0m",
            "\u001b[0;31mTypeError\u001b[0m                                 Traceback (most recent call last)",
            "\u001b[0;32m<ipython-input-11-dbe7ba253bac>\u001b[0m in \u001b[0;36m<module>\u001b[0;34m()\u001b[0m\n\u001b[0;32m----> 1\u001b[0;31m \u001b[0mmy_frozenset\u001b[0m\u001b[0;34m[\u001b[0m\u001b[0;36m0\u001b[0m\u001b[0;34m]\u001b[0m \u001b[0;34m=\u001b[0m \u001b[0;36m100\u001b[0m\u001b[0;34m\u001b[0m\u001b[0;34m\u001b[0m\u001b[0m\n\u001b[0m",
            "\u001b[0;31mTypeError\u001b[0m: 'frozenset' object does not support item assignment"
          ]
        }
      ]
    },
    {
      "cell_type": "code",
      "metadata": {
        "id": "SPI5N0eFmFxf",
        "outputId": "d48ce169-2e83-4a65-8990-fd52b97b57ee",
        "colab": {
          "base_uri": "https://localhost:8080/"
        }
      },
      "source": [
        "# Set always stores unique values\n",
        "\n",
        "s = {1,2,3,3,3,3,4,4,4,4}\n",
        "print(s)\n",
        "\n",
        "s = set(\"priyaraghuwanshisagaragrawal\")\n",
        "print(s)"
      ],
      "execution_count": 15,
      "outputs": [
        {
          "output_type": "stream",
          "name": "stdout",
          "text": [
            "{1, 2, 3, 4}\n",
            "{'w', 'u', 'p', 'r', 'i', 'g', 'l', 'n', 'y', 'a', 's', 'h'}\n"
          ]
        }
      ]
    },
    {
      "cell_type": "code",
      "metadata": {
        "id": "VXNDFSgsmXoO",
        "outputId": "02aad2c6-f662-4466-ae00-fe7a66f7deb7",
        "colab": {
          "base_uri": "https://localhost:8080/",
          "height": 167
        }
      },
      "source": [
        "s[0] = 100"
      ],
      "execution_count": 16,
      "outputs": [
        {
          "output_type": "error",
          "ename": "TypeError",
          "evalue": "ignored",
          "traceback": [
            "\u001b[0;31m---------------------------------------------------------------------------\u001b[0m",
            "\u001b[0;31mTypeError\u001b[0m                                 Traceback (most recent call last)",
            "\u001b[0;32m<ipython-input-16-16820b94779f>\u001b[0m in \u001b[0;36m<module>\u001b[0;34m()\u001b[0m\n\u001b[0;32m----> 1\u001b[0;31m \u001b[0ms\u001b[0m\u001b[0;34m[\u001b[0m\u001b[0;36m0\u001b[0m\u001b[0;34m]\u001b[0m \u001b[0;34m=\u001b[0m \u001b[0;36m100\u001b[0m\u001b[0;34m\u001b[0m\u001b[0;34m\u001b[0m\u001b[0m\n\u001b[0m",
            "\u001b[0;31mTypeError\u001b[0m: 'set' object does not support item assignment"
          ]
        }
      ]
    },
    {
      "cell_type": "code",
      "metadata": {
        "id": "Ymsu-X0knbst",
        "outputId": "638b4f53-6509-42a3-b099-ae43de33ec02",
        "colab": {
          "base_uri": "https://localhost:8080/"
        }
      },
      "source": [
        "vars(random)"
      ],
      "execution_count": 27,
      "outputs": [
        {
          "output_type": "execute_result",
          "data": {
            "text/plain": [
              "{'BPF': 53,\n",
              " 'LOG4': 1.3862943611198906,\n",
              " 'NV_MAGICCONST': 1.7155277699214135,\n",
              " 'RECIP_BPF': 1.1102230246251565e-16,\n",
              " 'Random': random.Random,\n",
              " 'SG_MAGICCONST': 2.504077396776274,\n",
              " 'SystemRandom': random.SystemRandom,\n",
              " 'TWOPI': 6.283185307179586,\n",
              " '_BuiltinMethodType': builtin_function_or_method,\n",
              " '_MethodType': method,\n",
              " '_Sequence': collections.abc.Sequence,\n",
              " '_Set': collections.abc.Set,\n",
              " '__all__': ['Random',\n",
              "  'seed',\n",
              "  'random',\n",
              "  'uniform',\n",
              "  'randint',\n",
              "  'choice',\n",
              "  'sample',\n",
              "  'randrange',\n",
              "  'shuffle',\n",
              "  'normalvariate',\n",
              "  'lognormvariate',\n",
              "  'expovariate',\n",
              "  'vonmisesvariate',\n",
              "  'gammavariate',\n",
              "  'triangular',\n",
              "  'gauss',\n",
              "  'betavariate',\n",
              "  'paretovariate',\n",
              "  'weibullvariate',\n",
              "  'getstate',\n",
              "  'setstate',\n",
              "  'getrandbits',\n",
              "  'choices',\n",
              "  'SystemRandom'],\n",
              " '__builtins__': {'ArithmeticError': ArithmeticError,\n",
              "  'AssertionError': AssertionError,\n",
              "  'AttributeError': AttributeError,\n",
              "  'BaseException': BaseException,\n",
              "  'BlockingIOError': BlockingIOError,\n",
              "  'BrokenPipeError': BrokenPipeError,\n",
              "  'BufferError': BufferError,\n",
              "  'BytesWarning': BytesWarning,\n",
              "  'ChildProcessError': ChildProcessError,\n",
              "  'ConnectionAbortedError': ConnectionAbortedError,\n",
              "  'ConnectionError': ConnectionError,\n",
              "  'ConnectionRefusedError': ConnectionRefusedError,\n",
              "  'ConnectionResetError': ConnectionResetError,\n",
              "  'DeprecationWarning': DeprecationWarning,\n",
              "  'EOFError': EOFError,\n",
              "  'Ellipsis': Ellipsis,\n",
              "  'EnvironmentError': OSError,\n",
              "  'Exception': Exception,\n",
              "  'False': False,\n",
              "  'FileExistsError': FileExistsError,\n",
              "  'FileNotFoundError': FileNotFoundError,\n",
              "  'FloatingPointError': FloatingPointError,\n",
              "  'FutureWarning': FutureWarning,\n",
              "  'GeneratorExit': GeneratorExit,\n",
              "  'IOError': OSError,\n",
              "  'ImportError': ImportError,\n",
              "  'ImportWarning': ImportWarning,\n",
              "  'IndentationError': IndentationError,\n",
              "  'IndexError': IndexError,\n",
              "  'InterruptedError': InterruptedError,\n",
              "  'IsADirectoryError': IsADirectoryError,\n",
              "  'KeyError': KeyError,\n",
              "  'KeyboardInterrupt': KeyboardInterrupt,\n",
              "  'LookupError': LookupError,\n",
              "  'MemoryError': MemoryError,\n",
              "  'ModuleNotFoundError': ModuleNotFoundError,\n",
              "  'NameError': NameError,\n",
              "  'None': None,\n",
              "  'NotADirectoryError': NotADirectoryError,\n",
              "  'NotImplemented': NotImplemented,\n",
              "  'NotImplementedError': NotImplementedError,\n",
              "  'OSError': OSError,\n",
              "  'OverflowError': OverflowError,\n",
              "  'PendingDeprecationWarning': PendingDeprecationWarning,\n",
              "  'PermissionError': PermissionError,\n",
              "  'ProcessLookupError': ProcessLookupError,\n",
              "  'RecursionError': RecursionError,\n",
              "  'ReferenceError': ReferenceError,\n",
              "  'ResourceWarning': ResourceWarning,\n",
              "  'RuntimeError': RuntimeError,\n",
              "  'RuntimeWarning': RuntimeWarning,\n",
              "  'StopAsyncIteration': StopAsyncIteration,\n",
              "  'StopIteration': StopIteration,\n",
              "  'SyntaxError': SyntaxError,\n",
              "  'SyntaxWarning': SyntaxWarning,\n",
              "  'SystemError': SystemError,\n",
              "  'SystemExit': SystemExit,\n",
              "  'TabError': TabError,\n",
              "  'TimeoutError': TimeoutError,\n",
              "  'True': True,\n",
              "  'TypeError': TypeError,\n",
              "  'UnboundLocalError': UnboundLocalError,\n",
              "  'UnicodeDecodeError': UnicodeDecodeError,\n",
              "  'UnicodeEncodeError': UnicodeEncodeError,\n",
              "  'UnicodeError': UnicodeError,\n",
              "  'UnicodeTranslateError': UnicodeTranslateError,\n",
              "  'UnicodeWarning': UnicodeWarning,\n",
              "  'UserWarning': UserWarning,\n",
              "  'ValueError': ValueError,\n",
              "  'Warning': Warning,\n",
              "  'ZeroDivisionError': ZeroDivisionError,\n",
              "  '__IPYTHON__': True,\n",
              "  '__build_class__': <function __build_class__>,\n",
              "  '__debug__': True,\n",
              "  '__doc__': \"Built-in functions, exceptions, and other objects.\\n\\nNoteworthy: None is the `nil' object; Ellipsis represents `...' in slices.\",\n",
              "  '__import__': <function __import__>,\n",
              "  '__loader__': _frozen_importlib.BuiltinImporter,\n",
              "  '__name__': 'builtins',\n",
              "  '__package__': '',\n",
              "  '__spec__': ModuleSpec(name='builtins', loader=<class '_frozen_importlib.BuiltinImporter'>),\n",
              "  'abs': <function abs>,\n",
              "  'all': <function all>,\n",
              "  'any': <function any>,\n",
              "  'ascii': <function ascii>,\n",
              "  'bin': <function bin>,\n",
              "  'bool': bool,\n",
              "  'breakpoint': <function breakpoint>,\n",
              "  'bytearray': bytearray,\n",
              "  'bytes': bytes,\n",
              "  'callable': <function callable>,\n",
              "  'chr': <function chr>,\n",
              "  'classmethod': classmethod,\n",
              "  'compile': <function compile>,\n",
              "  'complex': complex,\n",
              "  'copyright': Copyright (c) 2001-2021 Python Software Foundation.\n",
              "  All Rights Reserved.\n",
              "  \n",
              "  Copyright (c) 2000 BeOpen.com.\n",
              "  All Rights Reserved.\n",
              "  \n",
              "  Copyright (c) 1995-2001 Corporation for National Research Initiatives.\n",
              "  All Rights Reserved.\n",
              "  \n",
              "  Copyright (c) 1991-1995 Stichting Mathematisch Centrum, Amsterdam.\n",
              "  All Rights Reserved.,\n",
              "  'credits':     Thanks to CWI, CNRI, BeOpen.com, Zope Corporation and a cast of thousands\n",
              "      for supporting Python development.  See www.python.org for more information.,\n",
              "  'delattr': <function delattr>,\n",
              "  'dict': dict,\n",
              "  'dir': <function dir>,\n",
              "  'display': <function IPython.core.display.display>,\n",
              "  'divmod': <function divmod>,\n",
              "  'dreload': <function IPython.lib.deepreload._dreload>,\n",
              "  'enumerate': enumerate,\n",
              "  'eval': <function eval>,\n",
              "  'exec': <function exec>,\n",
              "  'execfile': <function _pydev_imps._pydev_execfile.execfile>,\n",
              "  'filter': filter,\n",
              "  'float': float,\n",
              "  'format': <function format>,\n",
              "  'frozenset': frozenset,\n",
              "  'get_ipython': <bound method InteractiveShell.get_ipython of <google.colab._shell.Shell object at 0x7f23fb6a5c10>>,\n",
              "  'getattr': <function getattr>,\n",
              "  'globals': <function globals>,\n",
              "  'hasattr': <function hasattr>,\n",
              "  'hash': <function hash>,\n",
              "  'help': Type help() for interactive help, or help(object) for help about object.,\n",
              "  'hex': <function hex>,\n",
              "  'id': <function id>,\n",
              "  'input': <bound method Kernel.raw_input of <google.colab._kernel.Kernel object at 0x7f23fb6a5b90>>,\n",
              "  'int': int,\n",
              "  'isinstance': <function isinstance>,\n",
              "  'issubclass': <function issubclass>,\n",
              "  'iter': <function iter>,\n",
              "  'len': <function len>,\n",
              "  'license': Type license() to see the full license text,\n",
              "  'list': list,\n",
              "  'locals': <function locals>,\n",
              "  'map': map,\n",
              "  'max': <function max>,\n",
              "  'memoryview': memoryview,\n",
              "  'min': <function min>,\n",
              "  'next': <function next>,\n",
              "  'object': object,\n",
              "  'oct': <function oct>,\n",
              "  'open': <function io.open>,\n",
              "  'ord': <function ord>,\n",
              "  'pow': <function pow>,\n",
              "  'print': <function print>,\n",
              "  'property': property,\n",
              "  'range': range,\n",
              "  'repr': <function repr>,\n",
              "  'reversed': reversed,\n",
              "  'round': <function round>,\n",
              "  'runfile': <function _pydev_bundle.pydev_umd.runfile>,\n",
              "  'set': set,\n",
              "  'setattr': <function setattr>,\n",
              "  'slice': slice,\n",
              "  'sorted': <function sorted>,\n",
              "  'staticmethod': staticmethod,\n",
              "  'str': str,\n",
              "  'sum': <function sum>,\n",
              "  'super': super,\n",
              "  'tuple': tuple,\n",
              "  'type': type,\n",
              "  'vars': <function vars>,\n",
              "  'zip': zip},\n",
              " '__cached__': '/usr/lib/python3.7/__pycache__/random.cpython-37.pyc',\n",
              " '__doc__': 'Random variable generators.\\n\\n    integers\\n    --------\\n           uniform within range\\n\\n    sequences\\n    ---------\\n           pick random element\\n           pick random sample\\n           pick weighted random sample\\n           generate random permutation\\n\\n    distributions on the real line:\\n    ------------------------------\\n           uniform\\n           triangular\\n           normal (Gaussian)\\n           lognormal\\n           negative exponential\\n           gamma\\n           beta\\n           pareto\\n           Weibull\\n\\n    distributions on the circle (angles 0 to 2pi)\\n    ---------------------------------------------\\n           circular uniform\\n           von Mises\\n\\nGeneral notes on the underlying Mersenne Twister core generator:\\n\\n* The period is 2**19937-1.\\n* It is one of the most extensively tested generators in existence.\\n* The random() method is implemented in C, executes in a single Python step,\\n  and is, therefore, threadsafe.\\n\\n',\n",
              " '__file__': '/usr/lib/python3.7/random.py',\n",
              " '__loader__': <_frozen_importlib_external.SourceFileLoader at 0x7f2416600cd0>,\n",
              " '__name__': 'random',\n",
              " '__package__': '',\n",
              " '__spec__': ModuleSpec(name='random', loader=<_frozen_importlib_external.SourceFileLoader object at 0x7f2416600cd0>, origin='/usr/lib/python3.7/random.py'),\n",
              " '_acos': <function math.acos>,\n",
              " '_bisect': <module 'bisect' from '/usr/lib/python3.7/bisect.py'>,\n",
              " '_ceil': <function math.ceil>,\n",
              " '_cos': <function math.cos>,\n",
              " '_e': 2.718281828459045,\n",
              " '_exp': <function math.exp>,\n",
              " '_inst': <random.Random at 0x5570ba996120>,\n",
              " '_itertools': <module 'itertools' (built-in)>,\n",
              " '_log': <function math.log>,\n",
              " '_os': <module 'os' from '/usr/lib/python3.7/os.py'>,\n",
              " '_pi': 3.141592653589793,\n",
              " '_random': <module '_random' (built-in)>,\n",
              " '_sha512': <function _hashlib.openssl_sha512>,\n",
              " '_sin': <function math.sin>,\n",
              " '_sqrt': <function math.sqrt>,\n",
              " '_test': <function random._test>,\n",
              " '_test_generator': <function random._test_generator>,\n",
              " '_urandom': <function posix.urandom>,\n",
              " '_warn': <function _warnings.warn>,\n",
              " 'betavariate': <bound method Random.betavariate of <random.Random object at 0x5570ba996120>>,\n",
              " 'choice': <bound method Random.choice of <random.Random object at 0x5570ba996120>>,\n",
              " 'choices': <bound method Random.choices of <random.Random object at 0x5570ba996120>>,\n",
              " 'expovariate': <bound method Random.expovariate of <random.Random object at 0x5570ba996120>>,\n",
              " 'gammavariate': <bound method Random.gammavariate of <random.Random object at 0x5570ba996120>>,\n",
              " 'gauss': <bound method Random.gauss of <random.Random object at 0x5570ba996120>>,\n",
              " 'getrandbits': <function Random.getrandbits>,\n",
              " 'getstate': <bound method Random.getstate of <random.Random object at 0x5570ba996120>>,\n",
              " 'lognormvariate': <bound method Random.lognormvariate of <random.Random object at 0x5570ba996120>>,\n",
              " 'normalvariate': <bound method Random.normalvariate of <random.Random object at 0x5570ba996120>>,\n",
              " 'paretovariate': <bound method Random.paretovariate of <random.Random object at 0x5570ba996120>>,\n",
              " 'randint': <bound method Random.randint of <random.Random object at 0x5570ba996120>>,\n",
              " 'random': <function Random.random>,\n",
              " 'randrange': <bound method Random.randrange of <random.Random object at 0x5570ba996120>>,\n",
              " 'sample': <bound method Random.sample of <random.Random object at 0x5570ba996120>>,\n",
              " 'seed': <bound method Random.seed of <random.Random object at 0x5570ba996120>>,\n",
              " 'setstate': <bound method Random.setstate of <random.Random object at 0x5570ba996120>>,\n",
              " 'shuffle': <bound method Random.shuffle of <random.Random object at 0x5570ba996120>>,\n",
              " 'triangular': <bound method Random.triangular of <random.Random object at 0x5570ba996120>>,\n",
              " 'uniform': <bound method Random.uniform of <random.Random object at 0x5570ba996120>>,\n",
              " 'vonmisesvariate': <bound method Random.vonmisesvariate of <random.Random object at 0x5570ba996120>>,\n",
              " 'weibullvariate': <bound method Random.weibullvariate of <random.Random object at 0x5570ba996120>>}"
            ]
          },
          "metadata": {},
          "execution_count": 27
        }
      ]
    },
    {
      "cell_type": "code",
      "metadata": {
        "id": "O75GKo6tnPWo"
      },
      "source": [
        "import random\n",
        "l = [random.randint(1,100) for _ in range(1000)] "
      ],
      "execution_count": 29,
      "outputs": []
    },
    {
      "cell_type": "code",
      "metadata": {
        "id": "CnszLeV0myMs",
        "outputId": "144e9033-2200-430f-bb62-75d11af948df",
        "colab": {
          "base_uri": "https://localhost:8080/"
        }
      },
      "source": [
        "%%timeit\n",
        "for i in l :\n",
        "  pass"
      ],
      "execution_count": 30,
      "outputs": [
        {
          "output_type": "stream",
          "name": "stdout",
          "text": [
            "100000 loops, best of 5: 15.5 µs per loop\n"
          ]
        }
      ]
    },
    {
      "cell_type": "code",
      "metadata": {
        "id": "iNe_7pJfnQx5",
        "outputId": "120f3235-c8ec-4fc1-ac6e-c1e7ddbfa763",
        "colab": {
          "base_uri": "https://localhost:8080/"
        }
      },
      "source": [
        "%%timeit\n",
        "for i in set(l) :\n",
        "  pass"
      ],
      "execution_count": 31,
      "outputs": [
        {
          "output_type": "stream",
          "name": "stdout",
          "text": [
            "100000 loops, best of 5: 13.5 µs per loop\n"
          ]
        }
      ]
    },
    {
      "cell_type": "code",
      "metadata": {
        "id": "SJnsVbROjoIg",
        "outputId": "521be3c8-96c7-46f5-82d4-9c6dc1cfcf8e",
        "colab": {
          "base_uri": "https://localhost:8080/"
        }
      },
      "source": [
        "my_set.remove(2.7)\n",
        "my_set.pop()\n",
        "print(my_set)\n",
        "\n",
        "# some additional operations\n",
        "first = {1, 2, 3, 4, 5, 6}\n",
        "second = {4, 5, 6, 7, 8, 9}\n",
        "\n",
        "print(first | second)\n",
        "print(first & second)\n",
        "print(first - second)\n",
        "print(first ^ second)"
      ],
      "execution_count": 32,
      "outputs": [
        {
          "output_type": "stream",
          "name": "stdout",
          "text": [
            "{6}\n",
            "{1, 2, 3, 4, 5, 6, 7, 8, 9}\n",
            "{4, 5, 6}\n",
            "{1, 2, 3}\n",
            "{1, 2, 3, 7, 8, 9}\n"
          ]
        }
      ]
    },
    {
      "cell_type": "markdown",
      "metadata": {
        "id": "z_PxnTd5jz0A"
      },
      "source": [
        "### So, what are the operations that can be perfomed on mutable and immutable objects in Python?\n",
        "\n",
        "#### Both mutable and immutable\n",
        "\n",
        "| Operation | Result |\n",
        "|:---:|:---:|\n",
        "| len(s) | cardinality of set s |\n",
        "| x in s | test x for membership in s |\n",
        "| x not in s | test x for non-membership in s |\n",
        "| s.issubset(t)\t| test whether every element in s is in t |\n",
        "| s.issuperset(t) | test whether every element in t is in s |\n",
        "| s.union(t) | new set with elements from both s and t |\n",
        "| s.intersection(t) | new set with elements common to s and t |\n",
        "| s.difference(t) | new set with elements in s but not in t |\n",
        "| s.symmetric_difference(t)\t| new set with elements in either s or t but not both |\n",
        "| s.copy() | new set with a shallow copy of s |\n",
        "\n",
        "#### Only mutable\n",
        "\n",
        "| Operation | Result |\n",
        "|:---:|:---:|\n",
        "| s.update(t) | update set s, adding elements from t\n",
        "| s.intersection_update(t)\t| update set s, keeping only elements found in both s and t\n",
        "| s.difference_update(t) | update set s, removing elements found in t\n",
        "| s.symmetric_difference_update(t) | update set s, keeping only elements found in either s or t but not in both\n",
        "| s.add(x) | add element x to set s\n",
        "| s.remove(x) | remove x from set s; raises KeyError if not present\n",
        "| s.discard(x) | removes x from set s if present\n",
        "| s.pop() | remove and return an arbitrary element from s; raises KeyError if empty\n",
        "| s.clear() | remove all elements from set s\n",
        "\n",
        "### Also, when to use these data structures?\n",
        "\n",
        "When to use a __dictionary__:\n",
        "- When you need a logical association between a key:value pair.\n",
        "- When you need fast lookup for your data, based on a custom key.\n",
        "- When your data is being constantly modified.\n",
        "\n",
        "When to use the __other types__:\n",
        "- Use __lists__ if you have a collection of data that does not need random access. Try to choose lists when you need a simple, iterable collection that is modified frequently.\n",
        "- Use a __set__ if you need uniqueness for the elements.\n",
        "- Use __tuples__ when your data cannot change."
      ]
    },
    {
      "cell_type": "markdown",
      "metadata": {
        "id": "jH-AsGJ3j3x8"
      },
      "source": [
        "# Conditional statements, loops <a name=\"loops\"></a>\n",
        "\n",
        "## if, elif, else\n",
        "\n",
        "Python uses __if__ statements to run code if a certain condition holds _True_, otherwise they aren't.\n",
        "\n",
        "__NOTE__: Python uses __indentation__ (white space at the beginning of a line) to delimit blocks of code. Other languages, such as C, use curly braces to accomplish this, but in Python, indentation is mandatory; programs won't work without it.\n",
        "\n",
        "__To perform more complex checks__, _if_ statements can be __nested__, one inside the other. This means that the inner _if_ statement is the statement part of the outer one.\n",
        "\n",
        "An __else__ statement follows an _if_ statement, and contains code that is called when the _if_ statement evaluates to _False_.\n",
        "\n",
        "The __elif__ (short for else if) statement is a shortcut to use when __chaining if and else statements__. A series of _if elif_ statements can have a final else block, which is called if none of the _if_ or _elif_ expressions is _True_."
      ]
    },
    {
      "cell_type": "code",
      "metadata": {
        "id": "P_xDOgh_jzGC",
        "outputId": "63af7b4a-8947-4556-8bb1-1dbc3e90a54c",
        "colab": {
          "base_uri": "https://localhost:8080/"
        }
      },
      "source": [
        "x = input(\"Enter a number from 0 to 9: \")\n",
        "print(type(x))\n",
        "num = int(x)\n",
        "\n",
        "if num == 3:\n",
        "    print(\"You got 3\")\n",
        "elif num == 6:\n",
        "    print(\"Number is 6\")\n",
        "elif num == 9:\n",
        "    print(\"Looks like 9\")\n",
        "else:\n",
        "    print(\"`If you knew the magnificence of the three, six and nine, you would have a key to the universe.` ~ Tesla\")"
      ],
      "execution_count": 35,
      "outputs": [
        {
          "output_type": "stream",
          "name": "stdout",
          "text": [
            "Enter a number from 0 to 9: 6\n",
            "<class 'str'>\n",
            "Number is 6\n"
          ]
        }
      ]
    },
    {
      "cell_type": "markdown",
      "metadata": {
        "id": "R_kma-cKpGg7"
      },
      "source": [
        "## for\n",
        "\n",
        "The __for__ loop is commonly used to repeat some code a certain number of times on an object known as __iterator__. This is done by combining for loops with __range__ objects.\n",
        "\n",
        "The function range by default starts counting from 0 and goes up to the n-th value i.e. till (n-1). Its first parameter is the starting point, second one is the ending point (n-th value), and the optional third is the step value."
      ]
    },
    {
      "cell_type": "code",
      "metadata": {
        "id": "Q4df53ncpPDm",
        "outputId": "045de81e-8e21-4776-ef7f-d3d78e4c868a",
        "colab": {
          "base_uri": "https://localhost:8080/"
        }
      },
      "source": [
        "x = range(5) #iterable\n",
        "print(x)\n",
        "print(list(x))"
      ],
      "execution_count": 39,
      "outputs": [
        {
          "output_type": "stream",
          "name": "stdout",
          "text": [
            "range(0, 5)\n",
            "[0, 1, 2, 3, 4]\n"
          ]
        }
      ]
    },
    {
      "cell_type": "code",
      "metadata": {
        "id": "Bzv0zwCopbRm",
        "outputId": "9a5366a4-8b74-4502-cb2e-e5f4eae4a483",
        "colab": {
          "base_uri": "https://localhost:8080/"
        }
      },
      "source": [
        "help(range)"
      ],
      "execution_count": 40,
      "outputs": [
        {
          "output_type": "stream",
          "name": "stdout",
          "text": [
            "Help on class range in module builtins:\n",
            "\n",
            "class range(object)\n",
            " |  range(stop) -> range object\n",
            " |  range(start, stop[, step]) -> range object\n",
            " |  \n",
            " |  Return an object that produces a sequence of integers from start (inclusive)\n",
            " |  to stop (exclusive) by step.  range(i, j) produces i, i+1, i+2, ..., j-1.\n",
            " |  start defaults to 0, and stop is omitted!  range(4) produces 0, 1, 2, 3.\n",
            " |  These are exactly the valid indices for a list of 4 elements.\n",
            " |  When step is given, it specifies the increment (or decrement).\n",
            " |  \n",
            " |  Methods defined here:\n",
            " |  \n",
            " |  __bool__(self, /)\n",
            " |      self != 0\n",
            " |  \n",
            " |  __contains__(self, key, /)\n",
            " |      Return key in self.\n",
            " |  \n",
            " |  __eq__(self, value, /)\n",
            " |      Return self==value.\n",
            " |  \n",
            " |  __ge__(self, value, /)\n",
            " |      Return self>=value.\n",
            " |  \n",
            " |  __getattribute__(self, name, /)\n",
            " |      Return getattr(self, name).\n",
            " |  \n",
            " |  __getitem__(self, key, /)\n",
            " |      Return self[key].\n",
            " |  \n",
            " |  __gt__(self, value, /)\n",
            " |      Return self>value.\n",
            " |  \n",
            " |  __hash__(self, /)\n",
            " |      Return hash(self).\n",
            " |  \n",
            " |  __iter__(self, /)\n",
            " |      Implement iter(self).\n",
            " |  \n",
            " |  __le__(self, value, /)\n",
            " |      Return self<=value.\n",
            " |  \n",
            " |  __len__(self, /)\n",
            " |      Return len(self).\n",
            " |  \n",
            " |  __lt__(self, value, /)\n",
            " |      Return self<value.\n",
            " |  \n",
            " |  __ne__(self, value, /)\n",
            " |      Return self!=value.\n",
            " |  \n",
            " |  __reduce__(...)\n",
            " |      Helper for pickle.\n",
            " |  \n",
            " |  __repr__(self, /)\n",
            " |      Return repr(self).\n",
            " |  \n",
            " |  __reversed__(...)\n",
            " |      Return a reverse iterator.\n",
            " |  \n",
            " |  count(...)\n",
            " |      rangeobject.count(value) -> integer -- return number of occurrences of value\n",
            " |  \n",
            " |  index(...)\n",
            " |      rangeobject.index(value) -> integer -- return index of value.\n",
            " |      Raise ValueError if the value is not present.\n",
            " |  \n",
            " |  ----------------------------------------------------------------------\n",
            " |  Static methods defined here:\n",
            " |  \n",
            " |  __new__(*args, **kwargs) from builtins.type\n",
            " |      Create and return a new object.  See help(type) for accurate signature.\n",
            " |  \n",
            " |  ----------------------------------------------------------------------\n",
            " |  Data descriptors defined here:\n",
            " |  \n",
            " |  start\n",
            " |  \n",
            " |  step\n",
            " |  \n",
            " |  stop\n",
            "\n"
          ]
        }
      ]
    },
    {
      "cell_type": "code",
      "metadata": {
        "id": "lQDkecrtpt0c",
        "outputId": "bc13ee55-9886-4e35-bed1-938d01c30023",
        "colab": {
          "base_uri": "https://localhost:8080/"
        }
      },
      "source": [
        "for i in range(1,10,2):\n",
        "  print(i)"
      ],
      "execution_count": 41,
      "outputs": [
        {
          "output_type": "stream",
          "name": "stdout",
          "text": [
            "1\n",
            "3\n",
            "5\n",
            "7\n",
            "9\n"
          ]
        }
      ]
    },
    {
      "cell_type": "code",
      "metadata": {
        "id": "bYaquuDTowvc",
        "outputId": "d4efbdaf-4318-41a6-da7f-04c34cbe4e81",
        "colab": {
          "base_uri": "https://localhost:8080/"
        }
      },
      "source": [
        "for i in range(5):\n",
        "    if i < 3:\n",
        "        print(\"hello!\")\n",
        "    else:\n",
        "        print(\"world\")\n",
        "        \n",
        "print(\"-----------------\")\n",
        "        "
      ],
      "execution_count": 42,
      "outputs": [
        {
          "output_type": "stream",
          "name": "stdout",
          "text": [
            "hello!\n",
            "hello!\n",
            "hello!\n",
            "world\n",
            "world\n",
            "-----------------\n"
          ]
        }
      ]
    },
    {
      "cell_type": "code",
      "metadata": {
        "id": "xIWZUcxqqBFE",
        "outputId": "3192e923-1cb5-424a-cd4a-50a862f6fb37",
        "colab": {
          "base_uri": "https://localhost:8080/"
        }
      },
      "source": [
        "for i in range(2,12,3):\n",
        "    print(i)"
      ],
      "execution_count": 43,
      "outputs": [
        {
          "output_type": "stream",
          "name": "stdout",
          "text": [
            "2\n",
            "5\n",
            "8\n",
            "11\n"
          ]
        }
      ]
    },
    {
      "cell_type": "code",
      "metadata": {
        "id": "WW5l0DYCp1rb",
        "outputId": "f8a15e84-347a-45cf-ee00-ca8dc20e55a8",
        "colab": {
          "base_uri": "https://localhost:8080/"
        }
      },
      "source": [
        "# for loop through list\n",
        "lst = [1,2,3,(4,4.5,5),6]\n",
        "\n",
        "for i in lst:\n",
        "    print(i)"
      ],
      "execution_count": 44,
      "outputs": [
        {
          "output_type": "stream",
          "name": "stdout",
          "text": [
            "1\n",
            "2\n",
            "3\n",
            "(4, 4.5, 5)\n",
            "6\n"
          ]
        }
      ]
    },
    {
      "cell_type": "code",
      "metadata": {
        "id": "y6RowE0JqOcm",
        "outputId": "9a87e5bb-6c02-473f-f2b3-44c5c475215a",
        "colab": {
          "base_uri": "https://localhost:8080/"
        }
      },
      "source": [
        "help(print)"
      ],
      "execution_count": 45,
      "outputs": [
        {
          "output_type": "stream",
          "name": "stdout",
          "text": [
            "Help on built-in function print in module builtins:\n",
            "\n",
            "print(...)\n",
            "    print(value, ..., sep=' ', end='\\n', file=sys.stdout, flush=False)\n",
            "    \n",
            "    Prints the values to a stream, or to sys.stdout by default.\n",
            "    Optional keyword arguments:\n",
            "    file:  a file-like object (stream); defaults to the current sys.stdout.\n",
            "    sep:   string inserted between values, default a space.\n",
            "    end:   string appended after the last value, default a newline.\n",
            "    flush: whether to forcibly flush the stream.\n",
            "\n"
          ]
        }
      ]
    },
    {
      "cell_type": "code",
      "metadata": {
        "id": "YanOa3c7qUjW",
        "outputId": "a513510e-7297-41c5-cae2-ca21a5b98829",
        "colab": {
          "base_uri": "https://localhost:8080/"
        }
      },
      "source": [
        "# for loop through list\n",
        "lst = [1,2,3,(4,4.5,5),6]\n",
        "\n",
        "for i in lst:\n",
        "    print(i,end = ',')"
      ],
      "execution_count": 49,
      "outputs": [
        {
          "output_type": "stream",
          "name": "stdout",
          "text": [
            "1,2,3,(4, 4.5, 5),6,"
          ]
        }
      ]
    },
    {
      "cell_type": "code",
      "metadata": {
        "id": "ee5kA72lqnXm",
        "outputId": "c0933c67-59fa-454a-9d5c-8ac067f01d61",
        "colab": {
          "base_uri": "https://localhost:8080/"
        }
      },
      "source": [
        "lst1 = [1,2,3,4]\n",
        "lst2 = [5,6,7,8]\n",
        "\n",
        "for i,j in zip(lst1,lst2):\n",
        "  print(i,\"sagar\",j,sep = '______________')"
      ],
      "execution_count": 54,
      "outputs": [
        {
          "output_type": "stream",
          "name": "stdout",
          "text": [
            "1______________sagar______________5\n",
            "2______________sagar______________6\n",
            "3______________sagar______________7\n",
            "4______________sagar______________8\n"
          ]
        }
      ]
    },
    {
      "cell_type": "code",
      "metadata": {
        "id": "bUQ4EjikrIG7",
        "outputId": "67bfa655-e8ca-4e0d-eb88-25e75886834e",
        "colab": {
          "base_uri": "https://localhost:8080/"
        }
      },
      "source": [
        "t1 = {}\n",
        "type(t1)"
      ],
      "execution_count": 55,
      "outputs": [
        {
          "output_type": "execute_result",
          "data": {
            "text/plain": [
              "dict"
            ]
          },
          "metadata": {},
          "execution_count": 55
        }
      ]
    },
    {
      "cell_type": "code",
      "metadata": {
        "id": "32O7vu7GrOjN",
        "outputId": "af2968e6-c9c2-43ce-8995-2a3b2c78810b",
        "colab": {
          "base_uri": "https://localhost:8080/"
        }
      },
      "source": [
        "t1 = {1}\n",
        "type(t1)"
      ],
      "execution_count": 56,
      "outputs": [
        {
          "output_type": "execute_result",
          "data": {
            "text/plain": [
              "set"
            ]
          },
          "metadata": {},
          "execution_count": 56
        }
      ]
    },
    {
      "cell_type": "code",
      "metadata": {
        "id": "GaP5TPfKrUJT",
        "outputId": "18fd0164-932d-4c57-a443-6adfc1200b37",
        "colab": {
          "base_uri": "https://localhost:8080/"
        }
      },
      "source": [
        "t1 = set()\n",
        "type(t1)"
      ],
      "execution_count": 57,
      "outputs": [
        {
          "output_type": "execute_result",
          "data": {
            "text/plain": [
              "set"
            ]
          },
          "metadata": {},
          "execution_count": 57
        }
      ]
    },
    {
      "cell_type": "code",
      "metadata": {
        "id": "1WgjQ3HVp4RU",
        "outputId": "5c3e2fe8-1e61-4455-c877-adf96800d7ab",
        "colab": {
          "base_uri": "https://localhost:8080/"
        }
      },
      "source": [
        "# another way of creating dictionary\n",
        "\n",
        "keys = ['a', 'b', 'c']\n",
        "values = [1, 2, 3]\n",
        "\n",
        "my_new_dict = {}\n",
        "\n",
        "for (k,v) in zip(keys, values):\n",
        "    my_new_dict[k] = v\n",
        "    \n",
        "print(my_new_dict)"
      ],
      "execution_count": 58,
      "outputs": [
        {
          "output_type": "stream",
          "name": "stdout",
          "text": [
            "{'a': 1, 'b': 2, 'c': 3}\n"
          ]
        }
      ]
    },
    {
      "cell_type": "code",
      "metadata": {
        "id": "_nndd9IGrjOL",
        "outputId": "57ffa5aa-31bc-4b51-c618-a4055a561c36",
        "colab": {
          "base_uri": "https://localhost:8080/"
        }
      },
      "source": [
        "temp = {'a': 1, 'b': 2, 'c': 3}\n",
        "temp['d'] = 100\n",
        "print(temp)"
      ],
      "execution_count": 60,
      "outputs": [
        {
          "output_type": "stream",
          "name": "stdout",
          "text": [
            "{'a': 1, 'b': 2, 'c': 3, 'd': 100}\n"
          ]
        }
      ]
    },
    {
      "cell_type": "markdown",
      "metadata": {
        "id": "KLWc1YdZr-SR"
      },
      "source": [
        "### Two questions for you guys\n",
        "\n",
        "1. Ever wondered why people use _i_ in for loop?\n",
        "2. What is the difference between __range(x)__ and __list(range(x))__?"
      ]
    },
    {
      "cell_type": "code",
      "metadata": {
        "id": "tHbc0WZPryrO",
        "outputId": "1fa4e2b6-bd89-4690-9112-bff750487c3b",
        "colab": {
          "base_uri": "https://localhost:8080/"
        }
      },
      "source": [
        "print(list(range(5)))\n",
        "print((range(5)))"
      ],
      "execution_count": 61,
      "outputs": [
        {
          "output_type": "stream",
          "name": "stdout",
          "text": [
            "[0, 1, 2, 3, 4]\n",
            "range(0, 5)\n"
          ]
        }
      ]
    },
    {
      "cell_type": "markdown",
      "metadata": {
        "id": "Ktezm-0CsOdR"
      },
      "source": [
        "### Answer\n",
        "\n",
        "1. The i stands for the item to be accessed from any iterable or range object.\n",
        "\n",
        "2. When you execute _?range_, it will say that range returns an object that produces a sequence of integers from start (inclusive) to stop (exclusive) by step __without assigning indexes to the values__. Rather, it generates only one number at a time, relying on a __for__ loop to request for the next item in the range to be seen. However, __list(range()) does assign indices__ and hence allows you to see the full sequence of the numbers immediately, without the assistance of a _for_ loop."
      ]
    },
    {
      "cell_type": "markdown",
      "metadata": {
        "id": "os0f9LlGsfhC"
      },
      "source": [
        "## while\n",
        "\n",
        "An __if__ statement is __run once__ if its condition evaluates to _True_. A __while__ statement is similar, except that it can be __run more than once__. The statements inside it are repeatedly executed, as long as the condition holds _True_. Once it evaluates to False, the next section of code is executed.\n",
        "\n",
        "The __infinite loop__ is a special kind of while loop where the condition is always True and never stops iterating.\n",
        "\n",
        "To end a while loop prematurely, the __break__ statement can be used inside the loop.\n",
        "\n",
        "When a continue statement is encountered, the code flow jumps back to the top of the loop, rather than stopping it. Basically it __stops the current iteration__ and continues with the next one."
      ]
    },
    {
      "cell_type": "code",
      "metadata": {
        "id": "tqxS0PMXsKVb",
        "outputId": "d8441a26-472f-44d4-b69a-204507d2804d",
        "colab": {
          "base_uri": "https://localhost:8080/"
        }
      },
      "source": [
        "import time\n",
        "\n",
        "mewtwo_cp = 30\n",
        "umbreon_dark_pulse = 3\n",
        "fight = True\n",
        "\n",
        "print(\"You attacked Mewtwo! CP left: {}\".format(mewtwo_cp))\n",
        "\n",
        "while fight:\n",
        "    print(\"Umbreon used Dark Pulse!\\n\")\n",
        "    mewtwo_cp = mewtwo_cp - umbreon_dark_pulse\n",
        "    \n",
        "    if mewtwo_cp == 15:\n",
        "        print(\"He's halfway dead!\") \n",
        "        continue\n",
        "    elif mewtwo_cp == 9: \n",
        "        print(\"Take him down!\")\n",
        "        continue\n",
        "    elif mewtwo_cp == 3:\n",
        "        print(\"Now's your chance\") \n",
        "        continue\n",
        "    \n",
        "    if mewtwo_cp <= 0:\n",
        "        print(\"Dead!\")\n",
        "        break\n",
        "    \n",
        "    print(\"Mewtwo CP left: {}\".format(mewtwo_cp))\n",
        "    time.sleep(1)\n",
        "    \n",
        "print(\"Congrats! Your Umbreon won.\")"
      ],
      "execution_count": 62,
      "outputs": [
        {
          "output_type": "stream",
          "name": "stdout",
          "text": [
            "You attacked Mewtwo! CP left: 30\n",
            "Umbreon used Dark Pulse!\n",
            "\n",
            "Mewtwo CP left: 27\n",
            "Umbreon used Dark Pulse!\n",
            "\n",
            "Mewtwo CP left: 24\n",
            "Umbreon used Dark Pulse!\n",
            "\n",
            "Mewtwo CP left: 21\n",
            "Umbreon used Dark Pulse!\n",
            "\n",
            "Mewtwo CP left: 18\n",
            "Umbreon used Dark Pulse!\n",
            "\n",
            "He's halfway dead!\n",
            "Umbreon used Dark Pulse!\n",
            "\n",
            "Mewtwo CP left: 12\n",
            "Umbreon used Dark Pulse!\n",
            "\n",
            "Take him down!\n",
            "Umbreon used Dark Pulse!\n",
            "\n",
            "Mewtwo CP left: 6\n",
            "Umbreon used Dark Pulse!\n",
            "\n",
            "Now's your chance\n",
            "Umbreon used Dark Pulse!\n",
            "\n",
            "Dead!\n",
            "Congrats! Your Umbreon won.\n"
          ]
        }
      ]
    },
    {
      "cell_type": "markdown",
      "metadata": {
        "id": "XdynlPA4tLKR"
      },
      "source": [
        "# File I/O <a name=\"io\"></a>\n",
        "\n",
        "Python can be used to __read__ and __write__ the contents of files. Text files are the easiest to manipulate.\n",
        "\n",
        "### open\n",
        "Before a file can be edited, it must be _opened_, using the __open__ function. The __argument__ of the open function is the _path to the file_. If the file is in the current working directory of the program, you can specify only its name.\n",
        "\n",
        "### mode\n",
        "There are __mode__ used to open a file by applying a _second argument_ to the open function.\n",
        "* \"r\" means open in __read__ mode, which is the default.\n",
        "* \"w\" means __write__ mode, for rewriting the contents of a file.\n",
        "* \"a\" means __append__ mode, for adding new content to the end of the file.\n",
        "* \"b\" means __binary__ mode, which is used for non-text files (such as image and sound files).\n",
        "\n",
        "### read\n",
        "The contents of a file that has been opened in text mode can be read using the __read__ method. To __read only a certain amount of a file, you can provide a number as an argument__ to the read function. This determines the __number of bytes__ that should be read.\n",
        "\n",
        "After all contents in a file have been read, any attempts to read further from that file will return an _empty string_, because you are trying to read __from the end of the file__. \n",
        "\n",
        "To retrieve __each line__ in a file, you can use the __readlines__ method to _return a list in which each element is a line in the file_.\n",
        "\n",
        "__NOTE__: There is a __readline__ and a __readlines__ method. _readline()_ reads one line character at a time, _readlines()_ reads in the whole file at once and splits it by line.\n",
        "\n",
        "### write\n",
        "To write to files we use the __write__ method, which writes a string to the file. The \"w\" mode will _create a file, if it does not already exist_. When a file is opened in write mode, the file's __existing content is deleted__. The write method __returns the number of bytes__ written to a file, if successful.\n",
        "\n",
        "__NOTE__: If you need to write anything other than string on a file, it has to be converted to a string first.\n",
        "\n",
        "### close\n",
        "Once a file has been opened and used, it should be closed which is done with the __close__ method of the file object.\n",
        "\n",
        "### Alternative approach of file access\n",
        "An alternative way of doing it is using __with__ statements. This creates a temporary variable (often called __f__), which is only accessible in the indented block of the with statement. The file is __automatically closed__ at the end of the with statement, even if exceptions occur within it."
      ]
    },
    {
      "cell_type": "code",
      "metadata": {
        "id": "oy5WmhQWs6Oc",
        "outputId": "07aadf37-dbe0-4c41-acdd-f9a89dc16794",
        "colab": {
          "base_uri": "https://localhost:8080/"
        }
      },
      "source": [
        "help(open)"
      ],
      "execution_count": 63,
      "outputs": [
        {
          "output_type": "stream",
          "name": "stdout",
          "text": [
            "Help on built-in function open in module io:\n",
            "\n",
            "open(file, mode='r', buffering=-1, encoding=None, errors=None, newline=None, closefd=True, opener=None)\n",
            "    Open file and return a stream.  Raise OSError upon failure.\n",
            "    \n",
            "    file is either a text or byte string giving the name (and the path\n",
            "    if the file isn't in the current working directory) of the file to\n",
            "    be opened or an integer file descriptor of the file to be\n",
            "    wrapped. (If a file descriptor is given, it is closed when the\n",
            "    returned I/O object is closed, unless closefd is set to False.)\n",
            "    \n",
            "    mode is an optional string that specifies the mode in which the file\n",
            "    is opened. It defaults to 'r' which means open for reading in text\n",
            "    mode.  Other common values are 'w' for writing (truncating the file if\n",
            "    it already exists), 'x' for creating and writing to a new file, and\n",
            "    'a' for appending (which on some Unix systems, means that all writes\n",
            "    append to the end of the file regardless of the current seek position).\n",
            "    In text mode, if encoding is not specified the encoding used is platform\n",
            "    dependent: locale.getpreferredencoding(False) is called to get the\n",
            "    current locale encoding. (For reading and writing raw bytes use binary\n",
            "    mode and leave encoding unspecified.) The available modes are:\n",
            "    \n",
            "    ========= ===============================================================\n",
            "    Character Meaning\n",
            "    --------- ---------------------------------------------------------------\n",
            "    'r'       open for reading (default)\n",
            "    'w'       open for writing, truncating the file first\n",
            "    'x'       create a new file and open it for writing\n",
            "    'a'       open for writing, appending to the end of the file if it exists\n",
            "    'b'       binary mode\n",
            "    't'       text mode (default)\n",
            "    '+'       open a disk file for updating (reading and writing)\n",
            "    'U'       universal newline mode (deprecated)\n",
            "    ========= ===============================================================\n",
            "    \n",
            "    The default mode is 'rt' (open for reading text). For binary random\n",
            "    access, the mode 'w+b' opens and truncates the file to 0 bytes, while\n",
            "    'r+b' opens the file without truncation. The 'x' mode implies 'w' and\n",
            "    raises an `FileExistsError` if the file already exists.\n",
            "    \n",
            "    Python distinguishes between files opened in binary and text modes,\n",
            "    even when the underlying operating system doesn't. Files opened in\n",
            "    binary mode (appending 'b' to the mode argument) return contents as\n",
            "    bytes objects without any decoding. In text mode (the default, or when\n",
            "    't' is appended to the mode argument), the contents of the file are\n",
            "    returned as strings, the bytes having been first decoded using a\n",
            "    platform-dependent encoding or using the specified encoding if given.\n",
            "    \n",
            "    'U' mode is deprecated and will raise an exception in future versions\n",
            "    of Python.  It has no effect in Python 3.  Use newline to control\n",
            "    universal newlines mode.\n",
            "    \n",
            "    buffering is an optional integer used to set the buffering policy.\n",
            "    Pass 0 to switch buffering off (only allowed in binary mode), 1 to select\n",
            "    line buffering (only usable in text mode), and an integer > 1 to indicate\n",
            "    the size of a fixed-size chunk buffer.  When no buffering argument is\n",
            "    given, the default buffering policy works as follows:\n",
            "    \n",
            "    * Binary files are buffered in fixed-size chunks; the size of the buffer\n",
            "      is chosen using a heuristic trying to determine the underlying device's\n",
            "      \"block size\" and falling back on `io.DEFAULT_BUFFER_SIZE`.\n",
            "      On many systems, the buffer will typically be 4096 or 8192 bytes long.\n",
            "    \n",
            "    * \"Interactive\" text files (files for which isatty() returns True)\n",
            "      use line buffering.  Other text files use the policy described above\n",
            "      for binary files.\n",
            "    \n",
            "    encoding is the name of the encoding used to decode or encode the\n",
            "    file. This should only be used in text mode. The default encoding is\n",
            "    platform dependent, but any encoding supported by Python can be\n",
            "    passed.  See the codecs module for the list of supported encodings.\n",
            "    \n",
            "    errors is an optional string that specifies how encoding errors are to\n",
            "    be handled---this argument should not be used in binary mode. Pass\n",
            "    'strict' to raise a ValueError exception if there is an encoding error\n",
            "    (the default of None has the same effect), or pass 'ignore' to ignore\n",
            "    errors. (Note that ignoring encoding errors can lead to data loss.)\n",
            "    See the documentation for codecs.register or run 'help(codecs.Codec)'\n",
            "    for a list of the permitted encoding error strings.\n",
            "    \n",
            "    newline controls how universal newlines works (it only applies to text\n",
            "    mode). It can be None, '', '\\n', '\\r', and '\\r\\n'.  It works as\n",
            "    follows:\n",
            "    \n",
            "    * On input, if newline is None, universal newlines mode is\n",
            "      enabled. Lines in the input can end in '\\n', '\\r', or '\\r\\n', and\n",
            "      these are translated into '\\n' before being returned to the\n",
            "      caller. If it is '', universal newline mode is enabled, but line\n",
            "      endings are returned to the caller untranslated. If it has any of\n",
            "      the other legal values, input lines are only terminated by the given\n",
            "      string, and the line ending is returned to the caller untranslated.\n",
            "    \n",
            "    * On output, if newline is None, any '\\n' characters written are\n",
            "      translated to the system default line separator, os.linesep. If\n",
            "      newline is '' or '\\n', no translation takes place. If newline is any\n",
            "      of the other legal values, any '\\n' characters written are translated\n",
            "      to the given string.\n",
            "    \n",
            "    If closefd is False, the underlying file descriptor will be kept open\n",
            "    when the file is closed. This does not work when a file name is given\n",
            "    and must be True in that case.\n",
            "    \n",
            "    A custom opener can be used by passing a callable as *opener*. The\n",
            "    underlying file descriptor for the file object is then obtained by\n",
            "    calling *opener* with (*file*, *flags*). *opener* must return an open\n",
            "    file descriptor (passing os.open as *opener* results in functionality\n",
            "    similar to passing None).\n",
            "    \n",
            "    open() returns a file object whose type depends on the mode, and\n",
            "    through which the standard file operations such as reading and writing\n",
            "    are performed. When open() is used to open a file in a text mode ('w',\n",
            "    'r', 'wt', 'rt', etc.), it returns a TextIOWrapper. When used to open\n",
            "    a file in a binary mode, the returned class varies: in read binary\n",
            "    mode, it returns a BufferedReader; in write binary and append binary\n",
            "    modes, it returns a BufferedWriter, and in read/write mode, it returns\n",
            "    a BufferedRandom.\n",
            "    \n",
            "    It is also possible to use a string or bytearray as a file for both\n",
            "    reading and writing. For strings StringIO can be used like a file\n",
            "    opened in a text mode, and for bytes a BytesIO can be used like a file\n",
            "    opened in a binary mode.\n",
            "\n"
          ]
        }
      ]
    },
    {
      "cell_type": "code",
      "metadata": {
        "id": "dPVCpZ56tmPS",
        "outputId": "01af0f50-b54c-4a84-8e6e-accfb6c8e842",
        "colab": {
          "base_uri": "https://localhost:8080/"
        }
      },
      "source": [
        "!ls"
      ],
      "execution_count": 65,
      "outputs": [
        {
          "output_type": "stream",
          "name": "stdout",
          "text": [
            "def_NN.txt  sample_data\n"
          ]
        }
      ]
    },
    {
      "cell_type": "code",
      "metadata": {
        "id": "ONnHmFPGtSYH",
        "outputId": "b9f83456-10e7-4f34-f814-7c026e09931f",
        "colab": {
          "base_uri": "https://localhost:8080/"
        }
      },
      "source": [
        "file = open(\"def_NN.txt\", \"r\")\n",
        "print(\"------- Reading the content -------\\n\")\n",
        "file_content = file.read()\n",
        "\n",
        "print(file_content)\n",
        "print(\"------- Re-reading -------\")\n",
        "print(file.read())\n",
        "print(\"------- Finished! --------\\n\")\n",
        "print(\"------- Closing the file -------\")\n",
        "file.close()\n",
        "\n",
        "# try readlines"
      ],
      "execution_count": 66,
      "outputs": [
        {
          "output_type": "stream",
          "name": "stdout",
          "text": [
            "------- Reading the content -------\n",
            "\n",
            "Sagara\n",
            "bjhsduhvbjd\n",
            "vghvsdhgvd\n",
            "bjsjhds\n",
            "vjdvjd\n",
            "\n",
            "------- Re-reading -------\n",
            "\n",
            "------- Finished! --------\n",
            "\n",
            "------- Closing the file -------\n"
          ]
        }
      ]
    },
    {
      "cell_type": "code",
      "metadata": {
        "id": "1dkd6UhstjAW",
        "outputId": "38a32115-3d45-46bd-98ca-dfa5732e6a08",
        "colab": {
          "base_uri": "https://localhost:8080/"
        }
      },
      "source": [
        "file = open(\"joker.txt\", \"r\")\n",
        "print(\"------- Reading initial contents ------- \\n\")\n",
        "print(file.read())\n",
        "print(\"------- Finished ------- \\n\")\n",
        "file.close()\n",
        "\n",
        "file = open(\"joker.txt\", \"w\")\n",
        "amount_written = file.write(\"I believe whatever doesn't kill you simply makes you...stranger.\")\n",
        "print(\"Amount of text written: {}\\n\".format(amount_written))\n",
        "file.close()\n",
        "\n",
        "file = open(\"joker.txt\", \"r\")\n",
        "print(\"------- Reading new contents ------- \\n\")\n",
        "print(file.read())\n",
        "print(\"\\n ------- Finished -------\")\n",
        "file.close()"
      ],
      "execution_count": 67,
      "outputs": [
        {
          "output_type": "stream",
          "name": "stdout",
          "text": [
            "------- Reading initial contents ------- \n",
            "\n",
            "Sagara\n",
            "bjhsduhvbjd\n",
            "vghvsdhgvd\n",
            "bjsjhds\n",
            "vjdvjd\n",
            "\n",
            "------- Finished ------- \n",
            "\n",
            "Amount of text written: 64\n",
            "\n",
            "------- Reading new contents ------- \n",
            "\n",
            "I believe whatever doesn't kill you simply makes you...stranger.\n",
            "\n",
            " ------- Finished -------\n"
          ]
        }
      ]
    },
    {
      "cell_type": "code",
      "metadata": {
        "id": "czTm8j1nuK6S",
        "outputId": "975312c5-525f-49f7-a1aa-6ef58a822d57",
        "colab": {
          "base_uri": "https://localhost:8080/"
        }
      },
      "source": [
        "# alternative approach\n",
        "with open(\"joker.txt\",'r') as f:\n",
        "    print(f.read())\n"
      ],
      "execution_count": 73,
      "outputs": [
        {
          "output_type": "stream",
          "name": "stdout",
          "text": [
            "hsjvjddvjvrjkvrjvrfjhvcjnjc\n"
          ]
        }
      ]
    }
  ]
}