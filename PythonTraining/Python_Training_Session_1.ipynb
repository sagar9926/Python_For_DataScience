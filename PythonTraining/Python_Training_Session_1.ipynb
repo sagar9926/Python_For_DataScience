{
  "nbformat": 4,
  "nbformat_minor": 0,
  "metadata": {
    "colab": {
      "name": "Python Training Session 1.ipynb",
      "provenance": [],
      "collapsed_sections": [
        "BKOFJFFDp-sQ"
      ],
      "authorship_tag": "ABX9TyM2Zxw6MlLk+Qc6ZIjE4rSy",
      "include_colab_link": true
    },
    "kernelspec": {
      "name": "python3",
      "display_name": "Python 3"
    },
    "language_info": {
      "name": "python"
    }
  },
  "cells": [
    {
      "cell_type": "markdown",
      "metadata": {
        "id": "view-in-github",
        "colab_type": "text"
      },
      "source": [
        "<a href=\"https://colab.research.google.com/github/sagar9926/Python_For_DataScience/blob/master/PythonTraining/Python_Training_Session_1.ipynb\" target=\"_parent\"><img src=\"https://colab.research.google.com/assets/colab-badge.svg\" alt=\"Open In Colab\"/></a>"
      ]
    },
    {
      "cell_type": "markdown",
      "metadata": {
        "id": "BKOFJFFDp-sQ"
      },
      "source": [
        "# Table of Content:\n",
        "* [Small test](#test)\n",
        "* [More Data Types](#more_types)\n",
        "* [Conditional statements, Loops](#loops)\n",
        "* [File I/O](#io)\n",
        "* [Exception Handling](#handling)\n",
        "* [Answers](#answer)"
      ]
    },
    {
      "cell_type": "code",
      "metadata": {
        "colab": {
          "base_uri": "https://localhost:8080/"
        },
        "id": "BURuSfBdp7kP",
        "outputId": "814c9f47-e3a6-453f-d980-3857a2b30238"
      },
      "source": [
        "# Small test\n",
        "\n",
        "def operation(x, y):\n",
        "    return x+y\n",
        "\n",
        "def another_operation(func, x, y):\n",
        "    return func(func(x,y), func(x,y))\n",
        "\n",
        "a = 5\n",
        "b = 25\n",
        "\n",
        "print(another_operation(operation, a, b))"
      ],
      "execution_count": null,
      "outputs": [
        {
          "output_type": "stream",
          "name": "stdout",
          "text": [
            "60\n"
          ]
        }
      ]
    },
    {
      "cell_type": "markdown",
      "metadata": {
        "id": "tHIgNcxdqPbU"
      },
      "source": [
        "# More Data Types <a name=\"more_types\"></a>\n",
        "\n",
        "__List of immutable objects:__\n",
        "* bool\n",
        "* int\n",
        "* float\n",
        "* str\n",
        "* tuple\n",
        "* frozenset\n",
        "\n",
        "__List of mutable objects:__\n",
        "* list\n",
        "* set\n",
        "* dict\n",
        "\n",
        "## List\n",
        "\n",
        "List is a type of __mutable__ object in Python used to store an __indexed__ list of item. It is created using __square brackets__ with commas separating the items. A certain item from the list can be accessed using it's index number.\n",
        "\n",
        "An empty list is created using an empty pair of square brackets.\n",
        "\n",
        "A list can contain items of a __single item type or multiple item type__. A list within a list is also possible which is used to represent 2D grids as Python, by default, lacks multi-dimensional array feature. But this can be achieved using __numpy__ which we will discuss in our Advanced Notebook.\n",
        "\n",
        "__NOTE: Strings can be indexed like a list__.\n"
      ]
    },
    {
      "cell_type": "code",
      "metadata": {
        "colab": {
          "base_uri": "https://localhost:8080/"
        },
        "id": "_LgXjfHYqFlZ",
        "outputId": "f2702746-3034-44bf-fd88-7508a2adf0a0"
      },
      "source": [
        "empty_list = []\n",
        "\n",
        "words = ['Python',3.6,['Up Next','Tuple']]\n",
        "\n",
        "print(words[0])\n",
        "print(words[2][1])\n",
        "\n",
        "print(words[1])\n",
        "words[1]=2.7\n",
        "print(words)\n",
        "\n",
        "## accessing items of string by index\n",
        "short_form = \"User Defined Function\"\n",
        "print(\"In our last class, we went through {}{}{}\".format(short_form[0], short_form[5], short_form[13]))"
      ],
      "execution_count": null,
      "outputs": [
        {
          "output_type": "stream",
          "name": "stdout",
          "text": [
            "Python\n",
            "Tuple\n",
            "3.6\n",
            "['Python', 2.7, ['Up Next', 'Tuple']]\n",
            "In our last class, we went through UDF\n"
          ]
        }
      ]
    },
    {
      "cell_type": "code",
      "metadata": {
        "colab": {
          "base_uri": "https://localhost:8080/"
        },
        "id": "0BlKeTSBgvmV",
        "outputId": "0663afe2-5030-4a09-9f5b-5b21c40dba3a"
      },
      "source": [
        "## basic list operations\n",
        "num_list = [1,2,3]\n",
        "print(num_list + [4,5,6])\n",
        "print(num_list * 2)\n",
        "print(num_list + num_list)\n",
        "print(4 in num_list)\n",
        "print(9 not in num_list)\n",
        "print(not 1 in num_list)"
      ],
      "execution_count": null,
      "outputs": [
        {
          "output_type": "stream",
          "name": "stdout",
          "text": [
            "[1, 2, 3, 4, 5, 6]\n",
            "[1, 2, 3, 1, 2, 3]\n",
            "[1, 2, 3, 1, 2, 3]\n",
            "False\n",
            "True\n",
            "False\n"
          ]
        }
      ]
    },
    {
      "cell_type": "code",
      "metadata": {
        "colab": {
          "base_uri": "https://localhost:8080/"
        },
        "id": "r3cGTxq_jkpg",
        "outputId": "ea368b06-63f4-4596-f2f7-cfb50ccf5947"
      },
      "source": [
        "# list functions and methods\n",
        "num = [1,2,3]\n",
        "num.append(4) # [1,2,3,4]\n",
        "num.append([5,6]) # [1,2,3,4,[5,6]]\n",
        "print(num)\n",
        "print(len(num))\n",
        "\n",
        "num.extend([7,8,9]) # [1,2,3,4,[5,6],7,8,9]\n",
        "print(num)\n",
        "print(len(num))\n",
        "\n",
        "index = 2\n",
        "num.insert(index, 2.5)\n",
        "print(num)\n",
        "\n",
        "print(\"=\" * 50)\n",
        "\n",
        "print(num.index(3))\n",
        "print(num.index(2.0))\n",
        "\n",
        "num.remove([5,6])\n",
        "num.pop(0)\n",
        "print(num)\n",
        "\n",
        "\n",
        "print(max(num))\n",
        "print(num.count(5))\n",
        "\n",
        "num.reverse()\n",
        "print(num)"
      ],
      "execution_count": null,
      "outputs": [
        {
          "output_type": "stream",
          "name": "stdout",
          "text": [
            "[1, 2, 3, 4, [5, 6]]\n",
            "5\n",
            "[1, 2, 3, 4, [5, 6], 7, 8, 9]\n",
            "8\n",
            "[1, 2, 2.5, 3, 4, [5, 6], 7, 8, 9]\n",
            "==================================================\n",
            "3\n",
            "1\n",
            "[2, 2.5, 3, 4, 7, 8, 9]\n",
            "9\n",
            "0\n",
            "[9, 8, 7, 4, 3, 2.5, 2]\n"
          ]
        }
      ]
    },
    {
      "cell_type": "code",
      "metadata": {
        "colab": {
          "base_uri": "https://localhost:8080/"
        },
        "id": "36VbyiVGlFMS",
        "outputId": "2db56e64-3b98-427d-daa1-b1e03faa2f62"
      },
      "source": [
        "num.reverse()\n",
        "print(num)"
      ],
      "execution_count": null,
      "outputs": [
        {
          "output_type": "stream",
          "name": "stdout",
          "text": [
            "[2, 2.5, 3, 4, 7, 8, 9]\n"
          ]
        }
      ]
    },
    {
      "cell_type": "code",
      "metadata": {
        "colab": {
          "base_uri": "https://localhost:8080/"
        },
        "id": "mHQv1nl1l4E2",
        "outputId": "aa45cf43-be37-4862-ee19-311b3d65d862"
      },
      "source": [
        "num[:]"
      ],
      "execution_count": null,
      "outputs": [
        {
          "output_type": "execute_result",
          "data": {
            "text/plain": [
              "[2, 2.5, 3, 4, 7, 8, 9]"
            ]
          },
          "metadata": {},
          "execution_count": 79
        }
      ]
    },
    {
      "cell_type": "code",
      "metadata": {
        "colab": {
          "base_uri": "https://localhost:8080/"
        },
        "id": "PHwax21YlJxM",
        "outputId": "2488dd30-4cd2-4cd6-91f3-bed7a7a03a53"
      },
      "source": [
        "num[0 : 3]"
      ],
      "execution_count": null,
      "outputs": [
        {
          "output_type": "execute_result",
          "data": {
            "text/plain": [
              "[2, 2.5, 3]"
            ]
          },
          "metadata": {},
          "execution_count": 80
        }
      ]
    },
    {
      "cell_type": "code",
      "metadata": {
        "colab": {
          "base_uri": "https://localhost:8080/"
        },
        "id": "5CrFDK26lVRO",
        "outputId": "e30cdc23-ea7b-40fe-f4f5-dcbe2b0dd924"
      },
      "source": [
        "num[0 : 5 : 2]\n",
        "# num[start : end : jump ]\n",
        "#elements :  0 , 0 + 2 , 0 + 2 + 2 "
      ],
      "execution_count": null,
      "outputs": [
        {
          "output_type": "execute_result",
          "data": {
            "text/plain": [
              "[2, 3, 7]"
            ]
          },
          "metadata": {},
          "execution_count": 81
        }
      ]
    },
    {
      "cell_type": "code",
      "metadata": {
        "colab": {
          "base_uri": "https://localhost:8080/"
        },
        "id": "h4DDOFdElhC4",
        "outputId": "da295dae-8ccf-491f-8754-f475add4de73"
      },
      "source": [
        "num[-1]"
      ],
      "execution_count": null,
      "outputs": [
        {
          "output_type": "execute_result",
          "data": {
            "text/plain": [
              "9"
            ]
          },
          "metadata": {},
          "execution_count": 82
        }
      ]
    },
    {
      "cell_type": "code",
      "metadata": {
        "colab": {
          "base_uri": "https://localhost:8080/"
        },
        "id": "eIT7AxMglmif",
        "outputId": "b9a12135-2702-48c9-8c26-0fab7fb4ba59"
      },
      "source": [
        "num[-2]"
      ],
      "execution_count": null,
      "outputs": [
        {
          "output_type": "execute_result",
          "data": {
            "text/plain": [
              "8"
            ]
          },
          "metadata": {},
          "execution_count": 83
        }
      ]
    },
    {
      "cell_type": "code",
      "metadata": {
        "colab": {
          "base_uri": "https://localhost:8080/"
        },
        "id": "1KZU2c0FmE81",
        "outputId": "718a5de5-fe56-488a-9d89-d4da910bd43c"
      },
      "source": [
        "print(num)"
      ],
      "execution_count": null,
      "outputs": [
        {
          "output_type": "stream",
          "name": "stdout",
          "text": [
            "[2, 2.5, 3, 4, 7, 8, 9]\n"
          ]
        }
      ]
    },
    {
      "cell_type": "code",
      "metadata": {
        "colab": {
          "base_uri": "https://localhost:8080/"
        },
        "id": "-ysd4NvtlpXZ",
        "outputId": "49255822-6af1-4da6-8b55-6cdcc1f90bbf"
      },
      "source": [
        "# num[start : end : jump ]\n",
        "# Reversing a list\n",
        "num[ : : -1]\n",
        "\n",
        "# 0  - 1, 0 - 1 - 1\n"
      ],
      "execution_count": null,
      "outputs": [
        {
          "output_type": "execute_result",
          "data": {
            "text/plain": [
              "[9, 8, 7, 4, 3, 2.5, 2]"
            ]
          },
          "metadata": {},
          "execution_count": 85
        }
      ]
    },
    {
      "cell_type": "code",
      "metadata": {
        "colab": {
          "base_uri": "https://localhost:8080/"
        },
        "id": "-VzO53usmUA5",
        "outputId": "41fdc88e-2946-499e-c5ba-03410924d9ec"
      },
      "source": [
        "#Call By Reference\n",
        "\n",
        "list1 = [1,2,3]\n",
        "list2 = list1\n",
        "\n",
        "list2[0] = 100\n",
        "\n",
        "print(list1)\n",
        "print(list2)"
      ],
      "execution_count": null,
      "outputs": [
        {
          "output_type": "stream",
          "name": "stdout",
          "text": [
            "[100, 2, 3]\n",
            "[100, 2, 3]\n"
          ]
        }
      ]
    },
    {
      "cell_type": "code",
      "metadata": {
        "colab": {
          "base_uri": "https://localhost:8080/"
        },
        "id": "KOI3Wnbgmk_d",
        "outputId": "6262b8c9-b3c5-40f9-c34d-1a88f0017fda"
      },
      "source": [
        "# Why list is mutable\n",
        "\n",
        "list1 = [1,2,3]\n",
        "\n",
        "print(hex(id(list1)))\n",
        "\n",
        "list1[0] = 100\n",
        "\n",
        "print(hex(id(list1)))\n"
      ],
      "execution_count": null,
      "outputs": [
        {
          "output_type": "stream",
          "name": "stdout",
          "text": [
            "0x7f23e9f3a050\n",
            "0x7f23e9f3a050\n"
          ]
        }
      ]
    },
    {
      "cell_type": "markdown",
      "metadata": {
        "id": "FDk6bPMxqYoO"
      },
      "source": [
        "## Tuple\n",
        "\n",
        "Tuple is a __immutable__ Python object created using __Parentheses__ with commas separating the items which can be accessed using it's index number.\n",
        "\n",
        "It is just like list, except __you cannot modify or re-assign a value in the tuple. It will throw TypeError__.\n",
        "\n",
        "An empty tuple can also be created in the same way you create empty list.\n",
        "\n",
        "__NOTE: Tuples can also be created without using Parentheses, simply separated by commas.__\n",
        "\n",
        "### But when should we put parenthesis on tuples, and when we shouldn't?\n",
        "\n",
        "__Answer__: We use parentheses for __nested tuple__."
      ]
    },
    {
      "cell_type": "code",
      "metadata": {
        "colab": {
          "base_uri": "https://localhost:8080/"
        },
        "id": "KzRXHCy1nQfG",
        "outputId": "1f676f3a-9a17-4fc4-990e-6442d1d6766f"
      },
      "source": [
        "x = (1,2,3)\n",
        "print(type(x))"
      ],
      "execution_count": null,
      "outputs": [
        {
          "output_type": "stream",
          "name": "stdout",
          "text": [
            "<class 'tuple'>\n"
          ]
        }
      ]
    },
    {
      "cell_type": "code",
      "metadata": {
        "colab": {
          "base_uri": "https://localhost:8080/"
        },
        "id": "DLup449snUbH",
        "outputId": "810ff899-66d7-4ff1-da5d-0379c74f1858"
      },
      "source": [
        "x = 1,\n",
        "print(type(x))"
      ],
      "execution_count": null,
      "outputs": [
        {
          "output_type": "stream",
          "name": "stdout",
          "text": [
            "<class 'tuple'>\n"
          ]
        }
      ]
    },
    {
      "cell_type": "code",
      "metadata": {
        "colab": {
          "base_uri": "https://localhost:8080/"
        },
        "id": "EJWna0tgnW6e",
        "outputId": "7f379a63-2f02-4bf3-e499-d66dbaec6943"
      },
      "source": [
        "x = 1,2,3\n",
        "print(type(x))"
      ],
      "execution_count": null,
      "outputs": [
        {
          "output_type": "stream",
          "name": "stdout",
          "text": [
            "<class 'tuple'>\n"
          ]
        }
      ]
    },
    {
      "cell_type": "code",
      "metadata": {
        "colab": {
          "base_uri": "https://localhost:8080/"
        },
        "id": "wWNsJu9tqVPW",
        "outputId": "eb317aa2-0f6f-4175-dbb2-0a065ec6381f"
      },
      "source": [
        "empty_tuple = ()\n",
        "\n",
        "my_tuple = (\"is\", \"my\", \"tuple\")\n",
        "print(my_tuple[2])\n",
        "my_tuple_l = list(my_tuple)\n",
        "print(type(my_tuple_l),my_tuple_l)"
      ],
      "execution_count": null,
      "outputs": [
        {
          "output_type": "stream",
          "name": "stdout",
          "text": [
            "tuple\n",
            "<class 'list'> ['is', 'my', 'tuple']\n"
          ]
        }
      ]
    },
    {
      "cell_type": "code",
      "metadata": {
        "colab": {
          "base_uri": "https://localhost:8080/",
          "height": 167
        },
        "id": "BFiqclbGnu_2",
        "outputId": "6986b4b2-d873-4771-ecd5-94afe258d386"
      },
      "source": [
        "my_tuple[2] = \"TUPLE\""
      ],
      "execution_count": null,
      "outputs": [
        {
          "output_type": "error",
          "ename": "TypeError",
          "evalue": "ignored",
          "traceback": [
            "\u001b[0;31m---------------------------------------------------------------------------\u001b[0m",
            "\u001b[0;31mTypeError\u001b[0m                                 Traceback (most recent call last)",
            "\u001b[0;32m<ipython-input-92-ca4e45a87aff>\u001b[0m in \u001b[0;36m<module>\u001b[0;34m()\u001b[0m\n\u001b[0;32m----> 1\u001b[0;31m \u001b[0mmy_tuple\u001b[0m\u001b[0;34m[\u001b[0m\u001b[0;36m2\u001b[0m\u001b[0;34m]\u001b[0m \u001b[0;34m=\u001b[0m \u001b[0;34m\"TUPLE\"\u001b[0m\u001b[0;34m\u001b[0m\u001b[0;34m\u001b[0m\u001b[0m\n\u001b[0m",
            "\u001b[0;31mTypeError\u001b[0m: 'tuple' object does not support item assignment"
          ]
        }
      ]
    },
    {
      "cell_type": "code",
      "metadata": {
        "colab": {
          "base_uri": "https://localhost:8080/"
        },
        "id": "4gtQMD7Xn0SX",
        "outputId": "42eb3b91-68f4-4901-eca9-e23f9ffc4e0f"
      },
      "source": [
        "my_tuple_l[2] = \"TUPLE\"\n",
        "my_tuple_l"
      ],
      "execution_count": null,
      "outputs": [
        {
          "output_type": "execute_result",
          "data": {
            "text/plain": [
              "['is', 'my', 'TUPLE']"
            ]
          },
          "metadata": {},
          "execution_count": 93
        }
      ]
    },
    {
      "cell_type": "code",
      "metadata": {
        "colab": {
          "base_uri": "https://localhost:8080/"
        },
        "id": "MHQJo64Zn6Pi",
        "outputId": "3f7b6e69-5cf0-473c-aade-94476d206b75"
      },
      "source": [
        "my_tuple = tuple(my_tuple_l)\n",
        "print(my_tuple)\n"
      ],
      "execution_count": null,
      "outputs": [
        {
          "output_type": "stream",
          "name": "stdout",
          "text": [
            "('is', 'my', 'TUPLE')\n"
          ]
        }
      ]
    },
    {
      "cell_type": "code",
      "metadata": {
        "colab": {
          "base_uri": "https://localhost:8080/"
        },
        "id": "6g6D02Lbneev",
        "outputId": "b3ae2306-78a7-42e2-a5cc-b5f541b4e0dd"
      },
      "source": [
        "also_my_tuple = 'is', 'this', 'one'\n",
        "print(also_my_tuple[2])"
      ],
      "execution_count": null,
      "outputs": [
        {
          "output_type": "stream",
          "name": "stdout",
          "text": [
            "one\n"
          ]
        }
      ]
    },
    {
      "cell_type": "code",
      "metadata": {
        "colab": {
          "base_uri": "https://localhost:8080/"
        },
        "id": "3uo3zwdJn_qt",
        "outputId": "617ea2c1-16e9-45e3-9570-37669ab1fbab"
      },
      "source": [
        "special_case = (1,2,[3,4])\n",
        "print(type(special_case))\n",
        "print(hex(id(special_case)))\n",
        "\n",
        "special_case[2][0] = 10000\n",
        "\n",
        "print(type(special_case))\n",
        "print(hex(id(special_case)))\n",
        "print(special_case)"
      ],
      "execution_count": null,
      "outputs": [
        {
          "output_type": "stream",
          "name": "stdout",
          "text": [
            "<class 'tuple'>\n",
            "0x7f23ec2247d0\n",
            "<class 'tuple'>\n",
            "0x7f23ec2247d0\n",
            "(1, 2, [10000, 4])\n"
          ]
        }
      ]
    },
    {
      "cell_type": "code",
      "metadata": {
        "colab": {
          "base_uri": "https://localhost:8080/",
          "height": 167
        },
        "id": "DUsjjUf1oN9X",
        "outputId": "e346618c-d607-4424-a51a-002f01186e20"
      },
      "source": [
        "special_case[0] = 10000"
      ],
      "execution_count": null,
      "outputs": [
        {
          "output_type": "error",
          "ename": "TypeError",
          "evalue": "ignored",
          "traceback": [
            "\u001b[0;31m---------------------------------------------------------------------------\u001b[0m",
            "\u001b[0;31mTypeError\u001b[0m                                 Traceback (most recent call last)",
            "\u001b[0;32m<ipython-input-97-4fd484763668>\u001b[0m in \u001b[0;36m<module>\u001b[0;34m()\u001b[0m\n\u001b[0;32m----> 1\u001b[0;31m \u001b[0mspecial_case\u001b[0m\u001b[0;34m[\u001b[0m\u001b[0;36m0\u001b[0m\u001b[0;34m]\u001b[0m \u001b[0;34m=\u001b[0m \u001b[0;36m10000\u001b[0m\u001b[0;34m\u001b[0m\u001b[0;34m\u001b[0m\u001b[0m\n\u001b[0m",
            "\u001b[0;31mTypeError\u001b[0m: 'tuple' object does not support item assignment"
          ]
        }
      ]
    },
    {
      "cell_type": "code",
      "metadata": {
        "colab": {
          "base_uri": "https://localhost:8080/"
        },
        "id": "L5fBNPwgomXk",
        "outputId": "42697f68-339f-49d1-c560-cde0a2a8d44d"
      },
      "source": [
        "special_case[0]"
      ],
      "execution_count": null,
      "outputs": [
        {
          "output_type": "execute_result",
          "data": {
            "text/plain": [
              "1"
            ]
          },
          "metadata": {},
          "execution_count": 98
        }
      ]
    },
    {
      "cell_type": "code",
      "metadata": {
        "colab": {
          "base_uri": "https://localhost:8080/"
        },
        "id": "bFHHO-RZoogw",
        "outputId": "6d67d2b1-a6b7-49c9-8a95-4401d111b4ea"
      },
      "source": [
        "special_case[1]"
      ],
      "execution_count": null,
      "outputs": [
        {
          "output_type": "execute_result",
          "data": {
            "text/plain": [
              "2"
            ]
          },
          "metadata": {},
          "execution_count": 99
        }
      ]
    },
    {
      "cell_type": "markdown",
      "metadata": {
        "id": "FScz0Uxvg1e0"
      },
      "source": [
        "## Dictionaries\n",
        "\n",
        "Dictionaries are data structures used __to map keys to values__. Just like list, they are __mutable__ and made using __curly brackets__. \n",
        "\n",
        "Dictionaries can be indexed in the same way as lists, __using square brackets containing keys__. Trying to index a key that isn't a part of the dictionary returns a __KeyError__.\n",
        "\n",
        "The useful dictionary method is __get__. It does same thing as indexing, but if the key is not found in the dictionary, it returns __None__ instead of throwing any error.\n",
        "\n",
        "__NOTE: Only immutable objects can be used as keys to dictionaries.__"
      ]
    },
    {
      "cell_type": "markdown",
      "metadata": {
        "id": "2_VAkodfouDr"
      },
      "source": [
        "# LSD Mutable"
      ]
    },
    {
      "cell_type": "code",
      "metadata": {
        "colab": {
          "base_uri": "https://localhost:8080/"
        },
        "id": "H0-6CfugqalQ",
        "outputId": "d465920c-5870-4f88-dedd-84c5342c9be5"
      },
      "source": [
        "empty_dict = {}\n",
        "\n",
        "my_dict = {\"Joker\":'Why so serious?', \"Bane\": [1,2,3], \"Scarecrow\": 0.05}\n",
        "print(my_dict[\"Joker\"])\n",
        "print(my_dict[\"Scarecrow\"])\n",
        "print(my_dict[\"Bane\"])"
      ],
      "execution_count": null,
      "outputs": [
        {
          "output_type": "stream",
          "name": "stdout",
          "text": [
            "Why so serious?\n",
            "0.05\n",
            "[1, 2, 3]\n"
          ]
        }
      ]
    },
    {
      "cell_type": "markdown",
      "metadata": {
        "id": "AFMYAm9BpILV"
      },
      "source": [
        "# Keys always have to be immutable"
      ]
    },
    {
      "cell_type": "code",
      "metadata": {
        "colab": {
          "base_uri": "https://localhost:8080/"
        },
        "id": "Dog_eyphpKjr",
        "outputId": "bcbab6d6-752e-46f8-ec33-9a469dcbba6f"
      },
      "source": [
        "my_dict_again = {(1,2,3):[1,2,3], ('a','b','c'):['a','b','c']}\n",
        "print(my_dict_again[(1,2,3)])"
      ],
      "execution_count": null,
      "outputs": [
        {
          "output_type": "stream",
          "name": "stdout",
          "text": [
            "[1, 2, 3]\n"
          ]
        }
      ]
    },
    {
      "cell_type": "code",
      "metadata": {
        "colab": {
          "base_uri": "https://localhost:8080/",
          "height": 185
        },
        "id": "iVZggfTrpOiR",
        "outputId": "e01787bc-53e9-41a5-d095-c9652205f2fb"
      },
      "source": [
        "my_dict_again = {[1,2,3]:(1,2,3), ('a','b','c'):['a','b','c']}\n",
        "print(my_dict_again[(1,2,3)])"
      ],
      "execution_count": null,
      "outputs": [
        {
          "output_type": "error",
          "ename": "TypeError",
          "evalue": "ignored",
          "traceback": [
            "\u001b[0;31m---------------------------------------------------------------------------\u001b[0m",
            "\u001b[0;31mTypeError\u001b[0m                                 Traceback (most recent call last)",
            "\u001b[0;32m<ipython-input-102-a1ef548ba250>\u001b[0m in \u001b[0;36m<module>\u001b[0;34m()\u001b[0m\n\u001b[0;32m----> 1\u001b[0;31m \u001b[0mmy_dict_again\u001b[0m \u001b[0;34m=\u001b[0m \u001b[0;34m{\u001b[0m\u001b[0;34m[\u001b[0m\u001b[0;36m1\u001b[0m\u001b[0;34m,\u001b[0m\u001b[0;36m2\u001b[0m\u001b[0;34m,\u001b[0m\u001b[0;36m3\u001b[0m\u001b[0;34m]\u001b[0m\u001b[0;34m:\u001b[0m\u001b[0;34m(\u001b[0m\u001b[0;36m1\u001b[0m\u001b[0;34m,\u001b[0m\u001b[0;36m2\u001b[0m\u001b[0;34m,\u001b[0m\u001b[0;36m3\u001b[0m\u001b[0;34m)\u001b[0m\u001b[0;34m,\u001b[0m \u001b[0;34m(\u001b[0m\u001b[0;34m'a'\u001b[0m\u001b[0;34m,\u001b[0m\u001b[0;34m'b'\u001b[0m\u001b[0;34m,\u001b[0m\u001b[0;34m'c'\u001b[0m\u001b[0;34m)\u001b[0m\u001b[0;34m:\u001b[0m\u001b[0;34m[\u001b[0m\u001b[0;34m'a'\u001b[0m\u001b[0;34m,\u001b[0m\u001b[0;34m'b'\u001b[0m\u001b[0;34m,\u001b[0m\u001b[0;34m'c'\u001b[0m\u001b[0;34m]\u001b[0m\u001b[0;34m}\u001b[0m\u001b[0;34m\u001b[0m\u001b[0;34m\u001b[0m\u001b[0m\n\u001b[0m\u001b[1;32m      2\u001b[0m \u001b[0mprint\u001b[0m\u001b[0;34m(\u001b[0m\u001b[0mmy_dict_again\u001b[0m\u001b[0;34m[\u001b[0m\u001b[0;34m(\u001b[0m\u001b[0;36m1\u001b[0m\u001b[0;34m,\u001b[0m\u001b[0;36m2\u001b[0m\u001b[0;34m,\u001b[0m\u001b[0;36m3\u001b[0m\u001b[0;34m)\u001b[0m\u001b[0;34m]\u001b[0m\u001b[0;34m)\u001b[0m\u001b[0;34m\u001b[0m\u001b[0;34m\u001b[0m\u001b[0m\n",
            "\u001b[0;31mTypeError\u001b[0m: unhashable type: 'list'"
          ]
        }
      ]
    },
    {
      "cell_type": "code",
      "metadata": {
        "colab": {
          "base_uri": "https://localhost:8080/"
        },
        "id": "9bLsBMy7orgU",
        "outputId": "7d28987f-2d36-4dea-a2fb-6a783ddf2592"
      },
      "source": [
        "\n",
        "my_dict_again['sagar'] = 'd'\n",
        "print(my_dict_again)"
      ],
      "execution_count": null,
      "outputs": [
        {
          "output_type": "stream",
          "name": "stdout",
          "text": [
            "{(1, 2, 3): [1, 2, 3], ('a', 'b', 'c'): ['a', 'b', 'c'], 'sagar': 'd'}\n"
          ]
        }
      ]
    },
    {
      "cell_type": "markdown",
      "metadata": {
        "id": "ssTAIumPpq6n"
      },
      "source": [
        "__Quick Question: How to check whether a variable is mutable or not?__ [Answer](#ans1)"
      ]
    },
    {
      "cell_type": "code",
      "metadata": {
        "colab": {
          "base_uri": "https://localhost:8080/",
          "height": 167
        },
        "id": "ORFzEfkxpeV8",
        "outputId": "7f63ab98-60e1-4983-bc0e-8920de23d3c8"
      },
      "source": [
        "my_dict_error = {[1,2,3]:'a'}"
      ],
      "execution_count": null,
      "outputs": [
        {
          "output_type": "error",
          "ename": "TypeError",
          "evalue": "ignored",
          "traceback": [
            "\u001b[0;31m---------------------------------------------------------------------------\u001b[0m",
            "\u001b[0;31mTypeError\u001b[0m                                 Traceback (most recent call last)",
            "\u001b[0;32m<ipython-input-104-9117a26d6e1e>\u001b[0m in \u001b[0;36m<module>\u001b[0;34m()\u001b[0m\n\u001b[0;32m----> 1\u001b[0;31m \u001b[0mmy_dict_error\u001b[0m \u001b[0;34m=\u001b[0m \u001b[0;34m{\u001b[0m\u001b[0;34m[\u001b[0m\u001b[0;36m1\u001b[0m\u001b[0;34m,\u001b[0m\u001b[0;36m2\u001b[0m\u001b[0;34m,\u001b[0m\u001b[0;36m3\u001b[0m\u001b[0;34m]\u001b[0m\u001b[0;34m:\u001b[0m\u001b[0;34m'a'\u001b[0m\u001b[0;34m}\u001b[0m\u001b[0;34m\u001b[0m\u001b[0;34m\u001b[0m\u001b[0m\n\u001b[0m",
            "\u001b[0;31mTypeError\u001b[0m: unhashable type: 'list'"
          ]
        }
      ]
    },
    {
      "cell_type": "markdown",
      "metadata": {
        "id": "gGYy43d9p05B"
      },
      "source": [
        "### What does this error mean?\n",
        "An object is __hashable__ if it has a hash value which never changes during its lifetime (it needs hash() method). List is unhashable because it's content can change over its lifetime.\n",
        "\n",
        "__NOTE__: Don't know about Hash function? Think about it as the fingerprint of a file in an encrypted format. For details, search in Google."
      ]
    },
    {
      "cell_type": "code",
      "metadata": {
        "colab": {
          "base_uri": "https://localhost:8080/"
        },
        "id": "gLOPtVneqVK6",
        "outputId": "d275b7c6-e755-456f-ab9e-3792b62e46a0"
      },
      "source": [
        "# How about a dictionary within a dictionary?\n",
        "my_dict_yet_again = {0:\"infinity\", 1:{'a':[1,2]}, 'b':{2: (3,4)}}\n",
        "print(my_dict_yet_again)\n",
        "print(my_dict_yet_again[1])\n"
      ],
      "execution_count": null,
      "outputs": [
        {
          "output_type": "stream",
          "name": "stdout",
          "text": [
            "{0: 'infinity', 1: {'a': [1, 2]}, 'b': {2: (3, 4)}}\n",
            "{'a': [1, 2]}\n"
          ]
        }
      ]
    },
    {
      "cell_type": "code",
      "metadata": {
        "colab": {
          "base_uri": "https://localhost:8080/"
        },
        "id": "eif6khYQqVlC",
        "outputId": "e5e3154f-4574-4362-9147-60ba13964675"
      },
      "source": [
        "print(my_dict_yet_again.values())"
      ],
      "execution_count": null,
      "outputs": [
        {
          "output_type": "stream",
          "name": "stdout",
          "text": [
            "dict_values(['infinity', {'a': [1, 2]}, {2: (3, 4)}])\n"
          ]
        }
      ]
    },
    {
      "cell_type": "code",
      "metadata": {
        "colab": {
          "base_uri": "https://localhost:8080/"
        },
        "id": "LXeqgXpHqaTV",
        "outputId": "59249c79-110c-45fc-c006-cb1ff5099a31"
      },
      "source": [
        "print(my_dict_yet_again.keys())"
      ],
      "execution_count": null,
      "outputs": [
        {
          "output_type": "stream",
          "name": "stdout",
          "text": [
            "dict_keys([0, 1, 'b'])\n"
          ]
        }
      ]
    },
    {
      "cell_type": "code",
      "metadata": {
        "colab": {
          "base_uri": "https://localhost:8080/"
        },
        "id": "JJA9lzhZpt9y",
        "outputId": "404ade88-b141-4cb9-b951-7b96884dc9d9"
      },
      "source": [
        "\n",
        "# Some dictionary functions\n",
        "print(1 in my_dict_yet_again) # check if a key is available in the dictionary\n",
        "print({'a':[1,2]} in my_dict_yet_again.values()) #check if the value is available in the dictionary\n",
        "\n",
        "my_dict_yet_again[True-1] = \"zero\"\n",
        "print(my_dict_yet_again)"
      ],
      "execution_count": null,
      "outputs": [
        {
          "output_type": "stream",
          "name": "stdout",
          "text": [
            "True\n",
            "True\n",
            "{0: 'zero', 1: {'a': [1, 2]}, 'b': {2: (3, 4)}}\n"
          ]
        }
      ]
    },
    {
      "cell_type": "markdown",
      "metadata": {
        "id": "NJbfz9NDq4kk"
      },
      "source": [
        "### Create dictionary from two lists!\n",
        "\n",
        "We can use __zip__ to generate dictionaries where the keys and values can be obtained from lists at runtime."
      ]
    },
    {
      "cell_type": "code",
      "metadata": {
        "colab": {
          "base_uri": "https://localhost:8080/"
        },
        "id": "PIlz3k_AqE9l",
        "outputId": "ac2d8cd2-2f46-4eeb-c9a2-b6770878064c"
      },
      "source": [
        "keys = ['a', 'b', 'c']\n",
        "values = [1, 2, 3]\n",
        "\n",
        "print(list(zip(keys,values)))\n",
        "\n",
        "print(dict(zip(keys,values)))"
      ],
      "execution_count": null,
      "outputs": [
        {
          "output_type": "stream",
          "name": "stdout",
          "text": [
            "[('a', 1), ('b', 2), ('c', 3)]\n",
            "{'a': 1, 'b': 2, 'c': 3}\n"
          ]
        }
      ]
    },
    {
      "cell_type": "code",
      "metadata": {
        "colab": {
          "base_uri": "https://localhost:8080/"
        },
        "id": "B4anL0tOq8Kt",
        "outputId": "454b43ed-947a-4218-fe40-a47c26e91276"
      },
      "source": [
        "keys = ['a', 'b', 'a']\n",
        "values = [3, 2, 1]\n",
        "\n",
        "print(list(zip(keys,values)))\n",
        "\n",
        "print(dict(zip(keys,values)))"
      ],
      "execution_count": null,
      "outputs": [
        {
          "output_type": "stream",
          "name": "stdout",
          "text": [
            "[('a', 3), ('b', 2), ('a', 1)]\n",
            "{'a': 1, 'b': 2}\n"
          ]
        }
      ]
    },
    {
      "cell_type": "code",
      "metadata": {
        "colab": {
          "base_uri": "https://localhost:8080/"
        },
        "id": "8xQLTPWHrM_N",
        "outputId": "09f3a364-6b4d-4df3-9c6b-adca820b6320"
      },
      "source": [
        "my_dict_yet_again"
      ],
      "execution_count": null,
      "outputs": [
        {
          "output_type": "execute_result",
          "data": {
            "text/plain": [
              "{0: 'zero', 1: {'a': [1, 2]}, 'b': {2: (3, 4)}}"
            ]
          },
          "metadata": {},
          "execution_count": 112
        }
      ]
    },
    {
      "cell_type": "code",
      "metadata": {
        "colab": {
          "base_uri": "https://localhost:8080/"
        },
        "id": "VvS-7hVwq8i3",
        "outputId": "ed888c2a-6089-4f76-b3ef-2129c3084ccd"
      },
      "source": [
        "my_dict_yet_again[True]=False\n",
        "print(my_dict_yet_again)"
      ],
      "execution_count": null,
      "outputs": [
        {
          "output_type": "stream",
          "name": "stdout",
          "text": [
            "{0: 'zero', 1: False, 'b': {2: (3, 4)}}\n"
          ]
        }
      ]
    },
    {
      "cell_type": "code",
      "metadata": {
        "colab": {
          "base_uri": "https://localhost:8080/"
        },
        "id": "VtkEHrcPrWe7",
        "outputId": "229c9683-c698-44bc-8563-a6e9dd14220b"
      },
      "source": [
        "help(my_dict_yet_again.get)"
      ],
      "execution_count": null,
      "outputs": [
        {
          "output_type": "stream",
          "name": "stdout",
          "text": [
            "Help on built-in function get:\n",
            "\n",
            "get(key, default=None, /) method of builtins.dict instance\n",
            "    Return the value for key if key is in the dictionary, else default.\n",
            "\n"
          ]
        }
      ]
    },
    {
      "cell_type": "code",
      "metadata": {
        "colab": {
          "base_uri": "https://localhost:8080/"
        },
        "id": "pJn9oNQXrQQ1",
        "outputId": "ec592a4f-7505-4385-e0e1-e1754b2b5ba7"
      },
      "source": [
        "print(my_dict_yet_again.get(1)) # get method\n",
        "print(my_dict_yet_again.get(2))\n",
        "print(my_dict_yet_again.get(\"True\",\"True string is not available as key\"))"
      ],
      "execution_count": null,
      "outputs": [
        {
          "output_type": "stream",
          "name": "stdout",
          "text": [
            "False\n",
            "None\n",
            "True string is not available as key\n"
          ]
        }
      ]
    },
    {
      "cell_type": "markdown",
      "metadata": {
        "id": "zZXObeK1jpHn"
      },
      "source": [
        "## Set and Frozenset\n",
        "\n",
        "Sets are Python object similar to lists or dictionaries. They are created using __curly braces__ or the __set function__. They are __unordered__, which means that they __can't be indexed__. They __cannot contain duplicate elements__. Due to the way they're stored, it's __faster to check whether an item is part of a set__, rather than part of a list.\n",
        "\n",
        "Instead of using __append__ to add an item to a set, we use __add__. The method __remove__ removes a specific element from a set but __pop__ removes an arbitrary element.\n",
        "\n",
        "The frozenset() is an inbuilt function in Python which takes an iterable object as input and makes them immutable."
      ]
    },
    {
      "cell_type": "code",
      "metadata": {
        "id": "LucPvGqVldHn"
      },
      "source": [
        "my_set = set((2.7,\"3.6\"))\n",
        "also_my_set = {2.7 , 3.6}\n",
        "my_frozenset = frozenset([\"Python\",\"2.7\"])\n"
      ],
      "execution_count": null,
      "outputs": []
    },
    {
      "cell_type": "code",
      "metadata": {
        "colab": {
          "base_uri": "https://localhost:8080/"
        },
        "id": "wAPNVtvTlgkW",
        "outputId": "c49bbb91-9310-4b8a-c693-2a5fd8b7a7db"
      },
      "source": [
        "my_set.add(6)\n",
        "print(my_set)\n",
        "print(my_frozenset)"
      ],
      "execution_count": null,
      "outputs": [
        {
          "output_type": "stream",
          "name": "stdout",
          "text": [
            "{2.7, '3.6', 6}\n",
            "frozenset({'2.7', 'Python'})\n"
          ]
        }
      ]
    },
    {
      "cell_type": "code",
      "metadata": {
        "colab": {
          "base_uri": "https://localhost:8080/",
          "height": 167
        },
        "id": "byTCCLSCl0Z-",
        "outputId": "bea09bb3-2c1c-4911-b134-e8e77d7135a7"
      },
      "source": [
        "my_frozenset[0] = 100"
      ],
      "execution_count": null,
      "outputs": [
        {
          "output_type": "error",
          "ename": "TypeError",
          "evalue": "ignored",
          "traceback": [
            "\u001b[0;31m---------------------------------------------------------------------------\u001b[0m",
            "\u001b[0;31mTypeError\u001b[0m                                 Traceback (most recent call last)",
            "\u001b[0;32m<ipython-input-118-dbe7ba253bac>\u001b[0m in \u001b[0;36m<module>\u001b[0;34m()\u001b[0m\n\u001b[0;32m----> 1\u001b[0;31m \u001b[0mmy_frozenset\u001b[0m\u001b[0;34m[\u001b[0m\u001b[0;36m0\u001b[0m\u001b[0;34m]\u001b[0m \u001b[0;34m=\u001b[0m \u001b[0;36m100\u001b[0m\u001b[0;34m\u001b[0m\u001b[0;34m\u001b[0m\u001b[0m\n\u001b[0m",
            "\u001b[0;31mTypeError\u001b[0m: 'frozenset' object does not support item assignment"
          ]
        }
      ]
    },
    {
      "cell_type": "code",
      "metadata": {
        "colab": {
          "base_uri": "https://localhost:8080/"
        },
        "id": "SPI5N0eFmFxf",
        "outputId": "76a7fb92-1e5e-4475-ef1e-5bb75a2fd5cb"
      },
      "source": [
        "# Set always stores unique values\n",
        "\n",
        "s = {1,2,3,3,3,3,4,4,4,4}\n",
        "print(s)\n",
        "\n",
        "s = set(\"priyaraghuwanshisagaragrawal\")\n",
        "print(s)"
      ],
      "execution_count": null,
      "outputs": [
        {
          "output_type": "stream",
          "name": "stdout",
          "text": [
            "{1, 2, 3, 4}\n",
            "{'w', 'u', 'p', 'r', 'i', 'g', 'l', 'n', 'y', 'a', 's', 'h'}\n"
          ]
        }
      ]
    },
    {
      "cell_type": "code",
      "metadata": {
        "colab": {
          "base_uri": "https://localhost:8080/",
          "height": 167
        },
        "id": "VXNDFSgsmXoO",
        "outputId": "579b36d2-f756-4539-9b1c-9fc32266d1b1"
      },
      "source": [
        "s[0] = 100"
      ],
      "execution_count": null,
      "outputs": [
        {
          "output_type": "error",
          "ename": "TypeError",
          "evalue": "ignored",
          "traceback": [
            "\u001b[0;31m---------------------------------------------------------------------------\u001b[0m",
            "\u001b[0;31mTypeError\u001b[0m                                 Traceback (most recent call last)",
            "\u001b[0;32m<ipython-input-120-16820b94779f>\u001b[0m in \u001b[0;36m<module>\u001b[0;34m()\u001b[0m\n\u001b[0;32m----> 1\u001b[0;31m \u001b[0ms\u001b[0m\u001b[0;34m[\u001b[0m\u001b[0;36m0\u001b[0m\u001b[0;34m]\u001b[0m \u001b[0;34m=\u001b[0m \u001b[0;36m100\u001b[0m\u001b[0;34m\u001b[0m\u001b[0;34m\u001b[0m\u001b[0m\n\u001b[0m",
            "\u001b[0;31mTypeError\u001b[0m: 'set' object does not support item assignment"
          ]
        }
      ]
    },
    {
      "cell_type": "code",
      "metadata": {
        "id": "Ymsu-X0knbst"
      },
      "source": [
        "#vars(random)"
      ],
      "execution_count": null,
      "outputs": []
    },
    {
      "cell_type": "code",
      "metadata": {
        "id": "O75GKo6tnPWo"
      },
      "source": [
        "import random\n",
        "l = [random.randint(1,100) for _ in range(1000)] "
      ],
      "execution_count": null,
      "outputs": []
    },
    {
      "cell_type": "code",
      "metadata": {
        "colab": {
          "base_uri": "https://localhost:8080/"
        },
        "id": "CnszLeV0myMs",
        "outputId": "5058d27b-a4b4-4291-9f4f-9e86b85dfafa"
      },
      "source": [
        "%%timeit\n",
        "for i in l :\n",
        "  pass"
      ],
      "execution_count": null,
      "outputs": [
        {
          "output_type": "stream",
          "name": "stdout",
          "text": [
            "100000 loops, best of 5: 15.8 µs per loop\n"
          ]
        }
      ]
    },
    {
      "cell_type": "code",
      "metadata": {
        "colab": {
          "base_uri": "https://localhost:8080/"
        },
        "id": "iNe_7pJfnQx5",
        "outputId": "5e42ec78-c842-4a59-88c4-a4689d95fbc0"
      },
      "source": [
        "%%timeit\n",
        "for i in set(l) :\n",
        "  pass"
      ],
      "execution_count": null,
      "outputs": [
        {
          "output_type": "stream",
          "name": "stdout",
          "text": [
            "100000 loops, best of 5: 13.2 µs per loop\n"
          ]
        }
      ]
    },
    {
      "cell_type": "code",
      "metadata": {
        "colab": {
          "base_uri": "https://localhost:8080/"
        },
        "id": "SJnsVbROjoIg",
        "outputId": "05d918f7-4727-468d-92e2-9c72966b7304"
      },
      "source": [
        "my_set.remove(2.7)\n",
        "my_set.pop()\n",
        "print(my_set)\n",
        "\n",
        "# some additional operations\n",
        "first = {1, 2, 3, 4, 5, 6}\n",
        "second = {4, 5, 6, 7, 8, 9}\n",
        "\n",
        "print(first | second)\n",
        "print(first & second)\n",
        "print(first - second)\n",
        "print(first ^ second)"
      ],
      "execution_count": null,
      "outputs": [
        {
          "output_type": "stream",
          "name": "stdout",
          "text": [
            "{6}\n",
            "{1, 2, 3, 4, 5, 6, 7, 8, 9}\n",
            "{4, 5, 6}\n",
            "{1, 2, 3}\n",
            "{1, 2, 3, 7, 8, 9}\n"
          ]
        }
      ]
    },
    {
      "cell_type": "markdown",
      "metadata": {
        "id": "z_PxnTd5jz0A"
      },
      "source": [
        "### So, what are the operations that can be perfomed on mutable and immutable objects in Python?\n",
        "\n",
        "#### Both mutable and immutable\n",
        "\n",
        "| Operation | Result |\n",
        "|:---:|:---:|\n",
        "| len(s) | cardinality of set s |\n",
        "| x in s | test x for membership in s |\n",
        "| x not in s | test x for non-membership in s |\n",
        "| s.issubset(t)\t| test whether every element in s is in t |\n",
        "| s.issuperset(t) | test whether every element in t is in s |\n",
        "| s.union(t) | new set with elements from both s and t |\n",
        "| s.intersection(t) | new set with elements common to s and t |\n",
        "| s.difference(t) | new set with elements in s but not in t |\n",
        "| s.symmetric_difference(t)\t| new set with elements in either s or t but not both |\n",
        "| s.copy() | new set with a shallow copy of s |\n",
        "\n",
        "#### Only mutable\n",
        "\n",
        "| Operation | Result |\n",
        "|:---:|:---:|\n",
        "| s.update(t) | update set s, adding elements from t\n",
        "| s.intersection_update(t)\t| update set s, keeping only elements found in both s and t\n",
        "| s.difference_update(t) | update set s, removing elements found in t\n",
        "| s.symmetric_difference_update(t) | update set s, keeping only elements found in either s or t but not in both\n",
        "| s.add(x) | add element x to set s\n",
        "| s.remove(x) | remove x from set s; raises KeyError if not present\n",
        "| s.discard(x) | removes x from set s if present\n",
        "| s.pop() | remove and return an arbitrary element from s; raises KeyError if empty\n",
        "| s.clear() | remove all elements from set s\n",
        "\n",
        "### Also, when to use these data structures?\n",
        "\n",
        "When to use a __dictionary__:\n",
        "- When you need a logical association between a key:value pair.\n",
        "- When you need fast lookup for your data, based on a custom key.\n",
        "- When your data is being constantly modified.\n",
        "\n",
        "When to use the __other types__:\n",
        "- Use __lists__ if you have a collection of data that does not need random access. Try to choose lists when you need a simple, iterable collection that is modified frequently.\n",
        "- Use a __set__ if you need uniqueness for the elements.\n",
        "- Use __tuples__ when your data cannot change."
      ]
    },
    {
      "cell_type": "markdown",
      "metadata": {
        "id": "jH-AsGJ3j3x8"
      },
      "source": [
        "# Conditional statements, loops <a name=\"loops\"></a>\n",
        "\n",
        "## if, elif, else\n",
        "\n",
        "Python uses __if__ statements to run code if a certain condition holds _True_, otherwise they aren't.\n",
        "\n",
        "__NOTE__: Python uses __indentation__ (white space at the beginning of a line) to delimit blocks of code. Other languages, such as C, use curly braces to accomplish this, but in Python, indentation is mandatory; programs won't work without it.\n",
        "\n",
        "__To perform more complex checks__, _if_ statements can be __nested__, one inside the other. This means that the inner _if_ statement is the statement part of the outer one.\n",
        "\n",
        "An __else__ statement follows an _if_ statement, and contains code that is called when the _if_ statement evaluates to _False_.\n",
        "\n",
        "The __elif__ (short for else if) statement is a shortcut to use when __chaining if and else statements__. A series of _if elif_ statements can have a final else block, which is called if none of the _if_ or _elif_ expressions is _True_."
      ]
    },
    {
      "cell_type": "code",
      "metadata": {
        "colab": {
          "base_uri": "https://localhost:8080/"
        },
        "id": "P_xDOgh_jzGC",
        "outputId": "495bfcf5-97b3-4e68-b9eb-0972a0a94595"
      },
      "source": [
        "x = input(\"Enter a number from 0 to 9: \")\n",
        "print(type(x))\n",
        "num = int(x)\n",
        "\n",
        "if num == 3:\n",
        "    print(\"You got 3\")\n",
        "elif num == 6:\n",
        "    print(\"Number is 6\")\n",
        "elif num == 9:\n",
        "    print(\"Looks like 9\")\n",
        "else:\n",
        "    print(\"`If you knew the magnificence of the three, six and nine, you would have a key to the universe.` ~ Tesla\")"
      ],
      "execution_count": null,
      "outputs": [
        {
          "output_type": "stream",
          "name": "stdout",
          "text": [
            "Enter a number from 0 to 9: 6\n",
            "<class 'str'>\n",
            "Number is 6\n"
          ]
        }
      ]
    },
    {
      "cell_type": "markdown",
      "metadata": {
        "id": "R_kma-cKpGg7"
      },
      "source": [
        "## for\n",
        "\n",
        "The __for__ loop is commonly used to repeat some code a certain number of times on an object known as __iterator__. This is done by combining for loops with __range__ objects.\n",
        "\n",
        "The function range by default starts counting from 0 and goes up to the n-th value i.e. till (n-1). Its first parameter is the starting point, second one is the ending point (n-th value), and the optional third is the step value."
      ]
    },
    {
      "cell_type": "code",
      "metadata": {
        "colab": {
          "base_uri": "https://localhost:8080/"
        },
        "id": "Q4df53ncpPDm",
        "outputId": "fe39fd93-5575-4aa1-9cba-669f4fd5f8d8"
      },
      "source": [
        "x = range(5) #iterable\n",
        "print(x)\n",
        "print(list(x))"
      ],
      "execution_count": null,
      "outputs": [
        {
          "output_type": "stream",
          "name": "stdout",
          "text": [
            "range(0, 5)\n",
            "[0, 1, 2, 3, 4]\n"
          ]
        }
      ]
    },
    {
      "cell_type": "code",
      "metadata": {
        "id": "Bzv0zwCopbRm"
      },
      "source": [
        "#help(range)"
      ],
      "execution_count": null,
      "outputs": []
    },
    {
      "cell_type": "code",
      "metadata": {
        "colab": {
          "base_uri": "https://localhost:8080/"
        },
        "id": "lQDkecrtpt0c",
        "outputId": "9b228c8e-f155-4db0-fba2-02774387f45a"
      },
      "source": [
        "for i in range(1,10,2):\n",
        "  print(i)"
      ],
      "execution_count": null,
      "outputs": [
        {
          "output_type": "stream",
          "name": "stdout",
          "text": [
            "1\n",
            "3\n",
            "5\n",
            "7\n",
            "9\n"
          ]
        }
      ]
    },
    {
      "cell_type": "code",
      "metadata": {
        "colab": {
          "base_uri": "https://localhost:8080/"
        },
        "id": "bYaquuDTowvc",
        "outputId": "678bc763-4578-4a5c-fcd5-62b54fd0b10d"
      },
      "source": [
        "for i in range(5):\n",
        "    if i < 3:\n",
        "        print(\"hello!\")\n",
        "    else:\n",
        "        print(\"world\")\n",
        "        \n",
        "print(\"-----------------\")\n",
        "        "
      ],
      "execution_count": null,
      "outputs": [
        {
          "output_type": "stream",
          "name": "stdout",
          "text": [
            "hello!\n",
            "hello!\n",
            "hello!\n",
            "world\n",
            "world\n",
            "-----------------\n"
          ]
        }
      ]
    },
    {
      "cell_type": "code",
      "metadata": {
        "colab": {
          "base_uri": "https://localhost:8080/"
        },
        "id": "xIWZUcxqqBFE",
        "outputId": "c48d7d94-50e5-43e2-ac18-0f5549f4e8a2"
      },
      "source": [
        "for i in range(2,12,3):\n",
        "    print(i)"
      ],
      "execution_count": null,
      "outputs": [
        {
          "output_type": "stream",
          "name": "stdout",
          "text": [
            "2\n",
            "5\n",
            "8\n",
            "11\n"
          ]
        }
      ]
    },
    {
      "cell_type": "code",
      "metadata": {
        "colab": {
          "base_uri": "https://localhost:8080/"
        },
        "id": "WW5l0DYCp1rb",
        "outputId": "f03625ce-3336-48e8-9efe-50a564fed720"
      },
      "source": [
        "# for loop through list\n",
        "lst = [1,2,3,(4,4.5,5),6]\n",
        "\n",
        "for i in lst:\n",
        "    print(i)"
      ],
      "execution_count": null,
      "outputs": [
        {
          "output_type": "stream",
          "name": "stdout",
          "text": [
            "1\n",
            "2\n",
            "3\n",
            "(4, 4.5, 5)\n",
            "6\n"
          ]
        }
      ]
    },
    {
      "cell_type": "code",
      "metadata": {
        "id": "y6RowE0JqOcm"
      },
      "source": [
        "#help(print)"
      ],
      "execution_count": null,
      "outputs": []
    },
    {
      "cell_type": "code",
      "metadata": {
        "colab": {
          "base_uri": "https://localhost:8080/"
        },
        "id": "YanOa3c7qUjW",
        "outputId": "262b8605-6ee3-4859-850d-3407fc4c92db"
      },
      "source": [
        "# for loop through list\n",
        "lst = [1,2,3,(4,4.5,5),6]\n",
        "\n",
        "for i in lst:\n",
        "    print(i,end = ',')"
      ],
      "execution_count": null,
      "outputs": [
        {
          "output_type": "stream",
          "name": "stdout",
          "text": [
            "1,2,3,(4, 4.5, 5),6,"
          ]
        }
      ]
    },
    {
      "cell_type": "code",
      "metadata": {
        "colab": {
          "base_uri": "https://localhost:8080/"
        },
        "id": "ee5kA72lqnXm",
        "outputId": "5330a3fc-b148-456b-b749-99e75f2a24e6"
      },
      "source": [
        "lst1 = [1,2,3,4]\n",
        "lst2 = [5,6,7,8]\n",
        "\n",
        "for i,j in zip(lst1,lst2):\n",
        "  print(i,\"sagar\",j,sep = '______________')"
      ],
      "execution_count": null,
      "outputs": [
        {
          "output_type": "stream",
          "name": "stdout",
          "text": [
            "1______________sagar______________5\n",
            "2______________sagar______________6\n",
            "3______________sagar______________7\n",
            "4______________sagar______________8\n"
          ]
        }
      ]
    },
    {
      "cell_type": "code",
      "metadata": {
        "colab": {
          "base_uri": "https://localhost:8080/"
        },
        "id": "bUQ4EjikrIG7",
        "outputId": "ad42a33e-57d3-45c8-e6b7-847bcfafbf83"
      },
      "source": [
        "t1 = {}\n",
        "type(t1)"
      ],
      "execution_count": null,
      "outputs": [
        {
          "output_type": "execute_result",
          "data": {
            "text/plain": [
              "dict"
            ]
          },
          "metadata": {},
          "execution_count": 135
        }
      ]
    },
    {
      "cell_type": "code",
      "metadata": {
        "colab": {
          "base_uri": "https://localhost:8080/"
        },
        "id": "32O7vu7GrOjN",
        "outputId": "ec94548b-b13a-4743-bb1a-00ac5d2fb45e"
      },
      "source": [
        "t1 = {1}\n",
        "type(t1)"
      ],
      "execution_count": null,
      "outputs": [
        {
          "output_type": "execute_result",
          "data": {
            "text/plain": [
              "set"
            ]
          },
          "metadata": {},
          "execution_count": 136
        }
      ]
    },
    {
      "cell_type": "code",
      "metadata": {
        "colab": {
          "base_uri": "https://localhost:8080/"
        },
        "id": "GaP5TPfKrUJT",
        "outputId": "cb07c8ec-3d41-49eb-9067-0ea4e1838847"
      },
      "source": [
        "t1 = set()\n",
        "type(t1)"
      ],
      "execution_count": null,
      "outputs": [
        {
          "output_type": "execute_result",
          "data": {
            "text/plain": [
              "set"
            ]
          },
          "metadata": {},
          "execution_count": 137
        }
      ]
    },
    {
      "cell_type": "code",
      "metadata": {
        "colab": {
          "base_uri": "https://localhost:8080/"
        },
        "id": "1WgjQ3HVp4RU",
        "outputId": "9ea7a466-352e-4238-8a24-8d37163faddc"
      },
      "source": [
        "# another way of creating dictionary\n",
        "\n",
        "keys = ['a', 'b', 'c']\n",
        "values = [1, 2, 3]\n",
        "\n",
        "my_new_dict = {}\n",
        "\n",
        "for (k,v) in zip(keys, values):\n",
        "    my_new_dict[k] = v\n",
        "    \n",
        "print(my_new_dict)"
      ],
      "execution_count": null,
      "outputs": [
        {
          "output_type": "stream",
          "name": "stdout",
          "text": [
            "{'a': 1, 'b': 2, 'c': 3}\n"
          ]
        }
      ]
    },
    {
      "cell_type": "code",
      "metadata": {
        "colab": {
          "base_uri": "https://localhost:8080/"
        },
        "id": "_nndd9IGrjOL",
        "outputId": "78eae8d4-b6c0-4092-94ed-f1fd83002bf6"
      },
      "source": [
        "temp = {'a': 1, 'b': 2, 'c': 3}\n",
        "temp['d'] = 100\n",
        "print(temp)"
      ],
      "execution_count": null,
      "outputs": [
        {
          "output_type": "stream",
          "name": "stdout",
          "text": [
            "{'a': 1, 'b': 2, 'c': 3, 'd': 100}\n"
          ]
        }
      ]
    },
    {
      "cell_type": "markdown",
      "metadata": {
        "id": "KLWc1YdZr-SR"
      },
      "source": [
        "### Two questions for you guys\n",
        "\n",
        "1. Ever wondered why people use _i_ in for loop?\n",
        "2. What is the difference between __range(x)__ and __list(range(x))__?"
      ]
    },
    {
      "cell_type": "code",
      "metadata": {
        "colab": {
          "base_uri": "https://localhost:8080/"
        },
        "id": "tHbc0WZPryrO",
        "outputId": "016ba921-1039-40b8-fecd-587505deef32"
      },
      "source": [
        "print(list(range(5)))\n",
        "print((range(5)))"
      ],
      "execution_count": null,
      "outputs": [
        {
          "output_type": "stream",
          "name": "stdout",
          "text": [
            "[0, 1, 2, 3, 4]\n",
            "range(0, 5)\n"
          ]
        }
      ]
    },
    {
      "cell_type": "markdown",
      "metadata": {
        "id": "Ktezm-0CsOdR"
      },
      "source": [
        "### Answer\n",
        "\n",
        "1. The i stands for the item to be accessed from any iterable or range object.\n",
        "\n",
        "2. When you execute _?range_, it will say that range returns an object that produces a sequence of integers from start (inclusive) to stop (exclusive) by step __without assigning indexes to the values__. Rather, it generates only one number at a time, relying on a __for__ loop to request for the next item in the range to be seen. However, __list(range()) does assign indices__ and hence allows you to see the full sequence of the numbers immediately, without the assistance of a _for_ loop."
      ]
    },
    {
      "cell_type": "markdown",
      "metadata": {
        "id": "os0f9LlGsfhC"
      },
      "source": [
        "## while\n",
        "\n",
        "An __if__ statement is __run once__ if its condition evaluates to _True_. A __while__ statement is similar, except that it can be __run more than once__. The statements inside it are repeatedly executed, as long as the condition holds _True_. Once it evaluates to False, the next section of code is executed.\n",
        "\n",
        "The __infinite loop__ is a special kind of while loop where the condition is always True and never stops iterating.\n",
        "\n",
        "To end a while loop prematurely, the __break__ statement can be used inside the loop.\n",
        "\n",
        "When a continue statement is encountered, the code flow jumps back to the top of the loop, rather than stopping it. Basically it __stops the current iteration__ and continues with the next one."
      ]
    },
    {
      "cell_type": "code",
      "metadata": {
        "colab": {
          "base_uri": "https://localhost:8080/"
        },
        "id": "tqxS0PMXsKVb",
        "outputId": "b2376ade-8308-4ce9-9d65-a8972600b50e"
      },
      "source": [
        "import time\n",
        "\n",
        "mewtwo_cp = 30\n",
        "umbreon_dark_pulse = 3\n",
        "fight = True\n",
        "\n",
        "print(\"You attacked Mewtwo! CP left: {}\".format(mewtwo_cp))\n",
        "\n",
        "while fight:\n",
        "    print(\"Umbreon used Dark Pulse!\\n\")\n",
        "    mewtwo_cp = mewtwo_cp - umbreon_dark_pulse\n",
        "    \n",
        "    if mewtwo_cp == 15:\n",
        "        print(\"He's halfway dead!\") \n",
        "        continue\n",
        "    elif mewtwo_cp == 9: \n",
        "        print(\"Take him down!\")\n",
        "        continue\n",
        "    elif mewtwo_cp == 3:\n",
        "        print(\"Now's your chance\") \n",
        "        continue\n",
        "    \n",
        "    if mewtwo_cp <= 0:\n",
        "        print(\"Dead!\")\n",
        "        break\n",
        "    \n",
        "    print(\"Mewtwo CP left: {}\".format(mewtwo_cp))\n",
        "    time.sleep(1)\n",
        "    \n",
        "print(\"Congrats! Your Umbreon won.\")"
      ],
      "execution_count": null,
      "outputs": [
        {
          "output_type": "stream",
          "name": "stdout",
          "text": [
            "You attacked Mewtwo! CP left: 30\n",
            "Umbreon used Dark Pulse!\n",
            "\n",
            "Mewtwo CP left: 27\n",
            "Umbreon used Dark Pulse!\n",
            "\n",
            "Mewtwo CP left: 24\n",
            "Umbreon used Dark Pulse!\n",
            "\n",
            "Mewtwo CP left: 21\n",
            "Umbreon used Dark Pulse!\n",
            "\n",
            "Mewtwo CP left: 18\n",
            "Umbreon used Dark Pulse!\n",
            "\n",
            "He's halfway dead!\n",
            "Umbreon used Dark Pulse!\n",
            "\n",
            "Mewtwo CP left: 12\n",
            "Umbreon used Dark Pulse!\n",
            "\n",
            "Take him down!\n",
            "Umbreon used Dark Pulse!\n",
            "\n",
            "Mewtwo CP left: 6\n",
            "Umbreon used Dark Pulse!\n",
            "\n",
            "Now's your chance\n",
            "Umbreon used Dark Pulse!\n",
            "\n",
            "Dead!\n",
            "Congrats! Your Umbreon won.\n"
          ]
        }
      ]
    },
    {
      "cell_type": "markdown",
      "metadata": {
        "id": "XdynlPA4tLKR"
      },
      "source": [
        "# File I/O <a name=\"io\"></a>\n",
        "\n",
        "Python can be used to __read__ and __write__ the contents of files. Text files are the easiest to manipulate.\n",
        "\n",
        "### open\n",
        "Before a file can be edited, it must be _opened_, using the __open__ function. The __argument__ of the open function is the _path to the file_. If the file is in the current working directory of the program, you can specify only its name.\n",
        "\n",
        "### mode\n",
        "There are __mode__ used to open a file by applying a _second argument_ to the open function.\n",
        "* \"r\" means open in __read__ mode, which is the default.\n",
        "* \"w\" means __write__ mode, for rewriting the contents of a file.\n",
        "* \"a\" means __append__ mode, for adding new content to the end of the file.\n",
        "* \"b\" means __binary__ mode, which is used for non-text files (such as image and sound files).\n",
        "\n",
        "### read\n",
        "The contents of a file that has been opened in text mode can be read using the __read__ method. To __read only a certain amount of a file, you can provide a number as an argument__ to the read function. This determines the __number of bytes__ that should be read.\n",
        "\n",
        "After all contents in a file have been read, any attempts to read further from that file will return an _empty string_, because you are trying to read __from the end of the file__. \n",
        "\n",
        "To retrieve __each line__ in a file, you can use the __readlines__ method to _return a list in which each element is a line in the file_.\n",
        "\n",
        "__NOTE__: There is a __readline__ and a __readlines__ method. _readline()_ reads one line character at a time, _readlines()_ reads in the whole file at once and splits it by line.\n",
        "\n",
        "### write\n",
        "To write to files we use the __write__ method, which writes a string to the file. The \"w\" mode will _create a file, if it does not already exist_. When a file is opened in write mode, the file's __existing content is deleted__. The write method __returns the number of bytes__ written to a file, if successful.\n",
        "\n",
        "__NOTE__: If you need to write anything other than string on a file, it has to be converted to a string first.\n",
        "\n",
        "### close\n",
        "Once a file has been opened and used, it should be closed which is done with the __close__ method of the file object.\n",
        "\n",
        "### Alternative approach of file access\n",
        "An alternative way of doing it is using __with__ statements. This creates a temporary variable (often called __f__), which is only accessible in the indented block of the with statement. The file is __automatically closed__ at the end of the with statement, even if exceptions occur within it."
      ]
    },
    {
      "cell_type": "code",
      "metadata": {
        "id": "oy5WmhQWs6Oc"
      },
      "source": [
        "#help(open)"
      ],
      "execution_count": null,
      "outputs": []
    },
    {
      "cell_type": "code",
      "metadata": {
        "colab": {
          "base_uri": "https://localhost:8080/"
        },
        "id": "dPVCpZ56tmPS",
        "outputId": "cca06bde-77d7-4bf4-96f7-1ab1ab80e7a1"
      },
      "source": [
        "!ls"
      ],
      "execution_count": null,
      "outputs": [
        {
          "output_type": "stream",
          "name": "stdout",
          "text": [
            "def_NN.txt  joker.txt  sample_data\n"
          ]
        }
      ]
    },
    {
      "cell_type": "code",
      "metadata": {
        "colab": {
          "base_uri": "https://localhost:8080/"
        },
        "id": "ONnHmFPGtSYH",
        "outputId": "08c1bbef-775c-428d-e982-23e9a1a04c48"
      },
      "source": [
        "file = open(\"def_NN.txt\", \"r\")\n",
        "print(\"------- Reading the content -------\\n\")\n",
        "file_content = file.read()\n",
        "\n",
        "print(file_content)\n",
        "print(\"------- Re-reading -------\")\n",
        "print(file.read())\n",
        "print(\"------- Finished! --------\\n\")\n",
        "print(\"------- Closing the file -------\")\n",
        "file.close()\n",
        "\n",
        "# try readlines"
      ],
      "execution_count": null,
      "outputs": [
        {
          "output_type": "stream",
          "name": "stdout",
          "text": [
            "------- Reading the content -------\n",
            "\n",
            "\n",
            "------- Re-reading -------\n",
            "\n",
            "------- Finished! --------\n",
            "\n",
            "------- Closing the file -------\n"
          ]
        }
      ]
    },
    {
      "cell_type": "code",
      "metadata": {
        "colab": {
          "base_uri": "https://localhost:8080/"
        },
        "id": "1dkd6UhstjAW",
        "outputId": "a72868a3-7274-411d-95c6-7f133e33241b"
      },
      "source": [
        "file = open(\"joker.txt\", \"r\")\n",
        "print(\"------- Reading initial contents ------- \\n\")\n",
        "print(file.read())\n",
        "print(\"------- Finished ------- \\n\")\n",
        "file.close()\n",
        "\n",
        "file = open(\"joker.txt\", \"w\")\n",
        "amount_written = file.write(\"I believe whatever doesn't kill you simply makes you...stranger.\")\n",
        "print(\"Amount of text written: {}\\n\".format(amount_written))\n",
        "file.close()\n",
        "\n",
        "file = open(\"joker.txt\", \"r\")\n",
        "print(\"------- Reading new contents ------- \\n\")\n",
        "print(file.read())\n",
        "print(\"\\n ------- Finished -------\")\n",
        "file.close()"
      ],
      "execution_count": null,
      "outputs": [
        {
          "output_type": "stream",
          "name": "stdout",
          "text": [
            "------- Reading initial contents ------- \n",
            "\n",
            "hsjvjddvjvrjkvrjvrfjhvcjnjc\n",
            "------- Finished ------- \n",
            "\n",
            "Amount of text written: 64\n",
            "\n",
            "------- Reading new contents ------- \n",
            "\n",
            "I believe whatever doesn't kill you simply makes you...stranger.\n",
            "\n",
            " ------- Finished -------\n"
          ]
        }
      ]
    },
    {
      "cell_type": "code",
      "metadata": {
        "colab": {
          "base_uri": "https://localhost:8080/"
        },
        "id": "czTm8j1nuK6S",
        "outputId": "c94e1a95-7268-41c6-9154-006e1dc59afd"
      },
      "source": [
        "# alternative approach\n",
        "with open(\"joker.txt\",'r') as f:\n",
        "    print(f.read())\n"
      ],
      "execution_count": null,
      "outputs": [
        {
          "output_type": "stream",
          "name": "stdout",
          "text": [
            "I believe whatever doesn't kill you simply makes you...stranger.\n"
          ]
        }
      ]
    },
    {
      "cell_type": "markdown",
      "metadata": {
        "id": "ltSf3HJDwCn5"
      },
      "source": [
        "# HomeWork 1 : \n",
        "\n",
        "Input : x = [1,1,1,1,1,1,1,2,2,1,1,2,2,1,2]\n",
        "\n",
        "Output : [(1, 7),(2,2),(1,2),(2,2),(1,1),(2,1)]"
      ]
    },
    {
      "cell_type": "code",
      "metadata": {
        "id": "tEqnZmiKwPsi"
      },
      "source": [
        "def run_length_encoding(seq):\n",
        "  compressed = []\n",
        "  count = 1\n",
        "  char = seq[0]\n",
        "  for i in range(1,len(seq)):\n",
        "    if seq[i] == char:\n",
        "      count = count + 1\n",
        "    else :\n",
        "      compressed.append([char,count])\n",
        "      char = seq[i]\n",
        "      count = 1\n",
        "  compressed.append([char,count])\n",
        "  return compressed"
      ],
      "execution_count": null,
      "outputs": []
    },
    {
      "cell_type": "code",
      "metadata": {
        "id": "m8m9c8NAteje",
        "colab": {
          "base_uri": "https://localhost:8080/"
        },
        "outputId": "aebb4f5f-6036-4791-d021-17bdaba60683"
      },
      "source": [
        "x = [1,1,1,1,1,1,1,2,2,1,1,2,2,1,2]\n",
        "run_length_encoding(x)"
      ],
      "execution_count": null,
      "outputs": [
        {
          "output_type": "execute_result",
          "data": {
            "text/plain": [
              "[[1, 7], [2, 2], [1, 2], [2, 2], [1, 1], [2, 1]]"
            ]
          },
          "metadata": {},
          "execution_count": 2
        }
      ]
    },
    {
      "cell_type": "markdown",
      "metadata": {
        "id": "DKp3pQjKuu3A"
      },
      "source": [
        "# HomeWork 2 : Count occurance of an element\n",
        "\n",
        "Input : x = [1,1,1,1,1,1,1,2,2,1,1,2,2,1,2,3,3,3,3,3]\n",
        "\n",
        "Output : {1 : 10 , 2 : 5, 3 : 5}"
      ]
    },
    {
      "cell_type": "code",
      "metadata": {
        "id": "_QuTV9LUtjqM",
        "colab": {
          "base_uri": "https://localhost:8080/"
        },
        "outputId": "199a9812-d2e2-4920-be0c-dddd14ba18f1"
      },
      "source": [
        "hash_dict = {}\n",
        "x = [1,1,1,1,1,1,1,2,2,1,1,2,2,1,2,3,3,3,3,3]\n",
        "\n",
        "for item in x :\n",
        "  if item in hash_dict: #check for keys\n",
        "    hash_dict[item] += 1   \n",
        "  else :\n",
        "    hash_dict[item] = 1\n",
        "\n",
        "print(hash_dict)"
      ],
      "execution_count": null,
      "outputs": [
        {
          "output_type": "stream",
          "name": "stdout",
          "text": [
            "{1: 10, 2: 5, 3: 5}\n"
          ]
        }
      ]
    },
    {
      "cell_type": "code",
      "metadata": {
        "id": "RAEhjNi3yX5n"
      },
      "source": [
        "text = \"\"\"Shershaah (transl. Lion King) is a 2021 Indian Hindi-language biographical war film directed by Vishnuvardhan in his Bollywood debut and written by Sandeep Shrivastava. The film follows the life of Param Vir Chakra-awardee Captain Vikram Batra, from his first posting in the army to his death in the Kargil War. The film stars Sidharth Malhotra as Vikram Batra and Kiara Advani as his girlfriend Dimple Cheema. The film was produced by Dharma Productions and Kaash Entertainment, with Hiroo Yash Johar, Karan Johar, Apoorva Mehta, Shabbir Boxwala, Ajay Shah and Himanshu Gandhi serving as co-producers.[2]\n",
        "\n",
        "Announced in May 2019, principal photography began in the same month and concluded in January 2020. Initially slated to be released on 3 July 2020, the film was postponed due to the COVID-19 pandemic.[3][4] The film then premiered on 12 August 2021 on Amazon Prime Video.[1] The film received mixed reviews from the critics, who praised Malhotra's performance and the action sequences but criticised the writing of the film.[5][6] On 31 August 2021, Amazon stated that Shershaah had become the most watched Indian film on the platform.[7]\"\"\""
      ],
      "execution_count": null,
      "outputs": []
    },
    {
      "cell_type": "code",
      "metadata": {
        "id": "3B5EETzizNVA"
      },
      "source": [
        "x = text.split(' ')"
      ],
      "execution_count": null,
      "outputs": []
    },
    {
      "cell_type": "code",
      "metadata": {
        "id": "Z8-Nc9IzzTXi",
        "colab": {
          "base_uri": "https://localhost:8080/"
        },
        "outputId": "89e096bf-c753-4e20-f229-4a5502769f49"
      },
      "source": [
        "for item in x :\n",
        "  if item in hash_dict: #check for keys\n",
        "    hash_dict[item] += 1   \n",
        "  else :\n",
        "    hash_dict[item] = 1\n",
        "\n",
        "print(hash_dict)"
      ],
      "execution_count": null,
      "outputs": [
        {
          "output_type": "stream",
          "name": "stdout",
          "text": [
            "{1: 10, 2: 5, 3: 5, 'Shershaah': 2, '(transl.\\u2009Lion': 1, 'King)': 1, 'is': 1, 'a': 1, '2021': 2, 'Indian': 2, 'Hindi-language': 1, 'biographical': 1, 'war': 1, 'film': 8, 'directed': 1, 'by': 3, 'Vishnuvardhan': 1, 'in': 6, 'his': 4, 'Bollywood': 1, 'debut': 1, 'and': 6, 'written': 1, 'Sandeep': 1, 'Shrivastava.': 1, 'The': 5, 'follows': 1, 'the': 12, 'life': 1, 'of': 2, 'Param': 1, 'Vir': 1, 'Chakra-awardee': 1, 'Captain': 1, 'Vikram': 2, 'Batra,': 1, 'from': 2, 'first': 1, 'posting': 1, 'army': 1, 'to': 3, 'death': 1, 'Kargil': 1, 'War.': 1, 'stars': 1, 'Sidharth': 1, 'Malhotra': 1, 'as': 3, 'Batra': 1, 'Kiara': 1, 'Advani': 1, 'girlfriend': 1, 'Dimple': 1, 'Cheema.': 1, 'was': 2, 'produced': 1, 'Dharma': 1, 'Productions': 1, 'Kaash': 1, 'Entertainment,': 1, 'with': 1, 'Hiroo': 1, 'Yash': 1, 'Johar,': 2, 'Karan': 1, 'Apoorva': 1, 'Mehta,': 1, 'Shabbir': 1, 'Boxwala,': 1, 'Ajay': 1, 'Shah': 1, 'Himanshu': 1, 'Gandhi': 1, 'serving': 1, 'co-producers.[2]\\n\\nAnnounced': 1, 'May': 1, '2019,': 1, 'principal': 1, 'photography': 1, 'began': 1, 'same': 1, 'month': 1, 'concluded': 1, 'January': 1, '2020.': 1, 'Initially': 1, 'slated': 1, 'be': 1, 'released': 1, 'on': 4, '3': 1, 'July': 1, '2020,': 1, 'postponed': 1, 'due': 1, 'COVID-19': 1, 'pandemic.[3][4]': 1, 'then': 1, 'premiered': 1, '12': 1, 'August': 2, 'Amazon': 2, 'Prime': 1, 'Video.[1]': 1, 'received': 1, 'mixed': 1, 'reviews': 1, 'critics,': 1, 'who': 1, 'praised': 1, \"Malhotra's\": 1, 'performance': 1, 'action': 1, 'sequences': 1, 'but': 1, 'criticised': 1, 'writing': 1, 'film.[5][6]': 1, 'On': 1, '31': 1, '2021,': 1, 'stated': 1, 'that': 1, 'had': 1, 'become': 1, 'most': 1, 'watched': 1, 'platform.[7]': 1}\n"
          ]
        }
      ]
    },
    {
      "cell_type": "markdown",
      "metadata": {
        "id": "G2WRS5Hnz28b"
      },
      "source": [
        "# Exception Handling <a name=\"handling\"></a>\n",
        "\n",
        "## Exception\n",
        "\n",
        "__Exception__ occur when something goes wrong due to incorrect code syntax or logic or input. When an exception occurs, the program immediately stops and doesn't executes any lines further.\n",
        "\n",
        "_Different exceptions are raised for different reasons._ Some common exceptions are listed below:\n",
        "* __ImportError__: an import fails\n",
        "* __IndexError__: a list is indexed with an out-of-range number\n",
        "* __NameError__: an unknown variable is used\n",
        "* __SyntaxError__: the code can't be parsed or processed properly\n",
        "* __TypeError__: a function is called on a value of an inappropriate type\n",
        "* __ValueError__: a function is called on a value of the correct type, but with an inappropriate value\n",
        "\n",
        "Third-party libraries and modules define their own exceptions. Learn more about built-in exceptions [here](https://docs.python.org/3.7/library/exceptions.html)\n",
        "\n",
        "Here are some examples of different built-in exceptions."
      ]
    },
    {
      "cell_type": "markdown",
      "metadata": {
        "id": "dSkpaNbdz5fT"
      },
      "source": [
        "```\n",
        ">>> list=[1,2,3] \n",
        ">>> print(list[3])\n",
        "Traceback (most recent call last): File \"<stdin>\", line 1, in <module> \n",
        "IndexError: list index out of range \n",
        "\n",
        ">>> printf(a)\n",
        "File \"<stdin>\", line 1 \n",
        "printf a \n",
        "    ^ \n",
        "SyntaxError: invalid syntax\n",
        "\n",
        ">>> print(a)\n",
        "Traceback (most recent call last): File \"<stdin>\", line 1, in <module> \n",
        "NameError: name 'a' is not defined \n",
        "\n",
        ">>> import tk \n",
        "Traceback (most recent call last): File \"<stdin>\", line 1, in <module> \n",
        "ImportError: No module named tk \n",
        "\n",
        ">>> a=2+\"hello\"\n",
        "Traceback (most recent call last): File \"<stdin>\", line 1, in <module> \n",
        "TypeError: unsupported operand type(s) for +: 'int' and 'str' \n",
        "\n",
        ">>> list.remove(0) \n",
        "Traceback (most recent call last): File \"<stdin>\", line 1, in <module> \n",
        "ValueError: list.remove(x): x not in list\n",
        "```"
      ]
    },
    {
      "cell_type": "markdown",
      "metadata": {
        "id": "LFvg0YTZz8Lh"
      },
      "source": [
        "## Exception Handling\n",
        "\n",
        "To handle exceptions and call code when an exception occurs, we have to use a __try/except__ statement. \n",
        "\n",
        "### try-except\n",
        "\n",
        "The __try__ block contains code that might throw an exception. If that exception occurs, the code in the try block stops executing, and the code in the __except__ block is run. If no error occurs, the code in the except block doesn't run.\n",
        "\n",
        "A try statement can have multiple different except blocks to handle different exceptions. _Multiple exceptions can also be put into a single except block using __parentheses__,_ to have the except block handle all of them.\n",
        "\n",
        "An except statement without any exception specified will catch all errors. __However, this kind of coding should be avoided.__ If you do this, you are going against the zen of Python.\n",
        "\n",
        "Exception handling is particularly useful when\n",
        "* dealing with user input\n",
        "* sending stuff over network or saving large amounts of data, since issues happening with hardware like losing power or signal problems can happen"
      ]
    },
    {
      "cell_type": "code",
      "metadata": {
        "id": "-AJAmJLHzhSp",
        "colab": {
          "base_uri": "https://localhost:8080/"
        },
        "outputId": "2ae04f20-f7de-4632-c65b-17ab1b6973a2"
      },
      "source": [
        "try:\n",
        "    variable = 10\n",
        "    print(variable + \"hello\")\n",
        "    num1 = 7\n",
        "    num2 = 0\n",
        "    print(num1 / num2)\n",
        "    print(\"Done calculation\")\n",
        "except ZeroDivisionError:\n",
        "    print(\"An error occurred due to zero division\")\n",
        "except (ValueError, TypeError):\n",
        "    print(\"ERROR!\")"
      ],
      "execution_count": null,
      "outputs": [
        {
          "output_type": "stream",
          "name": "stdout",
          "text": [
            "ERROR!\n"
          ]
        }
      ]
    },
    {
      "cell_type": "markdown",
      "metadata": {
        "id": "zBQKAFjD09FQ"
      },
      "source": [
        "__If we do not know what possible exceptions will arise, what do we do?__ [Answer](#ans2)\n",
        "\n",
        "### raise\n",
        "We can use __raise__ to throw an exception __if a condition occurs__. The statement can be complemented with a custom exception."
      ]
    },
    {
      "cell_type": "code",
      "metadata": {
        "id": "DREVFQeH04YG",
        "colab": {
          "base_uri": "https://localhost:8080/",
          "height": 203
        },
        "outputId": "5c2cd22f-b21a-4a97-8632-8cdb68fd714f"
      },
      "source": [
        "x = 12\n",
        "if x > 5:\n",
        "    raise Exception('x should not exceed 5. The value of x was: {}'.format(x))"
      ],
      "execution_count": null,
      "outputs": [
        {
          "output_type": "error",
          "ename": "Exception",
          "evalue": "ignored",
          "traceback": [
            "\u001b[0;31m---------------------------------------------------------------------------\u001b[0m",
            "\u001b[0;31mException\u001b[0m                                 Traceback (most recent call last)",
            "\u001b[0;32m<ipython-input-22-b2de8492a496>\u001b[0m in \u001b[0;36m<module>\u001b[0;34m()\u001b[0m\n\u001b[1;32m      1\u001b[0m \u001b[0mx\u001b[0m \u001b[0;34m=\u001b[0m \u001b[0;36m12\u001b[0m\u001b[0;34m\u001b[0m\u001b[0;34m\u001b[0m\u001b[0m\n\u001b[1;32m      2\u001b[0m \u001b[0;32mif\u001b[0m \u001b[0mx\u001b[0m \u001b[0;34m>\u001b[0m \u001b[0;36m5\u001b[0m\u001b[0;34m:\u001b[0m\u001b[0;34m\u001b[0m\u001b[0;34m\u001b[0m\u001b[0m\n\u001b[0;32m----> 3\u001b[0;31m     \u001b[0;32mraise\u001b[0m \u001b[0mException\u001b[0m\u001b[0;34m(\u001b[0m\u001b[0;34m'x should not exceed 5. The value of x was: {}'\u001b[0m\u001b[0;34m.\u001b[0m\u001b[0mformat\u001b[0m\u001b[0;34m(\u001b[0m\u001b[0mx\u001b[0m\u001b[0;34m)\u001b[0m\u001b[0;34m)\u001b[0m\u001b[0;34m\u001b[0m\u001b[0;34m\u001b[0m\u001b[0m\n\u001b[0m",
            "\u001b[0;31mException\u001b[0m: x should not exceed 5. The value of x was: 12"
          ]
        }
      ]
    },
    {
      "cell_type": "markdown",
      "metadata": {
        "id": "-UgwrBK21I24"
      },
      "source": [
        "### else and finally\n",
        "\n",
        "Here using the else statement, you can instruct a program to execute a certain block of code __only in the absence of exceptions__.\n",
        "\n",
        "To ensure some code runs no matter what errors occur, you can use a __finally__ statement. The finally statement is placed at the bottom of a try/except statement and else statement, if any."
      ]
    },
    {
      "cell_type": "code",
      "metadata": {
        "id": "W7AGJO0P1FKc",
        "colab": {
          "base_uri": "https://localhost:8080/"
        },
        "outputId": "613ef3b8-8ac4-4c6e-e534-e2cf7131c099"
      },
      "source": [
        "try:\n",
        "    num_1 = 2\n",
        "    num_2 = 5\n",
        "    print(num_1/num_2)\n",
        "except ZeroDivisionError as error:\n",
        "    print(error)\n",
        "else:\n",
        "    try:\n",
        "        with open('joker.txt') as file:\n",
        "            read_data = file.readline()\n",
        "            print(read_data)\n",
        "    except FileNotFoundError as fnf_error:\n",
        "        print(fnf_error)\n",
        "finally:\n",
        "    print('Getting printed irrespective of any exceptions.')\n"
      ],
      "execution_count": null,
      "outputs": [
        {
          "output_type": "stream",
          "name": "stdout",
          "text": [
            "0.4\n",
            "[Errno 2] No such file or directory: 'joker.txt'\n",
            "Getting printed irrespective of any exceptions.\n"
          ]
        }
      ]
    },
    {
      "cell_type": "code",
      "metadata": {
        "id": "dAJtqBPS1mjX",
        "colab": {
          "base_uri": "https://localhost:8080/"
        },
        "outputId": "41212081-482b-4aa4-aa59-20af75952ac9"
      },
      "source": [
        "error = \"Divide by ZERO\"\n",
        "try:\n",
        "    print(1)\n",
        "    print(10 / 0)\n",
        "except ZeroDivisionError:\n",
        "    print(error)\n",
        "finally:\n",
        "    print(\"This is executed last!\")"
      ],
      "execution_count": null,
      "outputs": [
        {
          "output_type": "stream",
          "name": "stdout",
          "text": [
            "1\n",
            "Divide by ZERO\n",
            "This is executed last!\n"
          ]
        }
      ]
    },
    {
      "cell_type": "markdown",
      "metadata": {
        "id": "mXW1Qlsm2HDQ"
      },
      "source": [
        "### Assesrtion\n",
        "\n",
        "An __assertion is a sanity-check__ where an expression is tested, and if the result comes up false, an exception is raised. When it encounters an assert statement, Python evaluates the accompanying expression, which is expected to be true. If the expression is false, Python raises an __AssertionError__ exception.\n",
        "\n",
        "AssertionError exceptions can be caught and handled like any other exception using the try-except statement, but if not handled, this type of exception will terminate the program.\n",
        "\n",
        "__But what makes assertion different from try/except?__ [Answer](#ans3)"
      ]
    },
    {
      "cell_type": "code",
      "metadata": {
        "id": "isEoJart1zDc"
      },
      "source": [
        "assert 1 == 1"
      ],
      "execution_count": null,
      "outputs": []
    },
    {
      "cell_type": "code",
      "metadata": {
        "id": "4rOIffgH2KyO",
        "colab": {
          "base_uri": "https://localhost:8080/",
          "height": 167
        },
        "outputId": "ec972770-34d2-4391-d0e7-1d23dba4306d"
      },
      "source": [
        "assert 1 == 2"
      ],
      "execution_count": null,
      "outputs": [
        {
          "output_type": "error",
          "ename": "AssertionError",
          "evalue": "ignored",
          "traceback": [
            "\u001b[0;31m---------------------------------------------------------------------------\u001b[0m",
            "\u001b[0;31mAssertionError\u001b[0m                            Traceback (most recent call last)",
            "\u001b[0;32m<ipython-input-29-ce781a32d075>\u001b[0m in \u001b[0;36m<module>\u001b[0;34m()\u001b[0m\n\u001b[0;32m----> 1\u001b[0;31m \u001b[0;32massert\u001b[0m \u001b[0;36m1\u001b[0m \u001b[0;34m==\u001b[0m \u001b[0;36m2\u001b[0m\u001b[0;34m\u001b[0m\u001b[0;34m\u001b[0m\u001b[0m\n\u001b[0m",
            "\u001b[0;31mAssertionError\u001b[0m: "
          ]
        }
      ]
    },
    {
      "cell_type": "code",
      "metadata": {
        "id": "iEmuyO1L2MXz",
        "colab": {
          "base_uri": "https://localhost:8080/",
          "height": 363
        },
        "outputId": "ec672c9a-d833-45f8-c512-748b77b20fdf"
      },
      "source": [
        "def KelvinToFahrenheit(temp):\n",
        "    assert (temp >= 0),\"Colder than absolute zero? Go back to school. -_-\"\n",
        "    return ((temp - 273)*1.8) + 32\n",
        "\n",
        "print(KelvinToFahrenheit(273))\n",
        "print(KelvinToFahrenheit(-5))\n",
        "print(KelvinToFahrenheit(373))"
      ],
      "execution_count": null,
      "outputs": [
        {
          "output_type": "stream",
          "name": "stdout",
          "text": [
            "32.0\n"
          ]
        },
        {
          "output_type": "error",
          "ename": "AssertionError",
          "evalue": "ignored",
          "traceback": [
            "\u001b[0;31m---------------------------------------------------------------------------\u001b[0m",
            "\u001b[0;31mAssertionError\u001b[0m                            Traceback (most recent call last)",
            "\u001b[0;32m<ipython-input-30-832b1596a334>\u001b[0m in \u001b[0;36m<module>\u001b[0;34m()\u001b[0m\n\u001b[1;32m      4\u001b[0m \u001b[0;34m\u001b[0m\u001b[0m\n\u001b[1;32m      5\u001b[0m \u001b[0mprint\u001b[0m\u001b[0;34m(\u001b[0m\u001b[0mKelvinToFahrenheit\u001b[0m\u001b[0;34m(\u001b[0m\u001b[0;36m273\u001b[0m\u001b[0;34m)\u001b[0m\u001b[0;34m)\u001b[0m\u001b[0;34m\u001b[0m\u001b[0;34m\u001b[0m\u001b[0m\n\u001b[0;32m----> 6\u001b[0;31m \u001b[0mprint\u001b[0m\u001b[0;34m(\u001b[0m\u001b[0mKelvinToFahrenheit\u001b[0m\u001b[0;34m(\u001b[0m\u001b[0;34m-\u001b[0m\u001b[0;36m5\u001b[0m\u001b[0;34m)\u001b[0m\u001b[0;34m)\u001b[0m\u001b[0;34m\u001b[0m\u001b[0;34m\u001b[0m\u001b[0m\n\u001b[0m\u001b[1;32m      7\u001b[0m \u001b[0mprint\u001b[0m\u001b[0;34m(\u001b[0m\u001b[0mKelvinToFahrenheit\u001b[0m\u001b[0;34m(\u001b[0m\u001b[0;36m373\u001b[0m\u001b[0;34m)\u001b[0m\u001b[0;34m)\u001b[0m\u001b[0;34m\u001b[0m\u001b[0;34m\u001b[0m\u001b[0m\n",
            "\u001b[0;32m<ipython-input-30-832b1596a334>\u001b[0m in \u001b[0;36mKelvinToFahrenheit\u001b[0;34m(temp)\u001b[0m\n\u001b[1;32m      1\u001b[0m \u001b[0;32mdef\u001b[0m \u001b[0mKelvinToFahrenheit\u001b[0m\u001b[0;34m(\u001b[0m\u001b[0mtemp\u001b[0m\u001b[0;34m)\u001b[0m\u001b[0;34m:\u001b[0m\u001b[0;34m\u001b[0m\u001b[0;34m\u001b[0m\u001b[0m\n\u001b[0;32m----> 2\u001b[0;31m     \u001b[0;32massert\u001b[0m \u001b[0;34m(\u001b[0m\u001b[0mtemp\u001b[0m \u001b[0;34m>=\u001b[0m \u001b[0;36m0\u001b[0m\u001b[0;34m)\u001b[0m\u001b[0;34m,\u001b[0m\u001b[0;34m\"Colder than absolute zero? Go back to school. -_-\"\u001b[0m\u001b[0;34m\u001b[0m\u001b[0;34m\u001b[0m\u001b[0m\n\u001b[0m\u001b[1;32m      3\u001b[0m     \u001b[0;32mreturn\u001b[0m \u001b[0;34m(\u001b[0m\u001b[0;34m(\u001b[0m\u001b[0mtemp\u001b[0m \u001b[0;34m-\u001b[0m \u001b[0;36m273\u001b[0m\u001b[0;34m)\u001b[0m\u001b[0;34m*\u001b[0m\u001b[0;36m1.8\u001b[0m\u001b[0;34m)\u001b[0m \u001b[0;34m+\u001b[0m \u001b[0;36m32\u001b[0m\u001b[0;34m\u001b[0m\u001b[0;34m\u001b[0m\u001b[0m\n\u001b[1;32m      4\u001b[0m \u001b[0;34m\u001b[0m\u001b[0m\n\u001b[1;32m      5\u001b[0m \u001b[0mprint\u001b[0m\u001b[0;34m(\u001b[0m\u001b[0mKelvinToFahrenheit\u001b[0m\u001b[0;34m(\u001b[0m\u001b[0;36m273\u001b[0m\u001b[0;34m)\u001b[0m\u001b[0;34m)\u001b[0m\u001b[0;34m\u001b[0m\u001b[0;34m\u001b[0m\u001b[0m\n",
            "\u001b[0;31mAssertionError\u001b[0m: Colder than absolute zero? Go back to school. -_-"
          ]
        }
      ]
    },
    {
      "cell_type": "markdown",
      "metadata": {
        "id": "KRsf8rGp2bEe"
      },
      "source": [
        "# Answers <a name=\"answer\"></a>"
      ]
    },
    {
      "cell_type": "markdown",
      "metadata": {
        "id": "8N7n_cbI2dMJ"
      },
      "source": [
        "### Q1 <a name=\"ans1\"></a>\n",
        "\n",
        "__Copy the variable to a new variable and then change the new variable.__ Let us discuss it with an example."
      ]
    },
    {
      "cell_type": "code",
      "metadata": {
        "id": "sXcQ7O6V2UvM",
        "colab": {
          "base_uri": "https://localhost:8080/"
        },
        "outputId": "254c4218-9f5c-4fa8-bde3-a0a482aca2d6"
      },
      "source": [
        "var_1 = 6\n",
        "var_2 = var_1\n",
        "var_1 = 9\n",
        "\n",
        "print(\"var_1: {}\".format(var_1))\n",
        "print(\"var_2: {}\".format(var_2))"
      ],
      "execution_count": null,
      "outputs": [
        {
          "output_type": "stream",
          "name": "stdout",
          "text": [
            "var_1: 9\n",
            "var_2: 6\n"
          ]
        }
      ]
    },
    {
      "cell_type": "code",
      "metadata": {
        "id": "vp4RAZcG2kBP",
        "colab": {
          "base_uri": "https://localhost:8080/"
        },
        "outputId": "4646c381-fb2b-4620-a7a0-5a5c70a2a96f"
      },
      "source": [
        "lst_1 = [1,2,3]\n",
        "lst_2 = lst_1\n",
        "lst_1.append(4)\n",
        "\n",
        "print(\"lst_1: {}\".format(lst_1))\n",
        "print(\"lst_2: {}\".format(lst_2))"
      ],
      "execution_count": null,
      "outputs": [
        {
          "output_type": "stream",
          "name": "stdout",
          "text": [
            "lst_1: [1, 2, 3, 4]\n",
            "lst_2: [1, 2, 3, 4]\n"
          ]
        }
      ]
    },
    {
      "cell_type": "markdown",
      "metadata": {
        "id": "Y3e1bvwK2-c_"
      },
      "source": [
        "__Conclusion:__ Integers are immutable since a change in var_1 was not reflected in var_2 but in case of list, there was a change making them mutable.\n",
        "\n",
        "This is happening because when you create a list and assign it to a variable (__lst_1__), you have to think of this variable as __POINTING to the list rather than being EQUAL to it__. Whenever you assign another variable (__lst_2__) to the one you already have assigned the list, __both variables point to the SAME list object__. _Any list modifications will affect ALL variables pointing to it_."
      ]
    },
    {
      "cell_type": "markdown",
      "metadata": {
        "id": "NsMD7LMI3Yfc"
      },
      "source": [
        "## Q2 <a name=\"ans3\"></a>\n",
        "\n",
        "An assertion would stop the program from running (because you should fix that error or the program is useless), but an exception would let the program continue running (if you use else or finally). In other words, __exceptions address the robustness of your application__ while __assertions address its correctness__. \n",
        "\n",
        "Assertions should be used to check something that __should never happen__ while an exception should be used to check something that __might happen__ (something in which you don't have control like user input). \n",
        "\n",
        "__NOTE__: The rule is that use __assertions__ when you are trying to __catch your own errors__ (functions or data that are internal to your system), and __exceptions__ when trying to __catch other people's errors__.\n",
        "\n",
        "Use assertions\n",
        "* when checking pre-conditions, post-conditions in code\n",
        "* to provide feedback to yourself or your developer team, making it a great feature for debugging purpose\n",
        "* when checking for things that are very unlikely to happen otherwise it means that there is a serious ﬂaw in your application\n",
        "* to state things that you (supposedly) know to be true."
      ]
    },
    {
      "cell_type": "markdown",
      "metadata": {
        "id": "ODIKY_Jo3_7o"
      },
      "source": [
        "# Home work 3 :"
      ]
    },
    {
      "cell_type": "code",
      "metadata": {
        "id": "YO3M-Qvw4IiD"
      },
      "source": [
        "input = \"              I am Priya               \"\n",
        "\n",
        "output = \"I am Priya\""
      ],
      "execution_count": null,
      "outputs": []
    },
    {
      "cell_type": "markdown",
      "metadata": {
        "id": "l7Bs0qO9kHAx"
      },
      "source": [
        "## Practice Questions"
      ]
    },
    {
      "cell_type": "markdown",
      "metadata": {
        "id": "3fmap8OfkLVB"
      },
      "source": [
        "### Q1 : Write a Python script to sort (ascending and descending) a dictionary by value"
      ]
    },
    {
      "cell_type": "code",
      "metadata": {
        "id": "cS9hEvVdkKSK",
        "outputId": "972256ff-bf1d-4a50-9bf8-7af20a0f3620",
        "colab": {
          "base_uri": "https://localhost:8080/"
        }
      },
      "source": [
        "d = {'a' : 100 , 'b' : 21,'c' : 999 , \"d\" : 1 }\n",
        "print(d)"
      ],
      "execution_count": 2,
      "outputs": [
        {
          "output_type": "stream",
          "name": "stdout",
          "text": [
            "{'a': 100, 'b': 21, 'c': 999, 'd': 1}\n"
          ]
        }
      ]
    },
    {
      "cell_type": "code",
      "metadata": {
        "id": "nPOzZX1Akixn",
        "outputId": "99e1afe3-5414-4c78-d7ad-d4dc7915a35d",
        "colab": {
          "base_uri": "https://localhost:8080/"
        }
      },
      "source": [
        "help(sorted)"
      ],
      "execution_count": 3,
      "outputs": [
        {
          "output_type": "stream",
          "name": "stdout",
          "text": [
            "Help on built-in function sorted in module builtins:\n",
            "\n",
            "sorted(iterable, /, *, key=None, reverse=False)\n",
            "    Return a new list containing all items from the iterable in ascending order.\n",
            "    \n",
            "    A custom key function can be supplied to customize the sort order, and the\n",
            "    reverse flag can be set to request the result in descending order.\n",
            "\n"
          ]
        }
      ]
    },
    {
      "cell_type": "code",
      "metadata": {
        "id": "4rK8QpGokypk"
      },
      "source": [
        "#dir(d)"
      ],
      "execution_count": 8,
      "outputs": []
    },
    {
      "cell_type": "code",
      "metadata": {
        "id": "6SkBOP8blAsl",
        "outputId": "dc85fed6-4df5-4ce7-ada4-47bfde0ac39d",
        "colab": {
          "base_uri": "https://localhost:8080/"
        }
      },
      "source": [
        "print(d.keys())\n",
        "print(d.values())\n",
        "print(d.items())"
      ],
      "execution_count": 9,
      "outputs": [
        {
          "output_type": "stream",
          "name": "stdout",
          "text": [
            "dict_keys(['a', 'b', 'c', 'd'])\n",
            "dict_values([100, 21, 999, 1])\n",
            "dict_items([('a', 100), ('b', 21), ('c', 999), ('d', 1)])\n"
          ]
        }
      ]
    },
    {
      "cell_type": "code",
      "metadata": {
        "id": "dzDiI7aole7q",
        "outputId": "6715be7b-c7e8-4b7b-d2d6-51d5db026b1f",
        "colab": {
          "base_uri": "https://localhost:8080/"
        }
      },
      "source": [
        "for x in d:\n",
        "  print(x)"
      ],
      "execution_count": 10,
      "outputs": [
        {
          "output_type": "stream",
          "name": "stdout",
          "text": [
            "a\n",
            "b\n",
            "c\n",
            "d\n"
          ]
        }
      ]
    },
    {
      "cell_type": "code",
      "metadata": {
        "id": "hvhKMvz2lkW6",
        "outputId": "f2517eac-c0f1-4063-f545-bd017dd93294",
        "colab": {
          "base_uri": "https://localhost:8080/"
        }
      },
      "source": [
        "for x in d.items():\n",
        "  print(x)"
      ],
      "execution_count": 11,
      "outputs": [
        {
          "output_type": "stream",
          "name": "stdout",
          "text": [
            "('a', 100)\n",
            "('b', 21)\n",
            "('c', 999)\n",
            "('d', 1)\n"
          ]
        }
      ]
    },
    {
      "cell_type": "code",
      "metadata": {
        "id": "ZAUAdvXqlZQK",
        "outputId": "3b8061a9-a39f-4f72-fb9e-0e399e6755ca",
        "colab": {
          "base_uri": "https://localhost:8080/"
        }
      },
      "source": [
        "#Key has to be a function : A custom key function can be supplied to customize the sort order\n",
        "\n",
        "sorted(d.items() , key = lambda x : x[1])"
      ],
      "execution_count": 12,
      "outputs": [
        {
          "output_type": "execute_result",
          "data": {
            "text/plain": [
              "[('d', 1), ('b', 21), ('a', 100), ('c', 999)]"
            ]
          },
          "metadata": {},
          "execution_count": 12
        }
      ]
    },
    {
      "cell_type": "code",
      "metadata": {
        "id": "f_i4QUH9mDN9",
        "outputId": "0d0461ba-8f1c-42f6-9749-3f2a8b6d8363",
        "colab": {
          "base_uri": "https://localhost:8080/"
        }
      },
      "source": [
        "#Key has to be a function\n",
        "sorted(d.items() , key = lambda x : x[1],reverse =  True)"
      ],
      "execution_count": 13,
      "outputs": [
        {
          "output_type": "execute_result",
          "data": {
            "text/plain": [
              "[('c', 999), ('a', 100), ('b', 21), ('d', 1)]"
            ]
          },
          "metadata": {},
          "execution_count": 13
        }
      ]
    },
    {
      "cell_type": "code",
      "metadata": {
        "id": "vdp6aSvSmHFp",
        "outputId": "bfc9a0d4-6730-4648-a068-700c4174970c",
        "colab": {
          "base_uri": "https://localhost:8080/"
        }
      },
      "source": [
        "def sort_order(x):\n",
        "  return x[1]\n",
        "\n",
        "sorted(d.items() , key = sort_order)"
      ],
      "execution_count": 15,
      "outputs": [
        {
          "output_type": "execute_result",
          "data": {
            "text/plain": [
              "[('d', 1), ('b', 21), ('a', 100), ('c', 999)]"
            ]
          },
          "metadata": {},
          "execution_count": 15
        }
      ]
    },
    {
      "cell_type": "code",
      "metadata": {
        "id": "1VKFL960mVh6",
        "outputId": "16e98fd3-b206-4483-80c4-e0b5ebe0b615",
        "colab": {
          "base_uri": "https://localhost:8080/"
        }
      },
      "source": [
        "sagar = sort_order\n",
        "sorted(d.items() , key = sagar)\n"
      ],
      "execution_count": 16,
      "outputs": [
        {
          "output_type": "execute_result",
          "data": {
            "text/plain": [
              "[('d', 1), ('b', 21), ('a', 100), ('c', 999)]"
            ]
          },
          "metadata": {},
          "execution_count": 16
        }
      ]
    },
    {
      "cell_type": "code",
      "metadata": {
        "id": "jT8KOQqZmfBm",
        "outputId": "4d75f1d5-8008-4244-8e37-458aa5f4ef71",
        "colab": {
          "base_uri": "https://localhost:8080/"
        }
      },
      "source": [
        "type(sort_order)"
      ],
      "execution_count": 17,
      "outputs": [
        {
          "output_type": "execute_result",
          "data": {
            "text/plain": [
              "function"
            ]
          },
          "metadata": {},
          "execution_count": 17
        }
      ]
    },
    {
      "cell_type": "code",
      "metadata": {
        "id": "QqYMYKL9miBh",
        "outputId": "63403823-49d1-473f-e145-516d8e742611",
        "colab": {
          "base_uri": "https://localhost:8080/"
        }
      },
      "source": [
        "type(sagar)"
      ],
      "execution_count": 18,
      "outputs": [
        {
          "output_type": "execute_result",
          "data": {
            "text/plain": [
              "function"
            ]
          },
          "metadata": {},
          "execution_count": 18
        }
      ]
    },
    {
      "cell_type": "markdown",
      "metadata": {
        "id": "HIKnVYJVnLGx"
      },
      "source": [
        "### Q2 : Write a Python program to print all unique values in a dictionary."
      ]
    },
    {
      "cell_type": "code",
      "metadata": {
        "id": "jZzFpMABm7at",
        "outputId": "2d12b586-f80a-489b-90ad-2076a646acd9",
        "colab": {
          "base_uri": "https://localhost:8080/"
        }
      },
      "source": [
        "d = {'a' : 100 , 'b' : 100,'c' : 1 , \"d\" : 1 }\n",
        "set(d.values())"
      ],
      "execution_count": 21,
      "outputs": [
        {
          "output_type": "execute_result",
          "data": {
            "text/plain": [
              "{1, 100}"
            ]
          },
          "metadata": {},
          "execution_count": 21
        }
      ]
    },
    {
      "cell_type": "markdown",
      "metadata": {
        "id": "oBkDEMfUnqqP"
      },
      "source": [
        "# OOP features in Python\n",
        "\n",
        "Python is an _object-oriented programming_ (OOP) language and objects are created using __class__ which is actually the focal point of OOP, along with __inheritance__ as one of the most concept ever developed.\n",
        "\n",
        "## Class <a name=\"class\"></a>\n",
        "\n",
        "The class describes an object's blueprint, description or metadata. Multiple object can be instantiated using the _same class_.\n",
        "\n",
        "In layman's term, class is a digital representation of the real world entity which contains __properties__ and __behaviors__. As an analogy, the constructors or initializers are the properties and methods are the behaviors.\n",
        "\n",
        "Classes are created using the keyword __class__ with class name in _Pascal-Case_ format and an indented block, which contains constructor and class _methods_.\n",
        "\n",
        "Let's take a look at an example."
      ]
    },
    {
      "cell_type": "code",
      "metadata": {
        "id": "CU9cbbainglt",
        "outputId": "6d711059-d42d-4ea9-8e7f-92bdf1ab22b4",
        "colab": {
          "base_uri": "https://localhost:8080/"
        }
      },
      "source": [
        "# self represents the instance of the class. \n",
        "# By using the “self” keyword we can access the attributes and methods of the class in python.\n",
        "class Pet:\n",
        "    def __init__(self, g = \"dog\", n = \"Arcanine\", o = \"Tim\"):\n",
        "        self.genre = g \n",
        "        self.name = n\n",
        "        self.owner = o\n",
        "        \n",
        "    def voice(self, sound): #another method added to the class Pet\n",
        "        print(self.name)\n",
        "        return sound\n",
        "        \n",
        "    def body(self, leg_count=4):\n",
        "        print(\"legs: {}\".format(leg_count))\n",
        "        \n",
        "pokemon = Pet(\"mouse\",\"Pikachu\",\"Ash\")\n",
        "print(pokemon.name)\n",
        "print(pokemon.voice(\"PIIKKAAAA!\"))\n",
        "pokemon.body(2)"
      ],
      "execution_count": 22,
      "outputs": [
        {
          "output_type": "stream",
          "name": "stdout",
          "text": [
            "Pikachu\n",
            "Pikachu\n",
            "PIIKKAAAA!\n",
            "legs: 2\n"
          ]
        }
      ]
    },
    {
      "cell_type": "markdown",
      "metadata": {
        "id": "1bZDDiaIoluA"
      },
      "source": [
        "The **__ init__** method is the most important method in a class which is called when an instance (object) of the class is created. It stores the properties of the class (and typically known as _constructors_ in OOP). __All methods must have self as their first parameter__.\n",
        "\n",
        "Within the method definition, __self__ refers to the object itself calling the method. From the above example, we see that\n",
        "\n",
        "```\n",
        "pokemon = Pet(\"mouse\",\"Pikachu\",\"Ash\")\n",
        "print(pokemon.name)\n",
        ">>> Pikachu\n",
        "```\n",
        "\n",
        "* When we create the pokemon object from the class Pet, we are passing _genre, name and owner_ as _\"mouse\", \"Pikachu\", \"Ash\"_ and the object (pokemon) will take the place of self.\n",
        "* The attributes are accessed using the __dot__ operator.\n",
        "* So __pokemon is the object__, \"_Pikachu_\" is the value of the __name__ attribute of this object. \n",
        "\n",
        "Hence, we can access the attributes in a class using this way: __object.attributes__.\n",
        "\n",
        "Classes can have other methods defined to add functionality to them. These methods are accessed using the same dot syntax as attributes.\n",
        "\n",
        "Trying to access an attribute of an instance that isn't defined causes an __AttributeError__.\n",
        "\n",
        "## Inheritance\n",
        "\n",
        "If the class is a __specialized version of another class__, then it is called inheritance. When one class inherits from another, it __automatically__ takes on all the attributes and methods of the parent class. The child class is free to introduce and override attributes and methods of the parent class.\n",
        "\n",
        "To inherit from another class, _include the name of the parent class in **parentheses**_ when defining the new class."
      ]
    },
    {
      "cell_type": "code",
      "metadata": {
        "id": "bNLmxhkIoiFB"
      },
      "source": [
        "class Car():\n",
        "    \"\"\"A simple class to model a car.\"\"\"\n",
        "    def __init__(self, make, model, year):\n",
        "        self.make = make\n",
        "        self.model = model\n",
        "        self.year = year\n",
        "        # Fuel capacity and level in gallons\n",
        "        self.fuel_capacity = 15\n",
        "        self.fuel_level = 0\n",
        "    \n",
        "    def fill_tank(self, fuel_level):\n",
        "        \"\"\"Fill gas tank to capacity.\"\"\"\n",
        "        if self.fuel_level == self.fuel_capacity:\n",
        "            print(\"Fuel tank is full!\")\n",
        "        else:\n",
        "            fill_prop = (self.fuel_level/self.fuel_capacity)*100\n",
        "            print(\"Fuel tank is {}% filled\".format(fill_prop))\n",
        "    \n",
        "    def drive(self, mode=\"MANUAL\"):\n",
        "        \"\"\"Simulate driving.\"\"\"\n",
        "        print(\"MODE: {} | Car in motion!\".format(self.mode))\n",
        "        \n",
        "class ElectricCar(Car):\n",
        "    \"\"\"A simple class of an electric car.\"\"\"\n",
        "    def __init__(self, make, model, year):\n",
        "        super().__init__(make, model, year)\n",
        "        # Attributes specific to electric cars.\n",
        "        # Battery capacity in kWh.\n",
        "        self.battery_size = 70\n",
        "        # Charge level in %.\n",
        "        self.charge_level = 0\n",
        "        \n",
        "    def charge(self):\n",
        "        \"\"\"Fully charge the vehicle.\"\"\"\n",
        "        self.charge_level = 100\n",
        "        print(\"The vehicle is fully charged.\")"
      ],
      "execution_count": null,
      "outputs": []
    },
    {
      "cell_type": "markdown",
      "metadata": {
        "id": "Z2dm2miDqWhL"
      },
      "source": [
        "# Lambda <a name=\"lambda\"></a>\n",
        "\n",
        "In Python, __anonymous function__ means a function __without a name__, whereas we use _def_ keyword to create normal functions. The __lambda__ function is used for creating _small, one-time and anonymous_ function objects in Python. The lambda operator can have __any number of arguments__, but it can have __only one expression__. The lambda functions can be assigned to variables, and used like normal functions.\n",
        "\n",
        "Use lambda functions when an anonymous function is required for a short period of time."
      ]
    },
    {
      "cell_type": "code",
      "metadata": {
        "id": "ilIdYZc1qXEQ",
        "outputId": "0e8e0d32-224f-43e8-eb84-7b3993a49cf4",
        "colab": {
          "base_uri": "https://localhost:8080/"
        }
      },
      "source": [
        "add = lambda x , y : x + y\n",
        "add(1,2)"
      ],
      "execution_count": 23,
      "outputs": [
        {
          "output_type": "execute_result",
          "data": {
            "text/plain": [
              "3"
            ]
          },
          "metadata": {},
          "execution_count": 23
        }
      ]
    },
    {
      "cell_type": "code",
      "metadata": {
        "id": "-Mw5o8tMqgFZ"
      },
      "source": [
        "max_ = lambda x , y : x if x > y else y\n",
        "min_ = lambda x , y : x if x < y else y"
      ],
      "execution_count": 26,
      "outputs": []
    },
    {
      "cell_type": "code",
      "metadata": {
        "id": "moOmRFNKqp5O",
        "outputId": "32dd58b2-b6dc-4a26-f81f-cacca68afd0a",
        "colab": {
          "base_uri": "https://localhost:8080/"
        }
      },
      "source": [
        "max_(1,2)\n"
      ],
      "execution_count": 25,
      "outputs": [
        {
          "output_type": "execute_result",
          "data": {
            "text/plain": [
              "2"
            ]
          },
          "metadata": {},
          "execution_count": 25
        }
      ]
    },
    {
      "cell_type": "code",
      "metadata": {
        "id": "8sbY-KyQqra-",
        "outputId": "90d80eda-9f4e-4c0c-cc4b-342629fa74c2",
        "colab": {
          "base_uri": "https://localhost:8080/"
        }
      },
      "source": [
        "min_(1,2)"
      ],
      "execution_count": 28,
      "outputs": [
        {
          "output_type": "execute_result",
          "data": {
            "text/plain": [
              "1"
            ]
          },
          "metadata": {},
          "execution_count": 28
        }
      ]
    },
    {
      "cell_type": "code",
      "metadata": {
        "id": "EUiph9gaqxPk",
        "outputId": "9b0e6a5c-3541-4dde-d136-1e9c1cfef488",
        "colab": {
          "base_uri": "https://localhost:8080/"
        }
      },
      "source": [
        "max = add\n",
        "max(1,2)"
      ],
      "execution_count": 30,
      "outputs": [
        {
          "output_type": "execute_result",
          "data": {
            "text/plain": [
              "3"
            ]
          },
          "metadata": {},
          "execution_count": 30
        }
      ]
    },
    {
      "cell_type": "code",
      "metadata": {
        "id": "PvMe82wnq4r4",
        "outputId": "da4b772a-b25b-4f42-9892-c068d9eefc3a",
        "colab": {
          "base_uri": "https://localhost:8080/"
        }
      },
      "source": [
        "#named function\n",
        "def polynomial(x,y):\n",
        "    '''\n",
        "    Function to perform a polynomial calculation having a single variable x\n",
        "    '''\n",
        "    return x**2 + 5*y + 4\n",
        "\n",
        "print(\"The result for named function: {}\".format(polynomial(-4,2)))\n",
        "\n",
        "#========== OR ============\n",
        "\n",
        "#lambda\n",
        "poly = lambda x,y: x**2 + 5*y + 4\n",
        "print(\"The result for anonymous function: {}\".format(poly(-4,2)))"
      ],
      "execution_count": 31,
      "outputs": [
        {
          "output_type": "stream",
          "name": "stdout",
          "text": [
            "The result for named function: 30\n",
            "The result for anonymous function: 30\n"
          ]
        }
      ]
    },
    {
      "cell_type": "markdown",
      "metadata": {
        "id": "p_KFDktKrSkA"
      },
      "source": [
        "# First-Class Functions\n",
        "\n",
        "In OOP, there is a concept of __first-class function__ which are basically functions treated as __first-class citizen (/object)__, which in turn is an entity that can be\n",
        "* dynamically created, destroyed\n",
        "* can be stored in a v-ariable\n",
        "* passed to a function as argument\n",
        "* returned as a value from a function\n",
        "\n",
        "Let's see an example below for all of these properties:"
      ]
    },
    {
      "cell_type": "code",
      "metadata": {
        "id": "fGOKi5zOrqLE",
        "outputId": "e0c0ca30-586f-421d-b9b7-8cee6b0e34cf",
        "colab": {
          "base_uri": "https://localhost:8080/"
        }
      },
      "source": [
        "# functions can be assigned to a variable\n",
        "\n",
        "def my_pymon(text):\n",
        "    return \"Let's go, {}\".format(text.upper())\n",
        "\n",
        "i_choose_you = my_pymon\n",
        "print(i_choose_you('PYkachu'))\n",
        "print(\"=\"*20)"
      ],
      "execution_count": 32,
      "outputs": [
        {
          "output_type": "stream",
          "name": "stdout",
          "text": [
            "Let's go, PYKACHU\n",
            "====================\n"
          ]
        }
      ]
    },
    {
      "cell_type": "code",
      "metadata": {
        "id": "0M6rCZHIrwtF",
        "outputId": "bca4d9d9-6eed-42ca-c90f-9699a7cde59c",
        "colab": {
          "base_uri": "https://localhost:8080/"
        }
      },
      "source": [
        "\n",
        "# functions can be passed as argument to another function\n",
        "\n",
        "def your_pymon(text):\n",
        "    return f\"{text}\"\n",
        "\n",
        "def trainer_select(func): #func = your_pymon\n",
        "    print(func(\"I choose you, 'char'mander\"))\n",
        "\n",
        "trainer_select(your_pymon)\n",
        "print(\"=\"*20)"
      ],
      "execution_count": 34,
      "outputs": [
        {
          "output_type": "stream",
          "name": "stdout",
          "text": [
            "I choose you, 'char'mander\n",
            "====================\n"
          ]
        }
      ]
    },
    {
      "cell_type": "code",
      "metadata": {
        "id": "DX-YfBqwrQ3V",
        "outputId": "a4b87173-d708-4eb9-adec-ff6e5b86c1cf",
        "colab": {
          "base_uri": "https://localhost:8080/"
        }
      },
      "source": [
        "# function returned as a value from another function\n",
        "\n",
        "def battle_began_with(mons):\n",
        "    #mons = char'mander\n",
        "    def who_won(someone):\n",
        "        return f\"In the battle, {someone} won against {mons}\"\n",
        "    return who_won\n",
        "\n",
        "battle = battle_began_with(\"'char'mander\") #who_won\n",
        "battle_result = battle(\"PYkachu\")\n",
        "print(battle_result)"
      ],
      "execution_count": 35,
      "outputs": [
        {
          "output_type": "stream",
          "name": "stdout",
          "text": [
            "In the battle, PYkachu won against 'char'mander\n"
          ]
        }
      ]
    }
  ]
}