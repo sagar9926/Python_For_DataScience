{
  "nbformat": 4,
  "nbformat_minor": 0,
  "metadata": {
    "colab": {
      "name": "Python Training Session 1.ipynb",
      "provenance": [],
      "collapsed_sections": [
        "BKOFJFFDp-sQ"
      ],
      "authorship_tag": "ABX9TyOUWs0pmOOM0BW3A4M5jxLG",
      "include_colab_link": true
    },
    "kernelspec": {
      "name": "python3",
      "display_name": "Python 3"
    },
    "language_info": {
      "name": "python"
    }
  },
  "cells": [
    {
      "cell_type": "markdown",
      "metadata": {
        "id": "view-in-github",
        "colab_type": "text"
      },
      "source": [
        "<a href=\"https://colab.research.google.com/github/sagar9926/Python_For_DataScience/blob/master/PythonTraining/Python_Training_Session_1.ipynb\" target=\"_parent\"><img src=\"https://colab.research.google.com/assets/colab-badge.svg\" alt=\"Open In Colab\"/></a>"
      ]
    },
    {
      "cell_type": "markdown",
      "metadata": {
        "id": "BKOFJFFDp-sQ"
      },
      "source": [
        "# Table of Content:\n",
        "* [Small test](#test)\n",
        "* [More Data Types](#more_types)\n",
        "* [Conditional statements, Loops](#loops)\n",
        "* [File I/O](#io)\n",
        "* [Exception Handling](#handling)\n",
        "* [Answers](#answer)"
      ]
    },
    {
      "cell_type": "code",
      "metadata": {
        "colab": {
          "base_uri": "https://localhost:8080/"
        },
        "id": "BURuSfBdp7kP",
        "outputId": "814c9f47-e3a6-453f-d980-3857a2b30238"
      },
      "source": [
        "# Small test\n",
        "\n",
        "def operation(x, y):\n",
        "    return x+y\n",
        "\n",
        "def another_operation(func, x, y):\n",
        "    return func(func(x,y), func(x,y))\n",
        "\n",
        "a = 5\n",
        "b = 25\n",
        "\n",
        "print(another_operation(operation, a, b))"
      ],
      "execution_count": 74,
      "outputs": [
        {
          "output_type": "stream",
          "name": "stdout",
          "text": [
            "60\n"
          ]
        }
      ]
    },
    {
      "cell_type": "markdown",
      "metadata": {
        "id": "tHIgNcxdqPbU"
      },
      "source": [
        "# More Data Types <a name=\"more_types\"></a>\n",
        "\n",
        "__List of immutable objects:__\n",
        "* bool\n",
        "* int\n",
        "* float\n",
        "* str\n",
        "* tuple\n",
        "* frozenset\n",
        "\n",
        "__List of mutable objects:__\n",
        "* list\n",
        "* set\n",
        "* dict\n",
        "\n",
        "## List\n",
        "\n",
        "List is a type of __mutable__ object in Python used to store an __indexed__ list of item. It is created using __square brackets__ with commas separating the items. A certain item from the list can be accessed using it's index number.\n",
        "\n",
        "An empty list is created using an empty pair of square brackets.\n",
        "\n",
        "A list can contain items of a __single item type or multiple item type__. A list within a list is also possible which is used to represent 2D grids as Python, by default, lacks multi-dimensional array feature. But this can be achieved using __numpy__ which we will discuss in our Advanced Notebook.\n",
        "\n",
        "__NOTE: Strings can be indexed like a list__.\n"
      ]
    },
    {
      "cell_type": "code",
      "metadata": {
        "colab": {
          "base_uri": "https://localhost:8080/"
        },
        "id": "_LgXjfHYqFlZ",
        "outputId": "f2702746-3034-44bf-fd88-7508a2adf0a0"
      },
      "source": [
        "empty_list = []\n",
        "\n",
        "words = ['Python',3.6,['Up Next','Tuple']]\n",
        "\n",
        "print(words[0])\n",
        "print(words[2][1])\n",
        "\n",
        "print(words[1])\n",
        "words[1]=2.7\n",
        "print(words)\n",
        "\n",
        "## accessing items of string by index\n",
        "short_form = \"User Defined Function\"\n",
        "print(\"In our last class, we went through {}{}{}\".format(short_form[0], short_form[5], short_form[13]))"
      ],
      "execution_count": 75,
      "outputs": [
        {
          "output_type": "stream",
          "name": "stdout",
          "text": [
            "Python\n",
            "Tuple\n",
            "3.6\n",
            "['Python', 2.7, ['Up Next', 'Tuple']]\n",
            "In our last class, we went through UDF\n"
          ]
        }
      ]
    },
    {
      "cell_type": "code",
      "metadata": {
        "colab": {
          "base_uri": "https://localhost:8080/"
        },
        "id": "0BlKeTSBgvmV",
        "outputId": "0663afe2-5030-4a09-9f5b-5b21c40dba3a"
      },
      "source": [
        "## basic list operations\n",
        "num_list = [1,2,3]\n",
        "print(num_list + [4,5,6])\n",
        "print(num_list * 2)\n",
        "print(num_list + num_list)\n",
        "print(4 in num_list)\n",
        "print(9 not in num_list)\n",
        "print(not 1 in num_list)"
      ],
      "execution_count": 76,
      "outputs": [
        {
          "output_type": "stream",
          "name": "stdout",
          "text": [
            "[1, 2, 3, 4, 5, 6]\n",
            "[1, 2, 3, 1, 2, 3]\n",
            "[1, 2, 3, 1, 2, 3]\n",
            "False\n",
            "True\n",
            "False\n"
          ]
        }
      ]
    },
    {
      "cell_type": "code",
      "metadata": {
        "colab": {
          "base_uri": "https://localhost:8080/"
        },
        "id": "r3cGTxq_jkpg",
        "outputId": "ea368b06-63f4-4596-f2f7-cfb50ccf5947"
      },
      "source": [
        "# list functions and methods\n",
        "num = [1,2,3]\n",
        "num.append(4) # [1,2,3,4]\n",
        "num.append([5,6]) # [1,2,3,4,[5,6]]\n",
        "print(num)\n",
        "print(len(num))\n",
        "\n",
        "num.extend([7,8,9]) # [1,2,3,4,[5,6],7,8,9]\n",
        "print(num)\n",
        "print(len(num))\n",
        "\n",
        "index = 2\n",
        "num.insert(index, 2.5)\n",
        "print(num)\n",
        "\n",
        "print(\"=\" * 50)\n",
        "\n",
        "print(num.index(3))\n",
        "print(num.index(2.0))\n",
        "\n",
        "num.remove([5,6])\n",
        "num.pop(0)\n",
        "print(num)\n",
        "\n",
        "\n",
        "print(max(num))\n",
        "print(num.count(5))\n",
        "\n",
        "num.reverse()\n",
        "print(num)"
      ],
      "execution_count": 77,
      "outputs": [
        {
          "output_type": "stream",
          "name": "stdout",
          "text": [
            "[1, 2, 3, 4, [5, 6]]\n",
            "5\n",
            "[1, 2, 3, 4, [5, 6], 7, 8, 9]\n",
            "8\n",
            "[1, 2, 2.5, 3, 4, [5, 6], 7, 8, 9]\n",
            "==================================================\n",
            "3\n",
            "1\n",
            "[2, 2.5, 3, 4, 7, 8, 9]\n",
            "9\n",
            "0\n",
            "[9, 8, 7, 4, 3, 2.5, 2]\n"
          ]
        }
      ]
    },
    {
      "cell_type": "code",
      "metadata": {
        "colab": {
          "base_uri": "https://localhost:8080/"
        },
        "id": "36VbyiVGlFMS",
        "outputId": "2db56e64-3b98-427d-daa1-b1e03faa2f62"
      },
      "source": [
        "num.reverse()\n",
        "print(num)"
      ],
      "execution_count": 78,
      "outputs": [
        {
          "output_type": "stream",
          "name": "stdout",
          "text": [
            "[2, 2.5, 3, 4, 7, 8, 9]\n"
          ]
        }
      ]
    },
    {
      "cell_type": "code",
      "metadata": {
        "colab": {
          "base_uri": "https://localhost:8080/"
        },
        "id": "mHQv1nl1l4E2",
        "outputId": "aa45cf43-be37-4862-ee19-311b3d65d862"
      },
      "source": [
        "num[:]"
      ],
      "execution_count": 79,
      "outputs": [
        {
          "output_type": "execute_result",
          "data": {
            "text/plain": [
              "[2, 2.5, 3, 4, 7, 8, 9]"
            ]
          },
          "metadata": {},
          "execution_count": 79
        }
      ]
    },
    {
      "cell_type": "code",
      "metadata": {
        "colab": {
          "base_uri": "https://localhost:8080/"
        },
        "id": "PHwax21YlJxM",
        "outputId": "2488dd30-4cd2-4cd6-91f3-bed7a7a03a53"
      },
      "source": [
        "num[0 : 3]"
      ],
      "execution_count": 80,
      "outputs": [
        {
          "output_type": "execute_result",
          "data": {
            "text/plain": [
              "[2, 2.5, 3]"
            ]
          },
          "metadata": {},
          "execution_count": 80
        }
      ]
    },
    {
      "cell_type": "code",
      "metadata": {
        "colab": {
          "base_uri": "https://localhost:8080/"
        },
        "id": "5CrFDK26lVRO",
        "outputId": "e30cdc23-ea7b-40fe-f4f5-dcbe2b0dd924"
      },
      "source": [
        "num[0 : 5 : 2]\n",
        "# num[start : end : jump ]\n",
        "#elements :  0 , 0 + 2 , 0 + 2 + 2 "
      ],
      "execution_count": 81,
      "outputs": [
        {
          "output_type": "execute_result",
          "data": {
            "text/plain": [
              "[2, 3, 7]"
            ]
          },
          "metadata": {},
          "execution_count": 81
        }
      ]
    },
    {
      "cell_type": "code",
      "metadata": {
        "colab": {
          "base_uri": "https://localhost:8080/"
        },
        "id": "h4DDOFdElhC4",
        "outputId": "da295dae-8ccf-491f-8754-f475add4de73"
      },
      "source": [
        "num[-1]"
      ],
      "execution_count": 82,
      "outputs": [
        {
          "output_type": "execute_result",
          "data": {
            "text/plain": [
              "9"
            ]
          },
          "metadata": {},
          "execution_count": 82
        }
      ]
    },
    {
      "cell_type": "code",
      "metadata": {
        "colab": {
          "base_uri": "https://localhost:8080/"
        },
        "id": "eIT7AxMglmif",
        "outputId": "b9a12135-2702-48c9-8c26-0fab7fb4ba59"
      },
      "source": [
        "num[-2]"
      ],
      "execution_count": 83,
      "outputs": [
        {
          "output_type": "execute_result",
          "data": {
            "text/plain": [
              "8"
            ]
          },
          "metadata": {},
          "execution_count": 83
        }
      ]
    },
    {
      "cell_type": "code",
      "metadata": {
        "colab": {
          "base_uri": "https://localhost:8080/"
        },
        "id": "1KZU2c0FmE81",
        "outputId": "718a5de5-fe56-488a-9d89-d4da910bd43c"
      },
      "source": [
        "print(num)"
      ],
      "execution_count": 84,
      "outputs": [
        {
          "output_type": "stream",
          "name": "stdout",
          "text": [
            "[2, 2.5, 3, 4, 7, 8, 9]\n"
          ]
        }
      ]
    },
    {
      "cell_type": "code",
      "metadata": {
        "colab": {
          "base_uri": "https://localhost:8080/"
        },
        "id": "-ysd4NvtlpXZ",
        "outputId": "49255822-6af1-4da6-8b55-6cdcc1f90bbf"
      },
      "source": [
        "# num[start : end : jump ]\n",
        "# Reversing a list\n",
        "num[ : : -1]\n",
        "\n",
        "# 0  - 1, 0 - 1 - 1\n"
      ],
      "execution_count": 85,
      "outputs": [
        {
          "output_type": "execute_result",
          "data": {
            "text/plain": [
              "[9, 8, 7, 4, 3, 2.5, 2]"
            ]
          },
          "metadata": {},
          "execution_count": 85
        }
      ]
    },
    {
      "cell_type": "code",
      "metadata": {
        "colab": {
          "base_uri": "https://localhost:8080/"
        },
        "id": "-VzO53usmUA5",
        "outputId": "41fdc88e-2946-499e-c5ba-03410924d9ec"
      },
      "source": [
        "#Call By Reference\n",
        "\n",
        "list1 = [1,2,3]\n",
        "list2 = list1\n",
        "\n",
        "list2[0] = 100\n",
        "\n",
        "print(list1)\n",
        "print(list2)"
      ],
      "execution_count": 86,
      "outputs": [
        {
          "output_type": "stream",
          "name": "stdout",
          "text": [
            "[100, 2, 3]\n",
            "[100, 2, 3]\n"
          ]
        }
      ]
    },
    {
      "cell_type": "code",
      "metadata": {
        "colab": {
          "base_uri": "https://localhost:8080/"
        },
        "id": "KOI3Wnbgmk_d",
        "outputId": "6262b8c9-b3c5-40f9-c34d-1a88f0017fda"
      },
      "source": [
        "# Why list is mutable\n",
        "\n",
        "list1 = [1,2,3]\n",
        "\n",
        "print(hex(id(list1)))\n",
        "\n",
        "list1[0] = 100\n",
        "\n",
        "print(hex(id(list1)))\n"
      ],
      "execution_count": 87,
      "outputs": [
        {
          "output_type": "stream",
          "name": "stdout",
          "text": [
            "0x7f23e9f3a050\n",
            "0x7f23e9f3a050\n"
          ]
        }
      ]
    },
    {
      "cell_type": "markdown",
      "metadata": {
        "id": "FDk6bPMxqYoO"
      },
      "source": [
        "## Tuple\n",
        "\n",
        "Tuple is a __immutable__ Python object created using __Parentheses__ with commas separating the items which can be accessed using it's index number.\n",
        "\n",
        "It is just like list, except __you cannot modify or re-assign a value in the tuple. It will throw TypeError__.\n",
        "\n",
        "An empty tuple can also be created in the same way you create empty list.\n",
        "\n",
        "__NOTE: Tuples can also be created without using Parentheses, simply separated by commas.__\n",
        "\n",
        "### But when should we put parenthesis on tuples, and when we shouldn't?\n",
        "\n",
        "__Answer__: We use parentheses for __nested tuple__."
      ]
    },
    {
      "cell_type": "code",
      "metadata": {
        "colab": {
          "base_uri": "https://localhost:8080/"
        },
        "id": "KzRXHCy1nQfG",
        "outputId": "1f676f3a-9a17-4fc4-990e-6442d1d6766f"
      },
      "source": [
        "x = (1,2,3)\n",
        "print(type(x))"
      ],
      "execution_count": 88,
      "outputs": [
        {
          "output_type": "stream",
          "name": "stdout",
          "text": [
            "<class 'tuple'>\n"
          ]
        }
      ]
    },
    {
      "cell_type": "code",
      "metadata": {
        "colab": {
          "base_uri": "https://localhost:8080/"
        },
        "id": "DLup449snUbH",
        "outputId": "810ff899-66d7-4ff1-da5d-0379c74f1858"
      },
      "source": [
        "x = 1,\n",
        "print(type(x))"
      ],
      "execution_count": 89,
      "outputs": [
        {
          "output_type": "stream",
          "name": "stdout",
          "text": [
            "<class 'tuple'>\n"
          ]
        }
      ]
    },
    {
      "cell_type": "code",
      "metadata": {
        "colab": {
          "base_uri": "https://localhost:8080/"
        },
        "id": "EJWna0tgnW6e",
        "outputId": "7f379a63-2f02-4bf3-e499-d66dbaec6943"
      },
      "source": [
        "x = 1,2,3\n",
        "print(type(x))"
      ],
      "execution_count": 90,
      "outputs": [
        {
          "output_type": "stream",
          "name": "stdout",
          "text": [
            "<class 'tuple'>\n"
          ]
        }
      ]
    },
    {
      "cell_type": "code",
      "metadata": {
        "colab": {
          "base_uri": "https://localhost:8080/"
        },
        "id": "wWNsJu9tqVPW",
        "outputId": "eb317aa2-0f6f-4175-dbb2-0a065ec6381f"
      },
      "source": [
        "empty_tuple = ()\n",
        "\n",
        "my_tuple = (\"is\", \"my\", \"tuple\")\n",
        "print(my_tuple[2])\n",
        "my_tuple_l = list(my_tuple)\n",
        "print(type(my_tuple_l),my_tuple_l)"
      ],
      "execution_count": 91,
      "outputs": [
        {
          "output_type": "stream",
          "name": "stdout",
          "text": [
            "tuple\n",
            "<class 'list'> ['is', 'my', 'tuple']\n"
          ]
        }
      ]
    },
    {
      "cell_type": "code",
      "metadata": {
        "colab": {
          "base_uri": "https://localhost:8080/",
          "height": 167
        },
        "id": "BFiqclbGnu_2",
        "outputId": "6986b4b2-d873-4771-ecd5-94afe258d386"
      },
      "source": [
        "my_tuple[2] = \"TUPLE\""
      ],
      "execution_count": 92,
      "outputs": [
        {
          "output_type": "error",
          "ename": "TypeError",
          "evalue": "ignored",
          "traceback": [
            "\u001b[0;31m---------------------------------------------------------------------------\u001b[0m",
            "\u001b[0;31mTypeError\u001b[0m                                 Traceback (most recent call last)",
            "\u001b[0;32m<ipython-input-92-ca4e45a87aff>\u001b[0m in \u001b[0;36m<module>\u001b[0;34m()\u001b[0m\n\u001b[0;32m----> 1\u001b[0;31m \u001b[0mmy_tuple\u001b[0m\u001b[0;34m[\u001b[0m\u001b[0;36m2\u001b[0m\u001b[0;34m]\u001b[0m \u001b[0;34m=\u001b[0m \u001b[0;34m\"TUPLE\"\u001b[0m\u001b[0;34m\u001b[0m\u001b[0;34m\u001b[0m\u001b[0m\n\u001b[0m",
            "\u001b[0;31mTypeError\u001b[0m: 'tuple' object does not support item assignment"
          ]
        }
      ]
    },
    {
      "cell_type": "code",
      "metadata": {
        "colab": {
          "base_uri": "https://localhost:8080/"
        },
        "id": "4gtQMD7Xn0SX",
        "outputId": "42eb3b91-68f4-4901-eca9-e23f9ffc4e0f"
      },
      "source": [
        "my_tuple_l[2] = \"TUPLE\"\n",
        "my_tuple_l"
      ],
      "execution_count": 93,
      "outputs": [
        {
          "output_type": "execute_result",
          "data": {
            "text/plain": [
              "['is', 'my', 'TUPLE']"
            ]
          },
          "metadata": {},
          "execution_count": 93
        }
      ]
    },
    {
      "cell_type": "code",
      "metadata": {
        "colab": {
          "base_uri": "https://localhost:8080/"
        },
        "id": "MHQJo64Zn6Pi",
        "outputId": "3f7b6e69-5cf0-473c-aade-94476d206b75"
      },
      "source": [
        "my_tuple = tuple(my_tuple_l)\n",
        "print(my_tuple)\n"
      ],
      "execution_count": 94,
      "outputs": [
        {
          "output_type": "stream",
          "name": "stdout",
          "text": [
            "('is', 'my', 'TUPLE')\n"
          ]
        }
      ]
    },
    {
      "cell_type": "code",
      "metadata": {
        "colab": {
          "base_uri": "https://localhost:8080/"
        },
        "id": "6g6D02Lbneev",
        "outputId": "b3ae2306-78a7-42e2-a5cc-b5f541b4e0dd"
      },
      "source": [
        "also_my_tuple = 'is', 'this', 'one'\n",
        "print(also_my_tuple[2])"
      ],
      "execution_count": 95,
      "outputs": [
        {
          "output_type": "stream",
          "name": "stdout",
          "text": [
            "one\n"
          ]
        }
      ]
    },
    {
      "cell_type": "code",
      "metadata": {
        "colab": {
          "base_uri": "https://localhost:8080/"
        },
        "id": "3uo3zwdJn_qt",
        "outputId": "617ea2c1-16e9-45e3-9570-37669ab1fbab"
      },
      "source": [
        "special_case = (1,2,[3,4])\n",
        "print(type(special_case))\n",
        "print(hex(id(special_case)))\n",
        "\n",
        "special_case[2][0] = 10000\n",
        "\n",
        "print(type(special_case))\n",
        "print(hex(id(special_case)))\n",
        "print(special_case)"
      ],
      "execution_count": 96,
      "outputs": [
        {
          "output_type": "stream",
          "name": "stdout",
          "text": [
            "<class 'tuple'>\n",
            "0x7f23ec2247d0\n",
            "<class 'tuple'>\n",
            "0x7f23ec2247d0\n",
            "(1, 2, [10000, 4])\n"
          ]
        }
      ]
    },
    {
      "cell_type": "code",
      "metadata": {
        "colab": {
          "base_uri": "https://localhost:8080/",
          "height": 167
        },
        "id": "DUsjjUf1oN9X",
        "outputId": "e346618c-d607-4424-a51a-002f01186e20"
      },
      "source": [
        "special_case[0] = 10000"
      ],
      "execution_count": 97,
      "outputs": [
        {
          "output_type": "error",
          "ename": "TypeError",
          "evalue": "ignored",
          "traceback": [
            "\u001b[0;31m---------------------------------------------------------------------------\u001b[0m",
            "\u001b[0;31mTypeError\u001b[0m                                 Traceback (most recent call last)",
            "\u001b[0;32m<ipython-input-97-4fd484763668>\u001b[0m in \u001b[0;36m<module>\u001b[0;34m()\u001b[0m\n\u001b[0;32m----> 1\u001b[0;31m \u001b[0mspecial_case\u001b[0m\u001b[0;34m[\u001b[0m\u001b[0;36m0\u001b[0m\u001b[0;34m]\u001b[0m \u001b[0;34m=\u001b[0m \u001b[0;36m10000\u001b[0m\u001b[0;34m\u001b[0m\u001b[0;34m\u001b[0m\u001b[0m\n\u001b[0m",
            "\u001b[0;31mTypeError\u001b[0m: 'tuple' object does not support item assignment"
          ]
        }
      ]
    },
    {
      "cell_type": "code",
      "metadata": {
        "colab": {
          "base_uri": "https://localhost:8080/"
        },
        "id": "L5fBNPwgomXk",
        "outputId": "42697f68-339f-49d1-c560-cde0a2a8d44d"
      },
      "source": [
        "special_case[0]"
      ],
      "execution_count": 98,
      "outputs": [
        {
          "output_type": "execute_result",
          "data": {
            "text/plain": [
              "1"
            ]
          },
          "metadata": {},
          "execution_count": 98
        }
      ]
    },
    {
      "cell_type": "code",
      "metadata": {
        "colab": {
          "base_uri": "https://localhost:8080/"
        },
        "id": "bFHHO-RZoogw",
        "outputId": "6d67d2b1-a6b7-49c9-8a95-4401d111b4ea"
      },
      "source": [
        "special_case[1]"
      ],
      "execution_count": 99,
      "outputs": [
        {
          "output_type": "execute_result",
          "data": {
            "text/plain": [
              "2"
            ]
          },
          "metadata": {},
          "execution_count": 99
        }
      ]
    },
    {
      "cell_type": "markdown",
      "metadata": {
        "id": "FScz0Uxvg1e0"
      },
      "source": [
        "## Dictionaries\n",
        "\n",
        "Dictionaries are data structures used __to map keys to values__. Just like list, they are __mutable__ and made using __curly brackets__. \n",
        "\n",
        "Dictionaries can be indexed in the same way as lists, __using square brackets containing keys__. Trying to index a key that isn't a part of the dictionary returns a __KeyError__.\n",
        "\n",
        "The useful dictionary method is __get__. It does same thing as indexing, but if the key is not found in the dictionary, it returns __None__ instead of throwing any error.\n",
        "\n",
        "__NOTE: Only immutable objects can be used as keys to dictionaries.__"
      ]
    },
    {
      "cell_type": "markdown",
      "metadata": {
        "id": "2_VAkodfouDr"
      },
      "source": [
        "# LSD Mutable"
      ]
    },
    {
      "cell_type": "code",
      "metadata": {
        "colab": {
          "base_uri": "https://localhost:8080/"
        },
        "id": "H0-6CfugqalQ",
        "outputId": "d465920c-5870-4f88-dedd-84c5342c9be5"
      },
      "source": [
        "empty_dict = {}\n",
        "\n",
        "my_dict = {\"Joker\":'Why so serious?', \"Bane\": [1,2,3], \"Scarecrow\": 0.05}\n",
        "print(my_dict[\"Joker\"])\n",
        "print(my_dict[\"Scarecrow\"])\n",
        "print(my_dict[\"Bane\"])"
      ],
      "execution_count": 100,
      "outputs": [
        {
          "output_type": "stream",
          "name": "stdout",
          "text": [
            "Why so serious?\n",
            "0.05\n",
            "[1, 2, 3]\n"
          ]
        }
      ]
    },
    {
      "cell_type": "markdown",
      "metadata": {
        "id": "AFMYAm9BpILV"
      },
      "source": [
        "# Keys always have to be immutable"
      ]
    },
    {
      "cell_type": "code",
      "metadata": {
        "colab": {
          "base_uri": "https://localhost:8080/"
        },
        "id": "Dog_eyphpKjr",
        "outputId": "bcbab6d6-752e-46f8-ec33-9a469dcbba6f"
      },
      "source": [
        "my_dict_again = {(1,2,3):[1,2,3], ('a','b','c'):['a','b','c']}\n",
        "print(my_dict_again[(1,2,3)])"
      ],
      "execution_count": 101,
      "outputs": [
        {
          "output_type": "stream",
          "name": "stdout",
          "text": [
            "[1, 2, 3]\n"
          ]
        }
      ]
    },
    {
      "cell_type": "code",
      "metadata": {
        "colab": {
          "base_uri": "https://localhost:8080/",
          "height": 185
        },
        "id": "iVZggfTrpOiR",
        "outputId": "e01787bc-53e9-41a5-d095-c9652205f2fb"
      },
      "source": [
        "my_dict_again = {[1,2,3]:(1,2,3), ('a','b','c'):['a','b','c']}\n",
        "print(my_dict_again[(1,2,3)])"
      ],
      "execution_count": 102,
      "outputs": [
        {
          "output_type": "error",
          "ename": "TypeError",
          "evalue": "ignored",
          "traceback": [
            "\u001b[0;31m---------------------------------------------------------------------------\u001b[0m",
            "\u001b[0;31mTypeError\u001b[0m                                 Traceback (most recent call last)",
            "\u001b[0;32m<ipython-input-102-a1ef548ba250>\u001b[0m in \u001b[0;36m<module>\u001b[0;34m()\u001b[0m\n\u001b[0;32m----> 1\u001b[0;31m \u001b[0mmy_dict_again\u001b[0m \u001b[0;34m=\u001b[0m \u001b[0;34m{\u001b[0m\u001b[0;34m[\u001b[0m\u001b[0;36m1\u001b[0m\u001b[0;34m,\u001b[0m\u001b[0;36m2\u001b[0m\u001b[0;34m,\u001b[0m\u001b[0;36m3\u001b[0m\u001b[0;34m]\u001b[0m\u001b[0;34m:\u001b[0m\u001b[0;34m(\u001b[0m\u001b[0;36m1\u001b[0m\u001b[0;34m,\u001b[0m\u001b[0;36m2\u001b[0m\u001b[0;34m,\u001b[0m\u001b[0;36m3\u001b[0m\u001b[0;34m)\u001b[0m\u001b[0;34m,\u001b[0m \u001b[0;34m(\u001b[0m\u001b[0;34m'a'\u001b[0m\u001b[0;34m,\u001b[0m\u001b[0;34m'b'\u001b[0m\u001b[0;34m,\u001b[0m\u001b[0;34m'c'\u001b[0m\u001b[0;34m)\u001b[0m\u001b[0;34m:\u001b[0m\u001b[0;34m[\u001b[0m\u001b[0;34m'a'\u001b[0m\u001b[0;34m,\u001b[0m\u001b[0;34m'b'\u001b[0m\u001b[0;34m,\u001b[0m\u001b[0;34m'c'\u001b[0m\u001b[0;34m]\u001b[0m\u001b[0;34m}\u001b[0m\u001b[0;34m\u001b[0m\u001b[0;34m\u001b[0m\u001b[0m\n\u001b[0m\u001b[1;32m      2\u001b[0m \u001b[0mprint\u001b[0m\u001b[0;34m(\u001b[0m\u001b[0mmy_dict_again\u001b[0m\u001b[0;34m[\u001b[0m\u001b[0;34m(\u001b[0m\u001b[0;36m1\u001b[0m\u001b[0;34m,\u001b[0m\u001b[0;36m2\u001b[0m\u001b[0;34m,\u001b[0m\u001b[0;36m3\u001b[0m\u001b[0;34m)\u001b[0m\u001b[0;34m]\u001b[0m\u001b[0;34m)\u001b[0m\u001b[0;34m\u001b[0m\u001b[0;34m\u001b[0m\u001b[0m\n",
            "\u001b[0;31mTypeError\u001b[0m: unhashable type: 'list'"
          ]
        }
      ]
    },
    {
      "cell_type": "code",
      "metadata": {
        "colab": {
          "base_uri": "https://localhost:8080/"
        },
        "id": "9bLsBMy7orgU",
        "outputId": "7d28987f-2d36-4dea-a2fb-6a783ddf2592"
      },
      "source": [
        "\n",
        "my_dict_again['sagar'] = 'd'\n",
        "print(my_dict_again)"
      ],
      "execution_count": 103,
      "outputs": [
        {
          "output_type": "stream",
          "name": "stdout",
          "text": [
            "{(1, 2, 3): [1, 2, 3], ('a', 'b', 'c'): ['a', 'b', 'c'], 'sagar': 'd'}\n"
          ]
        }
      ]
    },
    {
      "cell_type": "markdown",
      "metadata": {
        "id": "ssTAIumPpq6n"
      },
      "source": [
        "__Quick Question: How to check whether a variable is mutable or not?__ [Answer](#ans1)"
      ]
    },
    {
      "cell_type": "code",
      "metadata": {
        "colab": {
          "base_uri": "https://localhost:8080/",
          "height": 167
        },
        "id": "ORFzEfkxpeV8",
        "outputId": "7f63ab98-60e1-4983-bc0e-8920de23d3c8"
      },
      "source": [
        "my_dict_error = {[1,2,3]:'a'}"
      ],
      "execution_count": 104,
      "outputs": [
        {
          "output_type": "error",
          "ename": "TypeError",
          "evalue": "ignored",
          "traceback": [
            "\u001b[0;31m---------------------------------------------------------------------------\u001b[0m",
            "\u001b[0;31mTypeError\u001b[0m                                 Traceback (most recent call last)",
            "\u001b[0;32m<ipython-input-104-9117a26d6e1e>\u001b[0m in \u001b[0;36m<module>\u001b[0;34m()\u001b[0m\n\u001b[0;32m----> 1\u001b[0;31m \u001b[0mmy_dict_error\u001b[0m \u001b[0;34m=\u001b[0m \u001b[0;34m{\u001b[0m\u001b[0;34m[\u001b[0m\u001b[0;36m1\u001b[0m\u001b[0;34m,\u001b[0m\u001b[0;36m2\u001b[0m\u001b[0;34m,\u001b[0m\u001b[0;36m3\u001b[0m\u001b[0;34m]\u001b[0m\u001b[0;34m:\u001b[0m\u001b[0;34m'a'\u001b[0m\u001b[0;34m}\u001b[0m\u001b[0;34m\u001b[0m\u001b[0;34m\u001b[0m\u001b[0m\n\u001b[0m",
            "\u001b[0;31mTypeError\u001b[0m: unhashable type: 'list'"
          ]
        }
      ]
    },
    {
      "cell_type": "markdown",
      "metadata": {
        "id": "gGYy43d9p05B"
      },
      "source": [
        "### What does this error mean?\n",
        "An object is __hashable__ if it has a hash value which never changes during its lifetime (it needs hash() method). List is unhashable because it's content can change over its lifetime.\n",
        "\n",
        "__NOTE__: Don't know about Hash function? Think about it as the fingerprint of a file in an encrypted format. For details, search in Google."
      ]
    },
    {
      "cell_type": "code",
      "metadata": {
        "colab": {
          "base_uri": "https://localhost:8080/"
        },
        "id": "gLOPtVneqVK6",
        "outputId": "d275b7c6-e755-456f-ab9e-3792b62e46a0"
      },
      "source": [
        "# How about a dictionary within a dictionary?\n",
        "my_dict_yet_again = {0:\"infinity\", 1:{'a':[1,2]}, 'b':{2: (3,4)}}\n",
        "print(my_dict_yet_again)\n",
        "print(my_dict_yet_again[1])\n"
      ],
      "execution_count": 106,
      "outputs": [
        {
          "output_type": "stream",
          "name": "stdout",
          "text": [
            "{0: 'infinity', 1: {'a': [1, 2]}, 'b': {2: (3, 4)}}\n",
            "{'a': [1, 2]}\n"
          ]
        }
      ]
    },
    {
      "cell_type": "code",
      "metadata": {
        "colab": {
          "base_uri": "https://localhost:8080/"
        },
        "id": "eif6khYQqVlC",
        "outputId": "e5e3154f-4574-4362-9147-60ba13964675"
      },
      "source": [
        "print(my_dict_yet_again.values())"
      ],
      "execution_count": 107,
      "outputs": [
        {
          "output_type": "stream",
          "name": "stdout",
          "text": [
            "dict_values(['infinity', {'a': [1, 2]}, {2: (3, 4)}])\n"
          ]
        }
      ]
    },
    {
      "cell_type": "code",
      "metadata": {
        "colab": {
          "base_uri": "https://localhost:8080/"
        },
        "id": "LXeqgXpHqaTV",
        "outputId": "59249c79-110c-45fc-c006-cb1ff5099a31"
      },
      "source": [
        "print(my_dict_yet_again.keys())"
      ],
      "execution_count": 108,
      "outputs": [
        {
          "output_type": "stream",
          "name": "stdout",
          "text": [
            "dict_keys([0, 1, 'b'])\n"
          ]
        }
      ]
    },
    {
      "cell_type": "code",
      "metadata": {
        "colab": {
          "base_uri": "https://localhost:8080/"
        },
        "id": "JJA9lzhZpt9y",
        "outputId": "404ade88-b141-4cb9-b951-7b96884dc9d9"
      },
      "source": [
        "\n",
        "# Some dictionary functions\n",
        "print(1 in my_dict_yet_again) # check if a key is available in the dictionary\n",
        "print({'a':[1,2]} in my_dict_yet_again.values()) #check if the value is available in the dictionary\n",
        "\n",
        "my_dict_yet_again[True-1] = \"zero\"\n",
        "print(my_dict_yet_again)"
      ],
      "execution_count": 109,
      "outputs": [
        {
          "output_type": "stream",
          "name": "stdout",
          "text": [
            "True\n",
            "True\n",
            "{0: 'zero', 1: {'a': [1, 2]}, 'b': {2: (3, 4)}}\n"
          ]
        }
      ]
    },
    {
      "cell_type": "markdown",
      "metadata": {
        "id": "NJbfz9NDq4kk"
      },
      "source": [
        "### Create dictionary from two lists!\n",
        "\n",
        "We can use __zip__ to generate dictionaries where the keys and values can be obtained from lists at runtime."
      ]
    },
    {
      "cell_type": "code",
      "metadata": {
        "colab": {
          "base_uri": "https://localhost:8080/"
        },
        "id": "PIlz3k_AqE9l",
        "outputId": "ac2d8cd2-2f46-4eeb-c9a2-b6770878064c"
      },
      "source": [
        "keys = ['a', 'b', 'c']\n",
        "values = [1, 2, 3]\n",
        "\n",
        "print(list(zip(keys,values)))\n",
        "\n",
        "print(dict(zip(keys,values)))"
      ],
      "execution_count": 110,
      "outputs": [
        {
          "output_type": "stream",
          "name": "stdout",
          "text": [
            "[('a', 1), ('b', 2), ('c', 3)]\n",
            "{'a': 1, 'b': 2, 'c': 3}\n"
          ]
        }
      ]
    },
    {
      "cell_type": "code",
      "metadata": {
        "colab": {
          "base_uri": "https://localhost:8080/"
        },
        "id": "B4anL0tOq8Kt",
        "outputId": "454b43ed-947a-4218-fe40-a47c26e91276"
      },
      "source": [
        "keys = ['a', 'b', 'a']\n",
        "values = [3, 2, 1]\n",
        "\n",
        "print(list(zip(keys,values)))\n",
        "\n",
        "print(dict(zip(keys,values)))"
      ],
      "execution_count": 111,
      "outputs": [
        {
          "output_type": "stream",
          "name": "stdout",
          "text": [
            "[('a', 3), ('b', 2), ('a', 1)]\n",
            "{'a': 1, 'b': 2}\n"
          ]
        }
      ]
    },
    {
      "cell_type": "code",
      "metadata": {
        "colab": {
          "base_uri": "https://localhost:8080/"
        },
        "id": "8xQLTPWHrM_N",
        "outputId": "09f3a364-6b4d-4df3-9c6b-adca820b6320"
      },
      "source": [
        "my_dict_yet_again"
      ],
      "execution_count": 112,
      "outputs": [
        {
          "output_type": "execute_result",
          "data": {
            "text/plain": [
              "{0: 'zero', 1: {'a': [1, 2]}, 'b': {2: (3, 4)}}"
            ]
          },
          "metadata": {},
          "execution_count": 112
        }
      ]
    },
    {
      "cell_type": "code",
      "metadata": {
        "colab": {
          "base_uri": "https://localhost:8080/"
        },
        "id": "VvS-7hVwq8i3",
        "outputId": "ed888c2a-6089-4f76-b3ef-2129c3084ccd"
      },
      "source": [
        "my_dict_yet_again[True]=False\n",
        "print(my_dict_yet_again)"
      ],
      "execution_count": 113,
      "outputs": [
        {
          "output_type": "stream",
          "name": "stdout",
          "text": [
            "{0: 'zero', 1: False, 'b': {2: (3, 4)}}\n"
          ]
        }
      ]
    },
    {
      "cell_type": "code",
      "metadata": {
        "colab": {
          "base_uri": "https://localhost:8080/"
        },
        "id": "VtkEHrcPrWe7",
        "outputId": "229c9683-c698-44bc-8563-a6e9dd14220b"
      },
      "source": [
        "help(my_dict_yet_again.get)"
      ],
      "execution_count": 114,
      "outputs": [
        {
          "output_type": "stream",
          "name": "stdout",
          "text": [
            "Help on built-in function get:\n",
            "\n",
            "get(key, default=None, /) method of builtins.dict instance\n",
            "    Return the value for key if key is in the dictionary, else default.\n",
            "\n"
          ]
        }
      ]
    },
    {
      "cell_type": "code",
      "metadata": {
        "colab": {
          "base_uri": "https://localhost:8080/"
        },
        "id": "pJn9oNQXrQQ1",
        "outputId": "ec592a4f-7505-4385-e0e1-e1754b2b5ba7"
      },
      "source": [
        "print(my_dict_yet_again.get(1)) # get method\n",
        "print(my_dict_yet_again.get(2))\n",
        "print(my_dict_yet_again.get(\"True\",\"True string is not available as key\"))"
      ],
      "execution_count": 115,
      "outputs": [
        {
          "output_type": "stream",
          "name": "stdout",
          "text": [
            "False\n",
            "None\n",
            "True string is not available as key\n"
          ]
        }
      ]
    },
    {
      "cell_type": "markdown",
      "metadata": {
        "id": "zZXObeK1jpHn"
      },
      "source": [
        "## Set and Frozenset\n",
        "\n",
        "Sets are Python object similar to lists or dictionaries. They are created using __curly braces__ or the __set function__. They are __unordered__, which means that they __can't be indexed__. They __cannot contain duplicate elements__. Due to the way they're stored, it's __faster to check whether an item is part of a set__, rather than part of a list.\n",
        "\n",
        "Instead of using __append__ to add an item to a set, we use __add__. The method __remove__ removes a specific element from a set but __pop__ removes an arbitrary element.\n",
        "\n",
        "The frozenset() is an inbuilt function in Python which takes an iterable object as input and makes them immutable."
      ]
    },
    {
      "cell_type": "code",
      "metadata": {
        "id": "LucPvGqVldHn"
      },
      "source": [
        "my_set = set((2.7,\"3.6\"))\n",
        "also_my_set = {2.7 , 3.6}\n",
        "my_frozenset = frozenset([\"Python\",\"2.7\"])\n"
      ],
      "execution_count": 116,
      "outputs": []
    },
    {
      "cell_type": "code",
      "metadata": {
        "colab": {
          "base_uri": "https://localhost:8080/"
        },
        "id": "wAPNVtvTlgkW",
        "outputId": "c49bbb91-9310-4b8a-c693-2a5fd8b7a7db"
      },
      "source": [
        "my_set.add(6)\n",
        "print(my_set)\n",
        "print(my_frozenset)"
      ],
      "execution_count": 117,
      "outputs": [
        {
          "output_type": "stream",
          "name": "stdout",
          "text": [
            "{2.7, '3.6', 6}\n",
            "frozenset({'2.7', 'Python'})\n"
          ]
        }
      ]
    },
    {
      "cell_type": "code",
      "metadata": {
        "colab": {
          "base_uri": "https://localhost:8080/",
          "height": 167
        },
        "id": "byTCCLSCl0Z-",
        "outputId": "bea09bb3-2c1c-4911-b134-e8e77d7135a7"
      },
      "source": [
        "my_frozenset[0] = 100"
      ],
      "execution_count": 118,
      "outputs": [
        {
          "output_type": "error",
          "ename": "TypeError",
          "evalue": "ignored",
          "traceback": [
            "\u001b[0;31m---------------------------------------------------------------------------\u001b[0m",
            "\u001b[0;31mTypeError\u001b[0m                                 Traceback (most recent call last)",
            "\u001b[0;32m<ipython-input-118-dbe7ba253bac>\u001b[0m in \u001b[0;36m<module>\u001b[0;34m()\u001b[0m\n\u001b[0;32m----> 1\u001b[0;31m \u001b[0mmy_frozenset\u001b[0m\u001b[0;34m[\u001b[0m\u001b[0;36m0\u001b[0m\u001b[0;34m]\u001b[0m \u001b[0;34m=\u001b[0m \u001b[0;36m100\u001b[0m\u001b[0;34m\u001b[0m\u001b[0;34m\u001b[0m\u001b[0m\n\u001b[0m",
            "\u001b[0;31mTypeError\u001b[0m: 'frozenset' object does not support item assignment"
          ]
        }
      ]
    },
    {
      "cell_type": "code",
      "metadata": {
        "colab": {
          "base_uri": "https://localhost:8080/"
        },
        "id": "SPI5N0eFmFxf",
        "outputId": "76a7fb92-1e5e-4475-ef1e-5bb75a2fd5cb"
      },
      "source": [
        "# Set always stores unique values\n",
        "\n",
        "s = {1,2,3,3,3,3,4,4,4,4}\n",
        "print(s)\n",
        "\n",
        "s = set(\"priyaraghuwanshisagaragrawal\")\n",
        "print(s)"
      ],
      "execution_count": 119,
      "outputs": [
        {
          "output_type": "stream",
          "name": "stdout",
          "text": [
            "{1, 2, 3, 4}\n",
            "{'w', 'u', 'p', 'r', 'i', 'g', 'l', 'n', 'y', 'a', 's', 'h'}\n"
          ]
        }
      ]
    },
    {
      "cell_type": "code",
      "metadata": {
        "colab": {
          "base_uri": "https://localhost:8080/",
          "height": 167
        },
        "id": "VXNDFSgsmXoO",
        "outputId": "579b36d2-f756-4539-9b1c-9fc32266d1b1"
      },
      "source": [
        "s[0] = 100"
      ],
      "execution_count": 120,
      "outputs": [
        {
          "output_type": "error",
          "ename": "TypeError",
          "evalue": "ignored",
          "traceback": [
            "\u001b[0;31m---------------------------------------------------------------------------\u001b[0m",
            "\u001b[0;31mTypeError\u001b[0m                                 Traceback (most recent call last)",
            "\u001b[0;32m<ipython-input-120-16820b94779f>\u001b[0m in \u001b[0;36m<module>\u001b[0;34m()\u001b[0m\n\u001b[0;32m----> 1\u001b[0;31m \u001b[0ms\u001b[0m\u001b[0;34m[\u001b[0m\u001b[0;36m0\u001b[0m\u001b[0;34m]\u001b[0m \u001b[0;34m=\u001b[0m \u001b[0;36m100\u001b[0m\u001b[0;34m\u001b[0m\u001b[0;34m\u001b[0m\u001b[0m\n\u001b[0m",
            "\u001b[0;31mTypeError\u001b[0m: 'set' object does not support item assignment"
          ]
        }
      ]
    },
    {
      "cell_type": "code",
      "metadata": {
        "id": "Ymsu-X0knbst"
      },
      "source": [
        "#vars(random)"
      ],
      "execution_count": null,
      "outputs": []
    },
    {
      "cell_type": "code",
      "metadata": {
        "id": "O75GKo6tnPWo"
      },
      "source": [
        "import random\n",
        "l = [random.randint(1,100) for _ in range(1000)] "
      ],
      "execution_count": null,
      "outputs": []
    },
    {
      "cell_type": "code",
      "metadata": {
        "colab": {
          "base_uri": "https://localhost:8080/"
        },
        "id": "CnszLeV0myMs",
        "outputId": "5058d27b-a4b4-4291-9f4f-9e86b85dfafa"
      },
      "source": [
        "%%timeit\n",
        "for i in l :\n",
        "  pass"
      ],
      "execution_count": 121,
      "outputs": [
        {
          "output_type": "stream",
          "name": "stdout",
          "text": [
            "100000 loops, best of 5: 15.8 µs per loop\n"
          ]
        }
      ]
    },
    {
      "cell_type": "code",
      "metadata": {
        "colab": {
          "base_uri": "https://localhost:8080/"
        },
        "id": "iNe_7pJfnQx5",
        "outputId": "5e42ec78-c842-4a59-88c4-a4689d95fbc0"
      },
      "source": [
        "%%timeit\n",
        "for i in set(l) :\n",
        "  pass"
      ],
      "execution_count": 122,
      "outputs": [
        {
          "output_type": "stream",
          "name": "stdout",
          "text": [
            "100000 loops, best of 5: 13.2 µs per loop\n"
          ]
        }
      ]
    },
    {
      "cell_type": "code",
      "metadata": {
        "colab": {
          "base_uri": "https://localhost:8080/"
        },
        "id": "SJnsVbROjoIg",
        "outputId": "05d918f7-4727-468d-92e2-9c72966b7304"
      },
      "source": [
        "my_set.remove(2.7)\n",
        "my_set.pop()\n",
        "print(my_set)\n",
        "\n",
        "# some additional operations\n",
        "first = {1, 2, 3, 4, 5, 6}\n",
        "second = {4, 5, 6, 7, 8, 9}\n",
        "\n",
        "print(first | second)\n",
        "print(first & second)\n",
        "print(first - second)\n",
        "print(first ^ second)"
      ],
      "execution_count": 123,
      "outputs": [
        {
          "output_type": "stream",
          "name": "stdout",
          "text": [
            "{6}\n",
            "{1, 2, 3, 4, 5, 6, 7, 8, 9}\n",
            "{4, 5, 6}\n",
            "{1, 2, 3}\n",
            "{1, 2, 3, 7, 8, 9}\n"
          ]
        }
      ]
    },
    {
      "cell_type": "markdown",
      "metadata": {
        "id": "z_PxnTd5jz0A"
      },
      "source": [
        "### So, what are the operations that can be perfomed on mutable and immutable objects in Python?\n",
        "\n",
        "#### Both mutable and immutable\n",
        "\n",
        "| Operation | Result |\n",
        "|:---:|:---:|\n",
        "| len(s) | cardinality of set s |\n",
        "| x in s | test x for membership in s |\n",
        "| x not in s | test x for non-membership in s |\n",
        "| s.issubset(t)\t| test whether every element in s is in t |\n",
        "| s.issuperset(t) | test whether every element in t is in s |\n",
        "| s.union(t) | new set with elements from both s and t |\n",
        "| s.intersection(t) | new set with elements common to s and t |\n",
        "| s.difference(t) | new set with elements in s but not in t |\n",
        "| s.symmetric_difference(t)\t| new set with elements in either s or t but not both |\n",
        "| s.copy() | new set with a shallow copy of s |\n",
        "\n",
        "#### Only mutable\n",
        "\n",
        "| Operation | Result |\n",
        "|:---:|:---:|\n",
        "| s.update(t) | update set s, adding elements from t\n",
        "| s.intersection_update(t)\t| update set s, keeping only elements found in both s and t\n",
        "| s.difference_update(t) | update set s, removing elements found in t\n",
        "| s.symmetric_difference_update(t) | update set s, keeping only elements found in either s or t but not in both\n",
        "| s.add(x) | add element x to set s\n",
        "| s.remove(x) | remove x from set s; raises KeyError if not present\n",
        "| s.discard(x) | removes x from set s if present\n",
        "| s.pop() | remove and return an arbitrary element from s; raises KeyError if empty\n",
        "| s.clear() | remove all elements from set s\n",
        "\n",
        "### Also, when to use these data structures?\n",
        "\n",
        "When to use a __dictionary__:\n",
        "- When you need a logical association between a key:value pair.\n",
        "- When you need fast lookup for your data, based on a custom key.\n",
        "- When your data is being constantly modified.\n",
        "\n",
        "When to use the __other types__:\n",
        "- Use __lists__ if you have a collection of data that does not need random access. Try to choose lists when you need a simple, iterable collection that is modified frequently.\n",
        "- Use a __set__ if you need uniqueness for the elements.\n",
        "- Use __tuples__ when your data cannot change."
      ]
    },
    {
      "cell_type": "markdown",
      "metadata": {
        "id": "jH-AsGJ3j3x8"
      },
      "source": [
        "# Conditional statements, loops <a name=\"loops\"></a>\n",
        "\n",
        "## if, elif, else\n",
        "\n",
        "Python uses __if__ statements to run code if a certain condition holds _True_, otherwise they aren't.\n",
        "\n",
        "__NOTE__: Python uses __indentation__ (white space at the beginning of a line) to delimit blocks of code. Other languages, such as C, use curly braces to accomplish this, but in Python, indentation is mandatory; programs won't work without it.\n",
        "\n",
        "__To perform more complex checks__, _if_ statements can be __nested__, one inside the other. This means that the inner _if_ statement is the statement part of the outer one.\n",
        "\n",
        "An __else__ statement follows an _if_ statement, and contains code that is called when the _if_ statement evaluates to _False_.\n",
        "\n",
        "The __elif__ (short for else if) statement is a shortcut to use when __chaining if and else statements__. A series of _if elif_ statements can have a final else block, which is called if none of the _if_ or _elif_ expressions is _True_."
      ]
    },
    {
      "cell_type": "code",
      "metadata": {
        "colab": {
          "base_uri": "https://localhost:8080/"
        },
        "id": "P_xDOgh_jzGC",
        "outputId": "495bfcf5-97b3-4e68-b9eb-0972a0a94595"
      },
      "source": [
        "x = input(\"Enter a number from 0 to 9: \")\n",
        "print(type(x))\n",
        "num = int(x)\n",
        "\n",
        "if num == 3:\n",
        "    print(\"You got 3\")\n",
        "elif num == 6:\n",
        "    print(\"Number is 6\")\n",
        "elif num == 9:\n",
        "    print(\"Looks like 9\")\n",
        "else:\n",
        "    print(\"`If you knew the magnificence of the three, six and nine, you would have a key to the universe.` ~ Tesla\")"
      ],
      "execution_count": 125,
      "outputs": [
        {
          "output_type": "stream",
          "name": "stdout",
          "text": [
            "Enter a number from 0 to 9: 6\n",
            "<class 'str'>\n",
            "Number is 6\n"
          ]
        }
      ]
    },
    {
      "cell_type": "markdown",
      "metadata": {
        "id": "R_kma-cKpGg7"
      },
      "source": [
        "## for\n",
        "\n",
        "The __for__ loop is commonly used to repeat some code a certain number of times on an object known as __iterator__. This is done by combining for loops with __range__ objects.\n",
        "\n",
        "The function range by default starts counting from 0 and goes up to the n-th value i.e. till (n-1). Its first parameter is the starting point, second one is the ending point (n-th value), and the optional third is the step value."
      ]
    },
    {
      "cell_type": "code",
      "metadata": {
        "colab": {
          "base_uri": "https://localhost:8080/"
        },
        "id": "Q4df53ncpPDm",
        "outputId": "fe39fd93-5575-4aa1-9cba-669f4fd5f8d8"
      },
      "source": [
        "x = range(5) #iterable\n",
        "print(x)\n",
        "print(list(x))"
      ],
      "execution_count": 126,
      "outputs": [
        {
          "output_type": "stream",
          "name": "stdout",
          "text": [
            "range(0, 5)\n",
            "[0, 1, 2, 3, 4]\n"
          ]
        }
      ]
    },
    {
      "cell_type": "code",
      "metadata": {
        "id": "Bzv0zwCopbRm"
      },
      "source": [
        "#help(range)"
      ],
      "execution_count": 127,
      "outputs": []
    },
    {
      "cell_type": "code",
      "metadata": {
        "colab": {
          "base_uri": "https://localhost:8080/"
        },
        "id": "lQDkecrtpt0c",
        "outputId": "9b228c8e-f155-4db0-fba2-02774387f45a"
      },
      "source": [
        "for i in range(1,10,2):\n",
        "  print(i)"
      ],
      "execution_count": 128,
      "outputs": [
        {
          "output_type": "stream",
          "name": "stdout",
          "text": [
            "1\n",
            "3\n",
            "5\n",
            "7\n",
            "9\n"
          ]
        }
      ]
    },
    {
      "cell_type": "code",
      "metadata": {
        "colab": {
          "base_uri": "https://localhost:8080/"
        },
        "id": "bYaquuDTowvc",
        "outputId": "678bc763-4578-4a5c-fcd5-62b54fd0b10d"
      },
      "source": [
        "for i in range(5):\n",
        "    if i < 3:\n",
        "        print(\"hello!\")\n",
        "    else:\n",
        "        print(\"world\")\n",
        "        \n",
        "print(\"-----------------\")\n",
        "        "
      ],
      "execution_count": 129,
      "outputs": [
        {
          "output_type": "stream",
          "name": "stdout",
          "text": [
            "hello!\n",
            "hello!\n",
            "hello!\n",
            "world\n",
            "world\n",
            "-----------------\n"
          ]
        }
      ]
    },
    {
      "cell_type": "code",
      "metadata": {
        "colab": {
          "base_uri": "https://localhost:8080/"
        },
        "id": "xIWZUcxqqBFE",
        "outputId": "c48d7d94-50e5-43e2-ac18-0f5549f4e8a2"
      },
      "source": [
        "for i in range(2,12,3):\n",
        "    print(i)"
      ],
      "execution_count": 130,
      "outputs": [
        {
          "output_type": "stream",
          "name": "stdout",
          "text": [
            "2\n",
            "5\n",
            "8\n",
            "11\n"
          ]
        }
      ]
    },
    {
      "cell_type": "code",
      "metadata": {
        "colab": {
          "base_uri": "https://localhost:8080/"
        },
        "id": "WW5l0DYCp1rb",
        "outputId": "f03625ce-3336-48e8-9efe-50a564fed720"
      },
      "source": [
        "# for loop through list\n",
        "lst = [1,2,3,(4,4.5,5),6]\n",
        "\n",
        "for i in lst:\n",
        "    print(i)"
      ],
      "execution_count": 131,
      "outputs": [
        {
          "output_type": "stream",
          "name": "stdout",
          "text": [
            "1\n",
            "2\n",
            "3\n",
            "(4, 4.5, 5)\n",
            "6\n"
          ]
        }
      ]
    },
    {
      "cell_type": "code",
      "metadata": {
        "id": "y6RowE0JqOcm"
      },
      "source": [
        "#help(print)"
      ],
      "execution_count": 132,
      "outputs": []
    },
    {
      "cell_type": "code",
      "metadata": {
        "colab": {
          "base_uri": "https://localhost:8080/"
        },
        "id": "YanOa3c7qUjW",
        "outputId": "262b8605-6ee3-4859-850d-3407fc4c92db"
      },
      "source": [
        "# for loop through list\n",
        "lst = [1,2,3,(4,4.5,5),6]\n",
        "\n",
        "for i in lst:\n",
        "    print(i,end = ',')"
      ],
      "execution_count": 133,
      "outputs": [
        {
          "output_type": "stream",
          "name": "stdout",
          "text": [
            "1,2,3,(4, 4.5, 5),6,"
          ]
        }
      ]
    },
    {
      "cell_type": "code",
      "metadata": {
        "colab": {
          "base_uri": "https://localhost:8080/"
        },
        "id": "ee5kA72lqnXm",
        "outputId": "5330a3fc-b148-456b-b749-99e75f2a24e6"
      },
      "source": [
        "lst1 = [1,2,3,4]\n",
        "lst2 = [5,6,7,8]\n",
        "\n",
        "for i,j in zip(lst1,lst2):\n",
        "  print(i,\"sagar\",j,sep = '______________')"
      ],
      "execution_count": 134,
      "outputs": [
        {
          "output_type": "stream",
          "name": "stdout",
          "text": [
            "1______________sagar______________5\n",
            "2______________sagar______________6\n",
            "3______________sagar______________7\n",
            "4______________sagar______________8\n"
          ]
        }
      ]
    },
    {
      "cell_type": "code",
      "metadata": {
        "colab": {
          "base_uri": "https://localhost:8080/"
        },
        "id": "bUQ4EjikrIG7",
        "outputId": "ad42a33e-57d3-45c8-e6b7-847bcfafbf83"
      },
      "source": [
        "t1 = {}\n",
        "type(t1)"
      ],
      "execution_count": 135,
      "outputs": [
        {
          "output_type": "execute_result",
          "data": {
            "text/plain": [
              "dict"
            ]
          },
          "metadata": {},
          "execution_count": 135
        }
      ]
    },
    {
      "cell_type": "code",
      "metadata": {
        "colab": {
          "base_uri": "https://localhost:8080/"
        },
        "id": "32O7vu7GrOjN",
        "outputId": "ec94548b-b13a-4743-bb1a-00ac5d2fb45e"
      },
      "source": [
        "t1 = {1}\n",
        "type(t1)"
      ],
      "execution_count": 136,
      "outputs": [
        {
          "output_type": "execute_result",
          "data": {
            "text/plain": [
              "set"
            ]
          },
          "metadata": {},
          "execution_count": 136
        }
      ]
    },
    {
      "cell_type": "code",
      "metadata": {
        "colab": {
          "base_uri": "https://localhost:8080/"
        },
        "id": "GaP5TPfKrUJT",
        "outputId": "cb07c8ec-3d41-49eb-9067-0ea4e1838847"
      },
      "source": [
        "t1 = set()\n",
        "type(t1)"
      ],
      "execution_count": 137,
      "outputs": [
        {
          "output_type": "execute_result",
          "data": {
            "text/plain": [
              "set"
            ]
          },
          "metadata": {},
          "execution_count": 137
        }
      ]
    },
    {
      "cell_type": "code",
      "metadata": {
        "colab": {
          "base_uri": "https://localhost:8080/"
        },
        "id": "1WgjQ3HVp4RU",
        "outputId": "9ea7a466-352e-4238-8a24-8d37163faddc"
      },
      "source": [
        "# another way of creating dictionary\n",
        "\n",
        "keys = ['a', 'b', 'c']\n",
        "values = [1, 2, 3]\n",
        "\n",
        "my_new_dict = {}\n",
        "\n",
        "for (k,v) in zip(keys, values):\n",
        "    my_new_dict[k] = v\n",
        "    \n",
        "print(my_new_dict)"
      ],
      "execution_count": 138,
      "outputs": [
        {
          "output_type": "stream",
          "name": "stdout",
          "text": [
            "{'a': 1, 'b': 2, 'c': 3}\n"
          ]
        }
      ]
    },
    {
      "cell_type": "code",
      "metadata": {
        "colab": {
          "base_uri": "https://localhost:8080/"
        },
        "id": "_nndd9IGrjOL",
        "outputId": "78eae8d4-b6c0-4092-94ed-f1fd83002bf6"
      },
      "source": [
        "temp = {'a': 1, 'b': 2, 'c': 3}\n",
        "temp['d'] = 100\n",
        "print(temp)"
      ],
      "execution_count": 139,
      "outputs": [
        {
          "output_type": "stream",
          "name": "stdout",
          "text": [
            "{'a': 1, 'b': 2, 'c': 3, 'd': 100}\n"
          ]
        }
      ]
    },
    {
      "cell_type": "markdown",
      "metadata": {
        "id": "KLWc1YdZr-SR"
      },
      "source": [
        "### Two questions for you guys\n",
        "\n",
        "1. Ever wondered why people use _i_ in for loop?\n",
        "2. What is the difference between __range(x)__ and __list(range(x))__?"
      ]
    },
    {
      "cell_type": "code",
      "metadata": {
        "colab": {
          "base_uri": "https://localhost:8080/"
        },
        "id": "tHbc0WZPryrO",
        "outputId": "016ba921-1039-40b8-fecd-587505deef32"
      },
      "source": [
        "print(list(range(5)))\n",
        "print((range(5)))"
      ],
      "execution_count": 140,
      "outputs": [
        {
          "output_type": "stream",
          "name": "stdout",
          "text": [
            "[0, 1, 2, 3, 4]\n",
            "range(0, 5)\n"
          ]
        }
      ]
    },
    {
      "cell_type": "markdown",
      "metadata": {
        "id": "Ktezm-0CsOdR"
      },
      "source": [
        "### Answer\n",
        "\n",
        "1. The i stands for the item to be accessed from any iterable or range object.\n",
        "\n",
        "2. When you execute _?range_, it will say that range returns an object that produces a sequence of integers from start (inclusive) to stop (exclusive) by step __without assigning indexes to the values__. Rather, it generates only one number at a time, relying on a __for__ loop to request for the next item in the range to be seen. However, __list(range()) does assign indices__ and hence allows you to see the full sequence of the numbers immediately, without the assistance of a _for_ loop."
      ]
    },
    {
      "cell_type": "markdown",
      "metadata": {
        "id": "os0f9LlGsfhC"
      },
      "source": [
        "## while\n",
        "\n",
        "An __if__ statement is __run once__ if its condition evaluates to _True_. A __while__ statement is similar, except that it can be __run more than once__. The statements inside it are repeatedly executed, as long as the condition holds _True_. Once it evaluates to False, the next section of code is executed.\n",
        "\n",
        "The __infinite loop__ is a special kind of while loop where the condition is always True and never stops iterating.\n",
        "\n",
        "To end a while loop prematurely, the __break__ statement can be used inside the loop.\n",
        "\n",
        "When a continue statement is encountered, the code flow jumps back to the top of the loop, rather than stopping it. Basically it __stops the current iteration__ and continues with the next one."
      ]
    },
    {
      "cell_type": "code",
      "metadata": {
        "colab": {
          "base_uri": "https://localhost:8080/"
        },
        "id": "tqxS0PMXsKVb",
        "outputId": "b2376ade-8308-4ce9-9d65-a8972600b50e"
      },
      "source": [
        "import time\n",
        "\n",
        "mewtwo_cp = 30\n",
        "umbreon_dark_pulse = 3\n",
        "fight = True\n",
        "\n",
        "print(\"You attacked Mewtwo! CP left: {}\".format(mewtwo_cp))\n",
        "\n",
        "while fight:\n",
        "    print(\"Umbreon used Dark Pulse!\\n\")\n",
        "    mewtwo_cp = mewtwo_cp - umbreon_dark_pulse\n",
        "    \n",
        "    if mewtwo_cp == 15:\n",
        "        print(\"He's halfway dead!\") \n",
        "        continue\n",
        "    elif mewtwo_cp == 9: \n",
        "        print(\"Take him down!\")\n",
        "        continue\n",
        "    elif mewtwo_cp == 3:\n",
        "        print(\"Now's your chance\") \n",
        "        continue\n",
        "    \n",
        "    if mewtwo_cp <= 0:\n",
        "        print(\"Dead!\")\n",
        "        break\n",
        "    \n",
        "    print(\"Mewtwo CP left: {}\".format(mewtwo_cp))\n",
        "    time.sleep(1)\n",
        "    \n",
        "print(\"Congrats! Your Umbreon won.\")"
      ],
      "execution_count": 141,
      "outputs": [
        {
          "output_type": "stream",
          "name": "stdout",
          "text": [
            "You attacked Mewtwo! CP left: 30\n",
            "Umbreon used Dark Pulse!\n",
            "\n",
            "Mewtwo CP left: 27\n",
            "Umbreon used Dark Pulse!\n",
            "\n",
            "Mewtwo CP left: 24\n",
            "Umbreon used Dark Pulse!\n",
            "\n",
            "Mewtwo CP left: 21\n",
            "Umbreon used Dark Pulse!\n",
            "\n",
            "Mewtwo CP left: 18\n",
            "Umbreon used Dark Pulse!\n",
            "\n",
            "He's halfway dead!\n",
            "Umbreon used Dark Pulse!\n",
            "\n",
            "Mewtwo CP left: 12\n",
            "Umbreon used Dark Pulse!\n",
            "\n",
            "Take him down!\n",
            "Umbreon used Dark Pulse!\n",
            "\n",
            "Mewtwo CP left: 6\n",
            "Umbreon used Dark Pulse!\n",
            "\n",
            "Now's your chance\n",
            "Umbreon used Dark Pulse!\n",
            "\n",
            "Dead!\n",
            "Congrats! Your Umbreon won.\n"
          ]
        }
      ]
    },
    {
      "cell_type": "markdown",
      "metadata": {
        "id": "XdynlPA4tLKR"
      },
      "source": [
        "# File I/O <a name=\"io\"></a>\n",
        "\n",
        "Python can be used to __read__ and __write__ the contents of files. Text files are the easiest to manipulate.\n",
        "\n",
        "### open\n",
        "Before a file can be edited, it must be _opened_, using the __open__ function. The __argument__ of the open function is the _path to the file_. If the file is in the current working directory of the program, you can specify only its name.\n",
        "\n",
        "### mode\n",
        "There are __mode__ used to open a file by applying a _second argument_ to the open function.\n",
        "* \"r\" means open in __read__ mode, which is the default.\n",
        "* \"w\" means __write__ mode, for rewriting the contents of a file.\n",
        "* \"a\" means __append__ mode, for adding new content to the end of the file.\n",
        "* \"b\" means __binary__ mode, which is used for non-text files (such as image and sound files).\n",
        "\n",
        "### read\n",
        "The contents of a file that has been opened in text mode can be read using the __read__ method. To __read only a certain amount of a file, you can provide a number as an argument__ to the read function. This determines the __number of bytes__ that should be read.\n",
        "\n",
        "After all contents in a file have been read, any attempts to read further from that file will return an _empty string_, because you are trying to read __from the end of the file__. \n",
        "\n",
        "To retrieve __each line__ in a file, you can use the __readlines__ method to _return a list in which each element is a line in the file_.\n",
        "\n",
        "__NOTE__: There is a __readline__ and a __readlines__ method. _readline()_ reads one line character at a time, _readlines()_ reads in the whole file at once and splits it by line.\n",
        "\n",
        "### write\n",
        "To write to files we use the __write__ method, which writes a string to the file. The \"w\" mode will _create a file, if it does not already exist_. When a file is opened in write mode, the file's __existing content is deleted__. The write method __returns the number of bytes__ written to a file, if successful.\n",
        "\n",
        "__NOTE__: If you need to write anything other than string on a file, it has to be converted to a string first.\n",
        "\n",
        "### close\n",
        "Once a file has been opened and used, it should be closed which is done with the __close__ method of the file object.\n",
        "\n",
        "### Alternative approach of file access\n",
        "An alternative way of doing it is using __with__ statements. This creates a temporary variable (often called __f__), which is only accessible in the indented block of the with statement. The file is __automatically closed__ at the end of the with statement, even if exceptions occur within it."
      ]
    },
    {
      "cell_type": "code",
      "metadata": {
        "id": "oy5WmhQWs6Oc"
      },
      "source": [
        "#help(open)"
      ],
      "execution_count": 142,
      "outputs": []
    },
    {
      "cell_type": "code",
      "metadata": {
        "colab": {
          "base_uri": "https://localhost:8080/"
        },
        "id": "dPVCpZ56tmPS",
        "outputId": "cca06bde-77d7-4bf4-96f7-1ab1ab80e7a1"
      },
      "source": [
        "!ls"
      ],
      "execution_count": 143,
      "outputs": [
        {
          "output_type": "stream",
          "name": "stdout",
          "text": [
            "def_NN.txt  joker.txt  sample_data\n"
          ]
        }
      ]
    },
    {
      "cell_type": "code",
      "metadata": {
        "colab": {
          "base_uri": "https://localhost:8080/"
        },
        "id": "ONnHmFPGtSYH",
        "outputId": "08c1bbef-775c-428d-e982-23e9a1a04c48"
      },
      "source": [
        "file = open(\"def_NN.txt\", \"r\")\n",
        "print(\"------- Reading the content -------\\n\")\n",
        "file_content = file.read()\n",
        "\n",
        "print(file_content)\n",
        "print(\"------- Re-reading -------\")\n",
        "print(file.read())\n",
        "print(\"------- Finished! --------\\n\")\n",
        "print(\"------- Closing the file -------\")\n",
        "file.close()\n",
        "\n",
        "# try readlines"
      ],
      "execution_count": 144,
      "outputs": [
        {
          "output_type": "stream",
          "name": "stdout",
          "text": [
            "------- Reading the content -------\n",
            "\n",
            "\n",
            "------- Re-reading -------\n",
            "\n",
            "------- Finished! --------\n",
            "\n",
            "------- Closing the file -------\n"
          ]
        }
      ]
    },
    {
      "cell_type": "code",
      "metadata": {
        "colab": {
          "base_uri": "https://localhost:8080/"
        },
        "id": "1dkd6UhstjAW",
        "outputId": "a72868a3-7274-411d-95c6-7f133e33241b"
      },
      "source": [
        "file = open(\"joker.txt\", \"r\")\n",
        "print(\"------- Reading initial contents ------- \\n\")\n",
        "print(file.read())\n",
        "print(\"------- Finished ------- \\n\")\n",
        "file.close()\n",
        "\n",
        "file = open(\"joker.txt\", \"w\")\n",
        "amount_written = file.write(\"I believe whatever doesn't kill you simply makes you...stranger.\")\n",
        "print(\"Amount of text written: {}\\n\".format(amount_written))\n",
        "file.close()\n",
        "\n",
        "file = open(\"joker.txt\", \"r\")\n",
        "print(\"------- Reading new contents ------- \\n\")\n",
        "print(file.read())\n",
        "print(\"\\n ------- Finished -------\")\n",
        "file.close()"
      ],
      "execution_count": 145,
      "outputs": [
        {
          "output_type": "stream",
          "name": "stdout",
          "text": [
            "------- Reading initial contents ------- \n",
            "\n",
            "hsjvjddvjvrjkvrjvrfjhvcjnjc\n",
            "------- Finished ------- \n",
            "\n",
            "Amount of text written: 64\n",
            "\n",
            "------- Reading new contents ------- \n",
            "\n",
            "I believe whatever doesn't kill you simply makes you...stranger.\n",
            "\n",
            " ------- Finished -------\n"
          ]
        }
      ]
    },
    {
      "cell_type": "code",
      "metadata": {
        "colab": {
          "base_uri": "https://localhost:8080/"
        },
        "id": "czTm8j1nuK6S",
        "outputId": "c94e1a95-7268-41c6-9154-006e1dc59afd"
      },
      "source": [
        "# alternative approach\n",
        "with open(\"joker.txt\",'r') as f:\n",
        "    print(f.read())\n"
      ],
      "execution_count": 146,
      "outputs": [
        {
          "output_type": "stream",
          "name": "stdout",
          "text": [
            "I believe whatever doesn't kill you simply makes you...stranger.\n"
          ]
        }
      ]
    },
    {
      "cell_type": "markdown",
      "metadata": {
        "id": "ltSf3HJDwCn5"
      },
      "source": [
        "# HomeWork 1 : \n",
        "\n",
        "Input : x = [1,1,1,1,1,1,1,2,2,1,1,2,2,1,2]\n",
        "\n",
        "Output : [(1, 7),(2,2),(1,2),(2,2),(1,1),(2,1)]"
      ]
    },
    {
      "cell_type": "code",
      "metadata": {
        "id": "tEqnZmiKwPsi"
      },
      "source": [
        ""
      ],
      "execution_count": null,
      "outputs": []
    }
  ]
}