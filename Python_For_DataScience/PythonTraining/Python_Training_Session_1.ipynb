{
  "nbformat": 4,
  "nbformat_minor": 0,
  "metadata": {
    "colab": {
      "name": "Python Training Session 1.ipynb",
      "provenance": [],
      "collapsed_sections": [
        "BKOFJFFDp-sQ"
      ],
      "authorship_tag": "ABX9TyPojNmvWOUiNwktqaiJukYa",
      "include_colab_link": true
    },
    "kernelspec": {
      "name": "python3",
      "display_name": "Python 3"
    },
    "language_info": {
      "name": "python"
    }
  },
  "cells": [
    {
      "cell_type": "markdown",
      "metadata": {
        "id": "view-in-github",
        "colab_type": "text"
      },
      "source": [
        "<a href=\"https://colab.research.google.com/github/sagar9926/Python_For_DataScience/blob/master/Python_For_DataScience/PythonTraining/Python_Training_Session_1.ipynb\" target=\"_parent\"><img src=\"https://colab.research.google.com/assets/colab-badge.svg\" alt=\"Open In Colab\"/></a>"
      ]
    },
    {
      "cell_type": "markdown",
      "metadata": {
        "id": "BKOFJFFDp-sQ"
      },
      "source": [
        "# Table of Content:\n",
        "* [Small test](#test)\n",
        "* [More Data Types](#more_types)\n",
        "* [Conditional statements, Loops](#loops)\n",
        "* [File I/O](#io)\n",
        "* [Exception Handling](#handling)\n",
        "* [Answers](#answer)"
      ]
    },
    {
      "cell_type": "code",
      "metadata": {
        "colab": {
          "base_uri": "https://localhost:8080/"
        },
        "id": "BURuSfBdp7kP",
        "outputId": "e420b32b-8e9d-478c-e4db-914701797386"
      },
      "source": [
        "# Small test\n",
        "\n",
        "def operation(x, y):\n",
        "    return x+y\n",
        "\n",
        "def another_operation(func, x, y):\n",
        "    return func(func(x,y), func(x,y))\n",
        "\n",
        "a = 5\n",
        "b = 25\n",
        "\n",
        "print(another_operation(operation, a, b))"
      ],
      "execution_count": 2,
      "outputs": [
        {
          "output_type": "stream",
          "name": "stdout",
          "text": [
            "60\n"
          ]
        }
      ]
    },
    {
      "cell_type": "markdown",
      "metadata": {
        "id": "tHIgNcxdqPbU"
      },
      "source": [
        "# More Data Types <a name=\"more_types\"></a>\n",
        "\n",
        "__List of immutable objects:__\n",
        "* bool\n",
        "* int\n",
        "* float\n",
        "* str\n",
        "* tuple\n",
        "* frozenset\n",
        "\n",
        "__List of mutable objects:__\n",
        "* list\n",
        "* set\n",
        "* dict\n",
        "\n",
        "## List\n",
        "\n",
        "List is a type of __mutable__ object in Python used to store an __indexed__ list of item. It is created using __square brackets__ with commas separating the items. A certain item from the list can be accessed using it's index number.\n",
        "\n",
        "An empty list is created using an empty pair of square brackets.\n",
        "\n",
        "A list can contain items of a __single item type or multiple item type__. A list within a list is also possible which is used to represent 2D grids as Python, by default, lacks multi-dimensional array feature. But this can be achieved using __numpy__ which we will discuss in our Advanced Notebook.\n",
        "\n",
        "__NOTE: Strings can be indexed like a list__.\n"
      ]
    },
    {
      "cell_type": "code",
      "metadata": {
        "colab": {
          "base_uri": "https://localhost:8080/"
        },
        "id": "_LgXjfHYqFlZ",
        "outputId": "03dc6323-2e1e-4b1d-9242-ea4d1c860f0f"
      },
      "source": [
        "empty_list = []\n",
        "\n",
        "words = ['Python',3.6,['Up Next','Tuple']]\n",
        "\n",
        "print(words[0])\n",
        "print(words[2][1])\n",
        "\n",
        "print(words[1])\n",
        "words[1]=2.7\n",
        "print(words)\n",
        "\n",
        "## accessing items of string by index\n",
        "short_form = \"User Defined Function\"\n",
        "print(\"In our last class, we went through {}{}{}\".format(short_form[0], short_form[5], short_form[13]))"
      ],
      "execution_count": 9,
      "outputs": [
        {
          "output_type": "stream",
          "name": "stdout",
          "text": [
            "Python\n",
            "Tuple\n",
            "3.6\n",
            "['Python', 2.7, ['Up Next', 'Tuple']]\n",
            "In our last class, we went through UDF\n"
          ]
        }
      ]
    },
    {
      "cell_type": "code",
      "metadata": {
        "colab": {
          "base_uri": "https://localhost:8080/"
        },
        "id": "0BlKeTSBgvmV",
        "outputId": "4d84026d-53f7-4efe-c53f-cfc88e398c98"
      },
      "source": [
        "## basic list operations\n",
        "num_list = [1,2,3]\n",
        "print(num_list + [4,5,6])\n",
        "print(num_list * 2)\n",
        "print(num_list + num_list)\n",
        "print(4 in num_list)\n",
        "print(9 not in num_list)\n",
        "print(not 1 in num_list)"
      ],
      "execution_count": 10,
      "outputs": [
        {
          "output_type": "stream",
          "name": "stdout",
          "text": [
            "[1, 2, 3, 4, 5, 6]\n",
            "[1, 2, 3, 1, 2, 3]\n",
            "[1, 2, 3, 1, 2, 3]\n",
            "False\n",
            "True\n",
            "False\n"
          ]
        }
      ]
    },
    {
      "cell_type": "code",
      "metadata": {
        "colab": {
          "base_uri": "https://localhost:8080/"
        },
        "id": "r3cGTxq_jkpg",
        "outputId": "abf30481-9d2c-4524-987e-77f650809784"
      },
      "source": [
        "# list functions and methods\n",
        "num = [1,2,3]\n",
        "num.append(4) # [1,2,3,4]\n",
        "num.append([5,6]) # [1,2,3,4,[5,6]]\n",
        "print(num)\n",
        "print(len(num))\n",
        "\n",
        "num.extend([7,8,9]) # [1,2,3,4,[5,6],7,8,9]\n",
        "print(num)\n",
        "print(len(num))\n",
        "\n",
        "index = 2\n",
        "num.insert(index, 2.5)\n",
        "print(num)\n",
        "\n",
        "print(\"=\" * 50)\n",
        "\n",
        "print(num.index(3))\n",
        "print(num.index(2.0))\n",
        "\n",
        "num.remove([5,6])\n",
        "num.pop(0)\n",
        "print(num)\n",
        "\n",
        "\n",
        "print(max(num))\n",
        "print(num.count(5))\n",
        "\n",
        "num.reverse()\n",
        "print(num)"
      ],
      "execution_count": 21,
      "outputs": [
        {
          "output_type": "stream",
          "name": "stdout",
          "text": [
            "[1, 2, 3, 4, [5, 6]]\n",
            "5\n",
            "[1, 2, 3, 4, [5, 6], 7, 8, 9]\n",
            "8\n",
            "[1, 2, 2.5, 3, 4, [5, 6], 7, 8, 9]\n",
            "==================================================\n",
            "3\n",
            "1\n",
            "[2, 2.5, 3, 4, 7, 8, 9]\n",
            "9\n",
            "0\n",
            "[9, 8, 7, 4, 3, 2.5, 2]\n"
          ]
        }
      ]
    },
    {
      "cell_type": "code",
      "metadata": {
        "colab": {
          "base_uri": "https://localhost:8080/"
        },
        "id": "36VbyiVGlFMS",
        "outputId": "84f97821-329d-4ead-bcbf-9371e293f5f9"
      },
      "source": [
        "num.reverse()\n",
        "print(num)"
      ],
      "execution_count": 23,
      "outputs": [
        {
          "output_type": "stream",
          "name": "stdout",
          "text": [
            "[2, 2.5, 3, 4, 7, 8, 9]\n"
          ]
        }
      ]
    },
    {
      "cell_type": "code",
      "metadata": {
        "colab": {
          "base_uri": "https://localhost:8080/"
        },
        "id": "mHQv1nl1l4E2",
        "outputId": "1f1b1576-2c2c-4529-9408-201508644bc5"
      },
      "source": [
        "num[:]"
      ],
      "execution_count": 33,
      "outputs": [
        {
          "output_type": "execute_result",
          "data": {
            "text/plain": [
              "[2, 2.5, 3, 4, 7, 8, 9]"
            ]
          },
          "metadata": {},
          "execution_count": 33
        }
      ]
    },
    {
      "cell_type": "code",
      "metadata": {
        "colab": {
          "base_uri": "https://localhost:8080/"
        },
        "id": "PHwax21YlJxM",
        "outputId": "792df1f6-0217-417f-c028-1aa69c09c9b2"
      },
      "source": [
        "num[0 : 3]"
      ],
      "execution_count": 27,
      "outputs": [
        {
          "output_type": "execute_result",
          "data": {
            "text/plain": [
              "[2, 2.5, 3]"
            ]
          },
          "metadata": {},
          "execution_count": 27
        }
      ]
    },
    {
      "cell_type": "code",
      "metadata": {
        "colab": {
          "base_uri": "https://localhost:8080/"
        },
        "id": "5CrFDK26lVRO",
        "outputId": "9f4eac40-87a2-4f92-d5d4-5716bb2f8439"
      },
      "source": [
        "num[0 : 5 : 2]\n",
        "# num[start : end : jump ]\n",
        "#elements :  0 , 0 + 2 , 0 + 2 + 2 "
      ],
      "execution_count": 30,
      "outputs": [
        {
          "output_type": "execute_result",
          "data": {
            "text/plain": [
              "[2, 3, 7]"
            ]
          },
          "metadata": {},
          "execution_count": 30
        }
      ]
    },
    {
      "cell_type": "code",
      "metadata": {
        "colab": {
          "base_uri": "https://localhost:8080/"
        },
        "id": "h4DDOFdElhC4",
        "outputId": "1b88006c-59a8-4c7e-f6c4-bfea5666692d"
      },
      "source": [
        "num[-1]"
      ],
      "execution_count": 31,
      "outputs": [
        {
          "output_type": "execute_result",
          "data": {
            "text/plain": [
              "9"
            ]
          },
          "metadata": {},
          "execution_count": 31
        }
      ]
    },
    {
      "cell_type": "code",
      "metadata": {
        "colab": {
          "base_uri": "https://localhost:8080/"
        },
        "id": "eIT7AxMglmif",
        "outputId": "e375c0df-681a-4e91-efdc-a3b54d6699da"
      },
      "source": [
        "num[-2]"
      ],
      "execution_count": 32,
      "outputs": [
        {
          "output_type": "execute_result",
          "data": {
            "text/plain": [
              "8"
            ]
          },
          "metadata": {},
          "execution_count": 32
        }
      ]
    },
    {
      "cell_type": "code",
      "metadata": {
        "colab": {
          "base_uri": "https://localhost:8080/"
        },
        "id": "1KZU2c0FmE81",
        "outputId": "e109febf-9707-49d6-939e-4c9e55a23f55"
      },
      "source": [
        "print(num)"
      ],
      "execution_count": 34,
      "outputs": [
        {
          "output_type": "stream",
          "name": "stdout",
          "text": [
            "[2, 2.5, 3, 4, 7, 8, 9]\n"
          ]
        }
      ]
    },
    {
      "cell_type": "code",
      "metadata": {
        "colab": {
          "base_uri": "https://localhost:8080/"
        },
        "id": "-ysd4NvtlpXZ",
        "outputId": "3d93f0c1-d467-44af-f93d-41a567145f3d"
      },
      "source": [
        "# num[start : end : jump ]\n",
        "# Reversing a list\n",
        "num[ : : -1]\n",
        "\n",
        "# 0  - 1, 0 - 1 - 1\n"
      ],
      "execution_count": 36,
      "outputs": [
        {
          "output_type": "execute_result",
          "data": {
            "text/plain": [
              "[9, 8, 7, 4, 3, 2.5, 2]"
            ]
          },
          "metadata": {},
          "execution_count": 36
        }
      ]
    },
    {
      "cell_type": "code",
      "metadata": {
        "colab": {
          "base_uri": "https://localhost:8080/"
        },
        "id": "-VzO53usmUA5",
        "outputId": "de106e3a-163d-43a4-c1ee-fb78066a381f"
      },
      "source": [
        "#Call By Reference\n",
        "\n",
        "list1 = [1,2,3]\n",
        "list2 = list1\n",
        "\n",
        "list2[0] = 100\n",
        "\n",
        "print(list1)\n",
        "print(list2)"
      ],
      "execution_count": 37,
      "outputs": [
        {
          "output_type": "stream",
          "name": "stdout",
          "text": [
            "[100, 2, 3]\n",
            "[100, 2, 3]\n"
          ]
        }
      ]
    },
    {
      "cell_type": "code",
      "metadata": {
        "colab": {
          "base_uri": "https://localhost:8080/"
        },
        "id": "KOI3Wnbgmk_d",
        "outputId": "76e3659e-3625-4171-ab7c-b0c394e89401"
      },
      "source": [
        "# Why list is mutable\n",
        "\n",
        "list1 = [1,2,3]\n",
        "\n",
        "print(hex(id(list1)))\n",
        "\n",
        "list1[0] = 100\n",
        "\n",
        "print(hex(id(list1)))\n"
      ],
      "execution_count": 40,
      "outputs": [
        {
          "output_type": "stream",
          "name": "stdout",
          "text": [
            "0x7fadb563e460\n",
            "0x7fadb563e460\n"
          ]
        }
      ]
    },
    {
      "cell_type": "markdown",
      "metadata": {
        "id": "FDk6bPMxqYoO"
      },
      "source": [
        "## Tuple\n",
        "\n",
        "Tuple is a __immutable__ Python object created using __Parentheses__ with commas separating the items which can be accessed using it's index number.\n",
        "\n",
        "It is just like list, except __you cannot modify or re-assign a value in the tuple. It will throw TypeError__.\n",
        "\n",
        "An empty tuple can also be created in the same way you create empty list.\n",
        "\n",
        "__NOTE: Tuples can also be created without using Parentheses, simply separated by commas.__\n",
        "\n",
        "### But when should we put parenthesis on tuples, and when we shouldn't?\n",
        "\n",
        "__Answer__: We use parentheses for __nested tuple__."
      ]
    },
    {
      "cell_type": "code",
      "metadata": {
        "colab": {
          "base_uri": "https://localhost:8080/"
        },
        "id": "KzRXHCy1nQfG",
        "outputId": "bdb9ad93-d198-4dfa-9daf-e0b0081a6639"
      },
      "source": [
        "x = (1,2,3)\n",
        "print(type(x))"
      ],
      "execution_count": 41,
      "outputs": [
        {
          "output_type": "stream",
          "name": "stdout",
          "text": [
            "<class 'tuple'>\n"
          ]
        }
      ]
    },
    {
      "cell_type": "code",
      "metadata": {
        "colab": {
          "base_uri": "https://localhost:8080/"
        },
        "id": "DLup449snUbH",
        "outputId": "2fee22a5-5512-4b50-c965-de165f6edfcd"
      },
      "source": [
        "x = 1,\n",
        "print(type(x))"
      ],
      "execution_count": 42,
      "outputs": [
        {
          "output_type": "stream",
          "name": "stdout",
          "text": [
            "<class 'tuple'>\n"
          ]
        }
      ]
    },
    {
      "cell_type": "code",
      "metadata": {
        "colab": {
          "base_uri": "https://localhost:8080/"
        },
        "id": "EJWna0tgnW6e",
        "outputId": "48fc1f12-c6ca-4896-863e-5a0c3638830b"
      },
      "source": [
        "x = 1,2,3\n",
        "print(type(x))"
      ],
      "execution_count": 44,
      "outputs": [
        {
          "output_type": "stream",
          "name": "stdout",
          "text": [
            "<class 'tuple'>\n"
          ]
        }
      ]
    },
    {
      "cell_type": "code",
      "metadata": {
        "colab": {
          "base_uri": "https://localhost:8080/"
        },
        "id": "wWNsJu9tqVPW",
        "outputId": "c9949ed8-0e94-4901-8205-24066f080386"
      },
      "source": [
        "empty_tuple = ()\n",
        "\n",
        "my_tuple = (\"is\", \"my\", \"tuple\")\n",
        "print(my_tuple[2])\n",
        "my_tuple_l = list(my_tuple)\n",
        "print(type(my_tuple_l),my_tuple_l)"
      ],
      "execution_count": 47,
      "outputs": [
        {
          "output_type": "stream",
          "name": "stdout",
          "text": [
            "tuple\n",
            "<class 'list'> ['is', 'my', 'tuple']\n"
          ]
        }
      ]
    },
    {
      "cell_type": "code",
      "metadata": {
        "colab": {
          "base_uri": "https://localhost:8080/",
          "height": 167
        },
        "id": "BFiqclbGnu_2",
        "outputId": "9330b4d1-3551-4df8-99b1-406dc23992d3"
      },
      "source": [
        "my_tuple[2] = \"TUPLE\""
      ],
      "execution_count": 48,
      "outputs": [
        {
          "output_type": "error",
          "ename": "TypeError",
          "evalue": "ignored",
          "traceback": [
            "\u001b[0;31m---------------------------------------------------------------------------\u001b[0m",
            "\u001b[0;31mTypeError\u001b[0m                                 Traceback (most recent call last)",
            "\u001b[0;32m<ipython-input-48-ca4e45a87aff>\u001b[0m in \u001b[0;36m<module>\u001b[0;34m()\u001b[0m\n\u001b[0;32m----> 1\u001b[0;31m \u001b[0mmy_tuple\u001b[0m\u001b[0;34m[\u001b[0m\u001b[0;36m2\u001b[0m\u001b[0;34m]\u001b[0m \u001b[0;34m=\u001b[0m \u001b[0;34m\"TUPLE\"\u001b[0m\u001b[0;34m\u001b[0m\u001b[0;34m\u001b[0m\u001b[0m\n\u001b[0m",
            "\u001b[0;31mTypeError\u001b[0m: 'tuple' object does not support item assignment"
          ]
        }
      ]
    },
    {
      "cell_type": "code",
      "metadata": {
        "colab": {
          "base_uri": "https://localhost:8080/"
        },
        "id": "4gtQMD7Xn0SX",
        "outputId": "81fd8178-b624-4467-c9d1-06530dcd93d7"
      },
      "source": [
        "my_tuple_l[2] = \"TUPLE\"\n",
        "my_tuple_l"
      ],
      "execution_count": 50,
      "outputs": [
        {
          "output_type": "execute_result",
          "data": {
            "text/plain": [
              "['is', 'my', 'TUPLE']"
            ]
          },
          "metadata": {},
          "execution_count": 50
        }
      ]
    },
    {
      "cell_type": "code",
      "metadata": {
        "colab": {
          "base_uri": "https://localhost:8080/"
        },
        "id": "MHQJo64Zn6Pi",
        "outputId": "03dcd565-7f35-4059-e1d2-00abb695c1c7"
      },
      "source": [
        "my_tuple = tuple(my_tuple_l)\n",
        "print(my_tuple)\n"
      ],
      "execution_count": 51,
      "outputs": [
        {
          "output_type": "stream",
          "name": "stdout",
          "text": [
            "('is', 'my', 'TUPLE')\n"
          ]
        }
      ]
    },
    {
      "cell_type": "code",
      "metadata": {
        "colab": {
          "base_uri": "https://localhost:8080/"
        },
        "id": "6g6D02Lbneev",
        "outputId": "02c39efb-99b2-4bc2-f20f-59ed32bef67a"
      },
      "source": [
        "also_my_tuple = 'is', 'this', 'one'\n",
        "print(also_my_tuple[2])"
      ],
      "execution_count": 53,
      "outputs": [
        {
          "output_type": "stream",
          "name": "stdout",
          "text": [
            "one\n"
          ]
        }
      ]
    },
    {
      "cell_type": "code",
      "metadata": {
        "colab": {
          "base_uri": "https://localhost:8080/"
        },
        "id": "3uo3zwdJn_qt",
        "outputId": "dde30337-b7fe-4098-ed42-b5d9a608ee48"
      },
      "source": [
        "special_case = (1,2,[3,4])\n",
        "print(type(special_case))\n",
        "print(hex(id(special_case)))\n",
        "\n",
        "special_case[2][0] = 10000\n",
        "\n",
        "print(type(special_case))\n",
        "print(hex(id(special_case)))\n",
        "print(special_case)"
      ],
      "execution_count": 57,
      "outputs": [
        {
          "output_type": "stream",
          "name": "stdout",
          "text": [
            "<class 'tuple'>\n",
            "0x7fadb561f690\n",
            "<class 'tuple'>\n",
            "0x7fadb561f690\n",
            "(1, 2, [10000, 4])\n"
          ]
        }
      ]
    },
    {
      "cell_type": "code",
      "metadata": {
        "colab": {
          "base_uri": "https://localhost:8080/",
          "height": 167
        },
        "id": "DUsjjUf1oN9X",
        "outputId": "2cceaad6-874b-4b3e-9a0d-71cf1c8f0c25"
      },
      "source": [
        "special_case[0] = 10000"
      ],
      "execution_count": 58,
      "outputs": [
        {
          "output_type": "error",
          "ename": "TypeError",
          "evalue": "ignored",
          "traceback": [
            "\u001b[0;31m---------------------------------------------------------------------------\u001b[0m",
            "\u001b[0;31mTypeError\u001b[0m                                 Traceback (most recent call last)",
            "\u001b[0;32m<ipython-input-58-4fd484763668>\u001b[0m in \u001b[0;36m<module>\u001b[0;34m()\u001b[0m\n\u001b[0;32m----> 1\u001b[0;31m \u001b[0mspecial_case\u001b[0m\u001b[0;34m[\u001b[0m\u001b[0;36m0\u001b[0m\u001b[0;34m]\u001b[0m \u001b[0;34m=\u001b[0m \u001b[0;36m10000\u001b[0m\u001b[0;34m\u001b[0m\u001b[0;34m\u001b[0m\u001b[0m\n\u001b[0m",
            "\u001b[0;31mTypeError\u001b[0m: 'tuple' object does not support item assignment"
          ]
        }
      ]
    },
    {
      "cell_type": "code",
      "metadata": {
        "colab": {
          "base_uri": "https://localhost:8080/"
        },
        "id": "L5fBNPwgomXk",
        "outputId": "75067147-c0cc-4c39-fbbc-cc1b491d18a6"
      },
      "source": [
        "special_case[0]"
      ],
      "execution_count": 59,
      "outputs": [
        {
          "output_type": "execute_result",
          "data": {
            "text/plain": [
              "1"
            ]
          },
          "metadata": {},
          "execution_count": 59
        }
      ]
    },
    {
      "cell_type": "code",
      "metadata": {
        "colab": {
          "base_uri": "https://localhost:8080/"
        },
        "id": "bFHHO-RZoogw",
        "outputId": "ca335cb4-c813-46a0-91e6-7bf48888452c"
      },
      "source": [
        "special_case[1]"
      ],
      "execution_count": 60,
      "outputs": [
        {
          "output_type": "execute_result",
          "data": {
            "text/plain": [
              "2"
            ]
          },
          "metadata": {},
          "execution_count": 60
        }
      ]
    },
    {
      "cell_type": "markdown",
      "metadata": {
        "id": "FScz0Uxvg1e0"
      },
      "source": [
        "## Dictionaries\n",
        "\n",
        "Dictionaries are data structures used __to map keys to values__. Just like list, they are __mutable__ and made using __curly brackets__. \n",
        "\n",
        "Dictionaries can be indexed in the same way as lists, __using square brackets containing keys__. Trying to index a key that isn't a part of the dictionary returns a __KeyError__.\n",
        "\n",
        "The useful dictionary method is __get__. It does same thing as indexing, but if the key is not found in the dictionary, it returns __None__ instead of throwing any error.\n",
        "\n",
        "__NOTE: Only immutable objects can be used as keys to dictionaries.__"
      ]
    },
    {
      "cell_type": "markdown",
      "metadata": {
        "id": "2_VAkodfouDr"
      },
      "source": [
        "# LSD Mutable"
      ]
    },
    {
      "cell_type": "code",
      "metadata": {
        "colab": {
          "base_uri": "https://localhost:8080/"
        },
        "id": "H0-6CfugqalQ",
        "outputId": "c2ea93b0-9806-47d1-e476-0b675062f960"
      },
      "source": [
        "empty_dict = {}\n",
        "\n",
        "my_dict = {\"Joker\":'Why so serious?', \"Bane\": [1,2,3], \"Scarecrow\": 0.05}\n",
        "print(my_dict[\"Joker\"])\n",
        "print(my_dict[\"Scarecrow\"])\n",
        "print(my_dict[\"Bane\"])"
      ],
      "execution_count": 63,
      "outputs": [
        {
          "output_type": "stream",
          "name": "stdout",
          "text": [
            "Why so serious?\n",
            "0.05\n",
            "[1, 2, 3]\n"
          ]
        }
      ]
    },
    {
      "cell_type": "markdown",
      "metadata": {
        "id": "AFMYAm9BpILV"
      },
      "source": [
        "# Keys always have to be immutable"
      ]
    },
    {
      "cell_type": "code",
      "metadata": {
        "colab": {
          "base_uri": "https://localhost:8080/"
        },
        "id": "Dog_eyphpKjr",
        "outputId": "f37dd224-d151-43f8-8d78-c4a4760ab8e2"
      },
      "source": [
        "my_dict_again = {(1,2,3):[1,2,3], ('a','b','c'):['a','b','c']}\n",
        "print(my_dict_again[(1,2,3)])"
      ],
      "execution_count": 64,
      "outputs": [
        {
          "output_type": "stream",
          "name": "stdout",
          "text": [
            "[1, 2, 3]\n"
          ]
        }
      ]
    },
    {
      "cell_type": "code",
      "metadata": {
        "colab": {
          "base_uri": "https://localhost:8080/",
          "height": 185
        },
        "id": "iVZggfTrpOiR",
        "outputId": "6fae5ce7-5265-4faf-af7c-3005c4aef0c5"
      },
      "source": [
        "my_dict_again = {[1,2,3]:(1,2,3), ('a','b','c'):['a','b','c']}\n",
        "print(my_dict_again[(1,2,3)])"
      ],
      "execution_count": 65,
      "outputs": [
        {
          "output_type": "error",
          "ename": "TypeError",
          "evalue": "ignored",
          "traceback": [
            "\u001b[0;31m---------------------------------------------------------------------------\u001b[0m",
            "\u001b[0;31mTypeError\u001b[0m                                 Traceback (most recent call last)",
            "\u001b[0;32m<ipython-input-65-a1ef548ba250>\u001b[0m in \u001b[0;36m<module>\u001b[0;34m()\u001b[0m\n\u001b[0;32m----> 1\u001b[0;31m \u001b[0mmy_dict_again\u001b[0m \u001b[0;34m=\u001b[0m \u001b[0;34m{\u001b[0m\u001b[0;34m[\u001b[0m\u001b[0;36m1\u001b[0m\u001b[0;34m,\u001b[0m\u001b[0;36m2\u001b[0m\u001b[0;34m,\u001b[0m\u001b[0;36m3\u001b[0m\u001b[0;34m]\u001b[0m\u001b[0;34m:\u001b[0m\u001b[0;34m(\u001b[0m\u001b[0;36m1\u001b[0m\u001b[0;34m,\u001b[0m\u001b[0;36m2\u001b[0m\u001b[0;34m,\u001b[0m\u001b[0;36m3\u001b[0m\u001b[0;34m)\u001b[0m\u001b[0;34m,\u001b[0m \u001b[0;34m(\u001b[0m\u001b[0;34m'a'\u001b[0m\u001b[0;34m,\u001b[0m\u001b[0;34m'b'\u001b[0m\u001b[0;34m,\u001b[0m\u001b[0;34m'c'\u001b[0m\u001b[0;34m)\u001b[0m\u001b[0;34m:\u001b[0m\u001b[0;34m[\u001b[0m\u001b[0;34m'a'\u001b[0m\u001b[0;34m,\u001b[0m\u001b[0;34m'b'\u001b[0m\u001b[0;34m,\u001b[0m\u001b[0;34m'c'\u001b[0m\u001b[0;34m]\u001b[0m\u001b[0;34m}\u001b[0m\u001b[0;34m\u001b[0m\u001b[0;34m\u001b[0m\u001b[0m\n\u001b[0m\u001b[1;32m      2\u001b[0m \u001b[0mprint\u001b[0m\u001b[0;34m(\u001b[0m\u001b[0mmy_dict_again\u001b[0m\u001b[0;34m[\u001b[0m\u001b[0;34m(\u001b[0m\u001b[0;36m1\u001b[0m\u001b[0;34m,\u001b[0m\u001b[0;36m2\u001b[0m\u001b[0;34m,\u001b[0m\u001b[0;36m3\u001b[0m\u001b[0;34m)\u001b[0m\u001b[0;34m]\u001b[0m\u001b[0;34m)\u001b[0m\u001b[0;34m\u001b[0m\u001b[0;34m\u001b[0m\u001b[0m\n",
            "\u001b[0;31mTypeError\u001b[0m: unhashable type: 'list'"
          ]
        }
      ]
    },
    {
      "cell_type": "code",
      "metadata": {
        "colab": {
          "base_uri": "https://localhost:8080/"
        },
        "id": "9bLsBMy7orgU",
        "outputId": "90f39a37-06af-4ae4-8516-77e8efabaad1"
      },
      "source": [
        "\n",
        "my_dict_again['sagar'] = 'd'\n",
        "print(my_dict_again)"
      ],
      "execution_count": 67,
      "outputs": [
        {
          "output_type": "stream",
          "name": "stdout",
          "text": [
            "{(1, 2, 3): [1, 2, 3], ('a', 'b', 'c'): ['a', 'b', 'c'], 'sagar': 'd'}\n"
          ]
        }
      ]
    },
    {
      "cell_type": "markdown",
      "metadata": {
        "id": "ssTAIumPpq6n"
      },
      "source": [
        "__Quick Question: How to check whether a variable is mutable or not?__ [Answer](#ans1)"
      ]
    },
    {
      "cell_type": "code",
      "metadata": {
        "colab": {
          "base_uri": "https://localhost:8080/",
          "height": 167
        },
        "id": "ORFzEfkxpeV8",
        "outputId": "9572877c-158b-46cf-d7ea-c9b26c5d2ab6"
      },
      "source": [
        "my_dict_error = {[1,2,3]:'a'}"
      ],
      "execution_count": 69,
      "outputs": [
        {
          "output_type": "error",
          "ename": "TypeError",
          "evalue": "ignored",
          "traceback": [
            "\u001b[0;31m---------------------------------------------------------------------------\u001b[0m",
            "\u001b[0;31mTypeError\u001b[0m                                 Traceback (most recent call last)",
            "\u001b[0;32m<ipython-input-69-9117a26d6e1e>\u001b[0m in \u001b[0;36m<module>\u001b[0;34m()\u001b[0m\n\u001b[0;32m----> 1\u001b[0;31m \u001b[0mmy_dict_error\u001b[0m \u001b[0;34m=\u001b[0m \u001b[0;34m{\u001b[0m\u001b[0;34m[\u001b[0m\u001b[0;36m1\u001b[0m\u001b[0;34m,\u001b[0m\u001b[0;36m2\u001b[0m\u001b[0;34m,\u001b[0m\u001b[0;36m3\u001b[0m\u001b[0;34m]\u001b[0m\u001b[0;34m:\u001b[0m\u001b[0;34m'a'\u001b[0m\u001b[0;34m}\u001b[0m\u001b[0;34m\u001b[0m\u001b[0;34m\u001b[0m\u001b[0m\n\u001b[0m",
            "\u001b[0;31mTypeError\u001b[0m: unhashable type: 'list'"
          ]
        }
      ]
    },
    {
      "cell_type": "markdown",
      "metadata": {
        "id": "gGYy43d9p05B"
      },
      "source": [
        "### What does this error mean?\n",
        "An object is __hashable__ if it has a hash value which never changes during its lifetime (it needs hash() method). List is unhashable because it's content can change over its lifetime.\n",
        "\n",
        "__NOTE__: Don't know about Hash function? Think about it as the fingerprint of a file in an encrypted format. For details, search in Google."
      ]
    },
    {
      "cell_type": "code",
      "metadata": {
        "colab": {
          "base_uri": "https://localhost:8080/"
        },
        "id": "gLOPtVneqVK6",
        "outputId": "796dd7b9-c569-4110-a8bc-4294aa3fb461"
      },
      "source": [
        "# How about a dictionary within a dictionary?\n",
        "my_dict_yet_again = {0:\"infinity\", 1:{'a':[1,2]}, 'b':{2: (3,4)}}\n",
        "print(my_dict_yet_again)\n",
        "print(my_dict_yet_again[1])\n"
      ],
      "execution_count": 71,
      "outputs": [
        {
          "output_type": "stream",
          "name": "stdout",
          "text": [
            "{0: 'infinity', 1: {'a': [1, 2]}, 'b': {2: (3, 4)}}\n",
            "{'a': [1, 2]}\n"
          ]
        }
      ]
    },
    {
      "cell_type": "code",
      "metadata": {
        "colab": {
          "base_uri": "https://localhost:8080/"
        },
        "id": "eif6khYQqVlC",
        "outputId": "ec84ab71-f582-435d-f864-39aa6c98d805"
      },
      "source": [
        "print(my_dict_yet_again.values())"
      ],
      "execution_count": 72,
      "outputs": [
        {
          "output_type": "stream",
          "name": "stdout",
          "text": [
            "dict_values(['infinity', {'a': [1, 2]}, {2: (3, 4)}])\n"
          ]
        }
      ]
    },
    {
      "cell_type": "code",
      "metadata": {
        "colab": {
          "base_uri": "https://localhost:8080/"
        },
        "id": "LXeqgXpHqaTV",
        "outputId": "1266c630-9258-4eb0-c5b6-c37e3514193e"
      },
      "source": [
        "print(my_dict_yet_again.keys())"
      ],
      "execution_count": 73,
      "outputs": [
        {
          "output_type": "stream",
          "name": "stdout",
          "text": [
            "dict_keys([0, 1, 'b'])\n"
          ]
        }
      ]
    },
    {
      "cell_type": "code",
      "metadata": {
        "colab": {
          "base_uri": "https://localhost:8080/"
        },
        "id": "JJA9lzhZpt9y",
        "outputId": "096da3dc-0ba9-40ce-bfe1-875f6d85d6c1"
      },
      "source": [
        "\n",
        "# Some dictionary functions\n",
        "print(1 in my_dict_yet_again) # check if a key is available in the dictionary\n",
        "print({'a':[1,2]} in my_dict_yet_again.values()) #check if the value is available in the dictionary\n",
        "\n",
        "my_dict_yet_again[True-1] = \"zero\"\n",
        "print(my_dict_yet_again)"
      ],
      "execution_count": 74,
      "outputs": [
        {
          "output_type": "stream",
          "name": "stdout",
          "text": [
            "True\n",
            "True\n",
            "0\n",
            "{0: 'zero', 1: {'a': [1, 2]}, 'b': {2: (3, 4)}}\n"
          ]
        }
      ]
    },
    {
      "cell_type": "markdown",
      "metadata": {
        "id": "NJbfz9NDq4kk"
      },
      "source": [
        "### Create dictionary from two lists!\n",
        "\n",
        "We can use __zip__ to generate dictionaries where the keys and values can be obtained from lists at runtime."
      ]
    },
    {
      "cell_type": "code",
      "metadata": {
        "colab": {
          "base_uri": "https://localhost:8080/"
        },
        "id": "PIlz3k_AqE9l",
        "outputId": "557514aa-233a-404a-8ef0-74510c486b76"
      },
      "source": [
        "keys = ['a', 'b', 'c']\n",
        "values = [1, 2, 3]\n",
        "\n",
        "print(list(zip(keys,values)))\n",
        "\n",
        "print(dict(zip(keys,values)))"
      ],
      "execution_count": 75,
      "outputs": [
        {
          "output_type": "stream",
          "name": "stdout",
          "text": [
            "[('a', 1), ('b', 2), ('c', 3)]\n",
            "{'a': 1, 'b': 2, 'c': 3}\n"
          ]
        }
      ]
    },
    {
      "cell_type": "code",
      "metadata": {
        "colab": {
          "base_uri": "https://localhost:8080/"
        },
        "id": "B4anL0tOq8Kt",
        "outputId": "9930aab8-d59a-40d9-a0db-7819844d3762"
      },
      "source": [
        "keys = ['a', 'b', 'a']\n",
        "values = [3, 2, 1]\n",
        "\n",
        "print(list(zip(keys,values)))\n",
        "\n",
        "print(dict(zip(keys,values)))"
      ],
      "execution_count": 76,
      "outputs": [
        {
          "output_type": "stream",
          "name": "stdout",
          "text": [
            "[('a', 3), ('b', 2), ('a', 1)]\n",
            "{'a': 1, 'b': 2}\n"
          ]
        }
      ]
    },
    {
      "cell_type": "code",
      "metadata": {
        "colab": {
          "base_uri": "https://localhost:8080/"
        },
        "id": "8xQLTPWHrM_N",
        "outputId": "b59dc32e-8ad8-4791-8c96-62359163067c"
      },
      "source": [
        "my_dict_yet_again"
      ],
      "execution_count": 77,
      "outputs": [
        {
          "output_type": "execute_result",
          "data": {
            "text/plain": [
              "{0: 'zero', 1: {'a': [1, 2]}, 'b': {2: (3, 4)}}"
            ]
          },
          "metadata": {},
          "execution_count": 77
        }
      ]
    },
    {
      "cell_type": "code",
      "metadata": {
        "colab": {
          "base_uri": "https://localhost:8080/"
        },
        "id": "VvS-7hVwq8i3",
        "outputId": "3d169a9e-8b51-4104-d839-8ec6a6ab3d65"
      },
      "source": [
        "my_dict_yet_again[True]=False\n",
        "print(my_dict_yet_again)"
      ],
      "execution_count": 78,
      "outputs": [
        {
          "output_type": "stream",
          "name": "stdout",
          "text": [
            "{0: 'zero', 1: False, 'b': {2: (3, 4)}}\n"
          ]
        }
      ]
    },
    {
      "cell_type": "code",
      "metadata": {
        "colab": {
          "base_uri": "https://localhost:8080/"
        },
        "id": "VtkEHrcPrWe7",
        "outputId": "3db37c82-f6b3-4e09-86ba-caa40ee40a1d"
      },
      "source": [
        "help(my_dict_yet_again.get)"
      ],
      "execution_count": 81,
      "outputs": [
        {
          "output_type": "stream",
          "name": "stdout",
          "text": [
            "Help on built-in function get:\n",
            "\n",
            "get(key, default=None, /) method of builtins.dict instance\n",
            "    Return the value for key if key is in the dictionary, else default.\n",
            "\n"
          ]
        }
      ]
    },
    {
      "cell_type": "code",
      "metadata": {
        "colab": {
          "base_uri": "https://localhost:8080/"
        },
        "id": "pJn9oNQXrQQ1",
        "outputId": "fb6ed588-b5c5-43b7-dc8a-1a62f1e0493f"
      },
      "source": [
        "print(my_dict_yet_again.get(1)) # get method\n",
        "print(my_dict_yet_again.get(2))\n",
        "print(my_dict_yet_again.get(\"True\",\"True string is not available as key\"))"
      ],
      "execution_count": 79,
      "outputs": [
        {
          "output_type": "stream",
          "name": "stdout",
          "text": [
            "False\n",
            "None\n",
            "True string is not available as key\n"
          ]
        }
      ]
    }
  ]
}