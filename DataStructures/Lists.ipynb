{
  "nbformat": 4,
  "nbformat_minor": 0,
  "metadata": {
    "colab": {
      "name": "Lists.ipynb",
      "version": "0.3.2",
      "provenance": [],
      "include_colab_link": true
    },
    "kernelspec": {
      "name": "python3",
      "display_name": "Python 3"
    }
  },
  "cells": [
    {
      "cell_type": "markdown",
      "metadata": {
        "id": "view-in-github",
        "colab_type": "text"
      },
      "source": [
        "<a href=\"https://colab.research.google.com/github/sagar9926/Python_For_DataScience/blob/master/DataStructures/Lists.ipynb\" target=\"_parent\"><img src=\"https://colab.research.google.com/assets/colab-badge.svg\" alt=\"Open In Colab\"/></a>"
      ]
    },
    {
      "cell_type": "markdown",
      "metadata": {
        "id": "ml6QZkhcvXWz",
        "colab_type": "text"
      },
      "source": [
        "##Lists :\n",
        "\n",
        "* A list is a data structure in Python that is a mutable, or changeable\n",
        "* Lists are collection of items (Strings, integers or even other lists)\n",
        "* In Python lists are written with square brackets.\n",
        "* List in python are used to store  hetereogeneous elements\n",
        "\n",
        "\n",
        "### Summary :\n",
        "\n",
        "### Lists Properties : ordered, iterable, mutable, can contain multiple data types\n"
      ]
    },
    {
      "cell_type": "markdown",
      "metadata": {
        "id": "vq2FpCrUwnbs",
        "colab_type": "text"
      },
      "source": [
        "## Creating a list :\n"
      ]
    },
    {
      "cell_type": "code",
      "metadata": {
        "id": "UWZPUwdguREb",
        "colab_type": "code",
        "outputId": "afd935ae-38c0-4905-86de-c505ddd9dfed",
        "colab": {
          "base_uri": "https://localhost:8080/",
          "height": 34
        }
      },
      "source": [
        "# create an empty list (two ways)\n",
        "empty_list =[]\n",
        "empty_list =list()\n",
        "\n",
        "# create a listsimpsons =['homer','marge','bart']\n",
        "\n",
        "lst1 = ['My', 'name', 'is', 'Sagar'] # list of strings\n",
        "\n",
        "lst2 = [1, 2, 3, 4] #list of integers\n",
        "\n",
        "lst3 = [[1, 2], [3, 4]] # list of lists\n",
        "\n",
        "lst4 = [1, 'ramu', 24, 1.24] # list of different datatypes\n",
        "\n",
        "print(lst4)\n"
      ],
      "execution_count": 4,
      "outputs": [
        {
          "output_type": "stream",
          "text": [
            "[1, 'ramu', 24, 1.24]\n"
          ],
          "name": "stdout"
        }
      ]
    },
    {
      "cell_type": "markdown",
      "metadata": {
        "id": "WIJFsjoI2-gP",
        "colab_type": "text"
      },
      "source": [
        "### What is meant by a list being mutable ?\n",
        "### Lists are ordered and mutable which means that we can change their content without changing their identity\n"
      ]
    },
    {
      "cell_type": "code",
      "metadata": {
        "id": "qxqm3WQr5DYj",
        "colab_type": "code",
        "outputId": "54abef8e-9e60-487b-d35c-615f2ba9851a",
        "colab": {
          "base_uri": "https://localhost:8080/",
          "height": 34
        }
      },
      "source": [
        "#Mutability in lists\n",
        "lst4[0] = \"Sagar\"\n",
        "print(lst4)"
      ],
      "execution_count": 5,
      "outputs": [
        {
          "output_type": "stream",
          "text": [
            "['Sagar', 'ramu', 24, 1.24]\n"
          ],
          "name": "stdout"
        }
      ]
    },
    {
      "cell_type": "markdown",
      "metadata": {
        "id": "z1NwXBC431le",
        "colab_type": "text"
      },
      "source": [
        "### What is the utility of list being Ordered ?\n",
        "### Lists in Python store ordered collections of items or objects, we can say that they are sequence types, precisely because they behave like a sequence. Other types that are also considered to be sequence types are strings and tuples.\n",
        "\n",
        "### In simple words Sequence type  means that the program can iterate over them! This is why lists, strings, tuples, and sets are called “iterables”.\n",
        "\n"
      ]
    },
    {
      "cell_type": "markdown",
      "metadata": {
        "id": "T3go7kmuxKEf",
        "colab_type": "text"
      },
      "source": [
        "## Indexing Lists:\n",
        "\n",
        "* Each item in a list corresponds to an index number, which is an integer value, starting with the index number 0.\n",
        "\n",
        "| List Item  | My    | name          | is       | Sagar|\n",
        "| ------------- | ------------- |------------- | ------------- | ------------- |\n",
        "| Index value(from Beginning) | 0 | 1 | 2  |3|\n",
        "| Index value(from End)  | -4|-3| -2  |-1|"
      ]
    },
    {
      "cell_type": "code",
      "metadata": {
        "id": "pstwbSpdxAi8",
        "colab_type": "code",
        "outputId": "899c6b95-9e9c-42e9-ec59-1242e624a4a5",
        "colab": {
          "base_uri": "https://localhost:8080/",
          "height": 170
        }
      },
      "source": [
        "#Forward\n",
        "print(lst1[0])\n",
        "print(lst1[1])\n",
        "print(lst1[2])\n",
        "print(lst1[3])\n",
        "print(\"\")\n",
        "#Backward\n",
        "print(lst1[-1])\n",
        "print(lst1[-2])\n",
        "print(lst1[-3])\n",
        "print(lst1[-4])\n"
      ],
      "execution_count": 6,
      "outputs": [
        {
          "output_type": "stream",
          "text": [
            "My\n",
            "name\n",
            "is\n",
            "Sagar\n",
            "\n",
            "Sagar\n",
            "is\n",
            "name\n",
            "My\n"
          ],
          "name": "stdout"
        }
      ]
    },
    {
      "cell_type": "markdown",
      "metadata": {
        "id": "6wJ6niHY6J06",
        "colab_type": "text"
      },
      "source": [
        "### Functions on lists : \n"
      ]
    },
    {
      "cell_type": "code",
      "metadata": {
        "id": "MD-K_1DCzLJ0",
        "colab_type": "code",
        "outputId": "5f5863b2-accd-4c9a-dd20-af11643f3d6a",
        "colab": {
          "base_uri": "https://localhost:8080/",
          "height": 34
        }
      },
      "source": [
        "#Length of list\n",
        "\n",
        "print(\"Length of list :{}\".format(len(lst4)))\n"
      ],
      "execution_count": 7,
      "outputs": [
        {
          "output_type": "stream",
          "text": [
            "Length of list :4\n"
          ],
          "name": "stdout"
        }
      ]
    },
    {
      "cell_type": "markdown",
      "metadata": {
        "id": "2JTlU2rl8WAj",
        "colab_type": "text"
      },
      "source": [
        "### Functions which modifies a list(does not return lists):\n"
      ]
    },
    {
      "cell_type": "code",
      "metadata": {
        "id": "hnPC34VazIT3",
        "colab_type": "code",
        "outputId": "58913085-0422-4342-fb9a-784a179f52ec",
        "colab": {
          "base_uri": "https://localhost:8080/",
          "height": 51
        }
      },
      "source": [
        "# append \n",
        "print(lst4)\n",
        "lst4.append(5)\n",
        "print(lst4)"
      ],
      "execution_count": 8,
      "outputs": [
        {
          "output_type": "stream",
          "text": [
            "['Sagar', 'ramu', 24, 1.24]\n",
            "['Sagar', 'ramu', 24, 1.24, 5]\n"
          ],
          "name": "stdout"
        }
      ]
    },
    {
      "cell_type": "code",
      "metadata": {
        "id": "yK6D1oLly9SJ",
        "colab_type": "code",
        "outputId": "3736f86e-1d7a-4fbc-8da4-8bd4ef8716b2",
        "colab": {
          "base_uri": "https://localhost:8080/",
          "height": 248
        }
      },
      "source": [
        "#Extend \n",
        "\n",
        "print(lst4)\n",
        "lst4.extend(5)\n",
        "print(lst4)\n",
        "\n"
      ],
      "execution_count": 9,
      "outputs": [
        {
          "output_type": "stream",
          "text": [
            "['Sagar', 'ramu', 24, 1.24, 5]\n"
          ],
          "name": "stdout"
        },
        {
          "output_type": "error",
          "ename": "TypeError",
          "evalue": "ignored",
          "traceback": [
            "\u001b[0;31m---------------------------------------------------------------------------\u001b[0m",
            "\u001b[0;31mTypeError\u001b[0m                                 Traceback (most recent call last)",
            "\u001b[0;32m<ipython-input-9-f1f1a6dca9c3>\u001b[0m in \u001b[0;36m<module>\u001b[0;34m()\u001b[0m\n\u001b[1;32m      1\u001b[0m \u001b[0;34m\u001b[0m\u001b[0m\n\u001b[1;32m      2\u001b[0m \u001b[0mprint\u001b[0m\u001b[0;34m(\u001b[0m\u001b[0mlst4\u001b[0m\u001b[0;34m)\u001b[0m\u001b[0;34m\u001b[0m\u001b[0;34m\u001b[0m\u001b[0m\n\u001b[0;32m----> 3\u001b[0;31m \u001b[0mlst4\u001b[0m\u001b[0;34m.\u001b[0m\u001b[0mextend\u001b[0m\u001b[0;34m(\u001b[0m\u001b[0;36m5\u001b[0m\u001b[0;34m)\u001b[0m\u001b[0;34m\u001b[0m\u001b[0;34m\u001b[0m\u001b[0m\n\u001b[0m\u001b[1;32m      4\u001b[0m \u001b[0mprint\u001b[0m\u001b[0;34m(\u001b[0m\u001b[0mlst4\u001b[0m\u001b[0;34m)\u001b[0m\u001b[0;34m\u001b[0m\u001b[0;34m\u001b[0m\u001b[0m\n\u001b[1;32m      5\u001b[0m \u001b[0;34m\u001b[0m\u001b[0m\n",
            "\u001b[0;31mTypeError\u001b[0m: 'int' object is not iterable"
          ]
        }
      ]
    },
    {
      "cell_type": "markdown",
      "metadata": {
        "id": "IxFrClgh9kEq",
        "colab_type": "text"
      },
      "source": [
        "### Difference between append() and extend():-\n",
        "\n",
        "### append(): Adds its argument as a single element to the end of a list. The length of the list increases by one.\n",
        "\n",
        "### extend(): Iterates over its argument and adding each element to the list and extending the list. The length of the list increases by number of elements in it’s argument."
      ]
    },
    {
      "cell_type": "code",
      "metadata": {
        "id": "FVGvNnsI86JL",
        "colab_type": "code",
        "outputId": "4cab058e-615d-46f5-ded0-5cfcf43677fd",
        "colab": {
          "base_uri": "https://localhost:8080/",
          "height": 119
        }
      },
      "source": [
        "#append() Examples\n",
        "\n",
        "test = [1,2,3,4]\n",
        "\n",
        "print(test)\n",
        "print(len(test))\n",
        "\n",
        "test.append(\"sagar\") #appending a string\n",
        "print(test)\n",
        "print(len(test))\n",
        "\n",
        "test.append([\"kumar\",\"Agrawal\"]) # appending a list in a list\n",
        "print(test)\n",
        "print(len(test))"
      ],
      "execution_count": 10,
      "outputs": [
        {
          "output_type": "stream",
          "text": [
            "[1, 2, 3, 4]\n",
            "4\n",
            "[1, 2, 3, 4, 'sagar']\n",
            "5\n",
            "[1, 2, 3, 4, 'sagar', ['kumar', 'Agrawal']]\n",
            "6\n"
          ],
          "name": "stdout"
        }
      ]
    },
    {
      "cell_type": "markdown",
      "metadata": {
        "id": "cm0jjAYs_G_b",
        "colab_type": "text"
      },
      "source": [
        "**Clearly from above example we can see that the append always increases the length of string by 1 element**"
      ]
    },
    {
      "cell_type": "code",
      "metadata": {
        "id": "T4yrUM2J_FW4",
        "colab_type": "code",
        "outputId": "e60eab2b-4e0c-4997-a64a-4796b3caf4e4",
        "colab": {
          "base_uri": "https://localhost:8080/",
          "height": 153
        }
      },
      "source": [
        "#extend() Examples\n",
        "\n",
        "test = [1,2,3,4]\n",
        "\n",
        "print(test)\n",
        "print(len(test))\n",
        "\n",
        "\n",
        "test.extend(\"Sagar\") #appending a string\n",
        "print(test)\n",
        "print(len(test))\n",
        "\n",
        "test.extend([\"Kumar\",\"Agrawal\"]) # appending a list in a list\n",
        "print(test)\n",
        "print(len(test))\n",
        "\n",
        "test.extend([\"BUNNY\"]) # appending a list in a list\n",
        "print(test)\n",
        "print(len(test))"
      ],
      "execution_count": 11,
      "outputs": [
        {
          "output_type": "stream",
          "text": [
            "[1, 2, 3, 4]\n",
            "4\n",
            "[1, 2, 3, 4, 'S', 'a', 'g', 'a', 'r']\n",
            "9\n",
            "[1, 2, 3, 4, 'S', 'a', 'g', 'a', 'r', 'Kumar', 'Agrawal']\n",
            "11\n",
            "[1, 2, 3, 4, 'S', 'a', 'g', 'a', 'r', 'Kumar', 'Agrawal', 'BUNNY']\n",
            "12\n"
          ],
          "name": "stdout"
        }
      ]
    },
    {
      "cell_type": "markdown",
      "metadata": {
        "id": "5odtkGyt_xj4",
        "colab_type": "text"
      },
      "source": [
        "### Insert : \n",
        "### The insert() function takes two parameters:\n",
        "\n",
        "\n",
        "\n",
        "*   index - position where an element needs to be inserted\n",
        "*   element - this is the element to be inserted in the list\n",
        "\n",
        "\n"
      ]
    },
    {
      "cell_type": "code",
      "metadata": {
        "id": "fDp3Fzm9_hQ3",
        "colab_type": "code",
        "outputId": "f9c6a28c-7670-43c1-91ba-730af9c44f2a",
        "colab": {
          "base_uri": "https://localhost:8080/",
          "height": 85
        }
      },
      "source": [
        "lst = [1,2,3,4]\n",
        "print(lst)\n",
        "lst.insert(0,'sagar') # insert element at index 0 (shifts everything right)\n",
        "print(lst)\n",
        "lst.insert(-1,\"agrawal\")\n",
        "print(lst)\n",
        "lst.insert(-1,\"agrawal\")\n",
        "print(lst)"
      ],
      "execution_count": 12,
      "outputs": [
        {
          "output_type": "stream",
          "text": [
            "[1, 2, 3, 4]\n",
            "['sagar', 1, 2, 3, 4]\n",
            "['sagar', 1, 2, 3, 'agrawal', 4]\n",
            "['sagar', 1, 2, 3, 'agrawal', 'agrawal', 4]\n"
          ],
          "name": "stdout"
        }
      ]
    },
    {
      "cell_type": "markdown",
      "metadata": {
        "id": "Jz-DIxKtF0US",
        "colab_type": "text"
      },
      "source": [
        "### remove() : search for first instance and remove it"
      ]
    },
    {
      "cell_type": "code",
      "metadata": {
        "id": "teLnaTEuAdb8",
        "colab_type": "code",
        "outputId": "bad6602e-ba13-4d3a-c2f6-03481c5e639d",
        "colab": {
          "base_uri": "https://localhost:8080/",
          "height": 51
        }
      },
      "source": [
        "print(lst)\n",
        "lst.remove('agrawal')# search for first instance and remove it\n",
        "\n",
        "print(lst)"
      ],
      "execution_count": 13,
      "outputs": [
        {
          "output_type": "stream",
          "text": [
            "['sagar', 1, 2, 3, 'agrawal', 'agrawal', 4]\n",
            "['sagar', 1, 2, 3, 'agrawal', 4]\n"
          ],
          "name": "stdout"
        }
      ]
    },
    {
      "cell_type": "code",
      "metadata": {
        "id": "H1JR9J0VF7Q2",
        "colab_type": "code",
        "outputId": "338d603d-59cd-44a6-eaf4-94ea2a388e32",
        "colab": {
          "base_uri": "https://localhost:8080/",
          "height": 85
        }
      },
      "source": [
        "print(lst)\n",
        "x = lst.pop(0)# remove element 0 and return it\n",
        "print(\"popped element : {}\".format(x))\n",
        "print(lst)\n",
        "del lst[0]# remove element 0 (does not return it)\n",
        "print(lst)"
      ],
      "execution_count": 14,
      "outputs": [
        {
          "output_type": "stream",
          "text": [
            "['sagar', 1, 2, 3, 'agrawal', 4]\n",
            "popped element : sagar\n",
            "[1, 2, 3, 'agrawal', 4]\n",
            "[2, 3, 'agrawal', 4]\n"
          ],
          "name": "stdout"
        }
      ]
    },
    {
      "cell_type": "markdown",
      "metadata": {
        "id": "-B0Y5P0kGokV",
        "colab_type": "text"
      },
      "source": [
        "### in and not in list key words : "
      ]
    },
    {
      "cell_type": "code",
      "metadata": {
        "id": "YFIFdpfyGv78",
        "colab_type": "code",
        "outputId": "c0f1b209-a990-4c30-cf43-b25929f96947",
        "colab": {
          "base_uri": "https://localhost:8080/",
          "height": 51
        }
      },
      "source": [
        "#keyword 'in' is used to test if an item is in a list\n",
        "lst = [\"A\",\"B\",\"C\",\"D\"]\n",
        "\n",
        "if 'B' in lst:\n",
        "    print('deep')\n",
        "\n",
        "#keyword 'not' can combined with 'in'\n",
        "if 'E' not in lst:\n",
        "    print('learning')"
      ],
      "execution_count": 15,
      "outputs": [
        {
          "output_type": "stream",
          "text": [
            "deep\n",
            "learning\n"
          ],
          "name": "stdout"
        }
      ]
    },
    {
      "cell_type": "markdown",
      "metadata": {
        "id": "HS5QrvYcIwip",
        "colab_type": "text"
      },
      "source": [
        "### Sorting list:\n",
        "\n",
        "\n",
        "*   list_name.sort () : method sort's a list in place (modifies but does not return the list)\n",
        "*   sorted(list_name) : return a sorted list (does not modify the original list)\n",
        "\n"
      ]
    },
    {
      "cell_type": "code",
      "metadata": {
        "id": "WS5d1EKVGnp9",
        "colab_type": "code",
        "colab": {}
      },
      "source": [
        "lst = [10,283,4,7,293,3,2,41]"
      ],
      "execution_count": 0,
      "outputs": []
    },
    {
      "cell_type": "code",
      "metadata": {
        "id": "gqWXWdhfAycN",
        "colab_type": "code",
        "outputId": "33bb865a-ffbb-4104-9c8b-9fb7c9150359",
        "colab": {
          "base_uri": "https://localhost:8080/",
          "height": 34
        }
      },
      "source": [
        "lst.sort()\n",
        "print(lst)"
      ],
      "execution_count": 17,
      "outputs": [
        {
          "output_type": "stream",
          "text": [
            "[2, 3, 4, 7, 10, 41, 283, 293]\n"
          ],
          "name": "stdout"
        }
      ]
    },
    {
      "cell_type": "code",
      "metadata": {
        "id": "zTdxyIOjAum6",
        "colab_type": "code",
        "outputId": "48e05d17-a61f-42d9-811e-94a96f316101",
        "colab": {
          "base_uri": "https://localhost:8080/",
          "height": 34
        }
      },
      "source": [
        "lst.sort(reverse = True)\n",
        "print(lst)"
      ],
      "execution_count": 18,
      "outputs": [
        {
          "output_type": "stream",
          "text": [
            "[293, 283, 41, 10, 7, 4, 3, 2]\n"
          ],
          "name": "stdout"
        }
      ]
    },
    {
      "cell_type": "code",
      "metadata": {
        "id": "Ol1Hp2R-JIVc",
        "colab_type": "code",
        "outputId": "de4f83b1-9193-4b52-9a0d-2a805b848bc5",
        "colab": {
          "base_uri": "https://localhost:8080/",
          "height": 34
        }
      },
      "source": [
        "lst = [\"saga\",\"kakakaka\",\"gdgdgreger\",\"aaaaaaaaaaaaaaaaaaaaaaaaa\",\"AA\",\"C\"]\n",
        "lst.sort(key = len)\n",
        "print(lst)"
      ],
      "execution_count": 19,
      "outputs": [
        {
          "output_type": "stream",
          "text": [
            "['C', 'AA', 'saga', 'kakakaka', 'gdgdgreger', 'aaaaaaaaaaaaaaaaaaaaaaaaa']\n"
          ],
          "name": "stdout"
        }
      ]
    },
    {
      "cell_type": "code",
      "metadata": {
        "id": "xETv0PssASsU",
        "colab_type": "code",
        "outputId": "1b0dd061-f625-4ec3-a87d-e40bbab1d3c7",
        "colab": {
          "base_uri": "https://localhost:8080/",
          "height": 34
        }
      },
      "source": [
        "sorted(lst)\n",
        "sorted(lst,reverse=True)\n",
        "sorted(lst,key=len)"
      ],
      "execution_count": 20,
      "outputs": [
        {
          "output_type": "execute_result",
          "data": {
            "text/plain": [
              "['C', 'AA', 'saga', 'kakakaka', 'gdgdgreger', 'aaaaaaaaaaaaaaaaaaaaaaaaa']"
            ]
          },
          "metadata": {
            "tags": []
          },
          "execution_count": 20
        }
      ]
    },
    {
      "cell_type": "markdown",
      "metadata": {
        "id": "P8RjztrfKekS",
        "colab_type": "text"
      },
      "source": [
        "### Referencing Vs Copying :"
      ]
    },
    {
      "cell_type": "code",
      "metadata": {
        "id": "3Ch1DaTW_dhY",
        "colab_type": "code",
        "outputId": "54bb49b7-67b2-4552-ef16-02cb9682c582",
        "colab": {
          "base_uri": "https://localhost:8080/",
          "height": 85
        }
      },
      "source": [
        "num = [4,5,6,7]\n",
        "print(num)\n",
        "# create a second reference to the same list \n",
        "same_num =num\n",
        "print(same_num)\n",
        "same_num[0]=0 # modifies both 'num' and 'same_num'\n",
        "print(num)\n",
        "print(same_num)"
      ],
      "execution_count": 21,
      "outputs": [
        {
          "output_type": "stream",
          "text": [
            "[4, 5, 6, 7]\n",
            "[4, 5, 6, 7]\n",
            "[0, 5, 6, 7]\n",
            "[0, 5, 6, 7]\n"
          ],
          "name": "stdout"
        }
      ]
    },
    {
      "cell_type": "code",
      "metadata": {
        "id": "uXwEOmIEK2wH",
        "colab_type": "code",
        "outputId": "cd5b616c-5713-4c39-e2d2-48cb146418c8",
        "colab": {
          "base_uri": "https://localhost:8080/",
          "height": 34
        }
      },
      "source": [
        "# copy a list (two ways)\n",
        "new_num =num[:]\n",
        "new_num =list(num)\n",
        "# examine objects\n",
        "num is same_num # returns True (checks whether they are the same object)\n"
      ],
      "execution_count": 22,
      "outputs": [
        {
          "output_type": "execute_result",
          "data": {
            "text/plain": [
              "True"
            ]
          },
          "metadata": {
            "tags": []
          },
          "execution_count": 22
        }
      ]
    },
    {
      "cell_type": "code",
      "metadata": {
        "id": "kK2m9G_7LPRM",
        "colab_type": "code",
        "outputId": "c59bda71-3c5d-4188-9b43-b785787c5d8e",
        "colab": {
          "base_uri": "https://localhost:8080/",
          "height": 34
        }
      },
      "source": [
        "num is new_num # returns False \n"
      ],
      "execution_count": 23,
      "outputs": [
        {
          "output_type": "execute_result",
          "data": {
            "text/plain": [
              "False"
            ]
          },
          "metadata": {
            "tags": []
          },
          "execution_count": 23
        }
      ]
    },
    {
      "cell_type": "code",
      "metadata": {
        "id": "ES56vQnmLQiH",
        "colab_type": "code",
        "outputId": "530e7b12-69d6-47d3-ccf6-8e4ceb6746bd",
        "colab": {
          "base_uri": "https://localhost:8080/",
          "height": 34
        }
      },
      "source": [
        "num == same_num # returns True (checks whether they have the same contents)\n"
      ],
      "execution_count": 24,
      "outputs": [
        {
          "output_type": "execute_result",
          "data": {
            "text/plain": [
              "True"
            ]
          },
          "metadata": {
            "tags": []
          },
          "execution_count": 24
        }
      ]
    },
    {
      "cell_type": "code",
      "metadata": {
        "id": "PlVVZcA9LSAB",
        "colab_type": "code",
        "outputId": "20a5abfc-47b5-4636-f71b-927460330d9d",
        "colab": {
          "base_uri": "https://localhost:8080/",
          "height": 34
        }
      },
      "source": [
        "num ==new_num # returns True"
      ],
      "execution_count": 25,
      "outputs": [
        {
          "output_type": "execute_result",
          "data": {
            "text/plain": [
              "True"
            ]
          },
          "metadata": {
            "tags": []
          },
          "execution_count": 25
        }
      ]
    },
    {
      "cell_type": "markdown",
      "metadata": {
        "id": "gaWLeYbTM2oo",
        "colab_type": "text"
      },
      "source": [
        "### How To Convert A List To A String?\n"
      ]
    },
    {
      "cell_type": "code",
      "metadata": {
        "id": "sdEFlLDK-8z0",
        "colab_type": "code",
        "outputId": "dd73ba93-48a3-4ff9-a168-062d393a3240",
        "colab": {
          "base_uri": "https://localhost:8080/",
          "height": 68
        }
      },
      "source": [
        "lst = [\"My\",\"Name\",\"is\",\"Sagar\",\"Agrawal\"]\n",
        "print(lst)\n",
        "print(\"\")\n",
        "lst_to_string = \" \".join(lst)\n",
        "print(lst_to_string)"
      ],
      "execution_count": 26,
      "outputs": [
        {
          "output_type": "stream",
          "text": [
            "['My', 'Name', 'is', 'Sagar', 'Agrawal']\n",
            "\n",
            "My Name is Sagar Agrawal\n"
          ],
          "name": "stdout"
        }
      ]
    },
    {
      "cell_type": "code",
      "metadata": {
        "id": "KAFxXTEWNsJr",
        "colab_type": "code",
        "outputId": "aba46db6-13ef-47d2-e453-ccfa9361d74f",
        "colab": {
          "base_uri": "https://localhost:8080/",
          "height": 34
        }
      },
      "source": [
        "# List Of Integers to a String\n",
        "listOfNumbers = [1, 2, 3]\n",
        "strOfNumbers = ''.join(str(n) for n in listOfNumbers)\n",
        "print(strOfNumbers)"
      ],
      "execution_count": 27,
      "outputs": [
        {
          "output_type": "stream",
          "text": [
            "123\n"
          ],
          "name": "stdout"
        }
      ]
    },
    {
      "cell_type": "markdown",
      "metadata": {
        "id": "tH7SYwvVNaPW",
        "colab_type": "text"
      },
      "source": [
        "### How To Convert A string To A List?\n"
      ]
    },
    {
      "cell_type": "code",
      "metadata": {
        "id": "ikLRrSJENXs6",
        "colab_type": "code",
        "outputId": "a5f1fb35-b489-4529-9288-45410436159d",
        "colab": {
          "base_uri": "https://localhost:8080/",
          "height": 34
        }
      },
      "source": [
        "string_to_list = lst_to_string.split(\" \")\n",
        "print(string_to_list)"
      ],
      "execution_count": 28,
      "outputs": [
        {
          "output_type": "stream",
          "text": [
            "['My', 'Name', 'is', 'Sagar', 'Agrawal']\n"
          ],
          "name": "stdout"
        }
      ]
    },
    {
      "cell_type": "code",
      "metadata": {
        "id": "gDiKgmguNVwo",
        "colab_type": "code",
        "outputId": "d7fbbe59-7dc0-4805-d584-19d9f83b5b67",
        "colab": {
          "base_uri": "https://localhost:8080/",
          "height": 34
        }
      },
      "source": [
        "string_to_list = lst_to_string.split()\n",
        "print(string_to_list)"
      ],
      "execution_count": 29,
      "outputs": [
        {
          "output_type": "stream",
          "text": [
            "['My', 'Name', 'is', 'Sagar', 'Agrawal']\n"
          ],
          "name": "stdout"
        }
      ]
    },
    {
      "cell_type": "code",
      "metadata": {
        "id": "q_MbcooXOhE_",
        "colab_type": "code",
        "outputId": "031d0a6e-b7cc-450c-93e6-5055212d2f43",
        "colab": {
          "base_uri": "https://localhost:8080/",
          "height": 425
        }
      },
      "source": [
        "list(lst_to_string) #splitting alphabetically"
      ],
      "execution_count": 30,
      "outputs": [
        {
          "output_type": "execute_result",
          "data": {
            "text/plain": [
              "['M',\n",
              " 'y',\n",
              " ' ',\n",
              " 'N',\n",
              " 'a',\n",
              " 'm',\n",
              " 'e',\n",
              " ' ',\n",
              " 'i',\n",
              " 's',\n",
              " ' ',\n",
              " 'S',\n",
              " 'a',\n",
              " 'g',\n",
              " 'a',\n",
              " 'r',\n",
              " ' ',\n",
              " 'A',\n",
              " 'g',\n",
              " 'r',\n",
              " 'a',\n",
              " 'w',\n",
              " 'a',\n",
              " 'l']"
            ]
          },
          "metadata": {
            "tags": []
          },
          "execution_count": 30
        }
      ]
    },
    {
      "cell_type": "code",
      "metadata": {
        "id": "GBDzNi4LYUZN",
        "colab_type": "code",
        "colab": {}
      },
      "source": [
        ""
      ],
      "execution_count": 0,
      "outputs": []
    },
    {
      "cell_type": "markdown",
      "metadata": {
        "id": "N3QpXVRzPsuI",
        "colab_type": "text"
      },
      "source": [
        "### List Slicers : "
      ]
    },
    {
      "cell_type": "code",
      "metadata": {
        "id": "NtOe5B2COzim",
        "colab_type": "code",
        "colab": {}
      },
      "source": [
        ""
      ],
      "execution_count": 0,
      "outputs": []
    },
    {
      "cell_type": "markdown",
      "metadata": {
        "id": "UwlZeOzFXtjD",
        "colab_type": "text"
      },
      "source": [
        "### List Comprehensions :\n",
        "\n",
        "Syntax : output_list = [output_exp for var in input_list if (var satisfies this condition)]"
      ]
    },
    {
      "cell_type": "code",
      "metadata": {
        "id": "-TA7_U5iXvvo",
        "colab_type": "code",
        "colab": {}
      },
      "source": [
        "# Constructing output list WITHOUT \n",
        "# Using List comprehensions \n",
        "input_list = [1, 2, 3, 4, 4, 13, 6, 7, 7] \n",
        "  \n",
        "output_list = [] \n",
        "  \n",
        "# Using loop for constructing output list \n",
        "for var in input_list: \n",
        "    if var % 2 == 0: \n",
        "        output_list.append(var) \n",
        "  "
      ],
      "execution_count": 0,
      "outputs": []
    },
    {
      "cell_type": "code",
      "metadata": {
        "id": "hqDoGQlvX-9g",
        "colab_type": "code",
        "colab": {
          "base_uri": "https://localhost:8080/",
          "height": 34
        },
        "outputId": "fb702c47-42e3-4deb-d165-8d98c031efa0"
      },
      "source": [
        "output_list = [var for var in input_list if(var%2 == 0)]\n",
        "print(output_list)"
      ],
      "execution_count": 32,
      "outputs": [
        {
          "output_type": "stream",
          "text": [
            "[2, 4, 4, 6]\n"
          ],
          "name": "stdout"
        }
      ]
    },
    {
      "cell_type": "code",
      "metadata": {
        "id": "O2hX4vdXYMFX",
        "colab_type": "code",
        "colab": {}
      },
      "source": [
        ""
      ],
      "execution_count": 0,
      "outputs": []
    }
  ]
}