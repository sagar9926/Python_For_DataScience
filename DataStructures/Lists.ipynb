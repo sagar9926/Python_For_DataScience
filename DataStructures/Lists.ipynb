{
  "nbformat": 4,
  "nbformat_minor": 0,
  "metadata": {
    "colab": {
      "name": "Lists.ipynb",
      "version": "0.3.2",
      "provenance": [],
      "include_colab_link": true
    },
    "kernelspec": {
      "name": "python3",
      "display_name": "Python 3"
    }
  },
  "cells": [
    {
      "cell_type": "markdown",
      "metadata": {
        "id": "view-in-github",
        "colab_type": "text"
      },
      "source": [
        "<a href=\"https://colab.research.google.com/github/sagar9926/Python_For_DataScience/blob/master/DataStructures/Lists.ipynb\" target=\"_parent\"><img src=\"https://colab.research.google.com/assets/colab-badge.svg\" alt=\"Open In Colab\"/></a>"
      ]
    },
    {
      "cell_type": "markdown",
      "metadata": {
        "id": "ml6QZkhcvXWz",
        "colab_type": "text"
      },
      "source": [
        "##Lists :\n",
        "\n",
        "* A list is a data structure in Python that is a mutable, or changeable\n",
        "* Lists are collection of items (Strings, integers or even other lists)\n",
        "* In Python lists are written with square brackets.\n",
        "* List in python are used to store  hetereogeneous elements\n",
        "\n",
        "\n",
        "### Summary :\n",
        "\n",
        "### Lists Properties : ordered, iterable, mutable, can contain multiple data types\n"
      ]
    },
    {
      "cell_type": "markdown",
      "metadata": {
        "id": "vq2FpCrUwnbs",
        "colab_type": "text"
      },
      "source": [
        "## Creating a list :\n"
      ]
    },
    {
      "cell_type": "code",
      "metadata": {
        "id": "UWZPUwdguREb",
        "colab_type": "code",
        "colab": {
          "base_uri": "https://localhost:8080/",
          "height": 34
        },
        "outputId": "c6b94ec5-5d70-4056-d8c6-aac577630c27"
      },
      "source": [
        "# create an empty list (two ways)\n",
        "empty_list =[]\n",
        "empty_list =list()\n",
        "\n",
        "# create a listsimpsons =['homer','marge','bart']\n",
        "\n",
        "lst1 = ['My', 'name', 'is', 'Sagar'] # list of strings\n",
        "\n",
        "lst2 = [1, 2, 3, 4] #list of integers\n",
        "\n",
        "lst3 = [[1, 2], [3, 4]] # list of lists\n",
        "\n",
        "lst4 = [1, 'ramu', 24, 1.24] # list of different datatypes\n",
        "\n",
        "print(lst4)\n"
      ],
      "execution_count": 1,
      "outputs": [
        {
          "output_type": "stream",
          "text": [
            "[1, 'ramu', 24, 1.24]\n"
          ],
          "name": "stdout"
        }
      ]
    },
    {
      "cell_type": "markdown",
      "metadata": {
        "id": "WIJFsjoI2-gP",
        "colab_type": "text"
      },
      "source": [
        "### What is meant by a list being mutable ?\n",
        "### Lists are ordered and mutable which means that we can change their content without changing their identity\n"
      ]
    },
    {
      "cell_type": "code",
      "metadata": {
        "id": "qxqm3WQr5DYj",
        "colab_type": "code",
        "colab": {
          "base_uri": "https://localhost:8080/",
          "height": 34
        },
        "outputId": "196968c0-a03c-4772-b009-876a55e96630"
      },
      "source": [
        "#Mutability in lists\n",
        "lst4[0] = \"Sagar\"\n",
        "print(lst4)"
      ],
      "execution_count": 2,
      "outputs": [
        {
          "output_type": "stream",
          "text": [
            "['Sagar', 'ramu', 24, 1.24]\n"
          ],
          "name": "stdout"
        }
      ]
    },
    {
      "cell_type": "markdown",
      "metadata": {
        "id": "z1NwXBC431le",
        "colab_type": "text"
      },
      "source": [
        "### What is the utility of list being Ordered ?\n",
        "### Lists in Python store ordered collections of items or objects, we can say that they are sequence types, precisely because they behave like a sequence. Other types that are also considered to be sequence types are strings and tuples.\n",
        "\n",
        "### In simple words Sequence type  means that the program can iterate over them! This is why lists, strings, tuples, and sets are called “iterables”.\n",
        "\n"
      ]
    },
    {
      "cell_type": "markdown",
      "metadata": {
        "id": "T3go7kmuxKEf",
        "colab_type": "text"
      },
      "source": [
        "## Indexing Lists:\n",
        "\n",
        "* Each item in a list corresponds to an index number, which is an integer value, starting with the index number 0.\n",
        "\n",
        "| List Item  | My    | name          | is       | Sagar|\n",
        "| ------------- | ------------- |------------- | ------------- | ------------- |\n",
        "| Index value(from Beginning) | 0 | 1 | 2  |3|\n",
        "| Index value(from End)  | -4|-3| -2  |-1|"
      ]
    },
    {
      "cell_type": "code",
      "metadata": {
        "id": "pstwbSpdxAi8",
        "colab_type": "code",
        "colab": {
          "base_uri": "https://localhost:8080/",
          "height": 170
        },
        "outputId": "4dfb227d-52ce-4197-fb81-a571b7e73dd9"
      },
      "source": [
        "#Forward\n",
        "print(lst1[0])\n",
        "print(lst1[1])\n",
        "print(lst1[2])\n",
        "print(lst1[3])\n",
        "print(\"\")\n",
        "#Backward\n",
        "print(lst1[-1])\n",
        "print(lst1[-2])\n",
        "print(lst1[-3])\n",
        "print(lst1[-4])\n"
      ],
      "execution_count": 4,
      "outputs": [
        {
          "output_type": "stream",
          "text": [
            "My\n",
            "name\n",
            "is\n",
            "Sagar\n",
            "\n",
            "Sagar\n",
            "is\n",
            "name\n",
            "My\n"
          ],
          "name": "stdout"
        }
      ]
    },
    {
      "cell_type": "markdown",
      "metadata": {
        "id": "6wJ6niHY6J06",
        "colab_type": "text"
      },
      "source": [
        "### Functions on lists : \n"
      ]
    },
    {
      "cell_type": "code",
      "metadata": {
        "id": "MD-K_1DCzLJ0",
        "colab_type": "code",
        "colab": {
          "base_uri": "https://localhost:8080/",
          "height": 34
        },
        "outputId": "6b4b0564-f3d0-4113-af64-6bc8ff8b0fd8"
      },
      "source": [
        "#Length of list\n",
        "\n",
        "print(\"Length of list :{}\".format(len(lst4)))\n"
      ],
      "execution_count": 5,
      "outputs": [
        {
          "output_type": "stream",
          "text": [
            "Length of list :4\n"
          ],
          "name": "stdout"
        }
      ]
    },
    {
      "cell_type": "markdown",
      "metadata": {
        "id": "2JTlU2rl8WAj",
        "colab_type": "text"
      },
      "source": [
        "### Functions which modifies a list(does not return lists):\n"
      ]
    },
    {
      "cell_type": "code",
      "metadata": {
        "id": "hnPC34VazIT3",
        "colab_type": "code",
        "colab": {
          "base_uri": "https://localhost:8080/",
          "height": 51
        },
        "outputId": "78e1bd0f-030b-48b6-a4e4-c2f0ff508543"
      },
      "source": [
        "# append \n",
        "print(lst4)\n",
        "lst4.append(5)\n",
        "print(lst4)"
      ],
      "execution_count": 6,
      "outputs": [
        {
          "output_type": "stream",
          "text": [
            "['Sagar', 'ramu', 24, 1.24]\n",
            "['Sagar', 'ramu', 24, 1.24, 5]\n"
          ],
          "name": "stdout"
        }
      ]
    },
    {
      "cell_type": "code",
      "metadata": {
        "id": "yK6D1oLly9SJ",
        "colab_type": "code",
        "colab": {
          "base_uri": "https://localhost:8080/",
          "height": 231
        },
        "outputId": "05a8ef87-044f-4a0e-bc2b-30c866968360"
      },
      "source": [
        "#Extend \n",
        "\n",
        "print(lst4)\n",
        "lst4.extend(5)\n",
        "print(lst4)\n",
        "\n"
      ],
      "execution_count": 10,
      "outputs": [
        {
          "output_type": "stream",
          "text": [
            "['Sagar', 'ramu', 24, 1.24, 5, 5]\n"
          ],
          "name": "stdout"
        },
        {
          "output_type": "error",
          "ename": "TypeError",
          "evalue": "ignored",
          "traceback": [
            "\u001b[0;31m---------------------------------------------------------------------------\u001b[0m",
            "\u001b[0;31mTypeError\u001b[0m                                 Traceback (most recent call last)",
            "\u001b[0;32m<ipython-input-10-f90bc963a126>\u001b[0m in \u001b[0;36m<module>\u001b[0;34m()\u001b[0m\n\u001b[1;32m      1\u001b[0m \u001b[0;34m\u001b[0m\u001b[0m\n\u001b[1;32m      2\u001b[0m \u001b[0mprint\u001b[0m\u001b[0;34m(\u001b[0m\u001b[0mlst4\u001b[0m\u001b[0;34m)\u001b[0m\u001b[0;34m\u001b[0m\u001b[0;34m\u001b[0m\u001b[0m\n\u001b[0;32m----> 3\u001b[0;31m \u001b[0mlst4\u001b[0m\u001b[0;34m.\u001b[0m\u001b[0mextend\u001b[0m\u001b[0;34m(\u001b[0m\u001b[0;36m5\u001b[0m\u001b[0;34m)\u001b[0m\u001b[0;34m\u001b[0m\u001b[0;34m\u001b[0m\u001b[0m\n\u001b[0m\u001b[1;32m      4\u001b[0m \u001b[0mprint\u001b[0m\u001b[0;34m(\u001b[0m\u001b[0mlst4\u001b[0m\u001b[0;34m)\u001b[0m\u001b[0;34m\u001b[0m\u001b[0;34m\u001b[0m\u001b[0m\n",
            "\u001b[0;31mTypeError\u001b[0m: 'int' object is not iterable"
          ]
        }
      ]
    },
    {
      "cell_type": "markdown",
      "metadata": {
        "id": "IxFrClgh9kEq",
        "colab_type": "text"
      },
      "source": [
        "### Difference between append() and extend():-\n",
        "\n",
        "### append(): Adds its argument as a single element to the end of a list. The length of the list increases by one.\n",
        "\n",
        "### extend(): Iterates over its argument and adding each element to the list and extending the list. The length of the list increases by number of elements in it’s argument."
      ]
    },
    {
      "cell_type": "code",
      "metadata": {
        "id": "FVGvNnsI86JL",
        "colab_type": "code",
        "colab": {
          "base_uri": "https://localhost:8080/",
          "height": 102
        },
        "outputId": "507ac2a1-bf91-4896-bf0a-75d74e404c37"
      },
      "source": [
        "#append() Examples\n",
        "\n",
        "test = [1,2,3,4]\n",
        "\n",
        "print(test)\n",
        "print(len(test))\n",
        "\n",
        "test.append(\"sagar\") #appending a string\n",
        "print(test)\n",
        "print(len(test))\n",
        "\n",
        "test.append([\"kumar\",\"Agrawal\"]) # appending a list in a list\n",
        "print(test)\n",
        "print(len(test))"
      ],
      "execution_count": 12,
      "outputs": [
        {
          "output_type": "stream",
          "text": [
            "[1, 2, 3, 4]\n",
            "[1, 2, 3, 4, 'sagar']\n",
            "5\n",
            "[1, 2, 3, 4, 'sagar', ['kumar', 'Agrawal']]\n",
            "6\n"
          ],
          "name": "stdout"
        }
      ]
    },
    {
      "cell_type": "markdown",
      "metadata": {
        "id": "cm0jjAYs_G_b",
        "colab_type": "text"
      },
      "source": [
        "**Clearly from above example we can see that the append always increases the length of string by 1 element**"
      ]
    },
    {
      "cell_type": "code",
      "metadata": {
        "id": "T4yrUM2J_FW4",
        "colab_type": "code",
        "colab": {
          "base_uri": "https://localhost:8080/",
          "height": 119
        },
        "outputId": "7bc79038-edcb-4043-fe37-1603a427abde"
      },
      "source": [
        "#extend() Examples\n",
        "\n",
        "test = [1,2,3,4]\n",
        "\n",
        "print(test)\n",
        "print(len(test))\n",
        "\n",
        "\n",
        "test.extend(\"Sagar\") #appending a string\n",
        "print(test)\n",
        "print(len(test))\n",
        "\n",
        "test.extend([\"Kumar\",\"Agrawal\"]) # appending a list in a list\n",
        "print(test)\n",
        "print(len(test))"
      ],
      "execution_count": 15,
      "outputs": [
        {
          "output_type": "stream",
          "text": [
            "[1, 2, 3, 4]\n",
            "4\n",
            "[1, 2, 3, 4, 'S', 'a', 'g', 'a', 'r']\n",
            "9\n",
            "[1, 2, 3, 4, 'S', 'a', 'g', 'a', 'r', 'Kumar', 'Agrawal']\n",
            "11\n"
          ],
          "name": "stdout"
        }
      ]
    },
    {
      "cell_type": "markdown",
      "metadata": {
        "id": "5odtkGyt_xj4",
        "colab_type": "text"
      },
      "source": [
        "### Insert : \n",
        "### The insert() function takes two parameters:\n",
        "\n",
        "\n",
        "\n",
        "*   index - position where an element needs to be inserted\n",
        "*   element - this is the element to be inserted in the list\n",
        "\n",
        "\n"
      ]
    },
    {
      "cell_type": "code",
      "metadata": {
        "id": "fDp3Fzm9_hQ3",
        "colab_type": "code",
        "colab": {
          "base_uri": "https://localhost:8080/",
          "height": 85
        },
        "outputId": "e882648e-cb22-4156-b2ec-8345677de443"
      },
      "source": [
        "lst = [1,2,3,4]\n",
        "print(lst)\n",
        "lst.insert(0,'sagar') # insert element at index 0 (shifts everything right)\n",
        "print(lst)\n",
        "lst.insert(-1,\"agrawal\")\n",
        "print(lst)\n",
        "lst.insert(-1,\"agrawal\")\n",
        "print(lst)"
      ],
      "execution_count": 21,
      "outputs": [
        {
          "output_type": "stream",
          "text": [
            "[1, 2, 3, 4]\n",
            "['sagar', 1, 2, 3, 4]\n",
            "['sagar', 1, 2, 3, 'agrawal', 4]\n",
            "['sagar', 1, 2, 3, 'agrawal', 'agrawal', 4]\n"
          ],
          "name": "stdout"
        }
      ]
    },
    {
      "cell_type": "code",
      "metadata": {
        "id": "teLnaTEuAdb8",
        "colab_type": "code",
        "colab": {
          "base_uri": "https://localhost:8080/",
          "height": 51
        },
        "outputId": "0f4e2537-bd8a-4c23-a69f-4d5cfedf9e97"
      },
      "source": [
        "print(lst)\n",
        "lst.remove('agrawal')# search for first instance and remove it\n",
        "\n",
        "print(lst)"
      ],
      "execution_count": 22,
      "outputs": [
        {
          "output_type": "stream",
          "text": [
            "['sagar', 1, 2, 3, 'agrawal', 'agrawal', 4]\n",
            "['sagar', 1, 2, 3, 'agrawal', 4]\n"
          ],
          "name": "stdout"
        }
      ]
    },
    {
      "cell_type": "code",
      "metadata": {
        "id": "gqWXWdhfAycN",
        "colab_type": "code",
        "colab": {}
      },
      "source": [
        ""
      ],
      "execution_count": 0,
      "outputs": []
    },
    {
      "cell_type": "code",
      "metadata": {
        "id": "zTdxyIOjAum6",
        "colab_type": "code",
        "colab": {}
      },
      "source": [
        ""
      ],
      "execution_count": 0,
      "outputs": []
    },
    {
      "cell_type": "code",
      "metadata": {
        "id": "xETv0PssASsU",
        "colab_type": "code",
        "colab": {}
      },
      "source": [
        ""
      ],
      "execution_count": 0,
      "outputs": []
    },
    {
      "cell_type": "code",
      "metadata": {
        "id": "3Ch1DaTW_dhY",
        "colab_type": "code",
        "colab": {}
      },
      "source": [
        ""
      ],
      "execution_count": 0,
      "outputs": []
    },
    {
      "cell_type": "code",
      "metadata": {
        "id": "sdEFlLDK-8z0",
        "colab_type": "code",
        "colab": {}
      },
      "source": [
        ""
      ],
      "execution_count": 0,
      "outputs": []
    }
  ]
}