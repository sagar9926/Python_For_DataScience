{
  "nbformat": 4,
  "nbformat_minor": 0,
  "metadata": {
    "colab": {
      "name": "Lists.ipynb",
      "version": "0.3.2",
      "provenance": [],
      "include_colab_link": true
    },
    "kernelspec": {
      "name": "python3",
      "display_name": "Python 3"
    }
  },
  "cells": [
    {
      "cell_type": "markdown",
      "metadata": {
        "id": "view-in-github",
        "colab_type": "text"
      },
      "source": [
        "<a href=\"https://colab.research.google.com/github/sagar9926/Python_For_DataScience/blob/master/DataStructures/Lists.ipynb\" target=\"_parent\"><img src=\"https://colab.research.google.com/assets/colab-badge.svg\" alt=\"Open In Colab\"/></a>"
      ]
    },
    {
      "cell_type": "markdown",
      "metadata": {
        "id": "ml6QZkhcvXWz",
        "colab_type": "text"
      },
      "source": [
        "##Lists :\n",
        "\n",
        "* A list is a data structure in Python that is a mutable, or changeable\n",
        "* Lists are collection of items (Strings, integers or even other lists)\n",
        "* In Python lists are written with square brackets.\n",
        "* List in python are used to store  hetereogeneous elements\n",
        "\n",
        "\n",
        "### Summary :\n",
        "\n",
        "### Lists Properties : ordered, iterable, mutable, can contain multiple data types\n"
      ]
    },
    {
      "cell_type": "markdown",
      "metadata": {
        "id": "vq2FpCrUwnbs",
        "colab_type": "text"
      },
      "source": [
        "## Creating a list :\n"
      ]
    },
    {
      "cell_type": "code",
      "metadata": {
        "id": "UWZPUwdguREb",
        "colab_type": "code",
        "colab": {
          "base_uri": "https://localhost:8080/",
          "height": 34
        },
        "outputId": "c6b94ec5-5d70-4056-d8c6-aac577630c27"
      },
      "source": [
        "# create an empty list (two ways)\n",
        "empty_list =[]\n",
        "empty_list =list()\n",
        "\n",
        "# create a listsimpsons =['homer','marge','bart']\n",
        "\n",
        "lst1 = ['My', 'name', 'is', 'Sagar'] # list of strings\n",
        "\n",
        "lst2 = [1, 2, 3, 4] #list of integers\n",
        "\n",
        "lst3 = [[1, 2], [3, 4]] # list of lists\n",
        "\n",
        "lst4 = [1, 'ramu', 24, 1.24] # list of different datatypes\n",
        "\n",
        "print(lst4)\n"
      ],
      "execution_count": 1,
      "outputs": [
        {
          "output_type": "stream",
          "text": [
            "[1, 'ramu', 24, 1.24]\n"
          ],
          "name": "stdout"
        }
      ]
    },
    {
      "cell_type": "markdown",
      "metadata": {
        "id": "WIJFsjoI2-gP",
        "colab_type": "text"
      },
      "source": [
        "### What is meant by a list being mutable ?\n",
        "### Lists are ordered and mutable which means that we can change their content without changing their identity\n"
      ]
    },
    {
      "cell_type": "code",
      "metadata": {
        "id": "qxqm3WQr5DYj",
        "colab_type": "code",
        "colab": {
          "base_uri": "https://localhost:8080/",
          "height": 34
        },
        "outputId": "196968c0-a03c-4772-b009-876a55e96630"
      },
      "source": [
        "#Mutability in lists\n",
        "lst4[0] = \"Sagar\"\n",
        "print(lst4)"
      ],
      "execution_count": 2,
      "outputs": [
        {
          "output_type": "stream",
          "text": [
            "['Sagar', 'ramu', 24, 1.24]\n"
          ],
          "name": "stdout"
        }
      ]
    },
    {
      "cell_type": "markdown",
      "metadata": {
        "id": "z1NwXBC431le",
        "colab_type": "text"
      },
      "source": [
        "### What is the utility of list being Ordered ?\n",
        "### Lists in Python store ordered collections of items or objects, we can say that they are sequence types, precisely because they behave like a sequence. Other types that are also considered to be sequence types are strings and tuples.\n",
        "\n",
        "### In simple words Sequence type  means that the program can iterate over them! This is why lists, strings, tuples, and sets are called “iterables”.\n",
        "\n"
      ]
    },
    {
      "cell_type": "markdown",
      "metadata": {
        "id": "T3go7kmuxKEf",
        "colab_type": "text"
      },
      "source": [
        "## Indexing Lists:\n",
        "\n",
        "* Each item in a list corresponds to an index number, which is an integer value, starting with the index number 0.\n",
        "\n",
        "| List Item  | My    | name          | is       | Sagar|\n",
        "| ------------- | ------------- |------------- | ------------- | ------------- |\n",
        "| Index value(from Beginning) | 0 | 1 | 2  |3|\n",
        "| Index value(from End)  | -4|-3| -2  |-1|"
      ]
    },
    {
      "cell_type": "code",
      "metadata": {
        "id": "pstwbSpdxAi8",
        "colab_type": "code",
        "colab": {
          "base_uri": "https://localhost:8080/",
          "height": 170
        },
        "outputId": "4dfb227d-52ce-4197-fb81-a571b7e73dd9"
      },
      "source": [
        "#Forward\n",
        "print(lst1[0])\n",
        "print(lst1[1])\n",
        "print(lst1[2])\n",
        "print(lst1[3])\n",
        "print(\"\")\n",
        "#Backward\n",
        "print(lst1[-1])\n",
        "print(lst1[-2])\n",
        "print(lst1[-3])\n",
        "print(lst1[-4])\n"
      ],
      "execution_count": 4,
      "outputs": [
        {
          "output_type": "stream",
          "text": [
            "My\n",
            "name\n",
            "is\n",
            "Sagar\n",
            "\n",
            "Sagar\n",
            "is\n",
            "name\n",
            "My\n"
          ],
          "name": "stdout"
        }
      ]
    },
    {
      "cell_type": "markdown",
      "metadata": {
        "id": "6wJ6niHY6J06",
        "colab_type": "text"
      },
      "source": [
        "### Functions on lists : \n"
      ]
    },
    {
      "cell_type": "code",
      "metadata": {
        "id": "MD-K_1DCzLJ0",
        "colab_type": "code",
        "colab": {
          "base_uri": "https://localhost:8080/",
          "height": 34
        },
        "outputId": "6b4b0564-f3d0-4113-af64-6bc8ff8b0fd8"
      },
      "source": [
        "#Length of list\n",
        "\n",
        "print(\"Length of list :{}\".format(len(lst4)))\n"
      ],
      "execution_count": 5,
      "outputs": [
        {
          "output_type": "stream",
          "text": [
            "Length of list :4\n"
          ],
          "name": "stdout"
        }
      ]
    },
    {
      "cell_type": "markdown",
      "metadata": {
        "id": "2JTlU2rl8WAj",
        "colab_type": "text"
      },
      "source": [
        "### Functions which modifies a list(does not return lists):\n"
      ]
    },
    {
      "cell_type": "code",
      "metadata": {
        "id": "hnPC34VazIT3",
        "colab_type": "code",
        "colab": {
          "base_uri": "https://localhost:8080/",
          "height": 51
        },
        "outputId": "78e1bd0f-030b-48b6-a4e4-c2f0ff508543"
      },
      "source": [
        "# append \n",
        "print(lst4)\n",
        "lst4.append(5)\n",
        "print(lst4)"
      ],
      "execution_count": 6,
      "outputs": [
        {
          "output_type": "stream",
          "text": [
            "['Sagar', 'ramu', 24, 1.24]\n",
            "['Sagar', 'ramu', 24, 1.24, 5]\n"
          ],
          "name": "stdout"
        }
      ]
    },
    {
      "cell_type": "code",
      "metadata": {
        "id": "yK6D1oLly9SJ",
        "colab_type": "code",
        "colab": {
          "base_uri": "https://localhost:8080/",
          "height": 231
        },
        "outputId": "05a8ef87-044f-4a0e-bc2b-30c866968360"
      },
      "source": [
        "#Extend \n",
        "\n",
        "print(lst4)\n",
        "lst4.extend(5)\n",
        "print(lst4)\n",
        "\n"
      ],
      "execution_count": 10,
      "outputs": [
        {
          "output_type": "stream",
          "text": [
            "['Sagar', 'ramu', 24, 1.24, 5, 5]\n"
          ],
          "name": "stdout"
        },
        {
          "output_type": "error",
          "ename": "TypeError",
          "evalue": "ignored",
          "traceback": [
            "\u001b[0;31m---------------------------------------------------------------------------\u001b[0m",
            "\u001b[0;31mTypeError\u001b[0m                                 Traceback (most recent call last)",
            "\u001b[0;32m<ipython-input-10-f90bc963a126>\u001b[0m in \u001b[0;36m<module>\u001b[0;34m()\u001b[0m\n\u001b[1;32m      1\u001b[0m \u001b[0;34m\u001b[0m\u001b[0m\n\u001b[1;32m      2\u001b[0m \u001b[0mprint\u001b[0m\u001b[0;34m(\u001b[0m\u001b[0mlst4\u001b[0m\u001b[0;34m)\u001b[0m\u001b[0;34m\u001b[0m\u001b[0;34m\u001b[0m\u001b[0m\n\u001b[0;32m----> 3\u001b[0;31m \u001b[0mlst4\u001b[0m\u001b[0;34m.\u001b[0m\u001b[0mextend\u001b[0m\u001b[0;34m(\u001b[0m\u001b[0;36m5\u001b[0m\u001b[0;34m)\u001b[0m\u001b[0;34m\u001b[0m\u001b[0;34m\u001b[0m\u001b[0m\n\u001b[0m\u001b[1;32m      4\u001b[0m \u001b[0mprint\u001b[0m\u001b[0;34m(\u001b[0m\u001b[0mlst4\u001b[0m\u001b[0;34m)\u001b[0m\u001b[0;34m\u001b[0m\u001b[0;34m\u001b[0m\u001b[0m\n",
            "\u001b[0;31mTypeError\u001b[0m: 'int' object is not iterable"
          ]
        }
      ]
    },
    {
      "cell_type": "markdown",
      "metadata": {
        "id": "IxFrClgh9kEq",
        "colab_type": "text"
      },
      "source": [
        "### Difference between append() and extend():-\n",
        "\n",
        "### append(): Adds its argument as a single element to the end of a list. The length of the list increases by one.\n",
        "\n",
        "### extend(): Iterates over its argument and adding each element to the list and extending the list. The length of the list increases by number of elements in it’s argument."
      ]
    },
    {
      "cell_type": "code",
      "metadata": {
        "id": "FVGvNnsI86JL",
        "colab_type": "code",
        "colab": {
          "base_uri": "https://localhost:8080/",
          "height": 102
        },
        "outputId": "507ac2a1-bf91-4896-bf0a-75d74e404c37"
      },
      "source": [
        "#append() Examples\n",
        "\n",
        "test = [1,2,3,4]\n",
        "\n",
        "print(test)\n",
        "print(len(test))\n",
        "\n",
        "test.append(\"sagar\") #appending a string\n",
        "print(test)\n",
        "print(len(test))\n",
        "\n",
        "test.append([\"kumar\",\"Agrawal\"]) # appending a list in a list\n",
        "print(test)\n",
        "print(len(test))"
      ],
      "execution_count": 12,
      "outputs": [
        {
          "output_type": "stream",
          "text": [
            "[1, 2, 3, 4]\n",
            "[1, 2, 3, 4, 'sagar']\n",
            "5\n",
            "[1, 2, 3, 4, 'sagar', ['kumar', 'Agrawal']]\n",
            "6\n"
          ],
          "name": "stdout"
        }
      ]
    },
    {
      "cell_type": "markdown",
      "metadata": {
        "id": "cm0jjAYs_G_b",
        "colab_type": "text"
      },
      "source": [
        "**Clearly from above example we can see that the append always increases the length of string by 1 element**"
      ]
    },
    {
      "cell_type": "code",
      "metadata": {
        "id": "T4yrUM2J_FW4",
        "colab_type": "code",
        "colab": {
          "base_uri": "https://localhost:8080/",
          "height": 153
        },
        "outputId": "14d4f9fb-208c-460c-b31f-d48fd3fc5a5d"
      },
      "source": [
        "#extend() Examples\n",
        "\n",
        "test = [1,2,3,4]\n",
        "\n",
        "print(test)\n",
        "print(len(test))\n",
        "\n",
        "\n",
        "test.extend(\"Sagar\") #appending a string\n",
        "print(test)\n",
        "print(len(test))\n",
        "\n",
        "test.extend([\"Kumar\",\"Agrawal\"]) # appending a list in a list\n",
        "print(test)\n",
        "print(len(test))\n",
        "\n",
        "test.extend([\"BUNNY\"]) # appending a list in a list\n",
        "print(test)\n",
        "print(len(test))"
      ],
      "execution_count": 23,
      "outputs": [
        {
          "output_type": "stream",
          "text": [
            "[1, 2, 3, 4]\n",
            "4\n",
            "[1, 2, 3, 4, 'S', 'a', 'g', 'a', 'r']\n",
            "9\n",
            "[1, 2, 3, 4, 'S', 'a', 'g', 'a', 'r', 'Kumar', 'Agrawal']\n",
            "11\n",
            "[1, 2, 3, 4, 'S', 'a', 'g', 'a', 'r', 'Kumar', 'Agrawal', 'BUNNY']\n",
            "12\n"
          ],
          "name": "stdout"
        }
      ]
    },
    {
      "cell_type": "markdown",
      "metadata": {
        "id": "5odtkGyt_xj4",
        "colab_type": "text"
      },
      "source": [
        "### Insert : \n",
        "### The insert() function takes two parameters:\n",
        "\n",
        "\n",
        "\n",
        "*   index - position where an element needs to be inserted\n",
        "*   element - this is the element to be inserted in the list\n",
        "\n",
        "\n"
      ]
    },
    {
      "cell_type": "code",
      "metadata": {
        "id": "fDp3Fzm9_hQ3",
        "colab_type": "code",
        "colab": {
          "base_uri": "https://localhost:8080/",
          "height": 85
        },
        "outputId": "5a7f8a76-e95f-4367-da0c-e4fb408e82bb"
      },
      "source": [
        "lst = [1,2,3,4]\n",
        "print(lst)\n",
        "lst.insert(0,'sagar') # insert element at index 0 (shifts everything right)\n",
        "print(lst)\n",
        "lst.insert(-1,\"agrawal\")\n",
        "print(lst)\n",
        "lst.insert(-1,\"agrawal\")\n",
        "print(lst)"
      ],
      "execution_count": 25,
      "outputs": [
        {
          "output_type": "stream",
          "text": [
            "[1, 2, 3, 4]\n",
            "['sagar', 1, 2, 3, 4]\n",
            "['sagar', 1, 2, 3, 'agrawal', 4]\n",
            "['sagar', 1, 2, 3, 'agrawal', 'agrawal', 4]\n"
          ],
          "name": "stdout"
        }
      ]
    },
    {
      "cell_type": "markdown",
      "metadata": {
        "id": "Jz-DIxKtF0US",
        "colab_type": "text"
      },
      "source": [
        "### remove() : search for first instance and remove it"
      ]
    },
    {
      "cell_type": "code",
      "metadata": {
        "id": "teLnaTEuAdb8",
        "colab_type": "code",
        "colab": {
          "base_uri": "https://localhost:8080/",
          "height": 51
        },
        "outputId": "d8358b31-44ff-4c2a-dae8-a83a05b5bde7"
      },
      "source": [
        "print(lst)\n",
        "lst.remove('agrawal')# search for first instance and remove it\n",
        "\n",
        "print(lst)"
      ],
      "execution_count": 26,
      "outputs": [
        {
          "output_type": "stream",
          "text": [
            "['sagar', 1, 2, 3, 'agrawal', 'agrawal', 4]\n",
            "['sagar', 1, 2, 3, 'agrawal', 4]\n"
          ],
          "name": "stdout"
        }
      ]
    },
    {
      "cell_type": "code",
      "metadata": {
        "id": "H1JR9J0VF7Q2",
        "colab_type": "code",
        "colab": {
          "base_uri": "https://localhost:8080/",
          "height": 85
        },
        "outputId": "6ec9eaf1-cf45-41af-bccf-1fbb72ab77f5"
      },
      "source": [
        "print(lst)\n",
        "x = lst.pop(0)# remove element 0 and return it\n",
        "print(\"popped element : {}\".format(x))\n",
        "print(lst)\n",
        "del lst[0]# remove element 0 (does not return it)\n",
        "print(lst)"
      ],
      "execution_count": 28,
      "outputs": [
        {
          "output_type": "stream",
          "text": [
            "[2, 3, 'agrawal', 4]\n",
            "popped element : 2\n",
            "[3, 'agrawal', 4]\n",
            "['agrawal', 4]\n"
          ],
          "name": "stdout"
        }
      ]
    },
    {
      "cell_type": "markdown",
      "metadata": {
        "id": "-B0Y5P0kGokV",
        "colab_type": "text"
      },
      "source": [
        "### in and not in list key words : "
      ]
    },
    {
      "cell_type": "code",
      "metadata": {
        "id": "YFIFdpfyGv78",
        "colab_type": "code",
        "colab": {
          "base_uri": "https://localhost:8080/",
          "height": 51
        },
        "outputId": "6595252b-0e72-4aea-b83c-85b09c8d62e2"
      },
      "source": [
        "#keyword 'in' is used to test if an item is in a list\n",
        "lst = [\"A\",\"B\",\"C\",\"D\"]\n",
        "\n",
        "if 'B' in lst:\n",
        "    print('deep')\n",
        "\n",
        "#keyword 'not' can combined with 'in'\n",
        "if 'E' not in lst:\n",
        "    print('learning')"
      ],
      "execution_count": 29,
      "outputs": [
        {
          "output_type": "stream",
          "text": [
            "deep\n",
            "learning\n"
          ],
          "name": "stdout"
        }
      ]
    },
    {
      "cell_type": "markdown",
      "metadata": {
        "id": "HS5QrvYcIwip",
        "colab_type": "text"
      },
      "source": [
        "### Sorting list:\n",
        "\n",
        "\n",
        "*   list_name.sort () : method sort's a list in place (modifies but does not return the list)\n",
        "*   sorted(list_name) : return a sorted list (does not modify the original list)\n",
        "\n"
      ]
    },
    {
      "cell_type": "code",
      "metadata": {
        "id": "WS5d1EKVGnp9",
        "colab_type": "code",
        "colab": {}
      },
      "source": [
        "lst = [10,283,4,7,293,3,2,41]"
      ],
      "execution_count": 0,
      "outputs": []
    },
    {
      "cell_type": "code",
      "metadata": {
        "id": "gqWXWdhfAycN",
        "colab_type": "code",
        "colab": {
          "base_uri": "https://localhost:8080/",
          "height": 34
        },
        "outputId": "4962f86c-6c33-4c10-8933-ce3af8f8e71c"
      },
      "source": [
        "lst.sort()\n",
        "print(lst)"
      ],
      "execution_count": 33,
      "outputs": [
        {
          "output_type": "stream",
          "text": [
            "[2, 3, 4, 7, 10, 41, 283, 293]\n"
          ],
          "name": "stdout"
        }
      ]
    },
    {
      "cell_type": "code",
      "metadata": {
        "id": "zTdxyIOjAum6",
        "colab_type": "code",
        "colab": {
          "base_uri": "https://localhost:8080/",
          "height": 34
        },
        "outputId": "ba4a694a-0120-4339-a49f-4ee47cf159c8"
      },
      "source": [
        "lst.sort(reverse = True)\n",
        "print(lst)"
      ],
      "execution_count": 34,
      "outputs": [
        {
          "output_type": "stream",
          "text": [
            "[293, 283, 41, 10, 7, 4, 3, 2]\n"
          ],
          "name": "stdout"
        }
      ]
    },
    {
      "cell_type": "code",
      "metadata": {
        "id": "Ol1Hp2R-JIVc",
        "colab_type": "code",
        "colab": {
          "base_uri": "https://localhost:8080/",
          "height": 34
        },
        "outputId": "cbb833ea-da8b-4705-c753-77ca67954101"
      },
      "source": [
        "lst = [\"saga\",\"kakakaka\",\"gdgdgreger\",\"aaaaaaaaaaaaaaaaaaaaaaaaa\",\"AA\",\"C\"]\n",
        "lst.sort(key = len)\n",
        "print(lst)"
      ],
      "execution_count": 37,
      "outputs": [
        {
          "output_type": "stream",
          "text": [
            "['C', 'AA', 'saga', 'kakakaka', 'gdgdgreger', 'aaaaaaaaaaaaaaaaaaaaaaaaa']\n"
          ],
          "name": "stdout"
        }
      ]
    },
    {
      "cell_type": "code",
      "metadata": {
        "id": "xETv0PssASsU",
        "colab_type": "code",
        "colab": {
          "base_uri": "https://localhost:8080/",
          "height": 34
        },
        "outputId": "8b60d5f7-ee60-4a95-e4cb-33680b539089"
      },
      "source": [
        "sorted(lst)\n",
        "sorted(lst,reverse=True)\n",
        "sorted(lst,key=len)"
      ],
      "execution_count": 39,
      "outputs": [
        {
          "output_type": "execute_result",
          "data": {
            "text/plain": [
              "['C', 'AA', 'saga', 'kakakaka', 'gdgdgreger', 'aaaaaaaaaaaaaaaaaaaaaaaaa']"
            ]
          },
          "metadata": {
            "tags": []
          },
          "execution_count": 39
        }
      ]
    },
    {
      "cell_type": "markdown",
      "metadata": {
        "id": "P8RjztrfKekS",
        "colab_type": "text"
      },
      "source": [
        "### Referencing Vs Copying :"
      ]
    },
    {
      "cell_type": "code",
      "metadata": {
        "id": "3Ch1DaTW_dhY",
        "colab_type": "code",
        "colab": {
          "base_uri": "https://localhost:8080/",
          "height": 85
        },
        "outputId": "5b7e2998-2f75-41a2-88cc-0828cee5c4a9"
      },
      "source": [
        "num = [4,5,6,7]\n",
        "print(num)\n",
        "# create a second reference to the same list \n",
        "same_num =num\n",
        "print(same_num)\n",
        "same_num[0]=0 # modifies both 'num' and 'same_num'\n",
        "print(num)\n",
        "print(same_num)"
      ],
      "execution_count": 40,
      "outputs": [
        {
          "output_type": "stream",
          "text": [
            "[4, 5, 6, 7]\n",
            "[4, 5, 6, 7]\n",
            "[0, 5, 6, 7]\n",
            "[0, 5, 6, 7]\n"
          ],
          "name": "stdout"
        }
      ]
    },
    {
      "cell_type": "code",
      "metadata": {
        "id": "uXwEOmIEK2wH",
        "colab_type": "code",
        "colab": {
          "base_uri": "https://localhost:8080/",
          "height": 34
        },
        "outputId": "5497b8a6-0269-4d33-ff02-35b2595c0767"
      },
      "source": [
        "# copy a list (two ways)\n",
        "new_num =num[:]\n",
        "new_num =list(num)\n",
        "# examine objects\n",
        "num is same_num # returns True (checks whether they are the same object)\n"
      ],
      "execution_count": 41,
      "outputs": [
        {
          "output_type": "execute_result",
          "data": {
            "text/plain": [
              "True"
            ]
          },
          "metadata": {
            "tags": []
          },
          "execution_count": 41
        }
      ]
    },
    {
      "cell_type": "code",
      "metadata": {
        "id": "kK2m9G_7LPRM",
        "colab_type": "code",
        "colab": {
          "base_uri": "https://localhost:8080/",
          "height": 34
        },
        "outputId": "bece0866-8385-458e-e4c4-b5edbdf3e03f"
      },
      "source": [
        "num is new_num # returns False \n"
      ],
      "execution_count": 42,
      "outputs": [
        {
          "output_type": "execute_result",
          "data": {
            "text/plain": [
              "False"
            ]
          },
          "metadata": {
            "tags": []
          },
          "execution_count": 42
        }
      ]
    },
    {
      "cell_type": "code",
      "metadata": {
        "id": "ES56vQnmLQiH",
        "colab_type": "code",
        "colab": {
          "base_uri": "https://localhost:8080/",
          "height": 34
        },
        "outputId": "2b0aaaa3-75c4-4e83-ddc6-7d1da137a719"
      },
      "source": [
        "num == same_num # returns True (checks whether they have the same contents)\n"
      ],
      "execution_count": 43,
      "outputs": [
        {
          "output_type": "execute_result",
          "data": {
            "text/plain": [
              "True"
            ]
          },
          "metadata": {
            "tags": []
          },
          "execution_count": 43
        }
      ]
    },
    {
      "cell_type": "code",
      "metadata": {
        "id": "PlVVZcA9LSAB",
        "colab_type": "code",
        "colab": {
          "base_uri": "https://localhost:8080/",
          "height": 34
        },
        "outputId": "959a9066-18e8-4d2c-fd26-bc8031079d32"
      },
      "source": [
        "num ==new_num # returns True"
      ],
      "execution_count": 44,
      "outputs": [
        {
          "output_type": "execute_result",
          "data": {
            "text/plain": [
              "True"
            ]
          },
          "metadata": {
            "tags": []
          },
          "execution_count": 44
        }
      ]
    },
    {
      "cell_type": "markdown",
      "metadata": {
        "id": "gaWLeYbTM2oo",
        "colab_type": "text"
      },
      "source": [
        "### How To Convert A List To A String?\n"
      ]
    },
    {
      "cell_type": "code",
      "metadata": {
        "id": "sdEFlLDK-8z0",
        "colab_type": "code",
        "colab": {
          "base_uri": "https://localhost:8080/",
          "height": 68
        },
        "outputId": "6be33d16-7780-43d0-a1be-16dbeaeb7c8c"
      },
      "source": [
        "lst = [\"My\",\"Name\",\"is\",\"Sagar\",\"Agrawal\"]\n",
        "print(lst)\n",
        "print(\"\")\n",
        "lst_to_string = \" \".join(lst)\n",
        "print(lst_to_string)"
      ],
      "execution_count": 58,
      "outputs": [
        {
          "output_type": "stream",
          "text": [
            "['My', 'Name', 'is', 'Sagar', 'Agrawal']\n",
            "\n",
            "My Name is Sagar Agrawal\n"
          ],
          "name": "stdout"
        }
      ]
    },
    {
      "cell_type": "code",
      "metadata": {
        "id": "KAFxXTEWNsJr",
        "colab_type": "code",
        "colab": {
          "base_uri": "https://localhost:8080/",
          "height": 34
        },
        "outputId": "1417ec46-cad0-4144-ac00-5e31b6366940"
      },
      "source": [
        "# List Of Integers to a String\n",
        "listOfNumbers = [1, 2, 3]\n",
        "strOfNumbers = ''.join(str(n) for n in listOfNumbers)\n",
        "print(strOfNumbers)"
      ],
      "execution_count": 52,
      "outputs": [
        {
          "output_type": "stream",
          "text": [
            "123\n"
          ],
          "name": "stdout"
        }
      ]
    },
    {
      "cell_type": "markdown",
      "metadata": {
        "id": "tH7SYwvVNaPW",
        "colab_type": "text"
      },
      "source": [
        "### How To Convert A string To A List?\n"
      ]
    },
    {
      "cell_type": "code",
      "metadata": {
        "id": "ikLRrSJENXs6",
        "colab_type": "code",
        "colab": {
          "base_uri": "https://localhost:8080/",
          "height": 34
        },
        "outputId": "4bbe6967-f94f-4cae-9fd3-89ba94eafc9b"
      },
      "source": [
        "string_to_list = lst_to_string.split(\" \")\n",
        "print(string_to_list)"
      ],
      "execution_count": 54,
      "outputs": [
        {
          "output_type": "stream",
          "text": [
            "['My', 'Name', 'is', 'Sagar', 'Agrawal']\n"
          ],
          "name": "stdout"
        }
      ]
    },
    {
      "cell_type": "code",
      "metadata": {
        "id": "gDiKgmguNVwo",
        "colab_type": "code",
        "colab": {
          "base_uri": "https://localhost:8080/",
          "height": 34
        },
        "outputId": "785ec956-aad6-4c8a-9f92-004f9d46afed"
      },
      "source": [
        "string_to_list = lst_to_string.split()\n",
        "print(string_to_list)"
      ],
      "execution_count": 56,
      "outputs": [
        {
          "output_type": "stream",
          "text": [
            "['My', 'Name', 'is', 'Sagar', 'Agrawal']\n"
          ],
          "name": "stdout"
        }
      ]
    },
    {
      "cell_type": "code",
      "metadata": {
        "id": "q_MbcooXOhE_",
        "colab_type": "code",
        "colab": {
          "base_uri": "https://localhost:8080/",
          "height": 425
        },
        "outputId": "98791e93-d32f-4f75-93c9-516e958ada40"
      },
      "source": [
        "list(lst_to_string) #splitting alphabetically"
      ],
      "execution_count": 59,
      "outputs": [
        {
          "output_type": "execute_result",
          "data": {
            "text/plain": [
              "['M',\n",
              " 'y',\n",
              " ' ',\n",
              " 'N',\n",
              " 'a',\n",
              " 'm',\n",
              " 'e',\n",
              " ' ',\n",
              " 'i',\n",
              " 's',\n",
              " ' ',\n",
              " 'S',\n",
              " 'a',\n",
              " 'g',\n",
              " 'a',\n",
              " 'r',\n",
              " ' ',\n",
              " 'A',\n",
              " 'g',\n",
              " 'r',\n",
              " 'a',\n",
              " 'w',\n",
              " 'a',\n",
              " 'l']"
            ]
          },
          "metadata": {
            "tags": []
          },
          "execution_count": 59
        }
      ]
    },
    {
      "cell_type": "markdown",
      "metadata": {
        "id": "N3QpXVRzPsuI",
        "colab_type": "text"
      },
      "source": [
        "### List Slicers : "
      ]
    },
    {
      "cell_type": "code",
      "metadata": {
        "id": "NtOe5B2COzim",
        "colab_type": "code",
        "colab": {}
      },
      "source": [
        ""
      ],
      "execution_count": 0,
      "outputs": []
    }
  ]
}