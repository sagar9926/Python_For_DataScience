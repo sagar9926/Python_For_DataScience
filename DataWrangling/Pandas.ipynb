{
  "nbformat": 4,
  "nbformat_minor": 0,
  "metadata": {
    "colab": {
      "name": "Pandas.ipynb",
      "version": "0.3.2",
      "provenance": [],
      "include_colab_link": true
    },
    "kernelspec": {
      "name": "python3",
      "display_name": "Python 3"
    }
  },
  "cells": [
    {
      "cell_type": "markdown",
      "metadata": {
        "id": "view-in-github",
        "colab_type": "text"
      },
      "source": [
        "<a href=\"https://colab.research.google.com/github/sagar9926/Python_For_DataScience/blob/master/DataWrangling/Pandas.ipynb\" target=\"_parent\"><img src=\"https://colab.research.google.com/assets/colab-badge.svg\" alt=\"Open In Colab\"/></a>"
      ]
    },
    {
      "cell_type": "markdown",
      "metadata": {
        "id": "qpRbEqX5ZcrP",
        "colab_type": "text"
      },
      "source": [
        "### Creating a data frame using lists :"
      ]
    },
    {
      "cell_type": "code",
      "metadata": {
        "id": "ZASZeoHYahBc",
        "colab_type": "code",
        "colab": {}
      },
      "source": [
        "import pandas as pd"
      ],
      "execution_count": 0,
      "outputs": []
    },
    {
      "cell_type": "code",
      "metadata": {
        "id": "u4no_uxgZG6i",
        "colab_type": "code",
        "colab": {}
      },
      "source": [
        "Date = [\"2016-03-01\", \n",
        "\"2016-03-02\", \n",
        "\"2016-03-01\", \n",
        "\"2016-03-03\", \n",
        "\"2016-03-02\", \n",
        "\"2016-03-03\"]\n",
        "Type = [\"a\",\"b\",\"c\",\"a\",\"a\",\"c\"]\n",
        "Value = [10.23,123.45,0.12,1.34,1.45,176]\n"
      ],
      "execution_count": 0,
      "outputs": []
    },
    {
      "cell_type": "code",
      "metadata": {
        "id": "gOSbjgcOaOj3",
        "colab_type": "code",
        "colab": {}
      },
      "source": [
        "df1 = {\"Date\": Date , \"Type\" : Type , \"Value\" : Value}"
      ],
      "execution_count": 0,
      "outputs": []
    },
    {
      "cell_type": "code",
      "metadata": {
        "id": "QH5iECcZabpx",
        "colab_type": "code",
        "colab": {
          "base_uri": "https://localhost:8080/",
          "height": 153
        },
        "outputId": "23a3cd88-4ef8-4cad-92a0-16e3020c7221"
      },
      "source": [
        "df1"
      ],
      "execution_count": 3,
      "outputs": [
        {
          "output_type": "execute_result",
          "data": {
            "text/plain": [
              "{'Date': ['2016-03-01',\n",
              "  '2016-03-02',\n",
              "  '2016-03-01',\n",
              "  '2016-03-03',\n",
              "  '2016-03-02',\n",
              "  '2016-03-03'],\n",
              " 'Type': ['a', 'b', 'c', 'a', 'a', 'c'],\n",
              " 'Value': [10.23, 123.45, 0.12, 1.34, 1.45, 176]}"
            ]
          },
          "metadata": {
            "tags": []
          },
          "execution_count": 3
        }
      ]
    },
    {
      "cell_type": "code",
      "metadata": {
        "id": "5gtEiVonac1g",
        "colab_type": "code",
        "colab": {
          "base_uri": "https://localhost:8080/",
          "height": 204
        },
        "outputId": "6ee404d5-b7d0-4465-e3d2-983a7a6cbbcf"
      },
      "source": [
        "df2 = pd.DataFrame(df1)\n",
        "df2.head()"
      ],
      "execution_count": 7,
      "outputs": [
        {
          "output_type": "execute_result",
          "data": {
            "text/html": [
              "<div>\n",
              "<style scoped>\n",
              "    .dataframe tbody tr th:only-of-type {\n",
              "        vertical-align: middle;\n",
              "    }\n",
              "\n",
              "    .dataframe tbody tr th {\n",
              "        vertical-align: top;\n",
              "    }\n",
              "\n",
              "    .dataframe thead th {\n",
              "        text-align: right;\n",
              "    }\n",
              "</style>\n",
              "<table border=\"1\" class=\"dataframe\">\n",
              "  <thead>\n",
              "    <tr style=\"text-align: right;\">\n",
              "      <th></th>\n",
              "      <th>Date</th>\n",
              "      <th>Type</th>\n",
              "      <th>Value</th>\n",
              "    </tr>\n",
              "  </thead>\n",
              "  <tbody>\n",
              "    <tr>\n",
              "      <th>0</th>\n",
              "      <td>2016-03-01</td>\n",
              "      <td>a</td>\n",
              "      <td>10.23</td>\n",
              "    </tr>\n",
              "    <tr>\n",
              "      <th>1</th>\n",
              "      <td>2016-03-02</td>\n",
              "      <td>b</td>\n",
              "      <td>123.45</td>\n",
              "    </tr>\n",
              "    <tr>\n",
              "      <th>2</th>\n",
              "      <td>2016-03-01</td>\n",
              "      <td>c</td>\n",
              "      <td>0.12</td>\n",
              "    </tr>\n",
              "    <tr>\n",
              "      <th>3</th>\n",
              "      <td>2016-03-03</td>\n",
              "      <td>a</td>\n",
              "      <td>1.34</td>\n",
              "    </tr>\n",
              "    <tr>\n",
              "      <th>4</th>\n",
              "      <td>2016-03-02</td>\n",
              "      <td>a</td>\n",
              "      <td>1.45</td>\n",
              "    </tr>\n",
              "  </tbody>\n",
              "</table>\n",
              "</div>"
            ],
            "text/plain": [
              "         Date Type   Value\n",
              "0  2016-03-01    a   10.23\n",
              "1  2016-03-02    b  123.45\n",
              "2  2016-03-01    c    0.12\n",
              "3  2016-03-03    a    1.34\n",
              "4  2016-03-02    a    1.45"
            ]
          },
          "metadata": {
            "tags": []
          },
          "execution_count": 7
        }
      ]
    },
    {
      "cell_type": "markdown",
      "metadata": {
        "id": "Y79lAq90axEt",
        "colab_type": "text"
      },
      "source": [
        "### Reshaping Data"
      ]
    },
    {
      "cell_type": "code",
      "metadata": {
        "id": "5CS3s2EwazQl",
        "colab_type": "code",
        "colab": {
          "base_uri": "https://localhost:8080/",
          "height": 173
        },
        "outputId": "2cff7f1a-41a8-4157-9661-9a4aa53479df"
      },
      "source": [
        "df3= df2.pivot(index='Date', #Spread rows into columns\n",
        "               columns='Type',\n",
        "               values='Value') \n",
        "df3"
      ],
      "execution_count": 9,
      "outputs": [
        {
          "output_type": "execute_result",
          "data": {
            "text/html": [
              "<div>\n",
              "<style scoped>\n",
              "    .dataframe tbody tr th:only-of-type {\n",
              "        vertical-align: middle;\n",
              "    }\n",
              "\n",
              "    .dataframe tbody tr th {\n",
              "        vertical-align: top;\n",
              "    }\n",
              "\n",
              "    .dataframe thead th {\n",
              "        text-align: right;\n",
              "    }\n",
              "</style>\n",
              "<table border=\"1\" class=\"dataframe\">\n",
              "  <thead>\n",
              "    <tr style=\"text-align: right;\">\n",
              "      <th>Type</th>\n",
              "      <th>a</th>\n",
              "      <th>b</th>\n",
              "      <th>c</th>\n",
              "    </tr>\n",
              "    <tr>\n",
              "      <th>Date</th>\n",
              "      <th></th>\n",
              "      <th></th>\n",
              "      <th></th>\n",
              "    </tr>\n",
              "  </thead>\n",
              "  <tbody>\n",
              "    <tr>\n",
              "      <th>2016-03-01</th>\n",
              "      <td>10.23</td>\n",
              "      <td>NaN</td>\n",
              "      <td>0.12</td>\n",
              "    </tr>\n",
              "    <tr>\n",
              "      <th>2016-03-02</th>\n",
              "      <td>1.45</td>\n",
              "      <td>123.45</td>\n",
              "      <td>NaN</td>\n",
              "    </tr>\n",
              "    <tr>\n",
              "      <th>2016-03-03</th>\n",
              "      <td>1.34</td>\n",
              "      <td>NaN</td>\n",
              "      <td>176.00</td>\n",
              "    </tr>\n",
              "  </tbody>\n",
              "</table>\n",
              "</div>"
            ],
            "text/plain": [
              "Type            a       b       c\n",
              "Date                             \n",
              "2016-03-01  10.23     NaN    0.12\n",
              "2016-03-02   1.45  123.45     NaN\n",
              "2016-03-03   1.34     NaN  176.00"
            ]
          },
          "metadata": {
            "tags": []
          },
          "execution_count": 9
        }
      ]
    },
    {
      "cell_type": "code",
      "metadata": {
        "id": "ClSOjdwXa6-v",
        "colab_type": "code",
        "colab": {
          "base_uri": "https://localhost:8080/",
          "height": 173
        },
        "outputId": "d415f093-ac8d-49ff-c512-3a094ded7650"
      },
      "source": [
        "df4 = pd.pivot_table(df2,  \n",
        "                     values='Value', index='Date', columns='Type')\n",
        "df4"
      ],
      "execution_count": 12,
      "outputs": [
        {
          "output_type": "execute_result",
          "data": {
            "text/html": [
              "<div>\n",
              "<style scoped>\n",
              "    .dataframe tbody tr th:only-of-type {\n",
              "        vertical-align: middle;\n",
              "    }\n",
              "\n",
              "    .dataframe tbody tr th {\n",
              "        vertical-align: top;\n",
              "    }\n",
              "\n",
              "    .dataframe thead th {\n",
              "        text-align: right;\n",
              "    }\n",
              "</style>\n",
              "<table border=\"1\" class=\"dataframe\">\n",
              "  <thead>\n",
              "    <tr style=\"text-align: right;\">\n",
              "      <th>Type</th>\n",
              "      <th>a</th>\n",
              "      <th>b</th>\n",
              "      <th>c</th>\n",
              "    </tr>\n",
              "    <tr>\n",
              "      <th>Date</th>\n",
              "      <th></th>\n",
              "      <th></th>\n",
              "      <th></th>\n",
              "    </tr>\n",
              "  </thead>\n",
              "  <tbody>\n",
              "    <tr>\n",
              "      <th>2016-03-01</th>\n",
              "      <td>10.23</td>\n",
              "      <td>NaN</td>\n",
              "      <td>0.12</td>\n",
              "    </tr>\n",
              "    <tr>\n",
              "      <th>2016-03-02</th>\n",
              "      <td>1.45</td>\n",
              "      <td>123.45</td>\n",
              "      <td>NaN</td>\n",
              "    </tr>\n",
              "    <tr>\n",
              "      <th>2016-03-03</th>\n",
              "      <td>1.34</td>\n",
              "      <td>NaN</td>\n",
              "      <td>176.00</td>\n",
              "    </tr>\n",
              "  </tbody>\n",
              "</table>\n",
              "</div>"
            ],
            "text/plain": [
              "Type            a       b       c\n",
              "Date                             \n",
              "2016-03-01  10.23     NaN    0.12\n",
              "2016-03-02   1.45  123.45     NaN\n",
              "2016-03-03   1.34     NaN  176.00"
            ]
          },
          "metadata": {
            "tags": []
          },
          "execution_count": 12
        }
      ]
    },
    {
      "cell_type": "markdown",
      "metadata": {
        "id": "ILCr1QafbuC3",
        "colab_type": "text"
      },
      "source": [
        "### Stack vs Unstack"
      ]
    },
    {
      "cell_type": "code",
      "metadata": {
        "id": "LMZzod_5bJhe",
        "colab_type": "code",
        "colab": {
          "base_uri": "https://localhost:8080/",
          "height": 340
        },
        "outputId": "47fa1734-74be-4298-c1ea-1c09bdf8a1e7"
      },
      "source": [
        "stacked = df2.stack()# Pivot a level of column labels\n",
        "stacked \n"
      ],
      "execution_count": 13,
      "outputs": [
        {
          "output_type": "execute_result",
          "data": {
            "text/plain": [
              "0  Date     2016-03-01\n",
              "   Type              a\n",
              "   Value         10.23\n",
              "1  Date     2016-03-02\n",
              "   Type              b\n",
              "   Value        123.45\n",
              "2  Date     2016-03-01\n",
              "   Type              c\n",
              "   Value          0.12\n",
              "3  Date     2016-03-03\n",
              "   Type              a\n",
              "   Value          1.34\n",
              "4  Date     2016-03-02\n",
              "   Type              a\n",
              "   Value          1.45\n",
              "5  Date     2016-03-03\n",
              "   Type              c\n",
              "   Value           176\n",
              "dtype: object"
            ]
          },
          "metadata": {
            "tags": []
          },
          "execution_count": 13
        }
      ]
    },
    {
      "cell_type": "code",
      "metadata": {
        "id": "ERP0dQUca1tI",
        "colab_type": "code",
        "colab": {
          "base_uri": "https://localhost:8080/",
          "height": 235
        },
        "outputId": "f284751b-c76c-4131-f591-b62a8af30241"
      },
      "source": [
        "stacked.unstack() #Pivot a level of index labels\n"
      ],
      "execution_count": 15,
      "outputs": [
        {
          "output_type": "execute_result",
          "data": {
            "text/html": [
              "<div>\n",
              "<style scoped>\n",
              "    .dataframe tbody tr th:only-of-type {\n",
              "        vertical-align: middle;\n",
              "    }\n",
              "\n",
              "    .dataframe tbody tr th {\n",
              "        vertical-align: top;\n",
              "    }\n",
              "\n",
              "    .dataframe thead th {\n",
              "        text-align: right;\n",
              "    }\n",
              "</style>\n",
              "<table border=\"1\" class=\"dataframe\">\n",
              "  <thead>\n",
              "    <tr style=\"text-align: right;\">\n",
              "      <th></th>\n",
              "      <th>Date</th>\n",
              "      <th>Type</th>\n",
              "      <th>Value</th>\n",
              "    </tr>\n",
              "  </thead>\n",
              "  <tbody>\n",
              "    <tr>\n",
              "      <th>0</th>\n",
              "      <td>2016-03-01</td>\n",
              "      <td>a</td>\n",
              "      <td>10.23</td>\n",
              "    </tr>\n",
              "    <tr>\n",
              "      <th>1</th>\n",
              "      <td>2016-03-02</td>\n",
              "      <td>b</td>\n",
              "      <td>123.45</td>\n",
              "    </tr>\n",
              "    <tr>\n",
              "      <th>2</th>\n",
              "      <td>2016-03-01</td>\n",
              "      <td>c</td>\n",
              "      <td>0.12</td>\n",
              "    </tr>\n",
              "    <tr>\n",
              "      <th>3</th>\n",
              "      <td>2016-03-03</td>\n",
              "      <td>a</td>\n",
              "      <td>1.34</td>\n",
              "    </tr>\n",
              "    <tr>\n",
              "      <th>4</th>\n",
              "      <td>2016-03-02</td>\n",
              "      <td>a</td>\n",
              "      <td>1.45</td>\n",
              "    </tr>\n",
              "    <tr>\n",
              "      <th>5</th>\n",
              "      <td>2016-03-03</td>\n",
              "      <td>c</td>\n",
              "      <td>176</td>\n",
              "    </tr>\n",
              "  </tbody>\n",
              "</table>\n",
              "</div>"
            ],
            "text/plain": [
              "         Date Type   Value\n",
              "0  2016-03-01    a   10.23\n",
              "1  2016-03-02    b  123.45\n",
              "2  2016-03-01    c    0.12\n",
              "3  2016-03-03    a    1.34\n",
              "4  2016-03-02    a    1.45\n",
              "5  2016-03-03    c     176"
            ]
          },
          "metadata": {
            "tags": []
          },
          "execution_count": 15
        }
      ]
    },
    {
      "cell_type": "markdown",
      "metadata": {
        "id": "73IfssvxcNsy",
        "colab_type": "text"
      },
      "source": [
        "### Melt : Gather columns into rows"
      ]
    },
    {
      "cell_type": "code",
      "metadata": {
        "id": "uFZtOqcdanZd",
        "colab_type": "code",
        "colab": {
          "base_uri": "https://localhost:8080/",
          "height": 421
        },
        "outputId": "b84af5c3-1a91-400d-ca97-e5d6f7d8cd8c"
      },
      "source": [
        " pd.melt(df2, \n",
        "         id_vars=[\"Date\"], # This will remain unchanged\n",
        "         value_vars=[\"Type\", \"Value\"], # this will now accomodated into rows\n",
        "         value_name=\"Observations\") # this new column will now contain the values"
      ],
      "execution_count": 20,
      "outputs": [
        {
          "output_type": "execute_result",
          "data": {
            "text/html": [
              "<div>\n",
              "<style scoped>\n",
              "    .dataframe tbody tr th:only-of-type {\n",
              "        vertical-align: middle;\n",
              "    }\n",
              "\n",
              "    .dataframe tbody tr th {\n",
              "        vertical-align: top;\n",
              "    }\n",
              "\n",
              "    .dataframe thead th {\n",
              "        text-align: right;\n",
              "    }\n",
              "</style>\n",
              "<table border=\"1\" class=\"dataframe\">\n",
              "  <thead>\n",
              "    <tr style=\"text-align: right;\">\n",
              "      <th></th>\n",
              "      <th>Date</th>\n",
              "      <th>variable</th>\n",
              "      <th>Observations</th>\n",
              "    </tr>\n",
              "  </thead>\n",
              "  <tbody>\n",
              "    <tr>\n",
              "      <th>0</th>\n",
              "      <td>2016-03-01</td>\n",
              "      <td>Type</td>\n",
              "      <td>a</td>\n",
              "    </tr>\n",
              "    <tr>\n",
              "      <th>1</th>\n",
              "      <td>2016-03-02</td>\n",
              "      <td>Type</td>\n",
              "      <td>b</td>\n",
              "    </tr>\n",
              "    <tr>\n",
              "      <th>2</th>\n",
              "      <td>2016-03-01</td>\n",
              "      <td>Type</td>\n",
              "      <td>c</td>\n",
              "    </tr>\n",
              "    <tr>\n",
              "      <th>3</th>\n",
              "      <td>2016-03-03</td>\n",
              "      <td>Type</td>\n",
              "      <td>a</td>\n",
              "    </tr>\n",
              "    <tr>\n",
              "      <th>4</th>\n",
              "      <td>2016-03-02</td>\n",
              "      <td>Type</td>\n",
              "      <td>a</td>\n",
              "    </tr>\n",
              "    <tr>\n",
              "      <th>5</th>\n",
              "      <td>2016-03-03</td>\n",
              "      <td>Type</td>\n",
              "      <td>c</td>\n",
              "    </tr>\n",
              "    <tr>\n",
              "      <th>6</th>\n",
              "      <td>2016-03-01</td>\n",
              "      <td>Value</td>\n",
              "      <td>10.23</td>\n",
              "    </tr>\n",
              "    <tr>\n",
              "      <th>7</th>\n",
              "      <td>2016-03-02</td>\n",
              "      <td>Value</td>\n",
              "      <td>123.45</td>\n",
              "    </tr>\n",
              "    <tr>\n",
              "      <th>8</th>\n",
              "      <td>2016-03-01</td>\n",
              "      <td>Value</td>\n",
              "      <td>0.12</td>\n",
              "    </tr>\n",
              "    <tr>\n",
              "      <th>9</th>\n",
              "      <td>2016-03-03</td>\n",
              "      <td>Value</td>\n",
              "      <td>1.34</td>\n",
              "    </tr>\n",
              "    <tr>\n",
              "      <th>10</th>\n",
              "      <td>2016-03-02</td>\n",
              "      <td>Value</td>\n",
              "      <td>1.45</td>\n",
              "    </tr>\n",
              "    <tr>\n",
              "      <th>11</th>\n",
              "      <td>2016-03-03</td>\n",
              "      <td>Value</td>\n",
              "      <td>176</td>\n",
              "    </tr>\n",
              "  </tbody>\n",
              "</table>\n",
              "</div>"
            ],
            "text/plain": [
              "          Date variable Observations\n",
              "0   2016-03-01     Type            a\n",
              "1   2016-03-02     Type            b\n",
              "2   2016-03-01     Type            c\n",
              "3   2016-03-03     Type            a\n",
              "4   2016-03-02     Type            a\n",
              "5   2016-03-03     Type            c\n",
              "6   2016-03-01    Value        10.23\n",
              "7   2016-03-02    Value       123.45\n",
              "8   2016-03-01    Value         0.12\n",
              "9   2016-03-03    Value         1.34\n",
              "10  2016-03-02    Value         1.45\n",
              "11  2016-03-03    Value          176"
            ]
          },
          "metadata": {
            "tags": []
          },
          "execution_count": 20
        }
      ]
    },
    {
      "cell_type": "code",
      "metadata": {
        "id": "L9DdKXdkcfkZ",
        "colab_type": "code",
        "colab": {
          "base_uri": "https://localhost:8080/",
          "height": 235
        },
        "outputId": "952a4269-5a43-4c09-a2b4-bb42cd6da61b"
      },
      "source": [
        "pd.melt(df2, \n",
        "         id_vars=[\"Date\",\"Type\"],\n",
        "         value_vars=[ \"Value\"],\n",
        "         value_name=\"Observations\")"
      ],
      "execution_count": 21,
      "outputs": [
        {
          "output_type": "execute_result",
          "data": {
            "text/html": [
              "<div>\n",
              "<style scoped>\n",
              "    .dataframe tbody tr th:only-of-type {\n",
              "        vertical-align: middle;\n",
              "    }\n",
              "\n",
              "    .dataframe tbody tr th {\n",
              "        vertical-align: top;\n",
              "    }\n",
              "\n",
              "    .dataframe thead th {\n",
              "        text-align: right;\n",
              "    }\n",
              "</style>\n",
              "<table border=\"1\" class=\"dataframe\">\n",
              "  <thead>\n",
              "    <tr style=\"text-align: right;\">\n",
              "      <th></th>\n",
              "      <th>Date</th>\n",
              "      <th>Type</th>\n",
              "      <th>variable</th>\n",
              "      <th>Observations</th>\n",
              "    </tr>\n",
              "  </thead>\n",
              "  <tbody>\n",
              "    <tr>\n",
              "      <th>0</th>\n",
              "      <td>2016-03-01</td>\n",
              "      <td>a</td>\n",
              "      <td>Value</td>\n",
              "      <td>10.23</td>\n",
              "    </tr>\n",
              "    <tr>\n",
              "      <th>1</th>\n",
              "      <td>2016-03-02</td>\n",
              "      <td>b</td>\n",
              "      <td>Value</td>\n",
              "      <td>123.45</td>\n",
              "    </tr>\n",
              "    <tr>\n",
              "      <th>2</th>\n",
              "      <td>2016-03-01</td>\n",
              "      <td>c</td>\n",
              "      <td>Value</td>\n",
              "      <td>0.12</td>\n",
              "    </tr>\n",
              "    <tr>\n",
              "      <th>3</th>\n",
              "      <td>2016-03-03</td>\n",
              "      <td>a</td>\n",
              "      <td>Value</td>\n",
              "      <td>1.34</td>\n",
              "    </tr>\n",
              "    <tr>\n",
              "      <th>4</th>\n",
              "      <td>2016-03-02</td>\n",
              "      <td>a</td>\n",
              "      <td>Value</td>\n",
              "      <td>1.45</td>\n",
              "    </tr>\n",
              "    <tr>\n",
              "      <th>5</th>\n",
              "      <td>2016-03-03</td>\n",
              "      <td>c</td>\n",
              "      <td>Value</td>\n",
              "      <td>176.00</td>\n",
              "    </tr>\n",
              "  </tbody>\n",
              "</table>\n",
              "</div>"
            ],
            "text/plain": [
              "         Date Type variable  Observations\n",
              "0  2016-03-01    a    Value         10.23\n",
              "1  2016-03-02    b    Value        123.45\n",
              "2  2016-03-01    c    Value          0.12\n",
              "3  2016-03-03    a    Value          1.34\n",
              "4  2016-03-02    a    Value          1.45\n",
              "5  2016-03-03    c    Value        176.00"
            ]
          },
          "metadata": {
            "tags": []
          },
          "execution_count": 21
        }
      ]
    },
    {
      "cell_type": "markdown",
      "metadata": {
        "id": "8TxsZjfldE19",
        "colab_type": "text"
      },
      "source": [
        "### Iterations"
      ]
    },
    {
      "cell_type": "code",
      "metadata": {
        "id": "rSKY0B7edHZ0",
        "colab_type": "code",
        "colab": {
          "base_uri": "https://localhost:8080/",
          "height": 374
        },
        "outputId": "42a49fe8-ffa5-41c0-ca5a-5d05bdd997c4"
      },
      "source": [
        "gen_obj = df2.iteritems()#(Column-index, Series) pairs\n",
        "for el in gen_obj:print(el)"
      ],
      "execution_count": 35,
      "outputs": [
        {
          "output_type": "stream",
          "text": [
            "('Date', 0    2016-03-01\n",
            "1    2016-03-02\n",
            "2    2016-03-01\n",
            "3    2016-03-03\n",
            "4    2016-03-02\n",
            "5    2016-03-03\n",
            "Name: Date, dtype: object)\n",
            "('Type', 0    a\n",
            "1    b\n",
            "2    c\n",
            "3    a\n",
            "4    a\n",
            "5    c\n",
            "Name: Type, dtype: object)\n",
            "('Value', 0     10.23\n",
            "1    123.45\n",
            "2      0.12\n",
            "3      1.34\n",
            "4      1.45\n",
            "5    176.00\n",
            "Name: Value, dtype: float64)\n"
          ],
          "name": "stdout"
        }
      ]
    },
    {
      "cell_type": "code",
      "metadata": {
        "id": "7n2YwROYdLHN",
        "colab_type": "code",
        "colab": {
          "base_uri": "https://localhost:8080/",
          "height": 425
        },
        "outputId": "c10a272c-cd5c-4199-d02b-7fee2adb574b"
      },
      "source": [
        "gen_obj = df2.iterrows()  #(Row-index, Series) pairs\n",
        "for el in gen_obj:print(el) "
      ],
      "execution_count": 37,
      "outputs": [
        {
          "output_type": "stream",
          "text": [
            "(0, Date     2016-03-01\n",
            "Type              a\n",
            "Value         10.23\n",
            "Name: 0, dtype: object)\n",
            "(1, Date     2016-03-02\n",
            "Type              b\n",
            "Value        123.45\n",
            "Name: 1, dtype: object)\n",
            "(2, Date     2016-03-01\n",
            "Type              c\n",
            "Value          0.12\n",
            "Name: 2, dtype: object)\n",
            "(3, Date     2016-03-03\n",
            "Type              a\n",
            "Value          1.34\n",
            "Name: 3, dtype: object)\n",
            "(4, Date     2016-03-02\n",
            "Type              a\n",
            "Value          1.45\n",
            "Name: 4, dtype: object)\n",
            "(5, Date     2016-03-03\n",
            "Type              c\n",
            "Value           176\n",
            "Name: 5, dtype: object)\n"
          ],
          "name": "stdout"
        }
      ]
    },
    {
      "cell_type": "code",
      "metadata": {
        "id": "BI4-bAcBdZkd",
        "colab_type": "code",
        "colab": {}
      },
      "source": [
        ""
      ],
      "execution_count": 0,
      "outputs": []
    },
    {
      "cell_type": "code",
      "metadata": {
        "id": "vCPtbhTZdYNz",
        "colab_type": "code",
        "colab": {}
      },
      "source": [
        ""
      ],
      "execution_count": 0,
      "outputs": []
    },
    {
      "cell_type": "code",
      "metadata": {
        "id": "Au2jYFkxc7nT",
        "colab_type": "code",
        "colab": {}
      },
      "source": [
        ""
      ],
      "execution_count": 0,
      "outputs": []
    },
    {
      "cell_type": "code",
      "metadata": {
        "id": "NdqQppL5ckgJ",
        "colab_type": "code",
        "colab": {}
      },
      "source": [
        ""
      ],
      "execution_count": 0,
      "outputs": []
    },
    {
      "cell_type": "code",
      "metadata": {
        "id": "GvVkFThncT4w",
        "colab_type": "code",
        "colab": {}
      },
      "source": [
        ""
      ],
      "execution_count": 0,
      "outputs": []
    }
  ]
}